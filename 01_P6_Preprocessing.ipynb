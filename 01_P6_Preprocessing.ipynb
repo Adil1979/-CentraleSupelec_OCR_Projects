{
  "nbformat": 4,
  "nbformat_minor": 0,
  "metadata": {
    "colab": {
      "name": "01_P6_Analysis.ipynb",
      "provenance": [],
      "collapsed_sections": [],
      "authorship_tag": "ABX9TyN+CIvqRtg80fNz0Sd1hQFl",
      "include_colab_link": true
    },
    "kernelspec": {
      "display_name": "Python 3",
      "name": "python3"
    }
  },
  "cells": [
    {
      "cell_type": "markdown",
      "metadata": {
        "id": "view-in-github",
        "colab_type": "text"
      },
      "source": [
        "<a href=\"https://colab.research.google.com/github/Adil1979/P6_Tag_Recommendation_Stackoverflow/blob/master/01_P6_Preprocessing.ipynb\" target=\"_parent\"><img src=\"https://colab.research.google.com/assets/colab-badge.svg\" alt=\"Open In Colab\"/></a>"
      ]
    },
    {
      "cell_type": "markdown",
      "metadata": {
        "id": "FSop45eqebf6"
      },
      "source": [
        "# **Projet6: Catégorisation automatique de questions**"
      ]
    },
    {
      "cell_type": "markdown",
      "metadata": {
        "id": "2d2JN0EmexRG"
      },
      "source": [
        "## **1.Librairies**"
      ]
    },
    {
      "cell_type": "code",
      "metadata": {
        "id": "aQeDyOh9e59r",
        "colab": {
          "base_uri": "https://localhost:8080/"
        },
        "outputId": "9af74303-461e-4bd8-cbf5-07cee7b8ec37"
      },
      "source": [
        "!pip install feature_engine"
      ],
      "execution_count": 46,
      "outputs": [
        {
          "output_type": "stream",
          "text": [
            "Requirement already satisfied: feature_engine in /usr/local/lib/python3.7/dist-packages (1.0.2)\n",
            "Requirement already satisfied: statsmodels>=0.11.1 in /usr/local/lib/python3.7/dist-packages (from feature_engine) (0.12.2)\n",
            "Requirement already satisfied: scipy>=1.4.1 in /usr/local/lib/python3.7/dist-packages (from feature_engine) (1.4.1)\n",
            "Requirement already satisfied: numpy>=1.18.2 in /usr/local/lib/python3.7/dist-packages (from feature_engine) (1.19.5)\n",
            "Requirement already satisfied: scikit-learn>=0.22.2 in /usr/local/lib/python3.7/dist-packages (from feature_engine) (0.22.2.post1)\n",
            "Requirement already satisfied: pandas>=1.0.3 in /usr/local/lib/python3.7/dist-packages (from feature_engine) (1.1.5)\n",
            "Requirement already satisfied: patsy>=0.5 in /usr/local/lib/python3.7/dist-packages (from statsmodels>=0.11.1->feature_engine) (0.5.1)\n",
            "Requirement already satisfied: joblib>=0.11 in /usr/local/lib/python3.7/dist-packages (from scikit-learn>=0.22.2->feature_engine) (1.0.1)\n",
            "Requirement already satisfied: pytz>=2017.2 in /usr/local/lib/python3.7/dist-packages (from pandas>=1.0.3->feature_engine) (2018.9)\n",
            "Requirement already satisfied: python-dateutil>=2.7.3 in /usr/local/lib/python3.7/dist-packages (from pandas>=1.0.3->feature_engine) (2.8.1)\n",
            "Requirement already satisfied: six in /usr/local/lib/python3.7/dist-packages (from patsy>=0.5->statsmodels>=0.11.1->feature_engine) (1.15.0)\n"
          ],
          "name": "stdout"
        }
      ]
    },
    {
      "cell_type": "code",
      "metadata": {
        "id": "h-68rY2afKEY",
        "colab": {
          "base_uri": "https://localhost:8080/"
        },
        "outputId": "8790d1c0-586d-4660-d380-cf6b72e3fd08"
      },
      "source": [
        "!pip install plotly"
      ],
      "execution_count": 47,
      "outputs": [
        {
          "output_type": "stream",
          "text": [
            "Requirement already satisfied: plotly in /usr/local/lib/python3.7/dist-packages (4.4.1)\n",
            "Requirement already satisfied: retrying>=1.3.3 in /usr/local/lib/python3.7/dist-packages (from plotly) (1.3.3)\n",
            "Requirement already satisfied: six in /usr/local/lib/python3.7/dist-packages (from plotly) (1.15.0)\n"
          ],
          "name": "stdout"
        }
      ]
    },
    {
      "cell_type": "code",
      "metadata": {
        "id": "2qef7GyJftkd",
        "colab": {
          "base_uri": "https://localhost:8080/"
        },
        "outputId": "ee861b0d-0705-4bdc-ec7c-df9b6fc137a9"
      },
      "source": [
        "!pip install chart-studio"
      ],
      "execution_count": 48,
      "outputs": [
        {
          "output_type": "stream",
          "text": [
            "Requirement already satisfied: chart-studio in /usr/local/lib/python3.7/dist-packages (1.1.0)\n",
            "Requirement already satisfied: retrying>=1.3.3 in /usr/local/lib/python3.7/dist-packages (from chart-studio) (1.3.3)\n",
            "Requirement already satisfied: six in /usr/local/lib/python3.7/dist-packages (from chart-studio) (1.15.0)\n",
            "Requirement already satisfied: plotly in /usr/local/lib/python3.7/dist-packages (from chart-studio) (4.4.1)\n",
            "Requirement already satisfied: requests in /usr/local/lib/python3.7/dist-packages (from chart-studio) (2.23.0)\n",
            "Requirement already satisfied: certifi>=2017.4.17 in /usr/local/lib/python3.7/dist-packages (from requests->chart-studio) (2020.12.5)\n",
            "Requirement already satisfied: idna<3,>=2.5 in /usr/local/lib/python3.7/dist-packages (from requests->chart-studio) (2.10)\n",
            "Requirement already satisfied: urllib3!=1.25.0,!=1.25.1,<1.26,>=1.21.1 in /usr/local/lib/python3.7/dist-packages (from requests->chart-studio) (1.24.3)\n",
            "Requirement already satisfied: chardet<4,>=3.0.2 in /usr/local/lib/python3.7/dist-packages (from requests->chart-studio) (3.0.4)\n"
          ],
          "name": "stdout"
        }
      ]
    },
    {
      "cell_type": "code",
      "metadata": {
        "id": "FzNhblHKhse2",
        "colab": {
          "base_uri": "https://localhost:8080/"
        },
        "outputId": "a15c7770-a229-4e2f-b685-25e92f862307"
      },
      "source": [
        "!pip install gensim # Gensim is an open-source library for unsupervised topic modeling and natural language processing"
      ],
      "execution_count": 49,
      "outputs": [
        {
          "output_type": "stream",
          "text": [
            "Requirement already satisfied: gensim in /usr/local/lib/python3.7/dist-packages (3.6.0)\n",
            "Requirement already satisfied: smart-open>=1.2.1 in /usr/local/lib/python3.7/dist-packages (from gensim) (4.2.0)\n",
            "Requirement already satisfied: scipy>=0.18.1 in /usr/local/lib/python3.7/dist-packages (from gensim) (1.4.1)\n",
            "Requirement already satisfied: numpy>=1.11.3 in /usr/local/lib/python3.7/dist-packages (from gensim) (1.19.5)\n",
            "Requirement already satisfied: six>=1.5.0 in /usr/local/lib/python3.7/dist-packages (from gensim) (1.15.0)\n"
          ],
          "name": "stdout"
        }
      ]
    },
    {
      "cell_type": "code",
      "metadata": {
        "id": "bSKusbMofUTn",
        "colab": {
          "base_uri": "https://localhost:8080/"
        },
        "outputId": "134139fb-4c32-4dd0-91f7-b1994028c83f"
      },
      "source": [
        "import numpy as np\n",
        "import pandas as pd\n",
        "import matplotlib.pyplot as plt\n",
        "%matplotlib inline\n",
        "from matplotlib.lines import Line2D\n",
        "import matplotlib as mpl\n",
        "import chart_studio.plotly.plotly as py\n",
        "from collections import Counter\n",
        "#import plotly.plotly as py\n",
        "import seaborn as sns\n",
        "import datetime as dt\n",
        "import calendar as cld\n",
        "from scipy import stats\n",
        "from sklearn.model_selection import train_test_split\n",
        "from sklearn import preprocessing\n",
        "from sklearn.preprocessing import StandardScaler\n",
        "from sklearn.preprocessing import scale\n",
        "from os import listdir\n",
        "import glob\n",
        "import missingno as msno\n",
        "#from feature_engine.categorical_encoders import OneHotCategoricalEncoder\n",
        "from sklearn.decomposition import PCA\n",
        "from matplotlib import dates\n",
        "import nltk\n",
        "import re\n",
        "from nltk.corpus import stopwords \n",
        "nltk.download('stopwords')\n",
        "from nltk.stem.porter import PorterStemmer \n",
        "import string\n",
        "from collections import Counter\n",
        "from bs4 import BeautifulSoup\n",
        "import gensim\n",
        "from gensim.utils import simple_preprocess\n",
        "from gensim.parsing.preprocessing import STOPWORDS\n",
        "from gensim.models import Word2Vec #Word Embedding"
      ],
      "execution_count": 50,
      "outputs": [
        {
          "output_type": "stream",
          "text": [
            "[nltk_data] Downloading package stopwords to /root/nltk_data...\n",
            "[nltk_data]   Package stopwords is already up-to-date!\n"
          ],
          "name": "stdout"
        }
      ]
    },
    {
      "cell_type": "markdown",
      "metadata": {
        "id": "YrTQifPy6BIA"
      },
      "source": [
        "SELECT Id, Body, Title, Tags\n",
        "\n",
        "FROM Posts\n",
        "\n",
        "WHERE Score >= 3 AND PostTypeId = 1\n",
        "\n",
        "ORDER BY RAND()\n",
        " \n",
        "ASC OFFSET 0 ROWS FETCH NEXT 50000 ROWS ONLY; de 0 à 50000"
      ]
    },
    {
      "cell_type": "markdown",
      "metadata": {
        "id": "_VMJmTqtf8gC"
      },
      "source": [
        "## **2.Data**"
      ]
    },
    {
      "cell_type": "code",
      "metadata": {
        "id": "YkIlB69CfiLQ",
        "colab": {
          "base_uri": "https://localhost:8080/"
        },
        "outputId": "3b81c524-4e70-4318-96a8-be65c9e6842c"
      },
      "source": [
        "from google.colab import drive\n",
        "drive.mount('/content/drive')"
      ],
      "execution_count": 51,
      "outputs": [
        {
          "output_type": "stream",
          "text": [
            "Drive already mounted at /content/drive; to attempt to forcibly remount, call drive.mount(\"/content/drive\", force_remount=True).\n"
          ],
          "name": "stdout"
        }
      ]
    },
    {
      "cell_type": "code",
      "metadata": {
        "id": "ItEOW0AnhhI-"
      },
      "source": [
        "#df_analysis_01 = pd.read_csv('/content/drive/My Drive/CentraleSupelec_OCR/P6/QueryResults_01.csv')\n",
        "#df_analysis_02 = pd.read_csv('/content/drive/My Drive/CentraleSupelec_OCR/P6/QueryResults_02.csv')\n",
        "#df_analysis_03 = pd.read_csv('/content/drive/My Drive/CentraleSupelec_OCR/P6/QueryResults_03.csv')\n",
        "#frames = [df_analysis_01, df_analysis_02, df_analysis_03]\n",
        "#df_analysis = pd.concat(frames)\n",
        "#df_sample = df_analysis.sample(n=40000)\n",
        "#df_sample.to_csv('df_sample.csv')"
      ],
      "execution_count": 52,
      "outputs": []
    },
    {
      "cell_type": "code",
      "metadata": {
        "id": "XdjJHfgBM5nC",
        "colab": {
          "base_uri": "https://localhost:8080/",
          "height": 194
        },
        "outputId": "9c30ca0a-753e-481d-c8da-03c189015585"
      },
      "source": [
        "df_sample = pd.read_csv('/content/drive/My Drive/CentraleSupelec_OCR/P6/df_sample.csv')\n",
        "df_sample = df_sample.drop(['Unnamed: 0'], axis=1)\n",
        "df_sample.head()"
      ],
      "execution_count": 53,
      "outputs": [
        {
          "output_type": "execute_result",
          "data": {
            "text/html": [
              "<div>\n",
              "<style scoped>\n",
              "    .dataframe tbody tr th:only-of-type {\n",
              "        vertical-align: middle;\n",
              "    }\n",
              "\n",
              "    .dataframe tbody tr th {\n",
              "        vertical-align: top;\n",
              "    }\n",
              "\n",
              "    .dataframe thead th {\n",
              "        text-align: right;\n",
              "    }\n",
              "</style>\n",
              "<table border=\"1\" class=\"dataframe\">\n",
              "  <thead>\n",
              "    <tr style=\"text-align: right;\">\n",
              "      <th></th>\n",
              "      <th>Id</th>\n",
              "      <th>Body</th>\n",
              "      <th>Title</th>\n",
              "      <th>Tags</th>\n",
              "    </tr>\n",
              "  </thead>\n",
              "  <tbody>\n",
              "    <tr>\n",
              "      <th>0</th>\n",
              "      <td>57694656</td>\n",
              "      <td>&lt;p&gt;Pandas does not seem to find all elements i...</td>\n",
              "      <td>Pandas not finding elements in Columns</td>\n",
              "      <td>&lt;python&gt;&lt;pandas&gt;</td>\n",
              "    </tr>\n",
              "    <tr>\n",
              "      <th>1</th>\n",
              "      <td>10475856</td>\n",
              "      <td>&lt;p&gt;Assuming this works properly for telling if...</td>\n",
              "      <td>PHP, 'Haystack contains Needle?'</td>\n",
              "      <td>&lt;php&gt;</td>\n",
              "    </tr>\n",
              "    <tr>\n",
              "      <th>2</th>\n",
              "      <td>35064632</td>\n",
              "      <td>&lt;p&gt;I'm trying to understand substantial speed ...</td>\n",
              "      <td>Understanding json_agg performance in Postgres...</td>\n",
              "      <td>&lt;performance&gt;&lt;postgresql&gt;</td>\n",
              "    </tr>\n",
              "    <tr>\n",
              "      <th>3</th>\n",
              "      <td>42515650</td>\n",
              "      <td>&lt;p&gt;I have a simple java program. A main thread...</td>\n",
              "      <td>java: why main thread waits for child thread t...</td>\n",
              "      <td>&lt;java&gt;&lt;multithreading&gt;</td>\n",
              "    </tr>\n",
              "    <tr>\n",
              "      <th>4</th>\n",
              "      <td>8594144</td>\n",
              "      <td>&lt;p&gt;I want to stream live video to a browser wi...</td>\n",
              "      <td>Stream live video to browser (with low latency)</td>\n",
              "      <td>&lt;flash&gt;&lt;video&gt;&lt;stream&gt;&lt;live&gt;</td>\n",
              "    </tr>\n",
              "  </tbody>\n",
              "</table>\n",
              "</div>"
            ],
            "text/plain": [
              "         Id  ...                          Tags\n",
              "0  57694656  ...              <python><pandas>\n",
              "1  10475856  ...                         <php>\n",
              "2  35064632  ...     <performance><postgresql>\n",
              "3  42515650  ...        <java><multithreading>\n",
              "4   8594144  ...  <flash><video><stream><live>\n",
              "\n",
              "[5 rows x 4 columns]"
            ]
          },
          "metadata": {
            "tags": []
          },
          "execution_count": 53
        }
      ]
    },
    {
      "cell_type": "code",
      "metadata": {
        "id": "D5XpRFZ5mg9n",
        "colab": {
          "base_uri": "https://localhost:8080/"
        },
        "outputId": "fb5ab4d3-0550-4995-ca9a-fe73ac6a85ff"
      },
      "source": [
        "df_sample.info()"
      ],
      "execution_count": 54,
      "outputs": [
        {
          "output_type": "stream",
          "text": [
            "<class 'pandas.core.frame.DataFrame'>\n",
            "RangeIndex: 40000 entries, 0 to 39999\n",
            "Data columns (total 4 columns):\n",
            " #   Column  Non-Null Count  Dtype \n",
            "---  ------  --------------  ----- \n",
            " 0   Id      40000 non-null  int64 \n",
            " 1   Body    40000 non-null  object\n",
            " 2   Title   40000 non-null  object\n",
            " 3   Tags    40000 non-null  object\n",
            "dtypes: int64(1), object(3)\n",
            "memory usage: 1.2+ MB\n"
          ],
          "name": "stdout"
        }
      ]
    },
    {
      "cell_type": "code",
      "metadata": {
        "id": "bsRWYtvyoBZW",
        "colab": {
          "base_uri": "https://localhost:8080/",
          "height": 194
        },
        "outputId": "55fd25ac-c258-4ef7-bc9b-56a9d0b3967f"
      },
      "source": [
        "#df_sample = df_sample.loc[:, ['Id', 'Title', 'Body', 'Tags']]\n",
        "df_sample = df_sample.set_index('Id').reset_index(drop=True)\n",
        "df_sample.head()"
      ],
      "execution_count": 55,
      "outputs": [
        {
          "output_type": "execute_result",
          "data": {
            "text/html": [
              "<div>\n",
              "<style scoped>\n",
              "    .dataframe tbody tr th:only-of-type {\n",
              "        vertical-align: middle;\n",
              "    }\n",
              "\n",
              "    .dataframe tbody tr th {\n",
              "        vertical-align: top;\n",
              "    }\n",
              "\n",
              "    .dataframe thead th {\n",
              "        text-align: right;\n",
              "    }\n",
              "</style>\n",
              "<table border=\"1\" class=\"dataframe\">\n",
              "  <thead>\n",
              "    <tr style=\"text-align: right;\">\n",
              "      <th></th>\n",
              "      <th>Body</th>\n",
              "      <th>Title</th>\n",
              "      <th>Tags</th>\n",
              "    </tr>\n",
              "  </thead>\n",
              "  <tbody>\n",
              "    <tr>\n",
              "      <th>0</th>\n",
              "      <td>&lt;p&gt;Pandas does not seem to find all elements i...</td>\n",
              "      <td>Pandas not finding elements in Columns</td>\n",
              "      <td>&lt;python&gt;&lt;pandas&gt;</td>\n",
              "    </tr>\n",
              "    <tr>\n",
              "      <th>1</th>\n",
              "      <td>&lt;p&gt;Assuming this works properly for telling if...</td>\n",
              "      <td>PHP, 'Haystack contains Needle?'</td>\n",
              "      <td>&lt;php&gt;</td>\n",
              "    </tr>\n",
              "    <tr>\n",
              "      <th>2</th>\n",
              "      <td>&lt;p&gt;I'm trying to understand substantial speed ...</td>\n",
              "      <td>Understanding json_agg performance in Postgres...</td>\n",
              "      <td>&lt;performance&gt;&lt;postgresql&gt;</td>\n",
              "    </tr>\n",
              "    <tr>\n",
              "      <th>3</th>\n",
              "      <td>&lt;p&gt;I have a simple java program. A main thread...</td>\n",
              "      <td>java: why main thread waits for child thread t...</td>\n",
              "      <td>&lt;java&gt;&lt;multithreading&gt;</td>\n",
              "    </tr>\n",
              "    <tr>\n",
              "      <th>4</th>\n",
              "      <td>&lt;p&gt;I want to stream live video to a browser wi...</td>\n",
              "      <td>Stream live video to browser (with low latency)</td>\n",
              "      <td>&lt;flash&gt;&lt;video&gt;&lt;stream&gt;&lt;live&gt;</td>\n",
              "    </tr>\n",
              "  </tbody>\n",
              "</table>\n",
              "</div>"
            ],
            "text/plain": [
              "                                                Body  ...                          Tags\n",
              "0  <p>Pandas does not seem to find all elements i...  ...              <python><pandas>\n",
              "1  <p>Assuming this works properly for telling if...  ...                         <php>\n",
              "2  <p>I'm trying to understand substantial speed ...  ...     <performance><postgresql>\n",
              "3  <p>I have a simple java program. A main thread...  ...        <java><multithreading>\n",
              "4  <p>I want to stream live video to a browser wi...  ...  <flash><video><stream><live>\n",
              "\n",
              "[5 rows x 3 columns]"
            ]
          },
          "metadata": {
            "tags": []
          },
          "execution_count": 55
        }
      ]
    },
    {
      "cell_type": "markdown",
      "metadata": {
        "id": "rsq5NNeQY1MM"
      },
      "source": [
        "## **3.Preprocessing**"
      ]
    },
    {
      "cell_type": "code",
      "metadata": {
        "id": "cSS6pmwSuWSe",
        "colab": {
          "base_uri": "https://localhost:8080/"
        },
        "outputId": "e6e2eca1-5414-407d-f13a-c5e5d86b247e"
      },
      "source": [
        "df_sample.duplicated(subset=[\"Body\", \"Title\"]).sum()"
      ],
      "execution_count": 56,
      "outputs": [
        {
          "output_type": "execute_result",
          "data": {
            "text/plain": [
              "0"
            ]
          },
          "metadata": {
            "tags": []
          },
          "execution_count": 56
        }
      ]
    },
    {
      "cell_type": "code",
      "metadata": {
        "id": "C4NtewDAK46S"
      },
      "source": [
        "example_body = df_sample.Body.iloc[0]"
      ],
      "execution_count": 57,
      "outputs": []
    },
    {
      "cell_type": "code",
      "metadata": {
        "id": "v0FcnRlmLaop",
        "colab": {
          "base_uri": "https://localhost:8080/",
          "height": 71
        },
        "outputId": "329bca23-0b24-4d50-e2e8-b63b531073a8"
      },
      "source": [
        "example_body"
      ],
      "execution_count": 58,
      "outputs": [
        {
          "output_type": "execute_result",
          "data": {
            "application/vnd.google.colaboratory.intrinsic+json": {
              "type": "string"
            },
            "text/plain": [
              "'<p>Pandas does not seem to find all elements in a list:</p>\\n\\n<pre><code>df = pd.DataFrame({\"rid\": [\"125264429\", \"a\"], \"id\": [1, 2]})\\n1 in df[\"id\"]                # &lt;- expect True, get True\\n\"125264429\" in df[\"rid\"]     # &lt;- expect True, get False\\ndf[df[\"rid\"] == \"125264429\"] # &lt;- yields result\\n</code></pre>\\n\\n<p>I am sure there is a perfectly reasonable explanation for this behaviour, but I can\\'t seem to find it. It seems that the last two columns contradict each other.\\nDoes it have to do something with the fact that the datatype of the \"rid\" column is object?</p>\\n'"
            ]
          },
          "metadata": {
            "tags": []
          },
          "execution_count": 58
        }
      ]
    },
    {
      "cell_type": "code",
      "metadata": {
        "id": "u-o4p8QYLgz9"
      },
      "source": [
        "example_title = df_sample.Title.iloc[0]"
      ],
      "execution_count": 59,
      "outputs": []
    },
    {
      "cell_type": "code",
      "metadata": {
        "id": "_EJVGUYKLsGM",
        "colab": {
          "base_uri": "https://localhost:8080/",
          "height": 36
        },
        "outputId": "a4369dda-13a8-4287-b966-84780afc15e3"
      },
      "source": [
        "example_title"
      ],
      "execution_count": 60,
      "outputs": [
        {
          "output_type": "execute_result",
          "data": {
            "application/vnd.google.colaboratory.intrinsic+json": {
              "type": "string"
            },
            "text/plain": [
              "'Pandas not finding elements in Columns'"
            ]
          },
          "metadata": {
            "tags": []
          },
          "execution_count": 60
        }
      ]
    },
    {
      "cell_type": "code",
      "metadata": {
        "id": "M9luITnRArx8"
      },
      "source": [
        "#Merge Title and Body\n",
        "df_sample['Question'] = df_sample['Title'] + ' ' + df_sample['Body']"
      ],
      "execution_count": 61,
      "outputs": []
    },
    {
      "cell_type": "code",
      "metadata": {
        "id": "KOEE0BMDvNJr",
        "colab": {
          "base_uri": "https://localhost:8080/",
          "height": 194
        },
        "outputId": "66529db1-1686-40ec-ff6f-53cbd1bcb347"
      },
      "source": [
        "df_sample.head()\n"
      ],
      "execution_count": 62,
      "outputs": [
        {
          "output_type": "execute_result",
          "data": {
            "text/html": [
              "<div>\n",
              "<style scoped>\n",
              "    .dataframe tbody tr th:only-of-type {\n",
              "        vertical-align: middle;\n",
              "    }\n",
              "\n",
              "    .dataframe tbody tr th {\n",
              "        vertical-align: top;\n",
              "    }\n",
              "\n",
              "    .dataframe thead th {\n",
              "        text-align: right;\n",
              "    }\n",
              "</style>\n",
              "<table border=\"1\" class=\"dataframe\">\n",
              "  <thead>\n",
              "    <tr style=\"text-align: right;\">\n",
              "      <th></th>\n",
              "      <th>Body</th>\n",
              "      <th>Title</th>\n",
              "      <th>Tags</th>\n",
              "      <th>Question</th>\n",
              "    </tr>\n",
              "  </thead>\n",
              "  <tbody>\n",
              "    <tr>\n",
              "      <th>0</th>\n",
              "      <td>&lt;p&gt;Pandas does not seem to find all elements i...</td>\n",
              "      <td>Pandas not finding elements in Columns</td>\n",
              "      <td>&lt;python&gt;&lt;pandas&gt;</td>\n",
              "      <td>Pandas not finding elements in Columns &lt;p&gt;Pand...</td>\n",
              "    </tr>\n",
              "    <tr>\n",
              "      <th>1</th>\n",
              "      <td>&lt;p&gt;Assuming this works properly for telling if...</td>\n",
              "      <td>PHP, 'Haystack contains Needle?'</td>\n",
              "      <td>&lt;php&gt;</td>\n",
              "      <td>PHP, 'Haystack contains Needle?' &lt;p&gt;Assuming t...</td>\n",
              "    </tr>\n",
              "    <tr>\n",
              "      <th>2</th>\n",
              "      <td>&lt;p&gt;I'm trying to understand substantial speed ...</td>\n",
              "      <td>Understanding json_agg performance in Postgres...</td>\n",
              "      <td>&lt;performance&gt;&lt;postgresql&gt;</td>\n",
              "      <td>Understanding json_agg performance in Postgres...</td>\n",
              "    </tr>\n",
              "    <tr>\n",
              "      <th>3</th>\n",
              "      <td>&lt;p&gt;I have a simple java program. A main thread...</td>\n",
              "      <td>java: why main thread waits for child thread t...</td>\n",
              "      <td>&lt;java&gt;&lt;multithreading&gt;</td>\n",
              "      <td>java: why main thread waits for child thread t...</td>\n",
              "    </tr>\n",
              "    <tr>\n",
              "      <th>4</th>\n",
              "      <td>&lt;p&gt;I want to stream live video to a browser wi...</td>\n",
              "      <td>Stream live video to browser (with low latency)</td>\n",
              "      <td>&lt;flash&gt;&lt;video&gt;&lt;stream&gt;&lt;live&gt;</td>\n",
              "      <td>Stream live video to browser (with low latency...</td>\n",
              "    </tr>\n",
              "  </tbody>\n",
              "</table>\n",
              "</div>"
            ],
            "text/plain": [
              "                                                Body  ...                                           Question\n",
              "0  <p>Pandas does not seem to find all elements i...  ...  Pandas not finding elements in Columns <p>Pand...\n",
              "1  <p>Assuming this works properly for telling if...  ...  PHP, 'Haystack contains Needle?' <p>Assuming t...\n",
              "2  <p>I'm trying to understand substantial speed ...  ...  Understanding json_agg performance in Postgres...\n",
              "3  <p>I have a simple java program. A main thread...  ...  java: why main thread waits for child thread t...\n",
              "4  <p>I want to stream live video to a browser wi...  ...  Stream live video to browser (with low latency...\n",
              "\n",
              "[5 rows x 4 columns]"
            ]
          },
          "metadata": {
            "tags": []
          },
          "execution_count": 62
        }
      ]
    },
    {
      "cell_type": "code",
      "metadata": {
        "id": "otKOZCqRvbF-"
      },
      "source": [
        "variables_reorganization = ['Question', 'Tags']\n",
        "df_sample = df_sample[['Question', 'Tags']]"
      ],
      "execution_count": 63,
      "outputs": []
    },
    {
      "cell_type": "code",
      "metadata": {
        "id": "jW2klWNWv9Ca",
        "colab": {
          "base_uri": "https://localhost:8080/",
          "height": 194
        },
        "outputId": "6345ec86-d640-48d4-b9ee-a8e929898426"
      },
      "source": [
        "df_sample.head()"
      ],
      "execution_count": 64,
      "outputs": [
        {
          "output_type": "execute_result",
          "data": {
            "text/html": [
              "<div>\n",
              "<style scoped>\n",
              "    .dataframe tbody tr th:only-of-type {\n",
              "        vertical-align: middle;\n",
              "    }\n",
              "\n",
              "    .dataframe tbody tr th {\n",
              "        vertical-align: top;\n",
              "    }\n",
              "\n",
              "    .dataframe thead th {\n",
              "        text-align: right;\n",
              "    }\n",
              "</style>\n",
              "<table border=\"1\" class=\"dataframe\">\n",
              "  <thead>\n",
              "    <tr style=\"text-align: right;\">\n",
              "      <th></th>\n",
              "      <th>Question</th>\n",
              "      <th>Tags</th>\n",
              "    </tr>\n",
              "  </thead>\n",
              "  <tbody>\n",
              "    <tr>\n",
              "      <th>0</th>\n",
              "      <td>Pandas not finding elements in Columns &lt;p&gt;Pand...</td>\n",
              "      <td>&lt;python&gt;&lt;pandas&gt;</td>\n",
              "    </tr>\n",
              "    <tr>\n",
              "      <th>1</th>\n",
              "      <td>PHP, 'Haystack contains Needle?' &lt;p&gt;Assuming t...</td>\n",
              "      <td>&lt;php&gt;</td>\n",
              "    </tr>\n",
              "    <tr>\n",
              "      <th>2</th>\n",
              "      <td>Understanding json_agg performance in Postgres...</td>\n",
              "      <td>&lt;performance&gt;&lt;postgresql&gt;</td>\n",
              "    </tr>\n",
              "    <tr>\n",
              "      <th>3</th>\n",
              "      <td>java: why main thread waits for child thread t...</td>\n",
              "      <td>&lt;java&gt;&lt;multithreading&gt;</td>\n",
              "    </tr>\n",
              "    <tr>\n",
              "      <th>4</th>\n",
              "      <td>Stream live video to browser (with low latency...</td>\n",
              "      <td>&lt;flash&gt;&lt;video&gt;&lt;stream&gt;&lt;live&gt;</td>\n",
              "    </tr>\n",
              "  </tbody>\n",
              "</table>\n",
              "</div>"
            ],
            "text/plain": [
              "                                            Question                          Tags\n",
              "0  Pandas not finding elements in Columns <p>Pand...              <python><pandas>\n",
              "1  PHP, 'Haystack contains Needle?' <p>Assuming t...                         <php>\n",
              "2  Understanding json_agg performance in Postgres...     <performance><postgresql>\n",
              "3  java: why main thread waits for child thread t...        <java><multithreading>\n",
              "4  Stream live video to browser (with low latency...  <flash><video><stream><live>"
            ]
          },
          "metadata": {
            "tags": []
          },
          "execution_count": 64
        }
      ]
    },
    {
      "cell_type": "code",
      "metadata": {
        "id": "41veqd4nsmUH",
        "colab": {
          "base_uri": "https://localhost:8080/",
          "height": 89
        },
        "outputId": "2294f10c-9f6f-44fc-8e50-86d449940516"
      },
      "source": [
        "df_sample.Question.iloc[0]"
      ],
      "execution_count": 65,
      "outputs": [
        {
          "output_type": "execute_result",
          "data": {
            "application/vnd.google.colaboratory.intrinsic+json": {
              "type": "string"
            },
            "text/plain": [
              "'Pandas not finding elements in Columns <p>Pandas does not seem to find all elements in a list:</p>\\n\\n<pre><code>df = pd.DataFrame({\"rid\": [\"125264429\", \"a\"], \"id\": [1, 2]})\\n1 in df[\"id\"]                # &lt;- expect True, get True\\n\"125264429\" in df[\"rid\"]     # &lt;- expect True, get False\\ndf[df[\"rid\"] == \"125264429\"] # &lt;- yields result\\n</code></pre>\\n\\n<p>I am sure there is a perfectly reasonable explanation for this behaviour, but I can\\'t seem to find it. It seems that the last two columns contradict each other.\\nDoes it have to do something with the fact that the datatype of the \"rid\" column is object?</p>\\n'"
            ]
          },
          "metadata": {
            "tags": []
          },
          "execution_count": 65
        }
      ]
    },
    {
      "cell_type": "code",
      "metadata": {
        "id": "9IzuXg19Vaq2",
        "colab": {
          "base_uri": "https://localhost:8080/",
          "height": 107
        },
        "outputId": "42a95756-563d-41f0-b38d-212fef286bcb"
      },
      "source": [
        "df_sample.Question.iloc[17593]"
      ],
      "execution_count": 66,
      "outputs": [
        {
          "output_type": "execute_result",
          "data": {
            "application/vnd.google.colaboratory.intrinsic+json": {
              "type": "string"
            },
            "text/plain": [
              "\"PHP DOMElement::getElementsByTagName - Anyway to get just the immediate matching children? <p>is there a way to retrieve only the immediate children found by a call to DOMElement::getElementsByTagName? For example, I have an XML document that has a category element. That category element has sub category elements (which have the same structure), like:</p>\\n\\n<pre><code>&lt;category&gt;\\n    &lt;id&gt;1&lt;/id&gt;\\n    &lt;name&gt;Top Level Category Name&lt;/name&gt;\\n    &lt;subCategory&gt;\\n        &lt;id&gt;2&lt;/id&gt;\\n        &lt;name&gt;Sub Category Name&lt;/name&gt;\\n    &lt;/subCategory&gt;\\n    ...\\n&lt;/category&gt;\\n</code></pre>\\n\\n<p>If I have a DOMElement representing the top level category, </p>\\n\\n<pre><code>$topLevelCategoryElement-&gt;getElementsByTagName('id');\\n</code></pre>\\n\\n<p>will return a list with the nodes for all 'id' elements, where I want just the one from the top level. Any way to do this outside of using XPath?</p>\\n\""
            ]
          },
          "metadata": {
            "tags": []
          },
          "execution_count": 66
        }
      ]
    },
    {
      "cell_type": "markdown",
      "metadata": {
        "id": "FKJpzA3GjfUs"
      },
      "source": [
        "### **HTML**"
      ]
    },
    {
      "cell_type": "code",
      "metadata": {
        "id": "ODJZRQTKtawy"
      },
      "source": [
        "#HTML characters removing\n",
        "def remove_html(body):\n",
        "  html_regex = re.compile('<.*?>') #Compile regular expresions\n",
        "  return re.sub(html_regex, ' ', str(body)) # Replace regex by ' '"
      ],
      "execution_count": 67,
      "outputs": []
    },
    {
      "cell_type": "code",
      "metadata": {
        "id": "FuOICImzpMJe",
        "colab": {
          "base_uri": "https://localhost:8080/",
          "height": 194
        },
        "outputId": "a8275a75-ed27-4ad0-fa52-aef9dd95401c"
      },
      "source": [
        "df_sample['Question'] = df_sample['Question'].apply(remove_html)\n",
        "df_sample.head()"
      ],
      "execution_count": 68,
      "outputs": [
        {
          "output_type": "execute_result",
          "data": {
            "text/html": [
              "<div>\n",
              "<style scoped>\n",
              "    .dataframe tbody tr th:only-of-type {\n",
              "        vertical-align: middle;\n",
              "    }\n",
              "\n",
              "    .dataframe tbody tr th {\n",
              "        vertical-align: top;\n",
              "    }\n",
              "\n",
              "    .dataframe thead th {\n",
              "        text-align: right;\n",
              "    }\n",
              "</style>\n",
              "<table border=\"1\" class=\"dataframe\">\n",
              "  <thead>\n",
              "    <tr style=\"text-align: right;\">\n",
              "      <th></th>\n",
              "      <th>Question</th>\n",
              "      <th>Tags</th>\n",
              "    </tr>\n",
              "  </thead>\n",
              "  <tbody>\n",
              "    <tr>\n",
              "      <th>0</th>\n",
              "      <td>Pandas not finding elements in Columns  Pandas...</td>\n",
              "      <td>&lt;python&gt;&lt;pandas&gt;</td>\n",
              "    </tr>\n",
              "    <tr>\n",
              "      <th>1</th>\n",
              "      <td>PHP, 'Haystack contains Needle?'  Assuming thi...</td>\n",
              "      <td>&lt;php&gt;</td>\n",
              "    </tr>\n",
              "    <tr>\n",
              "      <th>2</th>\n",
              "      <td>Understanding json_agg performance in Postgres...</td>\n",
              "      <td>&lt;performance&gt;&lt;postgresql&gt;</td>\n",
              "    </tr>\n",
              "    <tr>\n",
              "      <th>3</th>\n",
              "      <td>java: why main thread waits for child thread t...</td>\n",
              "      <td>&lt;java&gt;&lt;multithreading&gt;</td>\n",
              "    </tr>\n",
              "    <tr>\n",
              "      <th>4</th>\n",
              "      <td>Stream live video to browser (with low latency...</td>\n",
              "      <td>&lt;flash&gt;&lt;video&gt;&lt;stream&gt;&lt;live&gt;</td>\n",
              "    </tr>\n",
              "  </tbody>\n",
              "</table>\n",
              "</div>"
            ],
            "text/plain": [
              "                                            Question                          Tags\n",
              "0  Pandas not finding elements in Columns  Pandas...              <python><pandas>\n",
              "1  PHP, 'Haystack contains Needle?'  Assuming thi...                         <php>\n",
              "2  Understanding json_agg performance in Postgres...     <performance><postgresql>\n",
              "3  java: why main thread waits for child thread t...        <java><multithreading>\n",
              "4  Stream live video to browser (with low latency...  <flash><video><stream><live>"
            ]
          },
          "metadata": {
            "tags": []
          },
          "execution_count": 68
        }
      ]
    },
    {
      "cell_type": "code",
      "metadata": {
        "id": "vkoq83Wch7_0",
        "colab": {
          "base_uri": "https://localhost:8080/",
          "height": 71
        },
        "outputId": "06de09c1-063b-40b0-8638-84a5eda62bf7"
      },
      "source": [
        "df_sample.Question.iloc[0]"
      ],
      "execution_count": 69,
      "outputs": [
        {
          "output_type": "execute_result",
          "data": {
            "application/vnd.google.colaboratory.intrinsic+json": {
              "type": "string"
            },
            "text/plain": [
              "'Pandas not finding elements in Columns  Pandas does not seem to find all elements in a list: \\n\\n  df = pd.DataFrame({\"rid\": [\"125264429\", \"a\"], \"id\": [1, 2]})\\n1 in df[\"id\"]                # &lt;- expect True, get True\\n\"125264429\" in df[\"rid\"]     # &lt;- expect True, get False\\ndf[df[\"rid\"] == \"125264429\"] # &lt;- yields result\\n  \\n\\n I am sure there is a perfectly reasonable explanation for this behaviour, but I can\\'t seem to find it. It seems that the last two columns contradict each other.\\nDoes it have to do something with the fact that the datatype of the \"rid\" column is object? \\n'"
            ]
          },
          "metadata": {
            "tags": []
          },
          "execution_count": 69
        }
      ]
    },
    {
      "cell_type": "markdown",
      "metadata": {
        "id": "0vJRcF76jncB"
      },
      "source": [
        "### **URL**"
      ]
    },
    {
      "cell_type": "code",
      "metadata": {
        "id": "x5QvAxQnwylj"
      },
      "source": [
        "#URL removing\n",
        "def remove_url(body):\n",
        "  url_regex = 'http[s]?://(?:[a-zA-Z]|[0-9]|[$-_@.&+]|[!*\\(\\),]|(?:%[0-9a-fA-F][0-9a-fA-F]))+'\n",
        "  return re.sub(url_regex, ' ', str(body))  "
      ],
      "execution_count": 70,
      "outputs": []
    },
    {
      "cell_type": "code",
      "metadata": {
        "id": "PVZuq5NeL6E-",
        "colab": {
          "base_uri": "https://localhost:8080/",
          "height": 194
        },
        "outputId": "807389dc-9148-4b25-89ae-a404942fd261"
      },
      "source": [
        "df_sample['Question'] = df_sample['Question'].apply(remove_url)\n",
        "df_sample.head()"
      ],
      "execution_count": 71,
      "outputs": [
        {
          "output_type": "execute_result",
          "data": {
            "text/html": [
              "<div>\n",
              "<style scoped>\n",
              "    .dataframe tbody tr th:only-of-type {\n",
              "        vertical-align: middle;\n",
              "    }\n",
              "\n",
              "    .dataframe tbody tr th {\n",
              "        vertical-align: top;\n",
              "    }\n",
              "\n",
              "    .dataframe thead th {\n",
              "        text-align: right;\n",
              "    }\n",
              "</style>\n",
              "<table border=\"1\" class=\"dataframe\">\n",
              "  <thead>\n",
              "    <tr style=\"text-align: right;\">\n",
              "      <th></th>\n",
              "      <th>Question</th>\n",
              "      <th>Tags</th>\n",
              "    </tr>\n",
              "  </thead>\n",
              "  <tbody>\n",
              "    <tr>\n",
              "      <th>0</th>\n",
              "      <td>Pandas not finding elements in Columns  Pandas...</td>\n",
              "      <td>&lt;python&gt;&lt;pandas&gt;</td>\n",
              "    </tr>\n",
              "    <tr>\n",
              "      <th>1</th>\n",
              "      <td>PHP, 'Haystack contains Needle?'  Assuming thi...</td>\n",
              "      <td>&lt;php&gt;</td>\n",
              "    </tr>\n",
              "    <tr>\n",
              "      <th>2</th>\n",
              "      <td>Understanding json_agg performance in Postgres...</td>\n",
              "      <td>&lt;performance&gt;&lt;postgresql&gt;</td>\n",
              "    </tr>\n",
              "    <tr>\n",
              "      <th>3</th>\n",
              "      <td>java: why main thread waits for child thread t...</td>\n",
              "      <td>&lt;java&gt;&lt;multithreading&gt;</td>\n",
              "    </tr>\n",
              "    <tr>\n",
              "      <th>4</th>\n",
              "      <td>Stream live video to browser (with low latency...</td>\n",
              "      <td>&lt;flash&gt;&lt;video&gt;&lt;stream&gt;&lt;live&gt;</td>\n",
              "    </tr>\n",
              "  </tbody>\n",
              "</table>\n",
              "</div>"
            ],
            "text/plain": [
              "                                            Question                          Tags\n",
              "0  Pandas not finding elements in Columns  Pandas...              <python><pandas>\n",
              "1  PHP, 'Haystack contains Needle?'  Assuming thi...                         <php>\n",
              "2  Understanding json_agg performance in Postgres...     <performance><postgresql>\n",
              "3  java: why main thread waits for child thread t...        <java><multithreading>\n",
              "4  Stream live video to browser (with low latency...  <flash><video><stream><live>"
            ]
          },
          "metadata": {
            "tags": []
          },
          "execution_count": 71
        }
      ]
    },
    {
      "cell_type": "code",
      "metadata": {
        "id": "L43cenkZiH6I",
        "colab": {
          "base_uri": "https://localhost:8080/",
          "height": 71
        },
        "outputId": "9bb9336f-5384-4a95-e31b-f386bffb719b"
      },
      "source": [
        "df_sample.Question.iloc[0]"
      ],
      "execution_count": 72,
      "outputs": [
        {
          "output_type": "execute_result",
          "data": {
            "application/vnd.google.colaboratory.intrinsic+json": {
              "type": "string"
            },
            "text/plain": [
              "'Pandas not finding elements in Columns  Pandas does not seem to find all elements in a list: \\n\\n  df = pd.DataFrame({\"rid\": [\"125264429\", \"a\"], \"id\": [1, 2]})\\n1 in df[\"id\"]                # &lt;- expect True, get True\\n\"125264429\" in df[\"rid\"]     # &lt;- expect True, get False\\ndf[df[\"rid\"] == \"125264429\"] # &lt;- yields result\\n  \\n\\n I am sure there is a perfectly reasonable explanation for this behaviour, but I can\\'t seem to find it. It seems that the last two columns contradict each other.\\nDoes it have to do something with the fact that the datatype of the \"rid\" column is object? \\n'"
            ]
          },
          "metadata": {
            "tags": []
          },
          "execution_count": 72
        }
      ]
    },
    {
      "cell_type": "markdown",
      "metadata": {
        "id": "oqrGUCL-ju-K"
      },
      "source": [
        "### **Punctuation**"
      ]
    },
    {
      "cell_type": "code",
      "metadata": {
        "id": "Rg1XwcS7qzcX"
      },
      "source": [
        "#Punctuation removing\n",
        "def remove_punc(body):\n",
        "  clean_text = re.sub(r'[?|!|\"|:|=|_|{|}|[|]|-|$|%|^|&|]',r' ',str(body))\n",
        "  clean_text = re.sub(r'[.|,|)|(|\\|/|-|~|`|>|<|*|$|@|;|→|#|]',r' ', clean_text)\n",
        "  return clean_text"
      ],
      "execution_count": 73,
      "outputs": []
    },
    {
      "cell_type": "code",
      "metadata": {
        "id": "pbLLFOAZ9x9k"
      },
      "source": [
        "df_sample['Question'] = df_sample['Question'].apply(remove_punc)"
      ],
      "execution_count": 74,
      "outputs": []
    },
    {
      "cell_type": "code",
      "metadata": {
        "id": "N1v00_8giS9s",
        "colab": {
          "base_uri": "https://localhost:8080/",
          "height": 71
        },
        "outputId": "e32ed414-ba24-423b-f1ba-69f8c6af2946"
      },
      "source": [
        "df_sample.Question.iloc[0]"
      ],
      "execution_count": 75,
      "outputs": [
        {
          "output_type": "execute_result",
          "data": {
            "application/vnd.google.colaboratory.intrinsic+json": {
              "type": "string"
            },
            "text/plain": [
              "\" Pandas not finding elements in Columns  Pandas does not seem to find all elements in a list  \\n\\n  df   pd DataFrame   rid     125264429    a     id    1  2   \\n1 in df  id                     lt   expect True  get True\\n 125264429  in df  rid          lt   expect True  get False\\ndf df  rid       125264429      lt   yields result\\n  \\n\\n I am sure there is a perfectly reasonable explanation for this behaviour  but I can't seem to find it  It seems that the last two columns contradict each other \\nDoes it have to do something with the fact that the datatype of the  rid  column is object   \\n \""
            ]
          },
          "metadata": {
            "tags": []
          },
          "execution_count": 75
        }
      ]
    },
    {
      "cell_type": "markdown",
      "metadata": {
        "id": "spUwNPvIj6-o"
      },
      "source": [
        "### **Other characters**"
      ]
    },
    {
      "cell_type": "code",
      "metadata": {
        "id": "jhnRPj4ye-L7"
      },
      "source": [
        "#All characters removing except letters, numbers \n",
        "#Lower\n",
        "def remove_other(body):\n",
        "  text = str(body)\n",
        "  clean_text = re.sub(r\"[^a-zA-Z0-9#+-]\", \" \", text.lower())\n",
        "  return clean_text"
      ],
      "execution_count": 76,
      "outputs": []
    },
    {
      "cell_type": "code",
      "metadata": {
        "id": "2ODVUIyvgSsq",
        "colab": {
          "base_uri": "https://localhost:8080/",
          "height": 194
        },
        "outputId": "45cbd73b-79ad-4d9e-c0cf-723a69937d7a"
      },
      "source": [
        "df_sample['Question'] = df_sample['Question'].apply(remove_other)\n",
        "df_sample.head()"
      ],
      "execution_count": 77,
      "outputs": [
        {
          "output_type": "execute_result",
          "data": {
            "text/html": [
              "<div>\n",
              "<style scoped>\n",
              "    .dataframe tbody tr th:only-of-type {\n",
              "        vertical-align: middle;\n",
              "    }\n",
              "\n",
              "    .dataframe tbody tr th {\n",
              "        vertical-align: top;\n",
              "    }\n",
              "\n",
              "    .dataframe thead th {\n",
              "        text-align: right;\n",
              "    }\n",
              "</style>\n",
              "<table border=\"1\" class=\"dataframe\">\n",
              "  <thead>\n",
              "    <tr style=\"text-align: right;\">\n",
              "      <th></th>\n",
              "      <th>Question</th>\n",
              "      <th>Tags</th>\n",
              "    </tr>\n",
              "  </thead>\n",
              "  <tbody>\n",
              "    <tr>\n",
              "      <th>0</th>\n",
              "      <td>pandas not finding elements in columns  panda...</td>\n",
              "      <td>&lt;python&gt;&lt;pandas&gt;</td>\n",
              "    </tr>\n",
              "    <tr>\n",
              "      <th>1</th>\n",
              "      <td>php   haystack contains needle    assuming th...</td>\n",
              "      <td>&lt;php&gt;</td>\n",
              "    </tr>\n",
              "    <tr>\n",
              "      <th>2</th>\n",
              "      <td>understanding json agg performance in postgre...</td>\n",
              "      <td>&lt;performance&gt;&lt;postgresql&gt;</td>\n",
              "    </tr>\n",
              "    <tr>\n",
              "      <th>3</th>\n",
              "      <td>java  why main thread waits for child thread ...</td>\n",
              "      <td>&lt;java&gt;&lt;multithreading&gt;</td>\n",
              "    </tr>\n",
              "    <tr>\n",
              "      <th>4</th>\n",
              "      <td>stream live video to browser  with low latenc...</td>\n",
              "      <td>&lt;flash&gt;&lt;video&gt;&lt;stream&gt;&lt;live&gt;</td>\n",
              "    </tr>\n",
              "  </tbody>\n",
              "</table>\n",
              "</div>"
            ],
            "text/plain": [
              "                                            Question                          Tags\n",
              "0   pandas not finding elements in columns  panda...              <python><pandas>\n",
              "1   php   haystack contains needle    assuming th...                         <php>\n",
              "2   understanding json agg performance in postgre...     <performance><postgresql>\n",
              "3   java  why main thread waits for child thread ...        <java><multithreading>\n",
              "4   stream live video to browser  with low latenc...  <flash><video><stream><live>"
            ]
          },
          "metadata": {
            "tags": []
          },
          "execution_count": 77
        }
      ]
    },
    {
      "cell_type": "code",
      "metadata": {
        "id": "5ICRcIezhPF0",
        "colab": {
          "base_uri": "https://localhost:8080/",
          "height": 71
        },
        "outputId": "9f24574c-1b07-47fd-ce94-c56933b97043"
      },
      "source": [
        "df_sample.Question.iloc[0]"
      ],
      "execution_count": 78,
      "outputs": [
        {
          "output_type": "execute_result",
          "data": {
            "application/vnd.google.colaboratory.intrinsic+json": {
              "type": "string"
            },
            "text/plain": [
              "' pandas not finding elements in columns  pandas does not seem to find all elements in a list      df   pd dataframe   rid     125264429    a     id    1  2    1 in df  id                     lt   expect true  get true  125264429  in df  rid          lt   expect true  get false df df  rid       125264429      lt   yields result      i am sure there is a perfectly reasonable explanation for this behaviour  but i can t seem to find it  it seems that the last two columns contradict each other  does it have to do something with the fact that the datatype of the  rid  column is object     '"
            ]
          },
          "metadata": {
            "tags": []
          },
          "execution_count": 78
        }
      ]
    },
    {
      "cell_type": "markdown",
      "metadata": {
        "id": "OnhaYS2_kF6L"
      },
      "source": [
        "### **Space**"
      ]
    },
    {
      "cell_type": "code",
      "metadata": {
        "id": "SIdM-GNzyse6"
      },
      "source": [
        "#Space removing\n",
        "def remove_space(body):\n",
        "  return ' '.join(str(body).split()) "
      ],
      "execution_count": 79,
      "outputs": []
    },
    {
      "cell_type": "code",
      "metadata": {
        "id": "HjvChyO17tes"
      },
      "source": [
        "df_sample['Question'] = df_sample['Question'].apply(remove_space)"
      ],
      "execution_count": 80,
      "outputs": []
    },
    {
      "cell_type": "code",
      "metadata": {
        "id": "rZa6Pe2i8A4S",
        "colab": {
          "base_uri": "https://localhost:8080/",
          "height": 71
        },
        "outputId": "d7051ba6-d7ce-4d29-e1e4-bd30f6c75466"
      },
      "source": [
        "df_sample.Question.iloc[0]"
      ],
      "execution_count": 81,
      "outputs": [
        {
          "output_type": "execute_result",
          "data": {
            "application/vnd.google.colaboratory.intrinsic+json": {
              "type": "string"
            },
            "text/plain": [
              "'pandas not finding elements in columns pandas does not seem to find all elements in a list df pd dataframe rid 125264429 a id 1 2 1 in df id lt expect true get true 125264429 in df rid lt expect true get false df df rid 125264429 lt yields result i am sure there is a perfectly reasonable explanation for this behaviour but i can t seem to find it it seems that the last two columns contradict each other does it have to do something with the fact that the datatype of the rid column is object'"
            ]
          },
          "metadata": {
            "tags": []
          },
          "execution_count": 81
        }
      ]
    },
    {
      "cell_type": "code",
      "metadata": {
        "id": "rxKPZBN77Tis",
        "outputId": "039c0543-cb91-4baa-931c-47c0638aa548",
        "colab": {
          "base_uri": "https://localhost:8080/",
          "height": 89
        }
      },
      "source": [
        "df_sample.Question.iloc[17593]"
      ],
      "execution_count": 82,
      "outputs": [
        {
          "output_type": "execute_result",
          "data": {
            "application/vnd.google.colaboratory.intrinsic+json": {
              "type": "string"
            },
            "text/plain": [
              "'php domelement getelementsbytagname anyway to get just the immediate matching children is there a way to retrieve only the immediate children found by a call to domelement getelementsbytagname for example i have an xml document that has a category element that category element has sub category elements which have the same structure like lt category gt lt id gt 1 lt id gt lt name gt top level category name lt name gt lt subcategory gt lt id gt 2 lt id gt lt name gt sub category name lt name gt lt subcategory gt lt category gt if i have a domelement representing the top level category toplevelcategoryelement gt getelementsbytagname id will return a list with the nodes for all id elements where i want just the one from the top level any way to do this outside of using xpath'"
            ]
          },
          "metadata": {
            "tags": []
          },
          "execution_count": 82
        }
      ]
    },
    {
      "cell_type": "code",
      "metadata": {
        "id": "NipGuoPUgc80"
      },
      "source": [
        "#df_analysis['Title_Body_count'] = df_analysis['Title_Body'].apply(lambda text: len(text.split(\" \")))"
      ],
      "execution_count": 36,
      "outputs": []
    },
    {
      "cell_type": "code",
      "metadata": {
        "id": "3Nl2g1o8geKB",
        "colab": {
          "base_uri": "https://localhost:8080/",
          "height": 194
        },
        "outputId": "415b0297-6270-49bd-da05-e424d2c08792"
      },
      "source": [
        "df_sample.head()"
      ],
      "execution_count": 84,
      "outputs": [
        {
          "output_type": "execute_result",
          "data": {
            "text/html": [
              "<div>\n",
              "<style scoped>\n",
              "    .dataframe tbody tr th:only-of-type {\n",
              "        vertical-align: middle;\n",
              "    }\n",
              "\n",
              "    .dataframe tbody tr th {\n",
              "        vertical-align: top;\n",
              "    }\n",
              "\n",
              "    .dataframe thead th {\n",
              "        text-align: right;\n",
              "    }\n",
              "</style>\n",
              "<table border=\"1\" class=\"dataframe\">\n",
              "  <thead>\n",
              "    <tr style=\"text-align: right;\">\n",
              "      <th></th>\n",
              "      <th>Question</th>\n",
              "      <th>Tags</th>\n",
              "    </tr>\n",
              "  </thead>\n",
              "  <tbody>\n",
              "    <tr>\n",
              "      <th>0</th>\n",
              "      <td>pandas not finding elements in columns pandas ...</td>\n",
              "      <td>&lt;python&gt;&lt;pandas&gt;</td>\n",
              "    </tr>\n",
              "    <tr>\n",
              "      <th>1</th>\n",
              "      <td>php haystack contains needle assuming this wor...</td>\n",
              "      <td>&lt;php&gt;</td>\n",
              "    </tr>\n",
              "    <tr>\n",
              "      <th>2</th>\n",
              "      <td>understanding json agg performance in postgres...</td>\n",
              "      <td>&lt;performance&gt;&lt;postgresql&gt;</td>\n",
              "    </tr>\n",
              "    <tr>\n",
              "      <th>3</th>\n",
              "      <td>java why main thread waits for child thread to...</td>\n",
              "      <td>&lt;java&gt;&lt;multithreading&gt;</td>\n",
              "    </tr>\n",
              "    <tr>\n",
              "      <th>4</th>\n",
              "      <td>stream live video to browser with low latency ...</td>\n",
              "      <td>&lt;flash&gt;&lt;video&gt;&lt;stream&gt;&lt;live&gt;</td>\n",
              "    </tr>\n",
              "  </tbody>\n",
              "</table>\n",
              "</div>"
            ],
            "text/plain": [
              "                                            Question                          Tags\n",
              "0  pandas not finding elements in columns pandas ...              <python><pandas>\n",
              "1  php haystack contains needle assuming this wor...                         <php>\n",
              "2  understanding json agg performance in postgres...     <performance><postgresql>\n",
              "3  java why main thread waits for child thread to...        <java><multithreading>\n",
              "4  stream live video to browser with low latency ...  <flash><video><stream><live>"
            ]
          },
          "metadata": {
            "tags": []
          },
          "execution_count": 84
        }
      ]
    },
    {
      "cell_type": "markdown",
      "metadata": {
        "id": "TJejYX1wkWJx"
      },
      "source": [
        "### **StopWords**"
      ]
    },
    {
      "cell_type": "code",
      "metadata": {
        "id": "os74ax1iEZ2S"
      },
      "source": [
        "#Tokenization\n",
        "#nltk.download(\"punkt\")\n",
        "#from nltk.tokenize import word_tokenize"
      ],
      "execution_count": 85,
      "outputs": []
    },
    {
      "cell_type": "code",
      "metadata": {
        "id": "uXZRI_NEUX0t"
      },
      "source": [
        "stop_words = set(stopwords.words('english'))\n",
        "from nltk.stem import WordNetLemmatizer, PorterStemmer\n",
        "from nltk.stem.snowball import EnglishStemmer\n",
        "lemma = WordNetLemmatizer().lemmatize\n",
        "ps = PorterStemmer()\n",
        "stemmer = EnglishStemmer()"
      ],
      "execution_count": 86,
      "outputs": []
    },
    {
      "cell_type": "code",
      "metadata": {
        "id": "hpprHCsXKS5F"
      },
      "source": [
        "set_alpha = set(['a', 'b', 'd', 'e', 'f', 'g', 'h', 'i', 'k', 'l', 'm', 'n', 'o', 'p', 'q', 's', 't', 'u', 'v', 'w', 'x', 'y' 'z'])"
      ],
      "execution_count": 87,
      "outputs": []
    },
    {
      "cell_type": "code",
      "metadata": {
        "id": "HoP_cdg6JOug"
      },
      "source": [
        "def remove_stopwords(text):\n",
        "    text = str(text)\n",
        "    text = \" \".join(word for word in text.split() if word not in gensim.parsing.preprocessing.STOPWORDS and word not in stop_words and word not in set_alpha)\n",
        "    return text"
      ],
      "execution_count": 88,
      "outputs": []
    },
    {
      "cell_type": "code",
      "metadata": {
        "id": "MoHi-5wlWBpj"
      },
      "source": [
        "df_sample['Question'] = df_sample['Question'].apply(remove_stopwords)"
      ],
      "execution_count": 89,
      "outputs": []
    },
    {
      "cell_type": "code",
      "metadata": {
        "id": "KaSzDJUSo3xm",
        "colab": {
          "base_uri": "https://localhost:8080/",
          "height": 53
        },
        "outputId": "9693bd5e-bd2c-4bca-df64-700239c4497f"
      },
      "source": [
        "df_sample.Question.iloc[0]"
      ],
      "execution_count": 90,
      "outputs": [
        {
          "output_type": "execute_result",
          "data": {
            "application/vnd.google.colaboratory.intrinsic+json": {
              "type": "string"
            },
            "text/plain": [
              "'pandas finding elements columns pandas elements list df pd dataframe rid 125264429 id 1 2 1 df id lt expect true true 125264429 df rid lt expect true false df df rid 125264429 lt yields result sure perfectly reasonable explanation behaviour columns contradict fact datatype rid column object'"
            ]
          },
          "metadata": {
            "tags": []
          },
          "execution_count": 90
        }
      ]
    },
    {
      "cell_type": "code",
      "metadata": {
        "id": "4eR7-4bpBDku",
        "outputId": "1ff7d5d6-b423-4125-e33e-4b1212bf966a",
        "colab": {
          "base_uri": "https://localhost:8080/",
          "height": 71
        }
      },
      "source": [
        "df_sample.Question.iloc[17593]"
      ],
      "execution_count": 91,
      "outputs": [
        {
          "output_type": "execute_result",
          "data": {
            "application/vnd.google.colaboratory.intrinsic+json": {
              "type": "string"
            },
            "text/plain": [
              "'php domelement getelementsbytagname immediate matching children way retrieve immediate children domelement getelementsbytagname example xml document category element category element sub category elements structure like lt category gt lt id gt 1 lt id gt lt gt level category lt gt lt subcategory gt lt id gt 2 lt id gt lt gt sub category lt gt lt subcategory gt lt category gt domelement representing level category toplevelcategoryelement gt getelementsbytagname id return list nodes id elements want level way outside xpath'"
            ]
          },
          "metadata": {
            "tags": []
          },
          "execution_count": 91
        }
      ]
    },
    {
      "cell_type": "code",
      "metadata": {
        "id": "7YaLawhYUw8s",
        "colab": {
          "base_uri": "https://localhost:8080/",
          "height": 194
        },
        "outputId": "e8e3eb2e-9e36-4f59-e97b-2d67b4ba30f9"
      },
      "source": [
        "df_sample.head()"
      ],
      "execution_count": 92,
      "outputs": [
        {
          "output_type": "execute_result",
          "data": {
            "text/html": [
              "<div>\n",
              "<style scoped>\n",
              "    .dataframe tbody tr th:only-of-type {\n",
              "        vertical-align: middle;\n",
              "    }\n",
              "\n",
              "    .dataframe tbody tr th {\n",
              "        vertical-align: top;\n",
              "    }\n",
              "\n",
              "    .dataframe thead th {\n",
              "        text-align: right;\n",
              "    }\n",
              "</style>\n",
              "<table border=\"1\" class=\"dataframe\">\n",
              "  <thead>\n",
              "    <tr style=\"text-align: right;\">\n",
              "      <th></th>\n",
              "      <th>Question</th>\n",
              "      <th>Tags</th>\n",
              "    </tr>\n",
              "  </thead>\n",
              "  <tbody>\n",
              "    <tr>\n",
              "      <th>0</th>\n",
              "      <td>pandas finding elements columns pandas element...</td>\n",
              "      <td>&lt;python&gt;&lt;pandas&gt;</td>\n",
              "    </tr>\n",
              "    <tr>\n",
              "      <th>1</th>\n",
              "      <td>php haystack contains needle assuming works pr...</td>\n",
              "      <td>&lt;php&gt;</td>\n",
              "    </tr>\n",
              "    <tr>\n",
              "      <th>2</th>\n",
              "      <td>understanding json agg performance postgres 9 ...</td>\n",
              "      <td>&lt;performance&gt;&lt;postgresql&gt;</td>\n",
              "    </tr>\n",
              "    <tr>\n",
              "      <th>3</th>\n",
              "      <td>java main thread waits child thread finish sim...</td>\n",
              "      <td>&lt;java&gt;&lt;multithreading&gt;</td>\n",
              "    </tr>\n",
              "    <tr>\n",
              "      <th>4</th>\n",
              "      <td>stream live video browser low latency want str...</td>\n",
              "      <td>&lt;flash&gt;&lt;video&gt;&lt;stream&gt;&lt;live&gt;</td>\n",
              "    </tr>\n",
              "  </tbody>\n",
              "</table>\n",
              "</div>"
            ],
            "text/plain": [
              "                                            Question                          Tags\n",
              "0  pandas finding elements columns pandas element...              <python><pandas>\n",
              "1  php haystack contains needle assuming works pr...                         <php>\n",
              "2  understanding json agg performance postgres 9 ...     <performance><postgresql>\n",
              "3  java main thread waits child thread finish sim...        <java><multithreading>\n",
              "4  stream live video browser low latency want str...  <flash><video><stream><live>"
            ]
          },
          "metadata": {
            "tags": []
          },
          "execution_count": 92
        }
      ]
    },
    {
      "cell_type": "markdown",
      "metadata": {
        "id": "By3nrs2-OJPy"
      },
      "source": [
        "## **Tokenization**"
      ]
    },
    {
      "cell_type": "markdown",
      "metadata": {
        "id": "YH5-KerXOixc"
      },
      "source": [
        "### **Question**"
      ]
    },
    {
      "cell_type": "code",
      "metadata": {
        "colab": {
          "base_uri": "https://localhost:8080/"
        },
        "id": "JjsQLWXN-vr_",
        "outputId": "e81219d1-11bf-497b-f39c-16c2f9d7ccdd"
      },
      "source": [
        "nltk.download('all')"
      ],
      "execution_count": 93,
      "outputs": [
        {
          "output_type": "stream",
          "text": [
            "[nltk_data] Downloading collection 'all'\n",
            "[nltk_data]    | \n",
            "[nltk_data]    | Downloading package abc to /root/nltk_data...\n",
            "[nltk_data]    |   Package abc is already up-to-date!\n",
            "[nltk_data]    | Downloading package alpino to /root/nltk_data...\n",
            "[nltk_data]    |   Package alpino is already up-to-date!\n",
            "[nltk_data]    | Downloading package biocreative_ppi to\n",
            "[nltk_data]    |     /root/nltk_data...\n",
            "[nltk_data]    |   Package biocreative_ppi is already up-to-date!\n",
            "[nltk_data]    | Downloading package brown to /root/nltk_data...\n",
            "[nltk_data]    |   Package brown is already up-to-date!\n",
            "[nltk_data]    | Downloading package brown_tei to /root/nltk_data...\n",
            "[nltk_data]    |   Package brown_tei is already up-to-date!\n",
            "[nltk_data]    | Downloading package cess_cat to /root/nltk_data...\n",
            "[nltk_data]    |   Package cess_cat is already up-to-date!\n",
            "[nltk_data]    | Downloading package cess_esp to /root/nltk_data...\n",
            "[nltk_data]    |   Package cess_esp is already up-to-date!\n",
            "[nltk_data]    | Downloading package chat80 to /root/nltk_data...\n",
            "[nltk_data]    |   Package chat80 is already up-to-date!\n",
            "[nltk_data]    | Downloading package city_database to\n",
            "[nltk_data]    |     /root/nltk_data...\n",
            "[nltk_data]    |   Package city_database is already up-to-date!\n",
            "[nltk_data]    | Downloading package cmudict to /root/nltk_data...\n",
            "[nltk_data]    |   Package cmudict is already up-to-date!\n",
            "[nltk_data]    | Downloading package comparative_sentences to\n",
            "[nltk_data]    |     /root/nltk_data...\n",
            "[nltk_data]    |   Package comparative_sentences is already up-to-\n",
            "[nltk_data]    |       date!\n",
            "[nltk_data]    | Downloading package comtrans to /root/nltk_data...\n",
            "[nltk_data]    |   Package comtrans is already up-to-date!\n",
            "[nltk_data]    | Downloading package conll2000 to /root/nltk_data...\n",
            "[nltk_data]    |   Package conll2000 is already up-to-date!\n",
            "[nltk_data]    | Downloading package conll2002 to /root/nltk_data...\n",
            "[nltk_data]    |   Package conll2002 is already up-to-date!\n",
            "[nltk_data]    | Downloading package conll2007 to /root/nltk_data...\n",
            "[nltk_data]    |   Package conll2007 is already up-to-date!\n",
            "[nltk_data]    | Downloading package crubadan to /root/nltk_data...\n",
            "[nltk_data]    |   Package crubadan is already up-to-date!\n",
            "[nltk_data]    | Downloading package dependency_treebank to\n",
            "[nltk_data]    |     /root/nltk_data...\n",
            "[nltk_data]    |   Package dependency_treebank is already up-to-date!\n",
            "[nltk_data]    | Downloading package dolch to /root/nltk_data...\n",
            "[nltk_data]    |   Package dolch is already up-to-date!\n",
            "[nltk_data]    | Downloading package europarl_raw to\n",
            "[nltk_data]    |     /root/nltk_data...\n",
            "[nltk_data]    |   Package europarl_raw is already up-to-date!\n",
            "[nltk_data]    | Downloading package floresta to /root/nltk_data...\n",
            "[nltk_data]    |   Package floresta is already up-to-date!\n",
            "[nltk_data]    | Downloading package framenet_v15 to\n",
            "[nltk_data]    |     /root/nltk_data...\n",
            "[nltk_data]    |   Package framenet_v15 is already up-to-date!\n",
            "[nltk_data]    | Downloading package framenet_v17 to\n",
            "[nltk_data]    |     /root/nltk_data...\n",
            "[nltk_data]    |   Package framenet_v17 is already up-to-date!\n",
            "[nltk_data]    | Downloading package gazetteers to /root/nltk_data...\n",
            "[nltk_data]    |   Package gazetteers is already up-to-date!\n",
            "[nltk_data]    | Downloading package genesis to /root/nltk_data...\n",
            "[nltk_data]    |   Package genesis is already up-to-date!\n",
            "[nltk_data]    | Downloading package gutenberg to /root/nltk_data...\n",
            "[nltk_data]    |   Package gutenberg is already up-to-date!\n",
            "[nltk_data]    | Downloading package ieer to /root/nltk_data...\n",
            "[nltk_data]    |   Package ieer is already up-to-date!\n",
            "[nltk_data]    | Downloading package inaugural to /root/nltk_data...\n",
            "[nltk_data]    |   Package inaugural is already up-to-date!\n",
            "[nltk_data]    | Downloading package indian to /root/nltk_data...\n",
            "[nltk_data]    |   Package indian is already up-to-date!\n",
            "[nltk_data]    | Downloading package jeita to /root/nltk_data...\n",
            "[nltk_data]    |   Package jeita is already up-to-date!\n",
            "[nltk_data]    | Downloading package kimmo to /root/nltk_data...\n",
            "[nltk_data]    |   Package kimmo is already up-to-date!\n",
            "[nltk_data]    | Downloading package knbc to /root/nltk_data...\n",
            "[nltk_data]    |   Package knbc is already up-to-date!\n",
            "[nltk_data]    | Downloading package lin_thesaurus to\n",
            "[nltk_data]    |     /root/nltk_data...\n",
            "[nltk_data]    |   Package lin_thesaurus is already up-to-date!\n",
            "[nltk_data]    | Downloading package mac_morpho to /root/nltk_data...\n",
            "[nltk_data]    |   Package mac_morpho is already up-to-date!\n",
            "[nltk_data]    | Downloading package machado to /root/nltk_data...\n",
            "[nltk_data]    |   Package machado is already up-to-date!\n",
            "[nltk_data]    | Downloading package masc_tagged to /root/nltk_data...\n",
            "[nltk_data]    |   Package masc_tagged is already up-to-date!\n",
            "[nltk_data]    | Downloading package moses_sample to\n",
            "[nltk_data]    |     /root/nltk_data...\n",
            "[nltk_data]    |   Package moses_sample is already up-to-date!\n",
            "[nltk_data]    | Downloading package movie_reviews to\n",
            "[nltk_data]    |     /root/nltk_data...\n",
            "[nltk_data]    |   Package movie_reviews is already up-to-date!\n",
            "[nltk_data]    | Downloading package names to /root/nltk_data...\n",
            "[nltk_data]    |   Package names is already up-to-date!\n",
            "[nltk_data]    | Downloading package nombank.1.0 to /root/nltk_data...\n",
            "[nltk_data]    |   Package nombank.1.0 is already up-to-date!\n",
            "[nltk_data]    | Downloading package nps_chat to /root/nltk_data...\n",
            "[nltk_data]    |   Package nps_chat is already up-to-date!\n",
            "[nltk_data]    | Downloading package omw to /root/nltk_data...\n",
            "[nltk_data]    |   Package omw is already up-to-date!\n",
            "[nltk_data]    | Downloading package opinion_lexicon to\n",
            "[nltk_data]    |     /root/nltk_data...\n",
            "[nltk_data]    |   Package opinion_lexicon is already up-to-date!\n",
            "[nltk_data]    | Downloading package paradigms to /root/nltk_data...\n",
            "[nltk_data]    |   Package paradigms is already up-to-date!\n",
            "[nltk_data]    | Downloading package pil to /root/nltk_data...\n",
            "[nltk_data]    |   Package pil is already up-to-date!\n",
            "[nltk_data]    | Downloading package pl196x to /root/nltk_data...\n",
            "[nltk_data]    |   Package pl196x is already up-to-date!\n",
            "[nltk_data]    | Downloading package ppattach to /root/nltk_data...\n",
            "[nltk_data]    |   Package ppattach is already up-to-date!\n",
            "[nltk_data]    | Downloading package problem_reports to\n",
            "[nltk_data]    |     /root/nltk_data...\n",
            "[nltk_data]    |   Package problem_reports is already up-to-date!\n",
            "[nltk_data]    | Downloading package propbank to /root/nltk_data...\n",
            "[nltk_data]    |   Package propbank is already up-to-date!\n",
            "[nltk_data]    | Downloading package ptb to /root/nltk_data...\n",
            "[nltk_data]    |   Package ptb is already up-to-date!\n",
            "[nltk_data]    | Downloading package product_reviews_1 to\n",
            "[nltk_data]    |     /root/nltk_data...\n",
            "[nltk_data]    |   Package product_reviews_1 is already up-to-date!\n",
            "[nltk_data]    | Downloading package product_reviews_2 to\n",
            "[nltk_data]    |     /root/nltk_data...\n",
            "[nltk_data]    |   Package product_reviews_2 is already up-to-date!\n",
            "[nltk_data]    | Downloading package pros_cons to /root/nltk_data...\n",
            "[nltk_data]    |   Package pros_cons is already up-to-date!\n",
            "[nltk_data]    | Downloading package qc to /root/nltk_data...\n",
            "[nltk_data]    |   Package qc is already up-to-date!\n",
            "[nltk_data]    | Downloading package reuters to /root/nltk_data...\n",
            "[nltk_data]    |   Package reuters is already up-to-date!\n",
            "[nltk_data]    | Downloading package rte to /root/nltk_data...\n",
            "[nltk_data]    |   Package rte is already up-to-date!\n",
            "[nltk_data]    | Downloading package semcor to /root/nltk_data...\n",
            "[nltk_data]    |   Package semcor is already up-to-date!\n",
            "[nltk_data]    | Downloading package senseval to /root/nltk_data...\n",
            "[nltk_data]    |   Package senseval is already up-to-date!\n",
            "[nltk_data]    | Downloading package sentiwordnet to\n",
            "[nltk_data]    |     /root/nltk_data...\n",
            "[nltk_data]    |   Package sentiwordnet is already up-to-date!\n",
            "[nltk_data]    | Downloading package sentence_polarity to\n",
            "[nltk_data]    |     /root/nltk_data...\n",
            "[nltk_data]    |   Package sentence_polarity is already up-to-date!\n",
            "[nltk_data]    | Downloading package shakespeare to /root/nltk_data...\n",
            "[nltk_data]    |   Package shakespeare is already up-to-date!\n",
            "[nltk_data]    | Downloading package sinica_treebank to\n",
            "[nltk_data]    |     /root/nltk_data...\n",
            "[nltk_data]    |   Package sinica_treebank is already up-to-date!\n",
            "[nltk_data]    | Downloading package smultron to /root/nltk_data...\n",
            "[nltk_data]    |   Package smultron is already up-to-date!\n",
            "[nltk_data]    | Downloading package state_union to /root/nltk_data...\n",
            "[nltk_data]    |   Package state_union is already up-to-date!\n",
            "[nltk_data]    | Downloading package stopwords to /root/nltk_data...\n",
            "[nltk_data]    |   Package stopwords is already up-to-date!\n",
            "[nltk_data]    | Downloading package subjectivity to\n",
            "[nltk_data]    |     /root/nltk_data...\n",
            "[nltk_data]    |   Package subjectivity is already up-to-date!\n",
            "[nltk_data]    | Downloading package swadesh to /root/nltk_data...\n",
            "[nltk_data]    |   Package swadesh is already up-to-date!\n",
            "[nltk_data]    | Downloading package switchboard to /root/nltk_data...\n",
            "[nltk_data]    |   Package switchboard is already up-to-date!\n",
            "[nltk_data]    | Downloading package timit to /root/nltk_data...\n",
            "[nltk_data]    |   Package timit is already up-to-date!\n",
            "[nltk_data]    | Downloading package toolbox to /root/nltk_data...\n",
            "[nltk_data]    |   Package toolbox is already up-to-date!\n",
            "[nltk_data]    | Downloading package treebank to /root/nltk_data...\n",
            "[nltk_data]    |   Package treebank is already up-to-date!\n",
            "[nltk_data]    | Downloading package twitter_samples to\n",
            "[nltk_data]    |     /root/nltk_data...\n",
            "[nltk_data]    |   Package twitter_samples is already up-to-date!\n",
            "[nltk_data]    | Downloading package udhr to /root/nltk_data...\n",
            "[nltk_data]    |   Package udhr is already up-to-date!\n",
            "[nltk_data]    | Downloading package udhr2 to /root/nltk_data...\n",
            "[nltk_data]    |   Package udhr2 is already up-to-date!\n",
            "[nltk_data]    | Downloading package unicode_samples to\n",
            "[nltk_data]    |     /root/nltk_data...\n",
            "[nltk_data]    |   Package unicode_samples is already up-to-date!\n",
            "[nltk_data]    | Downloading package universal_treebanks_v20 to\n",
            "[nltk_data]    |     /root/nltk_data...\n",
            "[nltk_data]    |   Package universal_treebanks_v20 is already up-to-\n",
            "[nltk_data]    |       date!\n",
            "[nltk_data]    | Downloading package verbnet to /root/nltk_data...\n",
            "[nltk_data]    |   Package verbnet is already up-to-date!\n",
            "[nltk_data]    | Downloading package verbnet3 to /root/nltk_data...\n",
            "[nltk_data]    |   Package verbnet3 is already up-to-date!\n",
            "[nltk_data]    | Downloading package webtext to /root/nltk_data...\n",
            "[nltk_data]    |   Package webtext is already up-to-date!\n",
            "[nltk_data]    | Downloading package wordnet to /root/nltk_data...\n",
            "[nltk_data]    |   Package wordnet is already up-to-date!\n",
            "[nltk_data]    | Downloading package wordnet_ic to /root/nltk_data...\n",
            "[nltk_data]    |   Package wordnet_ic is already up-to-date!\n",
            "[nltk_data]    | Downloading package words to /root/nltk_data...\n",
            "[nltk_data]    |   Package words is already up-to-date!\n",
            "[nltk_data]    | Downloading package ycoe to /root/nltk_data...\n",
            "[nltk_data]    |   Package ycoe is already up-to-date!\n",
            "[nltk_data]    | Downloading package rslp to /root/nltk_data...\n",
            "[nltk_data]    |   Package rslp is already up-to-date!\n",
            "[nltk_data]    | Downloading package maxent_treebank_pos_tagger to\n",
            "[nltk_data]    |     /root/nltk_data...\n",
            "[nltk_data]    |   Package maxent_treebank_pos_tagger is already up-\n",
            "[nltk_data]    |       to-date!\n",
            "[nltk_data]    | Downloading package universal_tagset to\n",
            "[nltk_data]    |     /root/nltk_data...\n",
            "[nltk_data]    |   Package universal_tagset is already up-to-date!\n",
            "[nltk_data]    | Downloading package maxent_ne_chunker to\n",
            "[nltk_data]    |     /root/nltk_data...\n",
            "[nltk_data]    |   Package maxent_ne_chunker is already up-to-date!\n",
            "[nltk_data]    | Downloading package punkt to /root/nltk_data...\n",
            "[nltk_data]    |   Package punkt is already up-to-date!\n",
            "[nltk_data]    | Downloading package book_grammars to\n",
            "[nltk_data]    |     /root/nltk_data...\n",
            "[nltk_data]    |   Package book_grammars is already up-to-date!\n",
            "[nltk_data]    | Downloading package sample_grammars to\n",
            "[nltk_data]    |     /root/nltk_data...\n",
            "[nltk_data]    |   Package sample_grammars is already up-to-date!\n",
            "[nltk_data]    | Downloading package spanish_grammars to\n",
            "[nltk_data]    |     /root/nltk_data...\n",
            "[nltk_data]    |   Package spanish_grammars is already up-to-date!\n",
            "[nltk_data]    | Downloading package basque_grammars to\n",
            "[nltk_data]    |     /root/nltk_data...\n",
            "[nltk_data]    |   Package basque_grammars is already up-to-date!\n",
            "[nltk_data]    | Downloading package large_grammars to\n",
            "[nltk_data]    |     /root/nltk_data...\n",
            "[nltk_data]    |   Package large_grammars is already up-to-date!\n",
            "[nltk_data]    | Downloading package tagsets to /root/nltk_data...\n",
            "[nltk_data]    |   Package tagsets is already up-to-date!\n",
            "[nltk_data]    | Downloading package snowball_data to\n",
            "[nltk_data]    |     /root/nltk_data...\n",
            "[nltk_data]    |   Package snowball_data is already up-to-date!\n",
            "[nltk_data]    | Downloading package bllip_wsj_no_aux to\n",
            "[nltk_data]    |     /root/nltk_data...\n",
            "[nltk_data]    |   Package bllip_wsj_no_aux is already up-to-date!\n",
            "[nltk_data]    | Downloading package word2vec_sample to\n",
            "[nltk_data]    |     /root/nltk_data...\n",
            "[nltk_data]    |   Package word2vec_sample is already up-to-date!\n",
            "[nltk_data]    | Downloading package panlex_swadesh to\n",
            "[nltk_data]    |     /root/nltk_data...\n",
            "[nltk_data]    |   Package panlex_swadesh is already up-to-date!\n",
            "[nltk_data]    | Downloading package mte_teip5 to /root/nltk_data...\n",
            "[nltk_data]    |   Package mte_teip5 is already up-to-date!\n",
            "[nltk_data]    | Downloading package averaged_perceptron_tagger to\n",
            "[nltk_data]    |     /root/nltk_data...\n",
            "[nltk_data]    |   Package averaged_perceptron_tagger is already up-\n",
            "[nltk_data]    |       to-date!\n",
            "[nltk_data]    | Downloading package averaged_perceptron_tagger_ru to\n",
            "[nltk_data]    |     /root/nltk_data...\n",
            "[nltk_data]    |   Package averaged_perceptron_tagger_ru is already\n",
            "[nltk_data]    |       up-to-date!\n",
            "[nltk_data]    | Downloading package perluniprops to\n",
            "[nltk_data]    |     /root/nltk_data...\n",
            "[nltk_data]    |   Package perluniprops is already up-to-date!\n",
            "[nltk_data]    | Downloading package nonbreaking_prefixes to\n",
            "[nltk_data]    |     /root/nltk_data...\n",
            "[nltk_data]    |   Package nonbreaking_prefixes is already up-to-date!\n",
            "[nltk_data]    | Downloading package vader_lexicon to\n",
            "[nltk_data]    |     /root/nltk_data...\n",
            "[nltk_data]    |   Package vader_lexicon is already up-to-date!\n",
            "[nltk_data]    | Downloading package porter_test to /root/nltk_data...\n",
            "[nltk_data]    |   Package porter_test is already up-to-date!\n",
            "[nltk_data]    | Downloading package wmt15_eval to /root/nltk_data...\n",
            "[nltk_data]    |   Package wmt15_eval is already up-to-date!\n",
            "[nltk_data]    | Downloading package mwa_ppdb to /root/nltk_data...\n",
            "[nltk_data]    |   Package mwa_ppdb is already up-to-date!\n",
            "[nltk_data]    | \n",
            "[nltk_data]  Done downloading collection all\n"
          ],
          "name": "stdout"
        },
        {
          "output_type": "execute_result",
          "data": {
            "text/plain": [
              "True"
            ]
          },
          "metadata": {
            "tags": []
          },
          "execution_count": 93
        }
      ]
    },
    {
      "cell_type": "code",
      "metadata": {
        "id": "2-A9nKpL-8uX"
      },
      "source": [
        "def tokenize(document):\n",
        "  tokens = [lemma(w) for w in document.split()] #if w.isalpha()\n",
        "  return tokens"
      ],
      "execution_count": 94,
      "outputs": []
    },
    {
      "cell_type": "code",
      "metadata": {
        "id": "tvRBLWDZ_OHa"
      },
      "source": [
        "df_sample['Question_Tokens'] = df_sample['Question'].apply(tokenize)"
      ],
      "execution_count": 96,
      "outputs": []
    },
    {
      "cell_type": "code",
      "metadata": {
        "colab": {
          "base_uri": "https://localhost:8080/",
          "height": 194
        },
        "id": "X1Tnv5GyAict",
        "outputId": "49d3de9e-3b93-41cc-cb5c-ea909b386f38"
      },
      "source": [
        "df_sample.head()"
      ],
      "execution_count": 97,
      "outputs": [
        {
          "output_type": "execute_result",
          "data": {
            "text/html": [
              "<div>\n",
              "<style scoped>\n",
              "    .dataframe tbody tr th:only-of-type {\n",
              "        vertical-align: middle;\n",
              "    }\n",
              "\n",
              "    .dataframe tbody tr th {\n",
              "        vertical-align: top;\n",
              "    }\n",
              "\n",
              "    .dataframe thead th {\n",
              "        text-align: right;\n",
              "    }\n",
              "</style>\n",
              "<table border=\"1\" class=\"dataframe\">\n",
              "  <thead>\n",
              "    <tr style=\"text-align: right;\">\n",
              "      <th></th>\n",
              "      <th>Question</th>\n",
              "      <th>Tags</th>\n",
              "      <th>Question_Tokens</th>\n",
              "    </tr>\n",
              "  </thead>\n",
              "  <tbody>\n",
              "    <tr>\n",
              "      <th>0</th>\n",
              "      <td>pandas finding elements columns pandas element...</td>\n",
              "      <td>&lt;python&gt;&lt;pandas&gt;</td>\n",
              "      <td>[panda, finding, element, column, panda, eleme...</td>\n",
              "    </tr>\n",
              "    <tr>\n",
              "      <th>1</th>\n",
              "      <td>php haystack contains needle assuming works pr...</td>\n",
              "      <td>&lt;php&gt;</td>\n",
              "      <td>[php, haystack, contains, needle, assuming, wo...</td>\n",
              "    </tr>\n",
              "    <tr>\n",
              "      <th>2</th>\n",
              "      <td>understanding json agg performance postgres 9 ...</td>\n",
              "      <td>&lt;performance&gt;&lt;postgresql&gt;</td>\n",
              "      <td>[understanding, json, agg, performance, postgr...</td>\n",
              "    </tr>\n",
              "    <tr>\n",
              "      <th>3</th>\n",
              "      <td>java main thread waits child thread finish sim...</td>\n",
              "      <td>&lt;java&gt;&lt;multithreading&gt;</td>\n",
              "      <td>[java, main, thread, wait, child, thread, fini...</td>\n",
              "    </tr>\n",
              "    <tr>\n",
              "      <th>4</th>\n",
              "      <td>stream live video browser low latency want str...</td>\n",
              "      <td>&lt;flash&gt;&lt;video&gt;&lt;stream&gt;&lt;live&gt;</td>\n",
              "      <td>[stream, live, video, browser, low, latency, w...</td>\n",
              "    </tr>\n",
              "  </tbody>\n",
              "</table>\n",
              "</div>"
            ],
            "text/plain": [
              "                                            Question  ...                                    Question_Tokens\n",
              "0  pandas finding elements columns pandas element...  ...  [panda, finding, element, column, panda, eleme...\n",
              "1  php haystack contains needle assuming works pr...  ...  [php, haystack, contains, needle, assuming, wo...\n",
              "2  understanding json agg performance postgres 9 ...  ...  [understanding, json, agg, performance, postgr...\n",
              "3  java main thread waits child thread finish sim...  ...  [java, main, thread, wait, child, thread, fini...\n",
              "4  stream live video browser low latency want str...  ...  [stream, live, video, browser, low, latency, w...\n",
              "\n",
              "[5 rows x 3 columns]"
            ]
          },
          "metadata": {
            "tags": []
          },
          "execution_count": 97
        }
      ]
    },
    {
      "cell_type": "code",
      "metadata": {
        "id": "qLoqyNkYB2IW",
        "outputId": "08c83082-808f-4d7b-803f-7d8b17f8e6f2",
        "colab": {
          "base_uri": "https://localhost:8080/"
        }
      },
      "source": [
        "print(df_sample.Question_Tokens.iloc[17593])"
      ],
      "execution_count": 100,
      "outputs": [
        {
          "output_type": "stream",
          "text": [
            "['php', 'domelement', 'getelementsbytagname', 'immediate', 'matching', 'child', 'way', 'retrieve', 'immediate', 'child', 'domelement', 'getelementsbytagname', 'example', 'xml', 'document', 'category', 'element', 'category', 'element', 'sub', 'category', 'element', 'structure', 'like', 'lt', 'category', 'gt', 'lt', 'id', 'gt', '1', 'lt', 'id', 'gt', 'lt', 'gt', 'level', 'category', 'lt', 'gt', 'lt', 'subcategory', 'gt', 'lt', 'id', 'gt', '2', 'lt', 'id', 'gt', 'lt', 'gt', 'sub', 'category', 'lt', 'gt', 'lt', 'subcategory', 'gt', 'lt', 'category', 'gt', 'domelement', 'representing', 'level', 'category', 'toplevelcategoryelement', 'gt', 'getelementsbytagname', 'id', 'return', 'list', 'node', 'id', 'element', 'want', 'level', 'way', 'outside', 'xpath']\n"
          ],
          "name": "stdout"
        }
      ]
    },
    {
      "cell_type": "markdown",
      "metadata": {
        "id": "58BY8RPp6s2o"
      },
      "source": [
        "## **Tags**"
      ]
    },
    {
      "cell_type": "code",
      "metadata": {
        "id": "2C_lMMvG8zck"
      },
      "source": [
        "from ast import literal_eval"
      ],
      "execution_count": null,
      "outputs": []
    },
    {
      "cell_type": "code",
      "metadata": {
        "colab": {
          "base_uri": "https://localhost:8080/",
          "height": 35
        },
        "id": "oII-4uBa61r1",
        "outputId": "23c3516a-a896-4fb1-9cea-68f00e68ca72"
      },
      "source": [
        "df_sample.Tags.iloc[0]"
      ],
      "execution_count": null,
      "outputs": [
        {
          "output_type": "execute_result",
          "data": {
            "application/vnd.google.colaboratory.intrinsic+json": {
              "type": "string"
            },
            "text/plain": [
              "'<python><pandas>'"
            ]
          },
          "metadata": {
            "tags": []
          },
          "execution_count": 71
        }
      ]
    },
    {
      "cell_type": "code",
      "metadata": {
        "id": "T8BRohxr7LzH"
      },
      "source": [
        "# convert data to list\n",
        "to_list = {'><': \"','\",'<':\"['\", '>':\"']\"}\n",
        "for key, value in to_list.items():\n",
        "  df_sample['Tags'] = df_sample['Tags'].str.replace(key, value)"
      ],
      "execution_count": null,
      "outputs": []
    },
    {
      "cell_type": "code",
      "metadata": {
        "colab": {
          "base_uri": "https://localhost:8080/",
          "height": 202
        },
        "id": "ML0A3nej7PkU",
        "outputId": "b4379deb-d737-423c-b683-73f35f2931a7"
      },
      "source": [
        "df_sample_tok = df_sample\n",
        "df_sample_tok.head()"
      ],
      "execution_count": null,
      "outputs": [
        {
          "output_type": "execute_result",
          "data": {
            "text/html": [
              "<div>\n",
              "<style scoped>\n",
              "    .dataframe tbody tr th:only-of-type {\n",
              "        vertical-align: middle;\n",
              "    }\n",
              "\n",
              "    .dataframe tbody tr th {\n",
              "        vertical-align: top;\n",
              "    }\n",
              "\n",
              "    .dataframe thead th {\n",
              "        text-align: right;\n",
              "    }\n",
              "</style>\n",
              "<table border=\"1\" class=\"dataframe\">\n",
              "  <thead>\n",
              "    <tr style=\"text-align: right;\">\n",
              "      <th></th>\n",
              "      <th>Question</th>\n",
              "      <th>Tags</th>\n",
              "      <th>Question_Tokens</th>\n",
              "    </tr>\n",
              "  </thead>\n",
              "  <tbody>\n",
              "    <tr>\n",
              "      <th>0</th>\n",
              "      <td>pandas finding elements columns pandas element...</td>\n",
              "      <td>['python','pandas']</td>\n",
              "      <td>[panda, finding, element, column, panda, eleme...</td>\n",
              "    </tr>\n",
              "    <tr>\n",
              "      <th>1</th>\n",
              "      <td>php haystack contains needle assuming works pr...</td>\n",
              "      <td>['php']</td>\n",
              "      <td>[php, haystack, contains, needle, assuming, wo...</td>\n",
              "    </tr>\n",
              "    <tr>\n",
              "      <th>2</th>\n",
              "      <td>understanding json agg performance postgres 9 ...</td>\n",
              "      <td>['performance','postgresql']</td>\n",
              "      <td>[understanding, json, agg, performance, postgr...</td>\n",
              "    </tr>\n",
              "    <tr>\n",
              "      <th>3</th>\n",
              "      <td>java main thread waits child thread finish sim...</td>\n",
              "      <td>['java','multithreading']</td>\n",
              "      <td>[java, main, thread, wait, child, thread, fini...</td>\n",
              "    </tr>\n",
              "    <tr>\n",
              "      <th>4</th>\n",
              "      <td>stream live video browser low latency want str...</td>\n",
              "      <td>['flash','video','stream','live']</td>\n",
              "      <td>[stream, live, video, browser, low, latency, w...</td>\n",
              "    </tr>\n",
              "  </tbody>\n",
              "</table>\n",
              "</div>"
            ],
            "text/plain": [
              "                                            Question  ...                                    Question_Tokens\n",
              "0  pandas finding elements columns pandas element...  ...  [panda, finding, element, column, panda, eleme...\n",
              "1  php haystack contains needle assuming works pr...  ...  [php, haystack, contains, needle, assuming, wo...\n",
              "2  understanding json agg performance postgres 9 ...  ...  [understanding, json, agg, performance, postgr...\n",
              "3  java main thread waits child thread finish sim...  ...  [java, main, thread, wait, child, thread, fini...\n",
              "4  stream live video browser low latency want str...  ...  [stream, live, video, browser, low, latency, w...\n",
              "\n",
              "[5 rows x 3 columns]"
            ]
          },
          "metadata": {
            "tags": []
          },
          "execution_count": 73
        }
      ]
    },
    {
      "cell_type": "code",
      "metadata": {
        "id": "ziEOs1rx8gU5"
      },
      "source": [
        "def to_list(df,column):\n",
        "  df[column] = df[column].apply(literal_eval)\n",
        "  return df"
      ],
      "execution_count": null,
      "outputs": []
    },
    {
      "cell_type": "code",
      "metadata": {
        "id": "DCzMysyH8nNo"
      },
      "source": [
        "df_sample_list = to_list(df_sample_tok, 'Tags')"
      ],
      "execution_count": null,
      "outputs": []
    },
    {
      "cell_type": "code",
      "metadata": {
        "colab": {
          "base_uri": "https://localhost:8080/",
          "height": 202
        },
        "id": "7FXbhsor8-OD",
        "outputId": "876236df-7b49-4c81-d42f-b391b8a3024c"
      },
      "source": [
        "reorganization = ['Question', 'Question_Tokens', 'Tags']\n",
        "df_sample_list = df_sample_list[reorganization]\n",
        "df_sample_list.head()\n"
      ],
      "execution_count": null,
      "outputs": [
        {
          "output_type": "execute_result",
          "data": {
            "text/html": [
              "<div>\n",
              "<style scoped>\n",
              "    .dataframe tbody tr th:only-of-type {\n",
              "        vertical-align: middle;\n",
              "    }\n",
              "\n",
              "    .dataframe tbody tr th {\n",
              "        vertical-align: top;\n",
              "    }\n",
              "\n",
              "    .dataframe thead th {\n",
              "        text-align: right;\n",
              "    }\n",
              "</style>\n",
              "<table border=\"1\" class=\"dataframe\">\n",
              "  <thead>\n",
              "    <tr style=\"text-align: right;\">\n",
              "      <th></th>\n",
              "      <th>Question</th>\n",
              "      <th>Question_Tokens</th>\n",
              "      <th>Tags</th>\n",
              "    </tr>\n",
              "  </thead>\n",
              "  <tbody>\n",
              "    <tr>\n",
              "      <th>0</th>\n",
              "      <td>pandas finding elements columns pandas element...</td>\n",
              "      <td>[panda, finding, element, column, panda, eleme...</td>\n",
              "      <td>[python, pandas]</td>\n",
              "    </tr>\n",
              "    <tr>\n",
              "      <th>1</th>\n",
              "      <td>php haystack contains needle assuming works pr...</td>\n",
              "      <td>[php, haystack, contains, needle, assuming, wo...</td>\n",
              "      <td>[php]</td>\n",
              "    </tr>\n",
              "    <tr>\n",
              "      <th>2</th>\n",
              "      <td>understanding json agg performance postgres 9 ...</td>\n",
              "      <td>[understanding, json, agg, performance, postgr...</td>\n",
              "      <td>[performance, postgresql]</td>\n",
              "    </tr>\n",
              "    <tr>\n",
              "      <th>3</th>\n",
              "      <td>java main thread waits child thread finish sim...</td>\n",
              "      <td>[java, main, thread, wait, child, thread, fini...</td>\n",
              "      <td>[java, multithreading]</td>\n",
              "    </tr>\n",
              "    <tr>\n",
              "      <th>4</th>\n",
              "      <td>stream live video browser low latency want str...</td>\n",
              "      <td>[stream, live, video, browser, low, latency, w...</td>\n",
              "      <td>[flash, video, stream, live]</td>\n",
              "    </tr>\n",
              "  </tbody>\n",
              "</table>\n",
              "</div>"
            ],
            "text/plain": [
              "                                            Question  ...                          Tags\n",
              "0  pandas finding elements columns pandas element...  ...              [python, pandas]\n",
              "1  php haystack contains needle assuming works pr...  ...                         [php]\n",
              "2  understanding json agg performance postgres 9 ...  ...     [performance, postgresql]\n",
              "3  java main thread waits child thread finish sim...  ...        [java, multithreading]\n",
              "4  stream live video browser low latency want str...  ...  [flash, video, stream, live]\n",
              "\n",
              "[5 rows x 3 columns]"
            ]
          },
          "metadata": {
            "tags": []
          },
          "execution_count": 76
        }
      ]
    },
    {
      "cell_type": "code",
      "metadata": {
        "id": "B3_JDZFD-vWx"
      },
      "source": [
        "df_sample_list.to_csv('df_sample_list.csv')"
      ],
      "execution_count": null,
      "outputs": []
    },
    {
      "cell_type": "code",
      "metadata": {
        "id": "BA2nrw9wDbZb"
      },
      "source": [
        "#df_mod = pd.read_csv('/content/drive/My Drive/CentraleSupelec_OCR/P6/df_sample_list.csv')\n",
        "#df_mod = df_mod.iloc[:, 1:]\n",
        "#df_mod.head()"
      ],
      "execution_count": null,
      "outputs": []
    },
    {
      "cell_type": "code",
      "metadata": {
        "id": "286nYvcJsoh9"
      },
      "source": [
        "#questions2 = questions1.apply(tokenize)\n",
        "#questions2"
      ],
      "execution_count": null,
      "outputs": []
    },
    {
      "cell_type": "code",
      "metadata": {
        "id": "Oghm6GaRZWO5"
      },
      "source": [
        ""
      ],
      "execution_count": null,
      "outputs": []
    }
  ]
}