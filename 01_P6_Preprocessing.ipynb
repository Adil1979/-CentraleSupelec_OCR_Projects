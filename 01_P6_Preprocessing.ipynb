{
  "nbformat": 4,
  "nbformat_minor": 0,
  "metadata": {
    "colab": {
      "name": "01_P6_Analysis.ipynb",
      "provenance": [],
      "collapsed_sections": [],
      "authorship_tag": "ABX9TyMAnXgjEGZ+Ce1NEosbpfvd",
      "include_colab_link": true
    },
    "kernelspec": {
      "display_name": "Python 3",
      "name": "python3"
    }
  },
  "cells": [
    {
      "cell_type": "markdown",
      "metadata": {
        "id": "view-in-github",
        "colab_type": "text"
      },
      "source": [
        "<a href=\"https://colab.research.google.com/github/Adil1979/P6_Tag_Recommendation_Stackoverflow/blob/master/01_P6_Preprocessing.ipynb\" target=\"_parent\"><img src=\"https://colab.research.google.com/assets/colab-badge.svg\" alt=\"Open In Colab\"/></a>"
      ]
    },
    {
      "cell_type": "markdown",
      "metadata": {
        "id": "FSop45eqebf6"
      },
      "source": [
        "# **Projet6: Catégorisation automatique de questions**"
      ]
    },
    {
      "cell_type": "markdown",
      "metadata": {
        "id": "2d2JN0EmexRG"
      },
      "source": [
        "## **1.Librairies**"
      ]
    },
    {
      "cell_type": "code",
      "metadata": {
        "id": "aQeDyOh9e59r",
        "colab": {
          "base_uri": "https://localhost:8080/"
        },
        "outputId": "369d8f24-b533-4b50-9e4f-766dbe4e16cc"
      },
      "source": [
        "!pip install feature_engine\n"
      ],
      "execution_count": 1,
      "outputs": [
        {
          "output_type": "stream",
          "text": [
            "Collecting feature_engine\n",
            "  Downloading https://files.pythonhosted.org/packages/14/ed/5680bf401855b788f79cadc1298c210c5860eb5d54c4008cfa234b752ef1/feature_engine-0.6.1-py2.py3-none-any.whl\n",
            "Requirement already satisfied: scikit-learn>=0.22.2 in /usr/local/lib/python3.6/dist-packages (from feature_engine) (0.22.2.post1)\n",
            "Requirement already satisfied: numpy>=1.18.2 in /usr/local/lib/python3.6/dist-packages (from feature_engine) (1.19.4)\n",
            "Requirement already satisfied: pandas>=1.0.3 in /usr/local/lib/python3.6/dist-packages (from feature_engine) (1.1.5)\n",
            "Requirement already satisfied: scipy>=1.4.1 in /usr/local/lib/python3.6/dist-packages (from feature_engine) (1.4.1)\n",
            "Collecting statsmodels>=0.11.1\n",
            "\u001b[?25l  Downloading https://files.pythonhosted.org/packages/be/4c/9e2435ca6645d6bafa2b51bb11f0a365b28934a2ffe9d6e339d67130926d/statsmodels-0.12.1-cp36-cp36m-manylinux1_x86_64.whl (9.5MB)\n",
            "\u001b[K     |████████████████████████████████| 9.5MB 7.1MB/s \n",
            "\u001b[?25hRequirement already satisfied: joblib>=0.11 in /usr/local/lib/python3.6/dist-packages (from scikit-learn>=0.22.2->feature_engine) (1.0.0)\n",
            "Requirement already satisfied: pytz>=2017.2 in /usr/local/lib/python3.6/dist-packages (from pandas>=1.0.3->feature_engine) (2018.9)\n",
            "Requirement already satisfied: python-dateutil>=2.7.3 in /usr/local/lib/python3.6/dist-packages (from pandas>=1.0.3->feature_engine) (2.8.1)\n",
            "Requirement already satisfied: patsy>=0.5 in /usr/local/lib/python3.6/dist-packages (from statsmodels>=0.11.1->feature_engine) (0.5.1)\n",
            "Requirement already satisfied: six>=1.5 in /usr/local/lib/python3.6/dist-packages (from python-dateutil>=2.7.3->pandas>=1.0.3->feature_engine) (1.15.0)\n",
            "Installing collected packages: statsmodels, feature-engine\n",
            "  Found existing installation: statsmodels 0.10.2\n",
            "    Uninstalling statsmodels-0.10.2:\n",
            "      Successfully uninstalled statsmodels-0.10.2\n",
            "Successfully installed feature-engine-0.6.1 statsmodels-0.12.1\n"
          ],
          "name": "stdout"
        }
      ]
    },
    {
      "cell_type": "code",
      "metadata": {
        "id": "h-68rY2afKEY",
        "colab": {
          "base_uri": "https://localhost:8080/"
        },
        "outputId": "38326c49-581c-423b-e1e4-58898dc8ae98"
      },
      "source": [
        "!pip install plotly"
      ],
      "execution_count": 2,
      "outputs": [
        {
          "output_type": "stream",
          "text": [
            "Requirement already satisfied: plotly in /usr/local/lib/python3.6/dist-packages (4.4.1)\n",
            "Requirement already satisfied: six in /usr/local/lib/python3.6/dist-packages (from plotly) (1.15.0)\n",
            "Requirement already satisfied: retrying>=1.3.3 in /usr/local/lib/python3.6/dist-packages (from plotly) (1.3.3)\n"
          ],
          "name": "stdout"
        }
      ]
    },
    {
      "cell_type": "code",
      "metadata": {
        "id": "2qef7GyJftkd",
        "colab": {
          "base_uri": "https://localhost:8080/"
        },
        "outputId": "f95c04b0-d25e-4ec0-f376-bde26c25dbac"
      },
      "source": [
        "!pip install chart-studio"
      ],
      "execution_count": 3,
      "outputs": [
        {
          "output_type": "stream",
          "text": [
            "Collecting chart-studio\n",
            "\u001b[?25l  Downloading https://files.pythonhosted.org/packages/ca/ce/330794a6b6ca4b9182c38fc69dd2a9cbff60fd49421cb8648ee5fee352dc/chart_studio-1.1.0-py3-none-any.whl (64kB)\n",
            "\r\u001b[K     |█████                           | 10kB 13.3MB/s eta 0:00:01\r\u001b[K     |██████████▏                     | 20kB 18.0MB/s eta 0:00:01\r\u001b[K     |███████████████▎                | 30kB 11.1MB/s eta 0:00:01\r\u001b[K     |████████████████████▍           | 40kB 8.3MB/s eta 0:00:01\r\u001b[K     |█████████████████████████▍      | 51kB 4.4MB/s eta 0:00:01\r\u001b[K     |██████████████████████████████▌ | 61kB 4.7MB/s eta 0:00:01\r\u001b[K     |████████████████████████████████| 71kB 3.2MB/s \n",
            "\u001b[?25hRequirement already satisfied: retrying>=1.3.3 in /usr/local/lib/python3.6/dist-packages (from chart-studio) (1.3.3)\n",
            "Requirement already satisfied: requests in /usr/local/lib/python3.6/dist-packages (from chart-studio) (2.23.0)\n",
            "Requirement already satisfied: six in /usr/local/lib/python3.6/dist-packages (from chart-studio) (1.15.0)\n",
            "Requirement already satisfied: plotly in /usr/local/lib/python3.6/dist-packages (from chart-studio) (4.4.1)\n",
            "Requirement already satisfied: urllib3!=1.25.0,!=1.25.1,<1.26,>=1.21.1 in /usr/local/lib/python3.6/dist-packages (from requests->chart-studio) (1.24.3)\n",
            "Requirement already satisfied: certifi>=2017.4.17 in /usr/local/lib/python3.6/dist-packages (from requests->chart-studio) (2020.12.5)\n",
            "Requirement already satisfied: chardet<4,>=3.0.2 in /usr/local/lib/python3.6/dist-packages (from requests->chart-studio) (3.0.4)\n",
            "Requirement already satisfied: idna<3,>=2.5 in /usr/local/lib/python3.6/dist-packages (from requests->chart-studio) (2.10)\n",
            "Installing collected packages: chart-studio\n",
            "Successfully installed chart-studio-1.1.0\n"
          ],
          "name": "stdout"
        }
      ]
    },
    {
      "cell_type": "code",
      "metadata": {
        "id": "FzNhblHKhse2",
        "colab": {
          "base_uri": "https://localhost:8080/"
        },
        "outputId": "6092e86d-d1b9-41b3-d994-bbf9436e44e0"
      },
      "source": [
        "!pip install gensim # Gensim is an open-source library for unsupervised topic modeling and natural language processing"
      ],
      "execution_count": 4,
      "outputs": [
        {
          "output_type": "stream",
          "text": [
            "Requirement already satisfied: gensim in /usr/local/lib/python3.6/dist-packages (3.6.0)\n",
            "Requirement already satisfied: numpy>=1.11.3 in /usr/local/lib/python3.6/dist-packages (from gensim) (1.19.4)\n",
            "Requirement already satisfied: six>=1.5.0 in /usr/local/lib/python3.6/dist-packages (from gensim) (1.15.0)\n",
            "Requirement already satisfied: smart-open>=1.2.1 in /usr/local/lib/python3.6/dist-packages (from gensim) (4.0.1)\n",
            "Requirement already satisfied: scipy>=0.18.1 in /usr/local/lib/python3.6/dist-packages (from gensim) (1.4.1)\n"
          ],
          "name": "stdout"
        }
      ]
    },
    {
      "cell_type": "code",
      "metadata": {
        "id": "bSKusbMofUTn",
        "colab": {
          "base_uri": "https://localhost:8080/"
        },
        "outputId": "a63b7e15-8f3c-4d1d-f928-ce88abd8f9f7"
      },
      "source": [
        "import numpy as np\n",
        "import pandas as pd\n",
        "import matplotlib.pyplot as plt\n",
        "%matplotlib inline\n",
        "from matplotlib.lines import Line2D\n",
        "import matplotlib as mpl\n",
        "import chart_studio.plotly.plotly as py\n",
        "from collections import Counter\n",
        "#import plotly.plotly as py\n",
        "import seaborn as sns\n",
        "import datetime as dt\n",
        "import calendar as cld\n",
        "from scipy import stats\n",
        "from sklearn.model_selection import train_test_split\n",
        "from sklearn import preprocessing\n",
        "from sklearn.preprocessing import StandardScaler\n",
        "from sklearn.preprocessing import scale\n",
        "from os import listdir\n",
        "import glob\n",
        "import missingno as msno\n",
        "from feature_engine.categorical_encoders import OneHotCategoricalEncoder\n",
        "from sklearn.decomposition import PCA\n",
        "from matplotlib import dates\n",
        "import nltk\n",
        "import re\n",
        "from nltk.corpus import stopwords \n",
        "nltk.download('stopwords')\n",
        "from nltk.stem.porter import PorterStemmer \n",
        "import string\n",
        "from collections import Counter\n",
        "from bs4 import BeautifulSoup\n",
        "import gensim\n",
        "from gensim.utils import simple_preprocess\n",
        "from gensim.parsing.preprocessing import STOPWORDS\n",
        "from gensim.models import Word2Vec #Word Embedding"
      ],
      "execution_count": 5,
      "outputs": [
        {
          "output_type": "stream",
          "text": [
            "[nltk_data] Downloading package stopwords to /root/nltk_data...\n",
            "[nltk_data]   Unzipping corpora/stopwords.zip.\n"
          ],
          "name": "stdout"
        }
      ]
    },
    {
      "cell_type": "markdown",
      "metadata": {
        "id": "YrTQifPy6BIA"
      },
      "source": [
        "SELECT Id, Body, Title, Tags\n",
        "\n",
        "FROM Posts\n",
        "\n",
        "WHERE Score >= 3 AND PostTypeId = 1\n",
        "\n",
        "ORDER BY RAND()\n",
        " \n",
        "ASC OFFSET 0 ROWS FETCH NEXT 50000 ROWS ONLY; de 0 à 50000"
      ]
    },
    {
      "cell_type": "markdown",
      "metadata": {
        "id": "_VMJmTqtf8gC"
      },
      "source": [
        "## **2.Data**"
      ]
    },
    {
      "cell_type": "code",
      "metadata": {
        "id": "YkIlB69CfiLQ",
        "colab": {
          "base_uri": "https://localhost:8080/"
        },
        "outputId": "41f0ee06-ae80-49a0-d482-85b2d6dbc9fa"
      },
      "source": [
        "from google.colab import drive\n",
        "drive.mount('/content/drive')"
      ],
      "execution_count": 6,
      "outputs": [
        {
          "output_type": "stream",
          "text": [
            "Mounted at /content/drive\n"
          ],
          "name": "stdout"
        }
      ]
    },
    {
      "cell_type": "code",
      "metadata": {
        "id": "ItEOW0AnhhI-"
      },
      "source": [
        "#df_analysis_01 = pd.read_csv('/content/drive/My Drive/CentraleSupelec_OCR/P6/QueryResults_01.csv')\n",
        "#df_analysis_02 = pd.read_csv('/content/drive/My Drive/CentraleSupelec_OCR/P6/QueryResults_02.csv')\n",
        "#df_analysis_03 = pd.read_csv('/content/drive/My Drive/CentraleSupelec_OCR/P6/QueryResults_03.csv')\n",
        "#frames = [df_analysis_01, df_analysis_02, df_analysis_03]\n",
        "#df_analysis = pd.concat(frames)\n",
        "#df_sample = df_analysis.sample(n=40000)\n",
        "#df_sample.to_csv('df_sample.csv')"
      ],
      "execution_count": null,
      "outputs": []
    },
    {
      "cell_type": "code",
      "metadata": {
        "id": "XdjJHfgBM5nC",
        "colab": {
          "base_uri": "https://localhost:8080/",
          "height": 289
        },
        "outputId": "f6272001-40ba-4aa7-9f2f-42a176340e22"
      },
      "source": [
        "df_sample = pd.read_csv('/content/drive/My Drive/CentraleSupelec_OCR/P6/df_sample.csv')\n",
        "df_sample = df_sample.drop(['Unnamed: 0'], axis=1)\n",
        "df_sample.head()"
      ],
      "execution_count": 7,
      "outputs": [
        {
          "output_type": "execute_result",
          "data": {
            "text/html": [
              "<div>\n",
              "<style scoped>\n",
              "    .dataframe tbody tr th:only-of-type {\n",
              "        vertical-align: middle;\n",
              "    }\n",
              "\n",
              "    .dataframe tbody tr th {\n",
              "        vertical-align: top;\n",
              "    }\n",
              "\n",
              "    .dataframe thead th {\n",
              "        text-align: right;\n",
              "    }\n",
              "</style>\n",
              "<table border=\"1\" class=\"dataframe\">\n",
              "  <thead>\n",
              "    <tr style=\"text-align: right;\">\n",
              "      <th></th>\n",
              "      <th>Id</th>\n",
              "      <th>Body</th>\n",
              "      <th>Title</th>\n",
              "      <th>Tags</th>\n",
              "      <th>CreationDate</th>\n",
              "    </tr>\n",
              "  </thead>\n",
              "  <tbody>\n",
              "    <tr>\n",
              "      <th>0</th>\n",
              "      <td>48060830</td>\n",
              "      <td>&lt;p&gt;I am trying to create a very simple system ...</td>\n",
              "      <td>Create System Tray Icon from Webdings font</td>\n",
              "      <td>&lt;c#&gt;&lt;.net&gt;&lt;windows&gt;&lt;icons&gt;</td>\n",
              "      <td>2018-01-02 12:15:37</td>\n",
              "    </tr>\n",
              "    <tr>\n",
              "      <th>1</th>\n",
              "      <td>57451083</td>\n",
              "      <td>&lt;p&gt;&lt;a href=\"http://eel.is/c++draft/basic.exec#...</td>\n",
              "      <td>Intent of [basic.execution] p5 sentence 2</td>\n",
              "      <td>&lt;c++&gt;&lt;language-lawyer&gt;&lt;full-expression&gt;</td>\n",
              "      <td>2019-08-11 14:59:51</td>\n",
              "    </tr>\n",
              "    <tr>\n",
              "      <th>2</th>\n",
              "      <td>56279423</td>\n",
              "      <td>&lt;p&gt;I use the MongoDB aggregation API to aggreg...</td>\n",
              "      <td>MongoDB: Reduce array of objects into a single...</td>\n",
              "      <td>&lt;mongodb&gt;&lt;mongodb-query&gt;&lt;aggregation-framework&gt;</td>\n",
              "      <td>2019-05-23 16:24:08</td>\n",
              "    </tr>\n",
              "    <tr>\n",
              "      <th>3</th>\n",
              "      <td>48326694</td>\n",
              "      <td>&lt;p&gt;I wonder if its possible to validate a arra...</td>\n",
              "      <td>Laravel validate array of objects</td>\n",
              "      <td>&lt;laravel&gt;</td>\n",
              "      <td>2018-01-18 17:03:31</td>\n",
              "    </tr>\n",
              "    <tr>\n",
              "      <th>4</th>\n",
              "      <td>58501086</td>\n",
              "      <td>&lt;p&gt;I am trying to load the save weights using ...</td>\n",
              "      <td>ValueError: Unknown activation function:swish_...</td>\n",
              "      <td>&lt;python&gt;&lt;tensorflow&gt;&lt;keras&gt;&lt;activation-function&gt;</td>\n",
              "      <td>2019-10-22 09:25:59</td>\n",
              "    </tr>\n",
              "  </tbody>\n",
              "</table>\n",
              "</div>"
            ],
            "text/plain": [
              "         Id  ...         CreationDate\n",
              "0  48060830  ...  2018-01-02 12:15:37\n",
              "1  57451083  ...  2019-08-11 14:59:51\n",
              "2  56279423  ...  2019-05-23 16:24:08\n",
              "3  48326694  ...  2018-01-18 17:03:31\n",
              "4  58501086  ...  2019-10-22 09:25:59\n",
              "\n",
              "[5 rows x 5 columns]"
            ]
          },
          "metadata": {
            "tags": []
          },
          "execution_count": 7
        }
      ]
    },
    {
      "cell_type": "code",
      "metadata": {
        "id": "D5XpRFZ5mg9n",
        "colab": {
          "base_uri": "https://localhost:8080/"
        },
        "outputId": "856ba5fc-47dc-4348-c742-d6f6300fe32c"
      },
      "source": [
        "df_sample.info()"
      ],
      "execution_count": 8,
      "outputs": [
        {
          "output_type": "stream",
          "text": [
            "<class 'pandas.core.frame.DataFrame'>\n",
            "RangeIndex: 40000 entries, 0 to 39999\n",
            "Data columns (total 5 columns):\n",
            " #   Column        Non-Null Count  Dtype \n",
            "---  ------        --------------  ----- \n",
            " 0   Id            40000 non-null  int64 \n",
            " 1   Body          40000 non-null  object\n",
            " 2   Title         40000 non-null  object\n",
            " 3   Tags          40000 non-null  object\n",
            " 4   CreationDate  40000 non-null  object\n",
            "dtypes: int64(1), object(4)\n",
            "memory usage: 1.5+ MB\n"
          ],
          "name": "stdout"
        }
      ]
    },
    {
      "cell_type": "code",
      "metadata": {
        "id": "bsRWYtvyoBZW",
        "colab": {
          "base_uri": "https://localhost:8080/",
          "height": 204
        },
        "outputId": "f442e320-cf3b-473e-dd3a-1391a3f9cef9"
      },
      "source": [
        "df_sample = df_sample.loc[:, ['Id', 'Title', 'Body', 'Tags']]\n",
        "df_sample = df_sample.set_index('Id').reset_index(drop=True)\n",
        "df_sample.head()"
      ],
      "execution_count": 9,
      "outputs": [
        {
          "output_type": "execute_result",
          "data": {
            "text/html": [
              "<div>\n",
              "<style scoped>\n",
              "    .dataframe tbody tr th:only-of-type {\n",
              "        vertical-align: middle;\n",
              "    }\n",
              "\n",
              "    .dataframe tbody tr th {\n",
              "        vertical-align: top;\n",
              "    }\n",
              "\n",
              "    .dataframe thead th {\n",
              "        text-align: right;\n",
              "    }\n",
              "</style>\n",
              "<table border=\"1\" class=\"dataframe\">\n",
              "  <thead>\n",
              "    <tr style=\"text-align: right;\">\n",
              "      <th></th>\n",
              "      <th>Title</th>\n",
              "      <th>Body</th>\n",
              "      <th>Tags</th>\n",
              "    </tr>\n",
              "  </thead>\n",
              "  <tbody>\n",
              "    <tr>\n",
              "      <th>0</th>\n",
              "      <td>Create System Tray Icon from Webdings font</td>\n",
              "      <td>&lt;p&gt;I am trying to create a very simple system ...</td>\n",
              "      <td>&lt;c#&gt;&lt;.net&gt;&lt;windows&gt;&lt;icons&gt;</td>\n",
              "    </tr>\n",
              "    <tr>\n",
              "      <th>1</th>\n",
              "      <td>Intent of [basic.execution] p5 sentence 2</td>\n",
              "      <td>&lt;p&gt;&lt;a href=\"http://eel.is/c++draft/basic.exec#...</td>\n",
              "      <td>&lt;c++&gt;&lt;language-lawyer&gt;&lt;full-expression&gt;</td>\n",
              "    </tr>\n",
              "    <tr>\n",
              "      <th>2</th>\n",
              "      <td>MongoDB: Reduce array of objects into a single...</td>\n",
              "      <td>&lt;p&gt;I use the MongoDB aggregation API to aggreg...</td>\n",
              "      <td>&lt;mongodb&gt;&lt;mongodb-query&gt;&lt;aggregation-framework&gt;</td>\n",
              "    </tr>\n",
              "    <tr>\n",
              "      <th>3</th>\n",
              "      <td>Laravel validate array of objects</td>\n",
              "      <td>&lt;p&gt;I wonder if its possible to validate a arra...</td>\n",
              "      <td>&lt;laravel&gt;</td>\n",
              "    </tr>\n",
              "    <tr>\n",
              "      <th>4</th>\n",
              "      <td>ValueError: Unknown activation function:swish_...</td>\n",
              "      <td>&lt;p&gt;I am trying to load the save weights using ...</td>\n",
              "      <td>&lt;python&gt;&lt;tensorflow&gt;&lt;keras&gt;&lt;activation-function&gt;</td>\n",
              "    </tr>\n",
              "  </tbody>\n",
              "</table>\n",
              "</div>"
            ],
            "text/plain": [
              "                                               Title  ...                                              Tags\n",
              "0         Create System Tray Icon from Webdings font  ...                        <c#><.net><windows><icons>\n",
              "1          Intent of [basic.execution] p5 sentence 2  ...           <c++><language-lawyer><full-expression>\n",
              "2  MongoDB: Reduce array of objects into a single...  ...   <mongodb><mongodb-query><aggregation-framework>\n",
              "3                  Laravel validate array of objects  ...                                         <laravel>\n",
              "4  ValueError: Unknown activation function:swish_...  ...  <python><tensorflow><keras><activation-function>\n",
              "\n",
              "[5 rows x 3 columns]"
            ]
          },
          "metadata": {
            "tags": []
          },
          "execution_count": 9
        }
      ]
    },
    {
      "cell_type": "markdown",
      "metadata": {
        "id": "rsq5NNeQY1MM"
      },
      "source": [
        "## **3.Preprocessing**"
      ]
    },
    {
      "cell_type": "code",
      "metadata": {
        "id": "cSS6pmwSuWSe",
        "colab": {
          "base_uri": "https://localhost:8080/"
        },
        "outputId": "8b103a05-faec-4539-a1f7-bd1e416f791d"
      },
      "source": [
        "df_sample.duplicated(subset=[\"Body\", \"Title\"]).sum()"
      ],
      "execution_count": 10,
      "outputs": [
        {
          "output_type": "execute_result",
          "data": {
            "text/plain": [
              "0"
            ]
          },
          "metadata": {
            "tags": []
          },
          "execution_count": 10
        }
      ]
    },
    {
      "cell_type": "code",
      "metadata": {
        "id": "C4NtewDAK46S"
      },
      "source": [
        "example_body = df_sample.Body.iloc[0]"
      ],
      "execution_count": 11,
      "outputs": []
    },
    {
      "cell_type": "code",
      "metadata": {
        "id": "v0FcnRlmLaop",
        "colab": {
          "base_uri": "https://localhost:8080/",
          "height": 137
        },
        "outputId": "f48ce9bd-fc2f-4e2c-91db-ef12d9c37031"
      },
      "source": [
        "example_body"
      ],
      "execution_count": 12,
      "outputs": [
        {
          "output_type": "execute_result",
          "data": {
            "application/vnd.google.colaboratory.intrinsic+json": {
              "type": "string"
            },
            "text/plain": [
              "'<p>I am trying to create a very simple system tray icon that is nothing but a dynamically colored circle with a white border.  To do that, we are using the Webdings font.  \"n\" in Webdings is just a plain circle.</p>\\n\\n<p>What I\\'m currently doing is almost there, but on some PC\\'s (yet not all) it ends up having a choppy, ugly black border around it:</p>\\n\\n<p><a href=\"https://i.stack.imgur.com/2rwwx.png\" rel=\"nofollow noreferrer\"><img src=\"https://i.stack.imgur.com/2rwwx.png\" alt=\"enter image description here\"></a></p>\\n\\n<p>Here\\'s what I\\'ve got:</p>\\n\\n<pre><code>protected static Icon GetTrayIconFromCache(Color statusColor)\\n{\\n    Bitmap bmp = new Bitmap(16,16);                            \\n    Graphics circleGraphic = Graphics.FromImage(bmp);\\n    circleGraphic.DrawString(\"n\", new Font(\"Webdings\", 12F, FontStyle.Regular), Brushes.White, -3f, -2f);\\n    circleGraphic.DrawString(\"n\", new Font(\"Webdings\", 9F, FontStyle.Regular), new SolidBrush(statusColor), 0f, -1f);\\n    Icon ico = Icon.FromHandle((bmp).GetHicon());\\n    return ico;\\n}\\n</code></pre>\\n\\n<p>No matter what I try, I can\\'t get rid of those ugly black dots around the outside of the circle.  They don\\'t show up for everyone.... some of the developers don\\'t see it and it looks crisp and clean. We\\'ve not yet figured out what the commonality is between those PC\\'s where it looks good and where it doesn\\'t. </p>\\n\\n<p>But... is there a better way to do this?</p>\\n'"
            ]
          },
          "metadata": {
            "tags": []
          },
          "execution_count": 12
        }
      ]
    },
    {
      "cell_type": "code",
      "metadata": {
        "id": "u-o4p8QYLgz9"
      },
      "source": [
        "example_title = df_sample.Title.iloc[0]"
      ],
      "execution_count": 13,
      "outputs": []
    },
    {
      "cell_type": "code",
      "metadata": {
        "id": "_EJVGUYKLsGM",
        "colab": {
          "base_uri": "https://localhost:8080/",
          "height": 35
        },
        "outputId": "84db3e49-71ce-45a7-e2a8-295ab631d4c2"
      },
      "source": [
        "example_title"
      ],
      "execution_count": 14,
      "outputs": [
        {
          "output_type": "execute_result",
          "data": {
            "application/vnd.google.colaboratory.intrinsic+json": {
              "type": "string"
            },
            "text/plain": [
              "'Create System Tray Icon from Webdings font'"
            ]
          },
          "metadata": {
            "tags": []
          },
          "execution_count": 14
        }
      ]
    },
    {
      "cell_type": "code",
      "metadata": {
        "id": "M9luITnRArx8"
      },
      "source": [
        "#Merge Title and Body\n",
        "df_sample['Title_Body'] = df_sample['Title'] + ' ' + df_sample['Body']"
      ],
      "execution_count": 15,
      "outputs": []
    },
    {
      "cell_type": "code",
      "metadata": {
        "id": "KOEE0BMDvNJr",
        "colab": {
          "base_uri": "https://localhost:8080/",
          "height": 289
        },
        "outputId": "5cf4acbd-75b4-4280-b713-fd4e608b3dd8"
      },
      "source": [
        "df_sample.head()\n"
      ],
      "execution_count": 16,
      "outputs": [
        {
          "output_type": "execute_result",
          "data": {
            "text/html": [
              "<div>\n",
              "<style scoped>\n",
              "    .dataframe tbody tr th:only-of-type {\n",
              "        vertical-align: middle;\n",
              "    }\n",
              "\n",
              "    .dataframe tbody tr th {\n",
              "        vertical-align: top;\n",
              "    }\n",
              "\n",
              "    .dataframe thead th {\n",
              "        text-align: right;\n",
              "    }\n",
              "</style>\n",
              "<table border=\"1\" class=\"dataframe\">\n",
              "  <thead>\n",
              "    <tr style=\"text-align: right;\">\n",
              "      <th></th>\n",
              "      <th>Title</th>\n",
              "      <th>Body</th>\n",
              "      <th>Tags</th>\n",
              "      <th>Title_Body</th>\n",
              "    </tr>\n",
              "  </thead>\n",
              "  <tbody>\n",
              "    <tr>\n",
              "      <th>0</th>\n",
              "      <td>Create System Tray Icon from Webdings font</td>\n",
              "      <td>&lt;p&gt;I am trying to create a very simple system ...</td>\n",
              "      <td>&lt;c#&gt;&lt;.net&gt;&lt;windows&gt;&lt;icons&gt;</td>\n",
              "      <td>Create System Tray Icon from Webdings font &lt;p&gt;...</td>\n",
              "    </tr>\n",
              "    <tr>\n",
              "      <th>1</th>\n",
              "      <td>Intent of [basic.execution] p5 sentence 2</td>\n",
              "      <td>&lt;p&gt;&lt;a href=\"http://eel.is/c++draft/basic.exec#...</td>\n",
              "      <td>&lt;c++&gt;&lt;language-lawyer&gt;&lt;full-expression&gt;</td>\n",
              "      <td>Intent of [basic.execution] p5 sentence 2 &lt;p&gt;&lt;...</td>\n",
              "    </tr>\n",
              "    <tr>\n",
              "      <th>2</th>\n",
              "      <td>MongoDB: Reduce array of objects into a single...</td>\n",
              "      <td>&lt;p&gt;I use the MongoDB aggregation API to aggreg...</td>\n",
              "      <td>&lt;mongodb&gt;&lt;mongodb-query&gt;&lt;aggregation-framework&gt;</td>\n",
              "      <td>MongoDB: Reduce array of objects into a single...</td>\n",
              "    </tr>\n",
              "    <tr>\n",
              "      <th>3</th>\n",
              "      <td>Laravel validate array of objects</td>\n",
              "      <td>&lt;p&gt;I wonder if its possible to validate a arra...</td>\n",
              "      <td>&lt;laravel&gt;</td>\n",
              "      <td>Laravel validate array of objects &lt;p&gt;I wonder ...</td>\n",
              "    </tr>\n",
              "    <tr>\n",
              "      <th>4</th>\n",
              "      <td>ValueError: Unknown activation function:swish_...</td>\n",
              "      <td>&lt;p&gt;I am trying to load the save weights using ...</td>\n",
              "      <td>&lt;python&gt;&lt;tensorflow&gt;&lt;keras&gt;&lt;activation-function&gt;</td>\n",
              "      <td>ValueError: Unknown activation function:swish_...</td>\n",
              "    </tr>\n",
              "  </tbody>\n",
              "</table>\n",
              "</div>"
            ],
            "text/plain": [
              "                                               Title  ...                                         Title_Body\n",
              "0         Create System Tray Icon from Webdings font  ...  Create System Tray Icon from Webdings font <p>...\n",
              "1          Intent of [basic.execution] p5 sentence 2  ...  Intent of [basic.execution] p5 sentence 2 <p><...\n",
              "2  MongoDB: Reduce array of objects into a single...  ...  MongoDB: Reduce array of objects into a single...\n",
              "3                  Laravel validate array of objects  ...  Laravel validate array of objects <p>I wonder ...\n",
              "4  ValueError: Unknown activation function:swish_...  ...  ValueError: Unknown activation function:swish_...\n",
              "\n",
              "[5 rows x 4 columns]"
            ]
          },
          "metadata": {
            "tags": []
          },
          "execution_count": 16
        }
      ]
    },
    {
      "cell_type": "code",
      "metadata": {
        "id": "otKOZCqRvbF-"
      },
      "source": [
        "variables_reorganization = ['Title_Body', 'Tags']\n",
        "df_sample = df_sample[['Title_Body', 'Tags']]"
      ],
      "execution_count": 17,
      "outputs": []
    },
    {
      "cell_type": "code",
      "metadata": {
        "id": "jW2klWNWv9Ca",
        "colab": {
          "base_uri": "https://localhost:8080/",
          "height": 204
        },
        "outputId": "2a84fe6c-8093-49fa-8dda-8f5e2942af2b"
      },
      "source": [
        "df_sample.head()"
      ],
      "execution_count": 18,
      "outputs": [
        {
          "output_type": "execute_result",
          "data": {
            "text/html": [
              "<div>\n",
              "<style scoped>\n",
              "    .dataframe tbody tr th:only-of-type {\n",
              "        vertical-align: middle;\n",
              "    }\n",
              "\n",
              "    .dataframe tbody tr th {\n",
              "        vertical-align: top;\n",
              "    }\n",
              "\n",
              "    .dataframe thead th {\n",
              "        text-align: right;\n",
              "    }\n",
              "</style>\n",
              "<table border=\"1\" class=\"dataframe\">\n",
              "  <thead>\n",
              "    <tr style=\"text-align: right;\">\n",
              "      <th></th>\n",
              "      <th>Title_Body</th>\n",
              "      <th>Tags</th>\n",
              "    </tr>\n",
              "  </thead>\n",
              "  <tbody>\n",
              "    <tr>\n",
              "      <th>0</th>\n",
              "      <td>Create System Tray Icon from Webdings font &lt;p&gt;...</td>\n",
              "      <td>&lt;c#&gt;&lt;.net&gt;&lt;windows&gt;&lt;icons&gt;</td>\n",
              "    </tr>\n",
              "    <tr>\n",
              "      <th>1</th>\n",
              "      <td>Intent of [basic.execution] p5 sentence 2 &lt;p&gt;&lt;...</td>\n",
              "      <td>&lt;c++&gt;&lt;language-lawyer&gt;&lt;full-expression&gt;</td>\n",
              "    </tr>\n",
              "    <tr>\n",
              "      <th>2</th>\n",
              "      <td>MongoDB: Reduce array of objects into a single...</td>\n",
              "      <td>&lt;mongodb&gt;&lt;mongodb-query&gt;&lt;aggregation-framework&gt;</td>\n",
              "    </tr>\n",
              "    <tr>\n",
              "      <th>3</th>\n",
              "      <td>Laravel validate array of objects &lt;p&gt;I wonder ...</td>\n",
              "      <td>&lt;laravel&gt;</td>\n",
              "    </tr>\n",
              "    <tr>\n",
              "      <th>4</th>\n",
              "      <td>ValueError: Unknown activation function:swish_...</td>\n",
              "      <td>&lt;python&gt;&lt;tensorflow&gt;&lt;keras&gt;&lt;activation-function&gt;</td>\n",
              "    </tr>\n",
              "  </tbody>\n",
              "</table>\n",
              "</div>"
            ],
            "text/plain": [
              "                                          Title_Body                                              Tags\n",
              "0  Create System Tray Icon from Webdings font <p>...                        <c#><.net><windows><icons>\n",
              "1  Intent of [basic.execution] p5 sentence 2 <p><...           <c++><language-lawyer><full-expression>\n",
              "2  MongoDB: Reduce array of objects into a single...   <mongodb><mongodb-query><aggregation-framework>\n",
              "3  Laravel validate array of objects <p>I wonder ...                                         <laravel>\n",
              "4  ValueError: Unknown activation function:swish_...  <python><tensorflow><keras><activation-function>"
            ]
          },
          "metadata": {
            "tags": []
          },
          "execution_count": 18
        }
      ]
    },
    {
      "cell_type": "code",
      "metadata": {
        "id": "41veqd4nsmUH",
        "colab": {
          "base_uri": "https://localhost:8080/",
          "height": 137
        },
        "outputId": "eb0bdb5d-2bec-42a9-c746-8442ad968349"
      },
      "source": [
        "df_sample.Title_Body.iloc[0]"
      ],
      "execution_count": 19,
      "outputs": [
        {
          "output_type": "execute_result",
          "data": {
            "application/vnd.google.colaboratory.intrinsic+json": {
              "type": "string"
            },
            "text/plain": [
              "'Create System Tray Icon from Webdings font <p>I am trying to create a very simple system tray icon that is nothing but a dynamically colored circle with a white border.  To do that, we are using the Webdings font.  \"n\" in Webdings is just a plain circle.</p>\\n\\n<p>What I\\'m currently doing is almost there, but on some PC\\'s (yet not all) it ends up having a choppy, ugly black border around it:</p>\\n\\n<p><a href=\"https://i.stack.imgur.com/2rwwx.png\" rel=\"nofollow noreferrer\"><img src=\"https://i.stack.imgur.com/2rwwx.png\" alt=\"enter image description here\"></a></p>\\n\\n<p>Here\\'s what I\\'ve got:</p>\\n\\n<pre><code>protected static Icon GetTrayIconFromCache(Color statusColor)\\n{\\n    Bitmap bmp = new Bitmap(16,16);                            \\n    Graphics circleGraphic = Graphics.FromImage(bmp);\\n    circleGraphic.DrawString(\"n\", new Font(\"Webdings\", 12F, FontStyle.Regular), Brushes.White, -3f, -2f);\\n    circleGraphic.DrawString(\"n\", new Font(\"Webdings\", 9F, FontStyle.Regular), new SolidBrush(statusColor), 0f, -1f);\\n    Icon ico = Icon.FromHandle((bmp).GetHicon());\\n    return ico;\\n}\\n</code></pre>\\n\\n<p>No matter what I try, I can\\'t get rid of those ugly black dots around the outside of the circle.  They don\\'t show up for everyone.... some of the developers don\\'t see it and it looks crisp and clean. We\\'ve not yet figured out what the commonality is between those PC\\'s where it looks good and where it doesn\\'t. </p>\\n\\n<p>But... is there a better way to do this?</p>\\n'"
            ]
          },
          "metadata": {
            "tags": []
          },
          "execution_count": 19
        }
      ]
    },
    {
      "cell_type": "markdown",
      "metadata": {
        "id": "FKJpzA3GjfUs"
      },
      "source": [
        "### **HTML**"
      ]
    },
    {
      "cell_type": "code",
      "metadata": {
        "id": "ODJZRQTKtawy"
      },
      "source": [
        "#HTML characters removing\n",
        "def remove_html(body):\n",
        "  html_regex = re.compile('<.*?>') #Compile regular expresions\n",
        "  return re.sub(html_regex, ' ', str(body)) # Replace regex by ' '"
      ],
      "execution_count": 20,
      "outputs": []
    },
    {
      "cell_type": "code",
      "metadata": {
        "id": "FuOICImzpMJe",
        "colab": {
          "base_uri": "https://localhost:8080/",
          "height": 204
        },
        "outputId": "32cb864f-9342-4cd0-b8d2-c4bd496ebb81"
      },
      "source": [
        "df_sample['Title_Body'] = df_sample['Title_Body'].apply(remove_html)\n",
        "df_sample.head()"
      ],
      "execution_count": 21,
      "outputs": [
        {
          "output_type": "execute_result",
          "data": {
            "text/html": [
              "<div>\n",
              "<style scoped>\n",
              "    .dataframe tbody tr th:only-of-type {\n",
              "        vertical-align: middle;\n",
              "    }\n",
              "\n",
              "    .dataframe tbody tr th {\n",
              "        vertical-align: top;\n",
              "    }\n",
              "\n",
              "    .dataframe thead th {\n",
              "        text-align: right;\n",
              "    }\n",
              "</style>\n",
              "<table border=\"1\" class=\"dataframe\">\n",
              "  <thead>\n",
              "    <tr style=\"text-align: right;\">\n",
              "      <th></th>\n",
              "      <th>Title_Body</th>\n",
              "      <th>Tags</th>\n",
              "    </tr>\n",
              "  </thead>\n",
              "  <tbody>\n",
              "    <tr>\n",
              "      <th>0</th>\n",
              "      <td>Create System Tray Icon from Webdings font  I ...</td>\n",
              "      <td>&lt;c#&gt;&lt;.net&gt;&lt;windows&gt;&lt;icons&gt;</td>\n",
              "    </tr>\n",
              "    <tr>\n",
              "      <th>1</th>\n",
              "      <td>Intent of [basic.execution] p5 sentence 2   [b...</td>\n",
              "      <td>&lt;c++&gt;&lt;language-lawyer&gt;&lt;full-expression&gt;</td>\n",
              "    </tr>\n",
              "    <tr>\n",
              "      <th>2</th>\n",
              "      <td>MongoDB: Reduce array of objects into a single...</td>\n",
              "      <td>&lt;mongodb&gt;&lt;mongodb-query&gt;&lt;aggregation-framework&gt;</td>\n",
              "    </tr>\n",
              "    <tr>\n",
              "      <th>3</th>\n",
              "      <td>Laravel validate array of objects  I wonder if...</td>\n",
              "      <td>&lt;laravel&gt;</td>\n",
              "    </tr>\n",
              "    <tr>\n",
              "      <th>4</th>\n",
              "      <td>ValueError: Unknown activation function:swish_...</td>\n",
              "      <td>&lt;python&gt;&lt;tensorflow&gt;&lt;keras&gt;&lt;activation-function&gt;</td>\n",
              "    </tr>\n",
              "  </tbody>\n",
              "</table>\n",
              "</div>"
            ],
            "text/plain": [
              "                                          Title_Body                                              Tags\n",
              "0  Create System Tray Icon from Webdings font  I ...                        <c#><.net><windows><icons>\n",
              "1  Intent of [basic.execution] p5 sentence 2   [b...           <c++><language-lawyer><full-expression>\n",
              "2  MongoDB: Reduce array of objects into a single...   <mongodb><mongodb-query><aggregation-framework>\n",
              "3  Laravel validate array of objects  I wonder if...                                         <laravel>\n",
              "4  ValueError: Unknown activation function:swish_...  <python><tensorflow><keras><activation-function>"
            ]
          },
          "metadata": {
            "tags": []
          },
          "execution_count": 21
        }
      ]
    },
    {
      "cell_type": "code",
      "metadata": {
        "id": "vkoq83Wch7_0",
        "colab": {
          "base_uri": "https://localhost:8080/",
          "height": 137
        },
        "outputId": "9a422322-8085-4568-f93f-3fff0b06672c"
      },
      "source": [
        "df_sample.Title_Body.iloc[0]"
      ],
      "execution_count": 22,
      "outputs": [
        {
          "output_type": "execute_result",
          "data": {
            "application/vnd.google.colaboratory.intrinsic+json": {
              "type": "string"
            },
            "text/plain": [
              "'Create System Tray Icon from Webdings font  I am trying to create a very simple system tray icon that is nothing but a dynamically colored circle with a white border.  To do that, we are using the Webdings font.  \"n\" in Webdings is just a plain circle. \\n\\n What I\\'m currently doing is almost there, but on some PC\\'s (yet not all) it ends up having a choppy, ugly black border around it: \\n\\n     \\n\\n Here\\'s what I\\'ve got: \\n\\n  protected static Icon GetTrayIconFromCache(Color statusColor)\\n{\\n    Bitmap bmp = new Bitmap(16,16);                            \\n    Graphics circleGraphic = Graphics.FromImage(bmp);\\n    circleGraphic.DrawString(\"n\", new Font(\"Webdings\", 12F, FontStyle.Regular), Brushes.White, -3f, -2f);\\n    circleGraphic.DrawString(\"n\", new Font(\"Webdings\", 9F, FontStyle.Regular), new SolidBrush(statusColor), 0f, -1f);\\n    Icon ico = Icon.FromHandle((bmp).GetHicon());\\n    return ico;\\n}\\n  \\n\\n No matter what I try, I can\\'t get rid of those ugly black dots around the outside of the circle.  They don\\'t show up for everyone.... some of the developers don\\'t see it and it looks crisp and clean. We\\'ve not yet figured out what the commonality is between those PC\\'s where it looks good and where it doesn\\'t.  \\n\\n But... is there a better way to do this? \\n'"
            ]
          },
          "metadata": {
            "tags": []
          },
          "execution_count": 22
        }
      ]
    },
    {
      "cell_type": "markdown",
      "metadata": {
        "id": "0vJRcF76jncB"
      },
      "source": [
        "### **URL**"
      ]
    },
    {
      "cell_type": "code",
      "metadata": {
        "id": "x5QvAxQnwylj"
      },
      "source": [
        "#URL removing\n",
        "def remove_url(body):\n",
        "  url_regex = 'http[s]?://(?:[a-zA-Z]|[0-9]|[$-_@.&+]|[!*\\(\\),]|(?:%[0-9a-fA-F][0-9a-fA-F]))+'\n",
        "  return re.sub(url_regex, ' ', str(body))  "
      ],
      "execution_count": 23,
      "outputs": []
    },
    {
      "cell_type": "code",
      "metadata": {
        "id": "PVZuq5NeL6E-",
        "colab": {
          "base_uri": "https://localhost:8080/",
          "height": 204
        },
        "outputId": "968e97bb-cea2-4b35-dc98-35b52915335b"
      },
      "source": [
        "df_sample['Title_Body'] = df_sample['Title_Body'].apply(remove_url)\n",
        "df_sample.head()"
      ],
      "execution_count": 24,
      "outputs": [
        {
          "output_type": "execute_result",
          "data": {
            "text/html": [
              "<div>\n",
              "<style scoped>\n",
              "    .dataframe tbody tr th:only-of-type {\n",
              "        vertical-align: middle;\n",
              "    }\n",
              "\n",
              "    .dataframe tbody tr th {\n",
              "        vertical-align: top;\n",
              "    }\n",
              "\n",
              "    .dataframe thead th {\n",
              "        text-align: right;\n",
              "    }\n",
              "</style>\n",
              "<table border=\"1\" class=\"dataframe\">\n",
              "  <thead>\n",
              "    <tr style=\"text-align: right;\">\n",
              "      <th></th>\n",
              "      <th>Title_Body</th>\n",
              "      <th>Tags</th>\n",
              "    </tr>\n",
              "  </thead>\n",
              "  <tbody>\n",
              "    <tr>\n",
              "      <th>0</th>\n",
              "      <td>Create System Tray Icon from Webdings font  I ...</td>\n",
              "      <td>&lt;c#&gt;&lt;.net&gt;&lt;windows&gt;&lt;icons&gt;</td>\n",
              "    </tr>\n",
              "    <tr>\n",
              "      <th>1</th>\n",
              "      <td>Intent of [basic.execution] p5 sentence 2   [b...</td>\n",
              "      <td>&lt;c++&gt;&lt;language-lawyer&gt;&lt;full-expression&gt;</td>\n",
              "    </tr>\n",
              "    <tr>\n",
              "      <th>2</th>\n",
              "      <td>MongoDB: Reduce array of objects into a single...</td>\n",
              "      <td>&lt;mongodb&gt;&lt;mongodb-query&gt;&lt;aggregation-framework&gt;</td>\n",
              "    </tr>\n",
              "    <tr>\n",
              "      <th>3</th>\n",
              "      <td>Laravel validate array of objects  I wonder if...</td>\n",
              "      <td>&lt;laravel&gt;</td>\n",
              "    </tr>\n",
              "    <tr>\n",
              "      <th>4</th>\n",
              "      <td>ValueError: Unknown activation function:swish_...</td>\n",
              "      <td>&lt;python&gt;&lt;tensorflow&gt;&lt;keras&gt;&lt;activation-function&gt;</td>\n",
              "    </tr>\n",
              "  </tbody>\n",
              "</table>\n",
              "</div>"
            ],
            "text/plain": [
              "                                          Title_Body                                              Tags\n",
              "0  Create System Tray Icon from Webdings font  I ...                        <c#><.net><windows><icons>\n",
              "1  Intent of [basic.execution] p5 sentence 2   [b...           <c++><language-lawyer><full-expression>\n",
              "2  MongoDB: Reduce array of objects into a single...   <mongodb><mongodb-query><aggregation-framework>\n",
              "3  Laravel validate array of objects  I wonder if...                                         <laravel>\n",
              "4  ValueError: Unknown activation function:swish_...  <python><tensorflow><keras><activation-function>"
            ]
          },
          "metadata": {
            "tags": []
          },
          "execution_count": 24
        }
      ]
    },
    {
      "cell_type": "code",
      "metadata": {
        "id": "L43cenkZiH6I",
        "colab": {
          "base_uri": "https://localhost:8080/",
          "height": 137
        },
        "outputId": "06b16675-ea42-49c7-9f2f-eb3879c6cf10"
      },
      "source": [
        "df_sample.Title_Body.iloc[0]"
      ],
      "execution_count": 25,
      "outputs": [
        {
          "output_type": "execute_result",
          "data": {
            "application/vnd.google.colaboratory.intrinsic+json": {
              "type": "string"
            },
            "text/plain": [
              "'Create System Tray Icon from Webdings font  I am trying to create a very simple system tray icon that is nothing but a dynamically colored circle with a white border.  To do that, we are using the Webdings font.  \"n\" in Webdings is just a plain circle. \\n\\n What I\\'m currently doing is almost there, but on some PC\\'s (yet not all) it ends up having a choppy, ugly black border around it: \\n\\n     \\n\\n Here\\'s what I\\'ve got: \\n\\n  protected static Icon GetTrayIconFromCache(Color statusColor)\\n{\\n    Bitmap bmp = new Bitmap(16,16);                            \\n    Graphics circleGraphic = Graphics.FromImage(bmp);\\n    circleGraphic.DrawString(\"n\", new Font(\"Webdings\", 12F, FontStyle.Regular), Brushes.White, -3f, -2f);\\n    circleGraphic.DrawString(\"n\", new Font(\"Webdings\", 9F, FontStyle.Regular), new SolidBrush(statusColor), 0f, -1f);\\n    Icon ico = Icon.FromHandle((bmp).GetHicon());\\n    return ico;\\n}\\n  \\n\\n No matter what I try, I can\\'t get rid of those ugly black dots around the outside of the circle.  They don\\'t show up for everyone.... some of the developers don\\'t see it and it looks crisp and clean. We\\'ve not yet figured out what the commonality is between those PC\\'s where it looks good and where it doesn\\'t.  \\n\\n But... is there a better way to do this? \\n'"
            ]
          },
          "metadata": {
            "tags": []
          },
          "execution_count": 25
        }
      ]
    },
    {
      "cell_type": "markdown",
      "metadata": {
        "id": "oqrGUCL-ju-K"
      },
      "source": [
        "### **Punctuation**"
      ]
    },
    {
      "cell_type": "code",
      "metadata": {
        "id": "Rg1XwcS7qzcX"
      },
      "source": [
        "#Punctuation removing\n",
        "def remove_punc(body):\n",
        "  clean_text = re.sub(r'[?|!|\"|:|=|_|{|}|[|]|-|$|%|^|&|]',r' ',str(body))\n",
        "  clean_text = re.sub(r'[.|,|)|(|\\|/|-|~|`|>|<|*|$|@|;|→]',r' ', clean_text)\n",
        "  return clean_text"
      ],
      "execution_count": 26,
      "outputs": []
    },
    {
      "cell_type": "code",
      "metadata": {
        "id": "pbLLFOAZ9x9k"
      },
      "source": [
        "df_sample['Title_Body'] = df_sample['Title_Body'].apply(remove_punc)"
      ],
      "execution_count": 27,
      "outputs": []
    },
    {
      "cell_type": "code",
      "metadata": {
        "id": "N1v00_8giS9s",
        "colab": {
          "base_uri": "https://localhost:8080/",
          "height": 137
        },
        "outputId": "344e6349-4ef7-413f-d62c-b959a3fadd8c"
      },
      "source": [
        "df_sample.Title_Body.iloc[0]"
      ],
      "execution_count": 28,
      "outputs": [
        {
          "output_type": "execute_result",
          "data": {
            "application/vnd.google.colaboratory.intrinsic+json": {
              "type": "string"
            },
            "text/plain": [
              "\" Create System Tray Icon from Webdings font  I am trying to create a very simple system tray icon that is nothing but a dynamically colored circle with a white border   To do that  we are using the Webdings font    n  in Webdings is just a plain circle  \\n\\n What I'm currently doing is almost there  but on some PC's  yet not all  it ends up having a choppy  ugly black border around it  \\n\\n     \\n\\n Here's what I've got  \\n\\n  protected static Icon GetTrayIconFromCache Color statusColor \\n \\n    Bitmap bmp   new Bitmap 16 16                              \\n    Graphics circleGraphic   Graphics FromImage bmp  \\n    circleGraphic DrawString  n   new Font  Webdings   12F  FontStyle Regular   Brushes White   3f   2f  \\n    circleGraphic DrawString  n   new Font  Webdings   9F  FontStyle Regular   new SolidBrush statusColor   0f   1f  \\n    Icon ico   Icon FromHandle  bmp  GetHicon    \\n    return ico \\n \\n  \\n\\n No matter what I try  I can't get rid of those ugly black dots around the outside of the circle   They don't show up for everyone     some of the developers don't see it and it looks crisp and clean  We've not yet figured out what the commonality is between those PC's where it looks good and where it doesn't   \\n\\n But    is there a better way to do this   \\n \""
            ]
          },
          "metadata": {
            "tags": []
          },
          "execution_count": 28
        }
      ]
    },
    {
      "cell_type": "markdown",
      "metadata": {
        "id": "spUwNPvIj6-o"
      },
      "source": [
        "### **Other characters**"
      ]
    },
    {
      "cell_type": "code",
      "metadata": {
        "id": "jhnRPj4ye-L7"
      },
      "source": [
        "#All characters removing except letters, numbers \n",
        "#Lower\n",
        "def remove_other(body):\n",
        "  text = str(body)\n",
        "  clean_text = re.sub(r\"[^a-zA-Z0-9#+-]\", \" \", text.lower())\n",
        "  return clean_text"
      ],
      "execution_count": 29,
      "outputs": []
    },
    {
      "cell_type": "code",
      "metadata": {
        "id": "2ODVUIyvgSsq",
        "colab": {
          "base_uri": "https://localhost:8080/",
          "height": 204
        },
        "outputId": "60e70a06-9273-484d-873b-3f36f9777ef8"
      },
      "source": [
        "df_sample['Title_Body'] = df_sample['Title_Body'].apply(remove_other)\n",
        "df_sample.head()"
      ],
      "execution_count": 30,
      "outputs": [
        {
          "output_type": "execute_result",
          "data": {
            "text/html": [
              "<div>\n",
              "<style scoped>\n",
              "    .dataframe tbody tr th:only-of-type {\n",
              "        vertical-align: middle;\n",
              "    }\n",
              "\n",
              "    .dataframe tbody tr th {\n",
              "        vertical-align: top;\n",
              "    }\n",
              "\n",
              "    .dataframe thead th {\n",
              "        text-align: right;\n",
              "    }\n",
              "</style>\n",
              "<table border=\"1\" class=\"dataframe\">\n",
              "  <thead>\n",
              "    <tr style=\"text-align: right;\">\n",
              "      <th></th>\n",
              "      <th>Title_Body</th>\n",
              "      <th>Tags</th>\n",
              "    </tr>\n",
              "  </thead>\n",
              "  <tbody>\n",
              "    <tr>\n",
              "      <th>0</th>\n",
              "      <td>create system tray icon from webdings font  i...</td>\n",
              "      <td>&lt;c#&gt;&lt;.net&gt;&lt;windows&gt;&lt;icons&gt;</td>\n",
              "    </tr>\n",
              "    <tr>\n",
              "      <th>1</th>\n",
              "      <td>intent of  basic execution  p5 sentence 2    ...</td>\n",
              "      <td>&lt;c++&gt;&lt;language-lawyer&gt;&lt;full-expression&gt;</td>\n",
              "    </tr>\n",
              "    <tr>\n",
              "      <th>2</th>\n",
              "      <td>mongodb  reduce array of objects into a singl...</td>\n",
              "      <td>&lt;mongodb&gt;&lt;mongodb-query&gt;&lt;aggregation-framework&gt;</td>\n",
              "    </tr>\n",
              "    <tr>\n",
              "      <th>3</th>\n",
              "      <td>laravel validate array of objects  i wonder i...</td>\n",
              "      <td>&lt;laravel&gt;</td>\n",
              "    </tr>\n",
              "    <tr>\n",
              "      <th>4</th>\n",
              "      <td>valueerror  unknown activation function swish...</td>\n",
              "      <td>&lt;python&gt;&lt;tensorflow&gt;&lt;keras&gt;&lt;activation-function&gt;</td>\n",
              "    </tr>\n",
              "  </tbody>\n",
              "</table>\n",
              "</div>"
            ],
            "text/plain": [
              "                                          Title_Body                                              Tags\n",
              "0   create system tray icon from webdings font  i...                        <c#><.net><windows><icons>\n",
              "1   intent of  basic execution  p5 sentence 2    ...           <c++><language-lawyer><full-expression>\n",
              "2   mongodb  reduce array of objects into a singl...   <mongodb><mongodb-query><aggregation-framework>\n",
              "3   laravel validate array of objects  i wonder i...                                         <laravel>\n",
              "4   valueerror  unknown activation function swish...  <python><tensorflow><keras><activation-function>"
            ]
          },
          "metadata": {
            "tags": []
          },
          "execution_count": 30
        }
      ]
    },
    {
      "cell_type": "code",
      "metadata": {
        "id": "5ICRcIezhPF0",
        "colab": {
          "base_uri": "https://localhost:8080/",
          "height": 137
        },
        "outputId": "a33a3278-05b6-4bae-f7c3-dbc27e63b4bf"
      },
      "source": [
        "df_sample.Title_Body.iloc[0]"
      ],
      "execution_count": 31,
      "outputs": [
        {
          "output_type": "execute_result",
          "data": {
            "application/vnd.google.colaboratory.intrinsic+json": {
              "type": "string"
            },
            "text/plain": [
              "' create system tray icon from webdings font  i am trying to create a very simple system tray icon that is nothing but a dynamically colored circle with a white border   to do that  we are using the webdings font    n  in webdings is just a plain circle     what i m currently doing is almost there  but on some pc s  yet not all  it ends up having a choppy  ugly black border around it            here s what i ve got      protected static icon gettrayiconfromcache color statuscolor        bitmap bmp   new bitmap 16 16                                   graphics circlegraphic   graphics fromimage bmp       circlegraphic drawstring  n   new font  webdings   12f  fontstyle regular   brushes white   3f   2f       circlegraphic drawstring  n   new font  webdings   9f  fontstyle regular   new solidbrush statuscolor   0f   1f       icon ico   icon fromhandle  bmp  gethicon         return ico         no matter what i try  i can t get rid of those ugly black dots around the outside of the circle   they don t show up for everyone     some of the developers don t see it and it looks crisp and clean  we ve not yet figured out what the commonality is between those pc s where it looks good and where it doesn t      but    is there a better way to do this     '"
            ]
          },
          "metadata": {
            "tags": []
          },
          "execution_count": 31
        }
      ]
    },
    {
      "cell_type": "markdown",
      "metadata": {
        "id": "OnhaYS2_kF6L"
      },
      "source": [
        "### **Space**"
      ]
    },
    {
      "cell_type": "code",
      "metadata": {
        "id": "SIdM-GNzyse6"
      },
      "source": [
        "#Space removing\n",
        "def remove_space(body):\n",
        "  return ' '.join(str(body).split()) "
      ],
      "execution_count": 32,
      "outputs": []
    },
    {
      "cell_type": "code",
      "metadata": {
        "id": "HjvChyO17tes"
      },
      "source": [
        "df_sample['Title_Body'] = df_sample['Title_Body'].apply(remove_space)"
      ],
      "execution_count": 33,
      "outputs": []
    },
    {
      "cell_type": "code",
      "metadata": {
        "id": "rZa6Pe2i8A4S",
        "colab": {
          "base_uri": "https://localhost:8080/",
          "height": 137
        },
        "outputId": "914b7016-5ce5-4475-f6df-1a3c5c0eb1e2"
      },
      "source": [
        "df_sample.Title_Body.iloc[0]"
      ],
      "execution_count": 34,
      "outputs": [
        {
          "output_type": "execute_result",
          "data": {
            "application/vnd.google.colaboratory.intrinsic+json": {
              "type": "string"
            },
            "text/plain": [
              "'create system tray icon from webdings font i am trying to create a very simple system tray icon that is nothing but a dynamically colored circle with a white border to do that we are using the webdings font n in webdings is just a plain circle what i m currently doing is almost there but on some pc s yet not all it ends up having a choppy ugly black border around it here s what i ve got protected static icon gettrayiconfromcache color statuscolor bitmap bmp new bitmap 16 16 graphics circlegraphic graphics fromimage bmp circlegraphic drawstring n new font webdings 12f fontstyle regular brushes white 3f 2f circlegraphic drawstring n new font webdings 9f fontstyle regular new solidbrush statuscolor 0f 1f icon ico icon fromhandle bmp gethicon return ico no matter what i try i can t get rid of those ugly black dots around the outside of the circle they don t show up for everyone some of the developers don t see it and it looks crisp and clean we ve not yet figured out what the commonality is between those pc s where it looks good and where it doesn t but is there a better way to do this'"
            ]
          },
          "metadata": {
            "tags": []
          },
          "execution_count": 34
        }
      ]
    },
    {
      "cell_type": "code",
      "metadata": {
        "id": "NipGuoPUgc80"
      },
      "source": [
        "#df_analysis['Title_Body_count'] = df_analysis['Title_Body'].apply(lambda text: len(text.split(\" \")))"
      ],
      "execution_count": 35,
      "outputs": []
    },
    {
      "cell_type": "code",
      "metadata": {
        "id": "3Nl2g1o8geKB",
        "colab": {
          "base_uri": "https://localhost:8080/",
          "height": 204
        },
        "outputId": "27b4e1b7-57f2-4ee7-e703-85816d52a748"
      },
      "source": [
        "df_sample.head()"
      ],
      "execution_count": 36,
      "outputs": [
        {
          "output_type": "execute_result",
          "data": {
            "text/html": [
              "<div>\n",
              "<style scoped>\n",
              "    .dataframe tbody tr th:only-of-type {\n",
              "        vertical-align: middle;\n",
              "    }\n",
              "\n",
              "    .dataframe tbody tr th {\n",
              "        vertical-align: top;\n",
              "    }\n",
              "\n",
              "    .dataframe thead th {\n",
              "        text-align: right;\n",
              "    }\n",
              "</style>\n",
              "<table border=\"1\" class=\"dataframe\">\n",
              "  <thead>\n",
              "    <tr style=\"text-align: right;\">\n",
              "      <th></th>\n",
              "      <th>Title_Body</th>\n",
              "      <th>Tags</th>\n",
              "    </tr>\n",
              "  </thead>\n",
              "  <tbody>\n",
              "    <tr>\n",
              "      <th>0</th>\n",
              "      <td>create system tray icon from webdings font i a...</td>\n",
              "      <td>&lt;c#&gt;&lt;.net&gt;&lt;windows&gt;&lt;icons&gt;</td>\n",
              "    </tr>\n",
              "    <tr>\n",
              "      <th>1</th>\n",
              "      <td>intent of basic execution p5 sentence 2 basic ...</td>\n",
              "      <td>&lt;c++&gt;&lt;language-lawyer&gt;&lt;full-expression&gt;</td>\n",
              "    </tr>\n",
              "    <tr>\n",
              "      <th>2</th>\n",
              "      <td>mongodb reduce array of objects into a single ...</td>\n",
              "      <td>&lt;mongodb&gt;&lt;mongodb-query&gt;&lt;aggregation-framework&gt;</td>\n",
              "    </tr>\n",
              "    <tr>\n",
              "      <th>3</th>\n",
              "      <td>laravel validate array of objects i wonder if ...</td>\n",
              "      <td>&lt;laravel&gt;</td>\n",
              "    </tr>\n",
              "    <tr>\n",
              "      <th>4</th>\n",
              "      <td>valueerror unknown activation function swish a...</td>\n",
              "      <td>&lt;python&gt;&lt;tensorflow&gt;&lt;keras&gt;&lt;activation-function&gt;</td>\n",
              "    </tr>\n",
              "  </tbody>\n",
              "</table>\n",
              "</div>"
            ],
            "text/plain": [
              "                                          Title_Body                                              Tags\n",
              "0  create system tray icon from webdings font i a...                        <c#><.net><windows><icons>\n",
              "1  intent of basic execution p5 sentence 2 basic ...           <c++><language-lawyer><full-expression>\n",
              "2  mongodb reduce array of objects into a single ...   <mongodb><mongodb-query><aggregation-framework>\n",
              "3  laravel validate array of objects i wonder if ...                                         <laravel>\n",
              "4  valueerror unknown activation function swish a...  <python><tensorflow><keras><activation-function>"
            ]
          },
          "metadata": {
            "tags": []
          },
          "execution_count": 36
        }
      ]
    },
    {
      "cell_type": "markdown",
      "metadata": {
        "id": "TJejYX1wkWJx"
      },
      "source": [
        "### **StopWords**"
      ]
    },
    {
      "cell_type": "code",
      "metadata": {
        "id": "os74ax1iEZ2S"
      },
      "source": [
        "#Tokenization\n",
        "#nltk.download(\"punkt\")\n",
        "#from nltk.tokenize import word_tokenize"
      ],
      "execution_count": 37,
      "outputs": []
    },
    {
      "cell_type": "code",
      "metadata": {
        "id": "uXZRI_NEUX0t"
      },
      "source": [
        "stop_words = set(stopwords.words('english'))\n",
        "from nltk.stem import WordNetLemmatizer, PorterStemmer\n",
        "from nltk.stem.snowball import EnglishStemmer\n",
        "lemma = WordNetLemmatizer().lemmatize\n",
        "ps = PorterStemmer()\n",
        "stemmer = EnglishStemmer()"
      ],
      "execution_count": 38,
      "outputs": []
    },
    {
      "cell_type": "code",
      "metadata": {
        "id": "hpprHCsXKS5F"
      },
      "source": [
        "set_alpha = set(['a', 'b', 'd', 'e', 'f', 'g', 'h', 'i', 'k', 'l', 'm', 'n', 'o', 'p', 'q', 's', 't', 'u', 'v', 'w', 'x', 'y' 'z'])"
      ],
      "execution_count": 39,
      "outputs": []
    },
    {
      "cell_type": "code",
      "metadata": {
        "id": "HoP_cdg6JOug"
      },
      "source": [
        "def remove_stopwords(text):\n",
        "    text = str(text)\n",
        "    text = \" \".join(word for word in text.split() if word not in gensim.parsing.preprocessing.STOPWORDS and word not in stop_words and word not in set_alpha )\n",
        "    return text"
      ],
      "execution_count": 40,
      "outputs": []
    },
    {
      "cell_type": "code",
      "metadata": {
        "id": "MoHi-5wlWBpj"
      },
      "source": [
        "df_sample['Title_Body'] = df_sample['Title_Body'].apply(remove_stopwords)"
      ],
      "execution_count": 41,
      "outputs": []
    },
    {
      "cell_type": "code",
      "metadata": {
        "id": "KaSzDJUSo3xm",
        "colab": {
          "base_uri": "https://localhost:8080/",
          "height": 103
        },
        "outputId": "0e9e1c56-ba29-4020-fc40-a5cc8a758ddf"
      },
      "source": [
        "df_sample.Title_Body.iloc[0]"
      ],
      "execution_count": 42,
      "outputs": [
        {
          "output_type": "execute_result",
          "data": {
            "application/vnd.google.colaboratory.intrinsic+json": {
              "type": "string"
            },
            "text/plain": [
              "'create tray icon webdings font trying create simple tray icon dynamically colored circle white border webdings font webdings plain circle currently pc ends choppy ugly black border got protected static icon gettrayiconfromcache color statuscolor bitmap bmp new bitmap 16 16 graphics circlegraphic graphics fromimage bmp circlegraphic drawstring new font webdings 12f fontstyle regular brushes white 3f 2f circlegraphic drawstring new font webdings 9f fontstyle regular new solidbrush statuscolor 0f 1f icon ico icon fromhandle bmp gethicon return ico matter try rid ugly black dots outside circle developers looks crisp clean figured commonality pc looks good better way'"
            ]
          },
          "metadata": {
            "tags": []
          },
          "execution_count": 42
        }
      ]
    },
    {
      "cell_type": "code",
      "metadata": {
        "id": "7YaLawhYUw8s",
        "colab": {
          "base_uri": "https://localhost:8080/",
          "height": 204
        },
        "outputId": "804b0c58-4664-4f46-9308-983bc0a54370"
      },
      "source": [
        "df_sample.head()"
      ],
      "execution_count": 43,
      "outputs": [
        {
          "output_type": "execute_result",
          "data": {
            "text/html": [
              "<div>\n",
              "<style scoped>\n",
              "    .dataframe tbody tr th:only-of-type {\n",
              "        vertical-align: middle;\n",
              "    }\n",
              "\n",
              "    .dataframe tbody tr th {\n",
              "        vertical-align: top;\n",
              "    }\n",
              "\n",
              "    .dataframe thead th {\n",
              "        text-align: right;\n",
              "    }\n",
              "</style>\n",
              "<table border=\"1\" class=\"dataframe\">\n",
              "  <thead>\n",
              "    <tr style=\"text-align: right;\">\n",
              "      <th></th>\n",
              "      <th>Title_Body</th>\n",
              "      <th>Tags</th>\n",
              "    </tr>\n",
              "  </thead>\n",
              "  <tbody>\n",
              "    <tr>\n",
              "      <th>0</th>\n",
              "      <td>create tray icon webdings font trying create s...</td>\n",
              "      <td>&lt;c#&gt;&lt;.net&gt;&lt;windows&gt;&lt;icons&gt;</td>\n",
              "    </tr>\n",
              "    <tr>\n",
              "      <th>1</th>\n",
              "      <td>intent basic execution p5 sentence 2 basic exe...</td>\n",
              "      <td>&lt;c++&gt;&lt;language-lawyer&gt;&lt;full-expression&gt;</td>\n",
              "    </tr>\n",
              "    <tr>\n",
              "      <th>2</th>\n",
              "      <td>mongodb reduce array objects single object com...</td>\n",
              "      <td>&lt;mongodb&gt;&lt;mongodb-query&gt;&lt;aggregation-framework&gt;</td>\n",
              "    </tr>\n",
              "    <tr>\n",
              "      <th>3</th>\n",
              "      <td>laravel validate array objects wonder possible...</td>\n",
              "      <td>&lt;laravel&gt;</td>\n",
              "    </tr>\n",
              "    <tr>\n",
              "      <th>4</th>\n",
              "      <td>valueerror unknown activation function swish a...</td>\n",
              "      <td>&lt;python&gt;&lt;tensorflow&gt;&lt;keras&gt;&lt;activation-function&gt;</td>\n",
              "    </tr>\n",
              "  </tbody>\n",
              "</table>\n",
              "</div>"
            ],
            "text/plain": [
              "                                          Title_Body                                              Tags\n",
              "0  create tray icon webdings font trying create s...                        <c#><.net><windows><icons>\n",
              "1  intent basic execution p5 sentence 2 basic exe...           <c++><language-lawyer><full-expression>\n",
              "2  mongodb reduce array objects single object com...   <mongodb><mongodb-query><aggregation-framework>\n",
              "3  laravel validate array objects wonder possible...                                         <laravel>\n",
              "4  valueerror unknown activation function swish a...  <python><tensorflow><keras><activation-function>"
            ]
          },
          "metadata": {
            "tags": []
          },
          "execution_count": 43
        }
      ]
    },
    {
      "cell_type": "markdown",
      "metadata": {
        "id": "By3nrs2-OJPy"
      },
      "source": [
        "## **Tokenization**"
      ]
    },
    {
      "cell_type": "markdown",
      "metadata": {
        "id": "YH5-KerXOixc"
      },
      "source": [
        "### **Question**"
      ]
    },
    {
      "cell_type": "code",
      "metadata": {
        "colab": {
          "base_uri": "https://localhost:8080/"
        },
        "id": "JjsQLWXN-vr_",
        "outputId": "13936b44-a6bb-441f-a552-0200faf4367b"
      },
      "source": [
        "nltk.download('all')"
      ],
      "execution_count": 44,
      "outputs": [
        {
          "output_type": "stream",
          "text": [
            "[nltk_data] Downloading collection 'all'\n",
            "[nltk_data]    | \n",
            "[nltk_data]    | Downloading package abc to /root/nltk_data...\n",
            "[nltk_data]    |   Unzipping corpora/abc.zip.\n",
            "[nltk_data]    | Downloading package alpino to /root/nltk_data...\n",
            "[nltk_data]    |   Unzipping corpora/alpino.zip.\n",
            "[nltk_data]    | Downloading package biocreative_ppi to\n",
            "[nltk_data]    |     /root/nltk_data...\n",
            "[nltk_data]    |   Unzipping corpora/biocreative_ppi.zip.\n",
            "[nltk_data]    | Downloading package brown to /root/nltk_data...\n",
            "[nltk_data]    |   Unzipping corpora/brown.zip.\n",
            "[nltk_data]    | Downloading package brown_tei to /root/nltk_data...\n",
            "[nltk_data]    |   Unzipping corpora/brown_tei.zip.\n",
            "[nltk_data]    | Downloading package cess_cat to /root/nltk_data...\n",
            "[nltk_data]    |   Unzipping corpora/cess_cat.zip.\n",
            "[nltk_data]    | Downloading package cess_esp to /root/nltk_data...\n",
            "[nltk_data]    |   Unzipping corpora/cess_esp.zip.\n",
            "[nltk_data]    | Downloading package chat80 to /root/nltk_data...\n",
            "[nltk_data]    |   Unzipping corpora/chat80.zip.\n",
            "[nltk_data]    | Downloading package city_database to\n",
            "[nltk_data]    |     /root/nltk_data...\n",
            "[nltk_data]    |   Unzipping corpora/city_database.zip.\n",
            "[nltk_data]    | Downloading package cmudict to /root/nltk_data...\n",
            "[nltk_data]    |   Unzipping corpora/cmudict.zip.\n",
            "[nltk_data]    | Downloading package comparative_sentences to\n",
            "[nltk_data]    |     /root/nltk_data...\n",
            "[nltk_data]    |   Unzipping corpora/comparative_sentences.zip.\n",
            "[nltk_data]    | Downloading package comtrans to /root/nltk_data...\n",
            "[nltk_data]    | Downloading package conll2000 to /root/nltk_data...\n",
            "[nltk_data]    |   Unzipping corpora/conll2000.zip.\n",
            "[nltk_data]    | Downloading package conll2002 to /root/nltk_data...\n",
            "[nltk_data]    |   Unzipping corpora/conll2002.zip.\n",
            "[nltk_data]    | Downloading package conll2007 to /root/nltk_data...\n",
            "[nltk_data]    | Downloading package crubadan to /root/nltk_data...\n",
            "[nltk_data]    |   Unzipping corpora/crubadan.zip.\n",
            "[nltk_data]    | Downloading package dependency_treebank to\n",
            "[nltk_data]    |     /root/nltk_data...\n",
            "[nltk_data]    |   Unzipping corpora/dependency_treebank.zip.\n",
            "[nltk_data]    | Downloading package dolch to /root/nltk_data...\n",
            "[nltk_data]    |   Unzipping corpora/dolch.zip.\n",
            "[nltk_data]    | Downloading package europarl_raw to\n",
            "[nltk_data]    |     /root/nltk_data...\n",
            "[nltk_data]    |   Unzipping corpora/europarl_raw.zip.\n",
            "[nltk_data]    | Downloading package floresta to /root/nltk_data...\n",
            "[nltk_data]    |   Unzipping corpora/floresta.zip.\n",
            "[nltk_data]    | Downloading package framenet_v15 to\n",
            "[nltk_data]    |     /root/nltk_data...\n",
            "[nltk_data]    |   Unzipping corpora/framenet_v15.zip.\n",
            "[nltk_data]    | Downloading package framenet_v17 to\n",
            "[nltk_data]    |     /root/nltk_data...\n",
            "[nltk_data]    |   Unzipping corpora/framenet_v17.zip.\n",
            "[nltk_data]    | Downloading package gazetteers to /root/nltk_data...\n",
            "[nltk_data]    |   Unzipping corpora/gazetteers.zip.\n",
            "[nltk_data]    | Downloading package genesis to /root/nltk_data...\n",
            "[nltk_data]    |   Unzipping corpora/genesis.zip.\n",
            "[nltk_data]    | Downloading package gutenberg to /root/nltk_data...\n",
            "[nltk_data]    |   Unzipping corpora/gutenberg.zip.\n",
            "[nltk_data]    | Downloading package ieer to /root/nltk_data...\n",
            "[nltk_data]    |   Unzipping corpora/ieer.zip.\n",
            "[nltk_data]    | Downloading package inaugural to /root/nltk_data...\n",
            "[nltk_data]    |   Unzipping corpora/inaugural.zip.\n",
            "[nltk_data]    | Downloading package indian to /root/nltk_data...\n",
            "[nltk_data]    |   Unzipping corpora/indian.zip.\n",
            "[nltk_data]    | Downloading package jeita to /root/nltk_data...\n",
            "[nltk_data]    | Downloading package kimmo to /root/nltk_data...\n",
            "[nltk_data]    |   Unzipping corpora/kimmo.zip.\n",
            "[nltk_data]    | Downloading package knbc to /root/nltk_data...\n",
            "[nltk_data]    | Downloading package lin_thesaurus to\n",
            "[nltk_data]    |     /root/nltk_data...\n",
            "[nltk_data]    |   Unzipping corpora/lin_thesaurus.zip.\n",
            "[nltk_data]    | Downloading package mac_morpho to /root/nltk_data...\n",
            "[nltk_data]    |   Unzipping corpora/mac_morpho.zip.\n",
            "[nltk_data]    | Downloading package machado to /root/nltk_data...\n",
            "[nltk_data]    | Downloading package masc_tagged to /root/nltk_data...\n",
            "[nltk_data]    | Downloading package moses_sample to\n",
            "[nltk_data]    |     /root/nltk_data...\n",
            "[nltk_data]    |   Unzipping models/moses_sample.zip.\n",
            "[nltk_data]    | Downloading package movie_reviews to\n",
            "[nltk_data]    |     /root/nltk_data...\n",
            "[nltk_data]    |   Unzipping corpora/movie_reviews.zip.\n",
            "[nltk_data]    | Downloading package names to /root/nltk_data...\n",
            "[nltk_data]    |   Unzipping corpora/names.zip.\n",
            "[nltk_data]    | Downloading package nombank.1.0 to /root/nltk_data...\n",
            "[nltk_data]    | Downloading package nps_chat to /root/nltk_data...\n",
            "[nltk_data]    |   Unzipping corpora/nps_chat.zip.\n",
            "[nltk_data]    | Downloading package omw to /root/nltk_data...\n",
            "[nltk_data]    |   Unzipping corpora/omw.zip.\n",
            "[nltk_data]    | Downloading package opinion_lexicon to\n",
            "[nltk_data]    |     /root/nltk_data...\n",
            "[nltk_data]    |   Unzipping corpora/opinion_lexicon.zip.\n",
            "[nltk_data]    | Downloading package paradigms to /root/nltk_data...\n",
            "[nltk_data]    |   Unzipping corpora/paradigms.zip.\n",
            "[nltk_data]    | Downloading package pil to /root/nltk_data...\n",
            "[nltk_data]    |   Unzipping corpora/pil.zip.\n",
            "[nltk_data]    | Downloading package pl196x to /root/nltk_data...\n",
            "[nltk_data]    |   Unzipping corpora/pl196x.zip.\n",
            "[nltk_data]    | Downloading package ppattach to /root/nltk_data...\n",
            "[nltk_data]    |   Unzipping corpora/ppattach.zip.\n",
            "[nltk_data]    | Downloading package problem_reports to\n",
            "[nltk_data]    |     /root/nltk_data...\n",
            "[nltk_data]    |   Unzipping corpora/problem_reports.zip.\n",
            "[nltk_data]    | Downloading package propbank to /root/nltk_data...\n",
            "[nltk_data]    | Downloading package ptb to /root/nltk_data...\n",
            "[nltk_data]    |   Unzipping corpora/ptb.zip.\n",
            "[nltk_data]    | Downloading package product_reviews_1 to\n",
            "[nltk_data]    |     /root/nltk_data...\n",
            "[nltk_data]    |   Unzipping corpora/product_reviews_1.zip.\n",
            "[nltk_data]    | Downloading package product_reviews_2 to\n",
            "[nltk_data]    |     /root/nltk_data...\n",
            "[nltk_data]    |   Unzipping corpora/product_reviews_2.zip.\n",
            "[nltk_data]    | Downloading package pros_cons to /root/nltk_data...\n",
            "[nltk_data]    |   Unzipping corpora/pros_cons.zip.\n",
            "[nltk_data]    | Downloading package qc to /root/nltk_data...\n",
            "[nltk_data]    |   Unzipping corpora/qc.zip.\n",
            "[nltk_data]    | Downloading package reuters to /root/nltk_data...\n",
            "[nltk_data]    | Downloading package rte to /root/nltk_data...\n",
            "[nltk_data]    |   Unzipping corpora/rte.zip.\n",
            "[nltk_data]    | Downloading package semcor to /root/nltk_data...\n",
            "[nltk_data]    | Downloading package senseval to /root/nltk_data...\n",
            "[nltk_data]    |   Unzipping corpora/senseval.zip.\n",
            "[nltk_data]    | Downloading package sentiwordnet to\n",
            "[nltk_data]    |     /root/nltk_data...\n",
            "[nltk_data]    |   Unzipping corpora/sentiwordnet.zip.\n",
            "[nltk_data]    | Downloading package sentence_polarity to\n",
            "[nltk_data]    |     /root/nltk_data...\n",
            "[nltk_data]    |   Unzipping corpora/sentence_polarity.zip.\n",
            "[nltk_data]    | Downloading package shakespeare to /root/nltk_data...\n",
            "[nltk_data]    |   Unzipping corpora/shakespeare.zip.\n",
            "[nltk_data]    | Downloading package sinica_treebank to\n",
            "[nltk_data]    |     /root/nltk_data...\n",
            "[nltk_data]    |   Unzipping corpora/sinica_treebank.zip.\n",
            "[nltk_data]    | Downloading package smultron to /root/nltk_data...\n",
            "[nltk_data]    |   Unzipping corpora/smultron.zip.\n",
            "[nltk_data]    | Downloading package state_union to /root/nltk_data...\n",
            "[nltk_data]    |   Unzipping corpora/state_union.zip.\n",
            "[nltk_data]    | Downloading package stopwords to /root/nltk_data...\n",
            "[nltk_data]    |   Package stopwords is already up-to-date!\n",
            "[nltk_data]    | Downloading package subjectivity to\n",
            "[nltk_data]    |     /root/nltk_data...\n",
            "[nltk_data]    |   Unzipping corpora/subjectivity.zip.\n",
            "[nltk_data]    | Downloading package swadesh to /root/nltk_data...\n",
            "[nltk_data]    |   Unzipping corpora/swadesh.zip.\n",
            "[nltk_data]    | Downloading package switchboard to /root/nltk_data...\n",
            "[nltk_data]    |   Unzipping corpora/switchboard.zip.\n",
            "[nltk_data]    | Downloading package timit to /root/nltk_data...\n",
            "[nltk_data]    |   Unzipping corpora/timit.zip.\n",
            "[nltk_data]    | Downloading package toolbox to /root/nltk_data...\n",
            "[nltk_data]    |   Unzipping corpora/toolbox.zip.\n",
            "[nltk_data]    | Downloading package treebank to /root/nltk_data...\n",
            "[nltk_data]    |   Unzipping corpora/treebank.zip.\n",
            "[nltk_data]    | Downloading package twitter_samples to\n",
            "[nltk_data]    |     /root/nltk_data...\n",
            "[nltk_data]    |   Unzipping corpora/twitter_samples.zip.\n",
            "[nltk_data]    | Downloading package udhr to /root/nltk_data...\n",
            "[nltk_data]    |   Unzipping corpora/udhr.zip.\n",
            "[nltk_data]    | Downloading package udhr2 to /root/nltk_data...\n",
            "[nltk_data]    |   Unzipping corpora/udhr2.zip.\n",
            "[nltk_data]    | Downloading package unicode_samples to\n",
            "[nltk_data]    |     /root/nltk_data...\n",
            "[nltk_data]    |   Unzipping corpora/unicode_samples.zip.\n",
            "[nltk_data]    | Downloading package universal_treebanks_v20 to\n",
            "[nltk_data]    |     /root/nltk_data...\n",
            "[nltk_data]    | Downloading package verbnet to /root/nltk_data...\n",
            "[nltk_data]    |   Unzipping corpora/verbnet.zip.\n",
            "[nltk_data]    | Downloading package verbnet3 to /root/nltk_data...\n",
            "[nltk_data]    |   Unzipping corpora/verbnet3.zip.\n",
            "[nltk_data]    | Downloading package webtext to /root/nltk_data...\n",
            "[nltk_data]    |   Unzipping corpora/webtext.zip.\n",
            "[nltk_data]    | Downloading package wordnet to /root/nltk_data...\n",
            "[nltk_data]    |   Unzipping corpora/wordnet.zip.\n",
            "[nltk_data]    | Downloading package wordnet_ic to /root/nltk_data...\n",
            "[nltk_data]    |   Unzipping corpora/wordnet_ic.zip.\n",
            "[nltk_data]    | Downloading package words to /root/nltk_data...\n",
            "[nltk_data]    |   Unzipping corpora/words.zip.\n",
            "[nltk_data]    | Downloading package ycoe to /root/nltk_data...\n",
            "[nltk_data]    |   Unzipping corpora/ycoe.zip.\n",
            "[nltk_data]    | Downloading package rslp to /root/nltk_data...\n",
            "[nltk_data]    |   Unzipping stemmers/rslp.zip.\n",
            "[nltk_data]    | Downloading package maxent_treebank_pos_tagger to\n",
            "[nltk_data]    |     /root/nltk_data...\n",
            "[nltk_data]    |   Unzipping taggers/maxent_treebank_pos_tagger.zip.\n",
            "[nltk_data]    | Downloading package universal_tagset to\n",
            "[nltk_data]    |     /root/nltk_data...\n",
            "[nltk_data]    |   Unzipping taggers/universal_tagset.zip.\n",
            "[nltk_data]    | Downloading package maxent_ne_chunker to\n",
            "[nltk_data]    |     /root/nltk_data...\n",
            "[nltk_data]    |   Unzipping chunkers/maxent_ne_chunker.zip.\n",
            "[nltk_data]    | Downloading package punkt to /root/nltk_data...\n",
            "[nltk_data]    |   Unzipping tokenizers/punkt.zip.\n",
            "[nltk_data]    | Downloading package book_grammars to\n",
            "[nltk_data]    |     /root/nltk_data...\n",
            "[nltk_data]    |   Unzipping grammars/book_grammars.zip.\n",
            "[nltk_data]    | Downloading package sample_grammars to\n",
            "[nltk_data]    |     /root/nltk_data...\n",
            "[nltk_data]    |   Unzipping grammars/sample_grammars.zip.\n",
            "[nltk_data]    | Downloading package spanish_grammars to\n",
            "[nltk_data]    |     /root/nltk_data...\n",
            "[nltk_data]    |   Unzipping grammars/spanish_grammars.zip.\n",
            "[nltk_data]    | Downloading package basque_grammars to\n",
            "[nltk_data]    |     /root/nltk_data...\n",
            "[nltk_data]    |   Unzipping grammars/basque_grammars.zip.\n",
            "[nltk_data]    | Downloading package large_grammars to\n",
            "[nltk_data]    |     /root/nltk_data...\n",
            "[nltk_data]    |   Unzipping grammars/large_grammars.zip.\n",
            "[nltk_data]    | Downloading package tagsets to /root/nltk_data...\n",
            "[nltk_data]    |   Unzipping help/tagsets.zip.\n",
            "[nltk_data]    | Downloading package snowball_data to\n",
            "[nltk_data]    |     /root/nltk_data...\n",
            "[nltk_data]    | Downloading package bllip_wsj_no_aux to\n",
            "[nltk_data]    |     /root/nltk_data...\n",
            "[nltk_data]    |   Unzipping models/bllip_wsj_no_aux.zip.\n",
            "[nltk_data]    | Downloading package word2vec_sample to\n",
            "[nltk_data]    |     /root/nltk_data...\n",
            "[nltk_data]    |   Unzipping models/word2vec_sample.zip.\n",
            "[nltk_data]    | Downloading package panlex_swadesh to\n",
            "[nltk_data]    |     /root/nltk_data...\n",
            "[nltk_data]    | Downloading package mte_teip5 to /root/nltk_data...\n",
            "[nltk_data]    |   Unzipping corpora/mte_teip5.zip.\n",
            "[nltk_data]    | Downloading package averaged_perceptron_tagger to\n",
            "[nltk_data]    |     /root/nltk_data...\n",
            "[nltk_data]    |   Unzipping taggers/averaged_perceptron_tagger.zip.\n",
            "[nltk_data]    | Downloading package averaged_perceptron_tagger_ru to\n",
            "[nltk_data]    |     /root/nltk_data...\n",
            "[nltk_data]    |   Unzipping\n",
            "[nltk_data]    |       taggers/averaged_perceptron_tagger_ru.zip.\n",
            "[nltk_data]    | Downloading package perluniprops to\n",
            "[nltk_data]    |     /root/nltk_data...\n",
            "[nltk_data]    |   Unzipping misc/perluniprops.zip.\n",
            "[nltk_data]    | Downloading package nonbreaking_prefixes to\n",
            "[nltk_data]    |     /root/nltk_data...\n",
            "[nltk_data]    |   Unzipping corpora/nonbreaking_prefixes.zip.\n",
            "[nltk_data]    | Downloading package vader_lexicon to\n",
            "[nltk_data]    |     /root/nltk_data...\n",
            "[nltk_data]    | Downloading package porter_test to /root/nltk_data...\n",
            "[nltk_data]    |   Unzipping stemmers/porter_test.zip.\n",
            "[nltk_data]    | Downloading package wmt15_eval to /root/nltk_data...\n",
            "[nltk_data]    |   Unzipping models/wmt15_eval.zip.\n",
            "[nltk_data]    | Downloading package mwa_ppdb to /root/nltk_data...\n",
            "[nltk_data]    |   Unzipping misc/mwa_ppdb.zip.\n",
            "[nltk_data]    | \n",
            "[nltk_data]  Done downloading collection all\n"
          ],
          "name": "stdout"
        },
        {
          "output_type": "execute_result",
          "data": {
            "text/plain": [
              "True"
            ]
          },
          "metadata": {
            "tags": []
          },
          "execution_count": 44
        }
      ]
    },
    {
      "cell_type": "code",
      "metadata": {
        "id": "2-A9nKpL-8uX"
      },
      "source": [
        "def tokenize(document):\n",
        "  tokens = [lemma(w) for w in document.split() if w.isalpha()]\n",
        "  return tokens"
      ],
      "execution_count": 45,
      "outputs": []
    },
    {
      "cell_type": "code",
      "metadata": {
        "id": "tvRBLWDZ_OHa"
      },
      "source": [
        "df_sample['Title_Body_Tokens'] = df_sample['Title_Body'].apply(tokenize)"
      ],
      "execution_count": 46,
      "outputs": []
    },
    {
      "cell_type": "code",
      "metadata": {
        "colab": {
          "base_uri": "https://localhost:8080/",
          "height": 204
        },
        "id": "X1Tnv5GyAict",
        "outputId": "973d605f-ec7a-4c01-a609-f2493863c0c2"
      },
      "source": [
        "df_sample.head()"
      ],
      "execution_count": 47,
      "outputs": [
        {
          "output_type": "execute_result",
          "data": {
            "text/html": [
              "<div>\n",
              "<style scoped>\n",
              "    .dataframe tbody tr th:only-of-type {\n",
              "        vertical-align: middle;\n",
              "    }\n",
              "\n",
              "    .dataframe tbody tr th {\n",
              "        vertical-align: top;\n",
              "    }\n",
              "\n",
              "    .dataframe thead th {\n",
              "        text-align: right;\n",
              "    }\n",
              "</style>\n",
              "<table border=\"1\" class=\"dataframe\">\n",
              "  <thead>\n",
              "    <tr style=\"text-align: right;\">\n",
              "      <th></th>\n",
              "      <th>Title_Body</th>\n",
              "      <th>Tags</th>\n",
              "      <th>Title_Body_Tokens</th>\n",
              "    </tr>\n",
              "  </thead>\n",
              "  <tbody>\n",
              "    <tr>\n",
              "      <th>0</th>\n",
              "      <td>create tray icon webdings font trying create s...</td>\n",
              "      <td>&lt;c#&gt;&lt;.net&gt;&lt;windows&gt;&lt;icons&gt;</td>\n",
              "      <td>[create, tray, icon, webdings, font, trying, c...</td>\n",
              "    </tr>\n",
              "    <tr>\n",
              "      <th>1</th>\n",
              "      <td>intent basic execution p5 sentence 2 basic exe...</td>\n",
              "      <td>&lt;c++&gt;&lt;language-lawyer&gt;&lt;full-expression&gt;</td>\n",
              "      <td>[intent, basic, execution, sentence, basic, ex...</td>\n",
              "    </tr>\n",
              "    <tr>\n",
              "      <th>2</th>\n",
              "      <td>mongodb reduce array objects single object com...</td>\n",
              "      <td>&lt;mongodb&gt;&lt;mongodb-query&gt;&lt;aggregation-framework&gt;</td>\n",
              "      <td>[mongodb, reduce, array, object, single, objec...</td>\n",
              "    </tr>\n",
              "    <tr>\n",
              "      <th>3</th>\n",
              "      <td>laravel validate array objects wonder possible...</td>\n",
              "      <td>&lt;laravel&gt;</td>\n",
              "      <td>[laravel, validate, array, object, wonder, pos...</td>\n",
              "    </tr>\n",
              "    <tr>\n",
              "      <th>4</th>\n",
              "      <td>valueerror unknown activation function swish a...</td>\n",
              "      <td>&lt;python&gt;&lt;tensorflow&gt;&lt;keras&gt;&lt;activation-function&gt;</td>\n",
              "      <td>[valueerror, unknown, activation, function, sw...</td>\n",
              "    </tr>\n",
              "  </tbody>\n",
              "</table>\n",
              "</div>"
            ],
            "text/plain": [
              "                                          Title_Body  ...                                  Title_Body_Tokens\n",
              "0  create tray icon webdings font trying create s...  ...  [create, tray, icon, webdings, font, trying, c...\n",
              "1  intent basic execution p5 sentence 2 basic exe...  ...  [intent, basic, execution, sentence, basic, ex...\n",
              "2  mongodb reduce array objects single object com...  ...  [mongodb, reduce, array, object, single, objec...\n",
              "3  laravel validate array objects wonder possible...  ...  [laravel, validate, array, object, wonder, pos...\n",
              "4  valueerror unknown activation function swish a...  ...  [valueerror, unknown, activation, function, sw...\n",
              "\n",
              "[5 rows x 3 columns]"
            ]
          },
          "metadata": {
            "tags": []
          },
          "execution_count": 47
        }
      ]
    },
    {
      "cell_type": "markdown",
      "metadata": {
        "id": "58BY8RPp6s2o"
      },
      "source": [
        "## **Tags**"
      ]
    },
    {
      "cell_type": "code",
      "metadata": {
        "id": "2C_lMMvG8zck"
      },
      "source": [
        "from ast import literal_eval"
      ],
      "execution_count": 48,
      "outputs": []
    },
    {
      "cell_type": "code",
      "metadata": {
        "colab": {
          "base_uri": "https://localhost:8080/",
          "height": 35
        },
        "id": "oII-4uBa61r1",
        "outputId": "8038167d-fb12-4857-84db-6cb88222c6a3"
      },
      "source": [
        "df_sample.Tags.iloc[0]"
      ],
      "execution_count": 49,
      "outputs": [
        {
          "output_type": "execute_result",
          "data": {
            "application/vnd.google.colaboratory.intrinsic+json": {
              "type": "string"
            },
            "text/plain": [
              "'<c#><.net><windows><icons>'"
            ]
          },
          "metadata": {
            "tags": []
          },
          "execution_count": 49
        }
      ]
    },
    {
      "cell_type": "code",
      "metadata": {
        "id": "T8BRohxr7LzH"
      },
      "source": [
        "# convert data to list\n",
        "to_list = {'><': \"','\",'<':\"['\", '>':\"']\"}\n",
        "for key, value in to_list.items():\n",
        "  df_sample['Tags'] = df_sample['Tags'].str.replace(key, value)"
      ],
      "execution_count": 50,
      "outputs": []
    },
    {
      "cell_type": "code",
      "metadata": {
        "colab": {
          "base_uri": "https://localhost:8080/",
          "height": 204
        },
        "id": "ML0A3nej7PkU",
        "outputId": "a9ae56e2-b930-4dff-dfeb-ede79f0bdcc2"
      },
      "source": [
        "df_sample_tok = df_sample\n",
        "df_sample_tok.head()"
      ],
      "execution_count": 51,
      "outputs": [
        {
          "output_type": "execute_result",
          "data": {
            "text/html": [
              "<div>\n",
              "<style scoped>\n",
              "    .dataframe tbody tr th:only-of-type {\n",
              "        vertical-align: middle;\n",
              "    }\n",
              "\n",
              "    .dataframe tbody tr th {\n",
              "        vertical-align: top;\n",
              "    }\n",
              "\n",
              "    .dataframe thead th {\n",
              "        text-align: right;\n",
              "    }\n",
              "</style>\n",
              "<table border=\"1\" class=\"dataframe\">\n",
              "  <thead>\n",
              "    <tr style=\"text-align: right;\">\n",
              "      <th></th>\n",
              "      <th>Title_Body</th>\n",
              "      <th>Tags</th>\n",
              "      <th>Title_Body_Tokens</th>\n",
              "    </tr>\n",
              "  </thead>\n",
              "  <tbody>\n",
              "    <tr>\n",
              "      <th>0</th>\n",
              "      <td>create tray icon webdings font trying create s...</td>\n",
              "      <td>['c#','.net','windows','icons']</td>\n",
              "      <td>[create, tray, icon, webdings, font, trying, c...</td>\n",
              "    </tr>\n",
              "    <tr>\n",
              "      <th>1</th>\n",
              "      <td>intent basic execution p5 sentence 2 basic exe...</td>\n",
              "      <td>['c++','language-lawyer','full-expression']</td>\n",
              "      <td>[intent, basic, execution, sentence, basic, ex...</td>\n",
              "    </tr>\n",
              "    <tr>\n",
              "      <th>2</th>\n",
              "      <td>mongodb reduce array objects single object com...</td>\n",
              "      <td>['mongodb','mongodb-query','aggregation-framew...</td>\n",
              "      <td>[mongodb, reduce, array, object, single, objec...</td>\n",
              "    </tr>\n",
              "    <tr>\n",
              "      <th>3</th>\n",
              "      <td>laravel validate array objects wonder possible...</td>\n",
              "      <td>['laravel']</td>\n",
              "      <td>[laravel, validate, array, object, wonder, pos...</td>\n",
              "    </tr>\n",
              "    <tr>\n",
              "      <th>4</th>\n",
              "      <td>valueerror unknown activation function swish a...</td>\n",
              "      <td>['python','tensorflow','keras','activation-fun...</td>\n",
              "      <td>[valueerror, unknown, activation, function, sw...</td>\n",
              "    </tr>\n",
              "  </tbody>\n",
              "</table>\n",
              "</div>"
            ],
            "text/plain": [
              "                                          Title_Body  ...                                  Title_Body_Tokens\n",
              "0  create tray icon webdings font trying create s...  ...  [create, tray, icon, webdings, font, trying, c...\n",
              "1  intent basic execution p5 sentence 2 basic exe...  ...  [intent, basic, execution, sentence, basic, ex...\n",
              "2  mongodb reduce array objects single object com...  ...  [mongodb, reduce, array, object, single, objec...\n",
              "3  laravel validate array objects wonder possible...  ...  [laravel, validate, array, object, wonder, pos...\n",
              "4  valueerror unknown activation function swish a...  ...  [valueerror, unknown, activation, function, sw...\n",
              "\n",
              "[5 rows x 3 columns]"
            ]
          },
          "metadata": {
            "tags": []
          },
          "execution_count": 51
        }
      ]
    },
    {
      "cell_type": "code",
      "metadata": {
        "id": "ziEOs1rx8gU5"
      },
      "source": [
        "def to_list(df,column):\n",
        "  df[column] = df[column].apply(literal_eval)\n",
        "  return df"
      ],
      "execution_count": 52,
      "outputs": []
    },
    {
      "cell_type": "code",
      "metadata": {
        "id": "DCzMysyH8nNo"
      },
      "source": [
        "df_sample_list = to_list(df_sample_tok, 'Tags')"
      ],
      "execution_count": 53,
      "outputs": []
    },
    {
      "cell_type": "code",
      "metadata": {
        "colab": {
          "base_uri": "https://localhost:8080/",
          "height": 204
        },
        "id": "7FXbhsor8-OD",
        "outputId": "519c1f99-f699-4c56-89f0-5f2e2fb597de"
      },
      "source": [
        "reorganization = ['Title_Body', 'Title_Body_Tokens', 'Tags']\n",
        "df_sample_list = df_sample_list[reorganization]\n",
        "df_sample_list.head()\n"
      ],
      "execution_count": 54,
      "outputs": [
        {
          "output_type": "execute_result",
          "data": {
            "text/html": [
              "<div>\n",
              "<style scoped>\n",
              "    .dataframe tbody tr th:only-of-type {\n",
              "        vertical-align: middle;\n",
              "    }\n",
              "\n",
              "    .dataframe tbody tr th {\n",
              "        vertical-align: top;\n",
              "    }\n",
              "\n",
              "    .dataframe thead th {\n",
              "        text-align: right;\n",
              "    }\n",
              "</style>\n",
              "<table border=\"1\" class=\"dataframe\">\n",
              "  <thead>\n",
              "    <tr style=\"text-align: right;\">\n",
              "      <th></th>\n",
              "      <th>Title_Body</th>\n",
              "      <th>Title_Body_Tokens</th>\n",
              "      <th>Tags</th>\n",
              "    </tr>\n",
              "  </thead>\n",
              "  <tbody>\n",
              "    <tr>\n",
              "      <th>0</th>\n",
              "      <td>create tray icon webdings font trying create s...</td>\n",
              "      <td>[create, tray, icon, webdings, font, trying, c...</td>\n",
              "      <td>[c#, .net, windows, icons]</td>\n",
              "    </tr>\n",
              "    <tr>\n",
              "      <th>1</th>\n",
              "      <td>intent basic execution p5 sentence 2 basic exe...</td>\n",
              "      <td>[intent, basic, execution, sentence, basic, ex...</td>\n",
              "      <td>[c++, language-lawyer, full-expression]</td>\n",
              "    </tr>\n",
              "    <tr>\n",
              "      <th>2</th>\n",
              "      <td>mongodb reduce array objects single object com...</td>\n",
              "      <td>[mongodb, reduce, array, object, single, objec...</td>\n",
              "      <td>[mongodb, mongodb-query, aggregation-framework]</td>\n",
              "    </tr>\n",
              "    <tr>\n",
              "      <th>3</th>\n",
              "      <td>laravel validate array objects wonder possible...</td>\n",
              "      <td>[laravel, validate, array, object, wonder, pos...</td>\n",
              "      <td>[laravel]</td>\n",
              "    </tr>\n",
              "    <tr>\n",
              "      <th>4</th>\n",
              "      <td>valueerror unknown activation function swish a...</td>\n",
              "      <td>[valueerror, unknown, activation, function, sw...</td>\n",
              "      <td>[python, tensorflow, keras, activation-function]</td>\n",
              "    </tr>\n",
              "  </tbody>\n",
              "</table>\n",
              "</div>"
            ],
            "text/plain": [
              "                                          Title_Body  ...                                              Tags\n",
              "0  create tray icon webdings font trying create s...  ...                        [c#, .net, windows, icons]\n",
              "1  intent basic execution p5 sentence 2 basic exe...  ...           [c++, language-lawyer, full-expression]\n",
              "2  mongodb reduce array objects single object com...  ...   [mongodb, mongodb-query, aggregation-framework]\n",
              "3  laravel validate array objects wonder possible...  ...                                         [laravel]\n",
              "4  valueerror unknown activation function swish a...  ...  [python, tensorflow, keras, activation-function]\n",
              "\n",
              "[5 rows x 3 columns]"
            ]
          },
          "metadata": {
            "tags": []
          },
          "execution_count": 54
        }
      ]
    },
    {
      "cell_type": "code",
      "metadata": {
        "id": "B3_JDZFD-vWx"
      },
      "source": [
        "#df_sample_list.to_csv('df_sample_list.csv')"
      ],
      "execution_count": 55,
      "outputs": []
    },
    {
      "cell_type": "code",
      "metadata": {
        "id": "BA2nrw9wDbZb",
        "colab": {
          "base_uri": "https://localhost:8080/",
          "height": 204
        },
        "outputId": "bee0e205-4b1a-47c7-8ec7-e45791bc57e4"
      },
      "source": [
        "#df_mod = pd.read_csv('/content/drive/My Drive/CentraleSupelec_OCR/P6/df_sample_list.csv')\r\n",
        "#df_mod = df_mod.iloc[:, 1:]\r\n",
        "#df_mod.head()"
      ],
      "execution_count": 56,
      "outputs": [
        {
          "output_type": "execute_result",
          "data": {
            "text/html": [
              "<div>\n",
              "<style scoped>\n",
              "    .dataframe tbody tr th:only-of-type {\n",
              "        vertical-align: middle;\n",
              "    }\n",
              "\n",
              "    .dataframe tbody tr th {\n",
              "        vertical-align: top;\n",
              "    }\n",
              "\n",
              "    .dataframe thead th {\n",
              "        text-align: right;\n",
              "    }\n",
              "</style>\n",
              "<table border=\"1\" class=\"dataframe\">\n",
              "  <thead>\n",
              "    <tr style=\"text-align: right;\">\n",
              "      <th></th>\n",
              "      <th>Title_Body</th>\n",
              "      <th>Title_Body_Tokens</th>\n",
              "      <th>Tags</th>\n",
              "    </tr>\n",
              "  </thead>\n",
              "  <tbody>\n",
              "    <tr>\n",
              "      <th>0</th>\n",
              "      <td>create tray icon webdings font trying create s...</td>\n",
              "      <td>['create', 'tray', 'icon', 'webdings', 'font',...</td>\n",
              "      <td>['c#', '.net', 'windows', 'icons']</td>\n",
              "    </tr>\n",
              "    <tr>\n",
              "      <th>1</th>\n",
              "      <td>intent basic execution p5 sentence 2 basic exe...</td>\n",
              "      <td>['intent', 'basic', 'execution', 'sentence', '...</td>\n",
              "      <td>['c++', 'language-lawyer', 'full-expression']</td>\n",
              "    </tr>\n",
              "    <tr>\n",
              "      <th>2</th>\n",
              "      <td>mongodb reduce array objects single object com...</td>\n",
              "      <td>['mongodb', 'reduce', 'array', 'object', 'sing...</td>\n",
              "      <td>['mongodb', 'mongodb-query', 'aggregation-fram...</td>\n",
              "    </tr>\n",
              "    <tr>\n",
              "      <th>3</th>\n",
              "      <td>laravel validate array objects wonder possible...</td>\n",
              "      <td>['laravel', 'validate', 'array', 'object', 'wo...</td>\n",
              "      <td>['laravel']</td>\n",
              "    </tr>\n",
              "    <tr>\n",
              "      <th>4</th>\n",
              "      <td>valueerror unknown activation function swish a...</td>\n",
              "      <td>['valueerror', 'unknown', 'activation', 'funct...</td>\n",
              "      <td>['python', 'tensorflow', 'keras', 'activation-...</td>\n",
              "    </tr>\n",
              "  </tbody>\n",
              "</table>\n",
              "</div>"
            ],
            "text/plain": [
              "                                          Title_Body  ...                                               Tags\n",
              "0  create tray icon webdings font trying create s...  ...                 ['c#', '.net', 'windows', 'icons']\n",
              "1  intent basic execution p5 sentence 2 basic exe...  ...      ['c++', 'language-lawyer', 'full-expression']\n",
              "2  mongodb reduce array objects single object com...  ...  ['mongodb', 'mongodb-query', 'aggregation-fram...\n",
              "3  laravel validate array objects wonder possible...  ...                                        ['laravel']\n",
              "4  valueerror unknown activation function swish a...  ...  ['python', 'tensorflow', 'keras', 'activation-...\n",
              "\n",
              "[5 rows x 3 columns]"
            ]
          },
          "metadata": {
            "tags": []
          },
          "execution_count": 56
        }
      ]
    },
    {
      "cell_type": "code",
      "metadata": {
        "id": "286nYvcJsoh9"
      },
      "source": [
        "#questions2 = questions1.apply(tokenize)\n",
        "#questions2"
      ],
      "execution_count": 99,
      "outputs": []
    }
  ]
}