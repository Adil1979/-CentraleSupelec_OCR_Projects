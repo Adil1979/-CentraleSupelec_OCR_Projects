{
  "nbformat": 4,
  "nbformat_minor": 0,
  "metadata": {
    "colab": {
      "name": "01_P6_Analysis.ipynb",
      "provenance": [],
      "collapsed_sections": [],
      "authorship_tag": "ABX9TyMhrzxzzb1MUZoz9SkSWXKo",
      "include_colab_link": true
    },
    "kernelspec": {
      "display_name": "Python 3",
      "name": "python3"
    }
  },
  "cells": [
    {
      "cell_type": "markdown",
      "metadata": {
        "id": "view-in-github",
        "colab_type": "text"
      },
      "source": [
        "<a href=\"https://colab.research.google.com/github/Adil1979/P6_Tag_Recommendation_Stackoverflow/blob/master/01_P6_Preprocessing.ipynb\" target=\"_parent\"><img src=\"https://colab.research.google.com/assets/colab-badge.svg\" alt=\"Open In Colab\"/></a>"
      ]
    },
    {
      "cell_type": "markdown",
      "metadata": {
        "id": "FSop45eqebf6"
      },
      "source": [
        "# **Projet6: Catégorisation automatique de questions**"
      ]
    },
    {
      "cell_type": "markdown",
      "metadata": {
        "id": "2d2JN0EmexRG"
      },
      "source": [
        "## **1.Librairies**"
      ]
    },
    {
      "cell_type": "code",
      "metadata": {
        "id": "aQeDyOh9e59r",
        "colab": {
          "base_uri": "https://localhost:8080/"
        },
        "outputId": "92c8de9a-4b8a-4fc7-d781-e084762a2731"
      },
      "source": [
        "!pip install feature_engine"
      ],
      "execution_count": 6,
      "outputs": [
        {
          "output_type": "stream",
          "text": [
            "Requirement already satisfied: feature_engine in /usr/local/lib/python3.6/dist-packages (1.0.2)\n",
            "Requirement already satisfied: scipy>=1.4.1 in /usr/local/lib/python3.6/dist-packages (from feature_engine) (1.4.1)\n",
            "Requirement already satisfied: pandas>=1.0.3 in /usr/local/lib/python3.6/dist-packages (from feature_engine) (1.1.5)\n",
            "Requirement already satisfied: scikit-learn>=0.22.2 in /usr/local/lib/python3.6/dist-packages (from feature_engine) (0.22.2.post1)\n",
            "Requirement already satisfied: numpy>=1.18.2 in /usr/local/lib/python3.6/dist-packages (from feature_engine) (1.19.5)\n",
            "Requirement already satisfied: statsmodels>=0.11.1 in /usr/local/lib/python3.6/dist-packages (from feature_engine) (0.12.1)\n",
            "Requirement already satisfied: pytz>=2017.2 in /usr/local/lib/python3.6/dist-packages (from pandas>=1.0.3->feature_engine) (2018.9)\n",
            "Requirement already satisfied: python-dateutil>=2.7.3 in /usr/local/lib/python3.6/dist-packages (from pandas>=1.0.3->feature_engine) (2.8.1)\n",
            "Requirement already satisfied: joblib>=0.11 in /usr/local/lib/python3.6/dist-packages (from scikit-learn>=0.22.2->feature_engine) (1.0.0)\n",
            "Requirement already satisfied: patsy>=0.5 in /usr/local/lib/python3.6/dist-packages (from statsmodels>=0.11.1->feature_engine) (0.5.1)\n",
            "Requirement already satisfied: six>=1.5 in /usr/local/lib/python3.6/dist-packages (from python-dateutil>=2.7.3->pandas>=1.0.3->feature_engine) (1.15.0)\n"
          ],
          "name": "stdout"
        }
      ]
    },
    {
      "cell_type": "code",
      "metadata": {
        "id": "h-68rY2afKEY",
        "colab": {
          "base_uri": "https://localhost:8080/"
        },
        "outputId": "3b1e7f41-d4d9-4a50-c9bf-0f4963094cb6"
      },
      "source": [
        "!pip install plotly"
      ],
      "execution_count": 7,
      "outputs": [
        {
          "output_type": "stream",
          "text": [
            "Requirement already satisfied: plotly in /usr/local/lib/python3.6/dist-packages (4.4.1)\n",
            "Requirement already satisfied: six in /usr/local/lib/python3.6/dist-packages (from plotly) (1.15.0)\n",
            "Requirement already satisfied: retrying>=1.3.3 in /usr/local/lib/python3.6/dist-packages (from plotly) (1.3.3)\n"
          ],
          "name": "stdout"
        }
      ]
    },
    {
      "cell_type": "code",
      "metadata": {
        "id": "2qef7GyJftkd",
        "colab": {
          "base_uri": "https://localhost:8080/"
        },
        "outputId": "c9749717-141c-4370-bb19-32c4fcdc42f1"
      },
      "source": [
        "!pip install chart-studio"
      ],
      "execution_count": 8,
      "outputs": [
        {
          "output_type": "stream",
          "text": [
            "Requirement already satisfied: chart-studio in /usr/local/lib/python3.6/dist-packages (1.1.0)\n",
            "Requirement already satisfied: six in /usr/local/lib/python3.6/dist-packages (from chart-studio) (1.15.0)\n",
            "Requirement already satisfied: retrying>=1.3.3 in /usr/local/lib/python3.6/dist-packages (from chart-studio) (1.3.3)\n",
            "Requirement already satisfied: plotly in /usr/local/lib/python3.6/dist-packages (from chart-studio) (4.4.1)\n",
            "Requirement already satisfied: requests in /usr/local/lib/python3.6/dist-packages (from chart-studio) (2.23.0)\n",
            "Requirement already satisfied: idna<3,>=2.5 in /usr/local/lib/python3.6/dist-packages (from requests->chart-studio) (2.10)\n",
            "Requirement already satisfied: urllib3!=1.25.0,!=1.25.1,<1.26,>=1.21.1 in /usr/local/lib/python3.6/dist-packages (from requests->chart-studio) (1.24.3)\n",
            "Requirement already satisfied: chardet<4,>=3.0.2 in /usr/local/lib/python3.6/dist-packages (from requests->chart-studio) (3.0.4)\n",
            "Requirement already satisfied: certifi>=2017.4.17 in /usr/local/lib/python3.6/dist-packages (from requests->chart-studio) (2020.12.5)\n"
          ],
          "name": "stdout"
        }
      ]
    },
    {
      "cell_type": "code",
      "metadata": {
        "id": "FzNhblHKhse2",
        "colab": {
          "base_uri": "https://localhost:8080/"
        },
        "outputId": "feab40bb-cf42-4d58-a135-a1991159ed97"
      },
      "source": [
        "!pip install gensim # Gensim is an open-source library for unsupervised topic modeling and natural language processing"
      ],
      "execution_count": 9,
      "outputs": [
        {
          "output_type": "stream",
          "text": [
            "Requirement already satisfied: gensim in /usr/local/lib/python3.6/dist-packages (3.6.0)\n",
            "Requirement already satisfied: scipy>=0.18.1 in /usr/local/lib/python3.6/dist-packages (from gensim) (1.4.1)\n",
            "Requirement already satisfied: numpy>=1.11.3 in /usr/local/lib/python3.6/dist-packages (from gensim) (1.19.5)\n",
            "Requirement already satisfied: smart-open>=1.2.1 in /usr/local/lib/python3.6/dist-packages (from gensim) (4.1.0)\n",
            "Requirement already satisfied: six>=1.5.0 in /usr/local/lib/python3.6/dist-packages (from gensim) (1.15.0)\n"
          ],
          "name": "stdout"
        }
      ]
    },
    {
      "cell_type": "code",
      "metadata": {
        "id": "bSKusbMofUTn",
        "colab": {
          "base_uri": "https://localhost:8080/"
        },
        "outputId": "de995697-71e7-4daa-d09e-800b566c5630"
      },
      "source": [
        "import numpy as np\n",
        "import pandas as pd\n",
        "import matplotlib.pyplot as plt\n",
        "%matplotlib inline\n",
        "from matplotlib.lines import Line2D\n",
        "import matplotlib as mpl\n",
        "import chart_studio.plotly.plotly as py\n",
        "from collections import Counter\n",
        "#import plotly.plotly as py\n",
        "import seaborn as sns\n",
        "import datetime as dt\n",
        "import calendar as cld\n",
        "from scipy import stats\n",
        "from sklearn.model_selection import train_test_split\n",
        "from sklearn import preprocessing\n",
        "from sklearn.preprocessing import StandardScaler\n",
        "from sklearn.preprocessing import scale\n",
        "from os import listdir\n",
        "import glob\n",
        "import missingno as msno\n",
        "#from feature_engine.categorical_encoders import OneHotCategoricalEncoder\n",
        "from sklearn.decomposition import PCA\n",
        "from matplotlib import dates\n",
        "import nltk\n",
        "import re\n",
        "from nltk.corpus import stopwords \n",
        "nltk.download('stopwords')\n",
        "from nltk.stem.porter import PorterStemmer \n",
        "import string\n",
        "from collections import Counter\n",
        "from bs4 import BeautifulSoup\n",
        "import gensim\n",
        "from gensim.utils import simple_preprocess\n",
        "from gensim.parsing.preprocessing import STOPWORDS\n",
        "from gensim.models import Word2Vec #Word Embedding"
      ],
      "execution_count": 11,
      "outputs": [
        {
          "output_type": "stream",
          "text": [
            "[nltk_data] Downloading package stopwords to /root/nltk_data...\n",
            "[nltk_data]   Unzipping corpora/stopwords.zip.\n"
          ],
          "name": "stdout"
        }
      ]
    },
    {
      "cell_type": "markdown",
      "metadata": {
        "id": "YrTQifPy6BIA"
      },
      "source": [
        "SELECT Id, Body, Title, Tags\n",
        "\n",
        "FROM Posts\n",
        "\n",
        "WHERE Score >= 3 AND PostTypeId = 1\n",
        "\n",
        "ORDER BY RAND()\n",
        " \n",
        "ASC OFFSET 0 ROWS FETCH NEXT 50000 ROWS ONLY; de 0 à 50000"
      ]
    },
    {
      "cell_type": "markdown",
      "metadata": {
        "id": "_VMJmTqtf8gC"
      },
      "source": [
        "## **2.Data**"
      ]
    },
    {
      "cell_type": "code",
      "metadata": {
        "id": "YkIlB69CfiLQ",
        "colab": {
          "base_uri": "https://localhost:8080/"
        },
        "outputId": "a7c11fbe-f741-4c4e-e0f4-6231d10c83d9"
      },
      "source": [
        "from google.colab import drive\n",
        "drive.mount('/content/drive')"
      ],
      "execution_count": 12,
      "outputs": [
        {
          "output_type": "stream",
          "text": [
            "Mounted at /content/drive\n"
          ],
          "name": "stdout"
        }
      ]
    },
    {
      "cell_type": "code",
      "metadata": {
        "id": "ItEOW0AnhhI-"
      },
      "source": [
        "#df_analysis_01 = pd.read_csv('/content/drive/My Drive/CentraleSupelec_OCR/P6/QueryResults_01.csv')\n",
        "#df_analysis_02 = pd.read_csv('/content/drive/My Drive/CentraleSupelec_OCR/P6/QueryResults_02.csv')\n",
        "#df_analysis_03 = pd.read_csv('/content/drive/My Drive/CentraleSupelec_OCR/P6/QueryResults_03.csv')\n",
        "#frames = [df_analysis_01, df_analysis_02, df_analysis_03]\n",
        "#df_analysis = pd.concat(frames)\n",
        "#df_sample = df_analysis.sample(n=40000)\n",
        "#df_sample.to_csv('df_sample.csv')"
      ],
      "execution_count": 13,
      "outputs": []
    },
    {
      "cell_type": "code",
      "metadata": {
        "id": "XdjJHfgBM5nC",
        "colab": {
          "base_uri": "https://localhost:8080/",
          "height": 202
        },
        "outputId": "8242cbf6-935f-4b5c-f1d7-bd45e1bada9b"
      },
      "source": [
        "df_sample = pd.read_csv('/content/drive/My Drive/CentraleSupelec_OCR/P6/df_sample.csv')\n",
        "df_sample = df_sample.drop(['Unnamed: 0'], axis=1)\n",
        "df_sample.head()"
      ],
      "execution_count": 14,
      "outputs": [
        {
          "output_type": "execute_result",
          "data": {
            "text/html": [
              "<div>\n",
              "<style scoped>\n",
              "    .dataframe tbody tr th:only-of-type {\n",
              "        vertical-align: middle;\n",
              "    }\n",
              "\n",
              "    .dataframe tbody tr th {\n",
              "        vertical-align: top;\n",
              "    }\n",
              "\n",
              "    .dataframe thead th {\n",
              "        text-align: right;\n",
              "    }\n",
              "</style>\n",
              "<table border=\"1\" class=\"dataframe\">\n",
              "  <thead>\n",
              "    <tr style=\"text-align: right;\">\n",
              "      <th></th>\n",
              "      <th>Id</th>\n",
              "      <th>Body</th>\n",
              "      <th>Title</th>\n",
              "      <th>Tags</th>\n",
              "    </tr>\n",
              "  </thead>\n",
              "  <tbody>\n",
              "    <tr>\n",
              "      <th>0</th>\n",
              "      <td>57694656</td>\n",
              "      <td>&lt;p&gt;Pandas does not seem to find all elements i...</td>\n",
              "      <td>Pandas not finding elements in Columns</td>\n",
              "      <td>&lt;python&gt;&lt;pandas&gt;</td>\n",
              "    </tr>\n",
              "    <tr>\n",
              "      <th>1</th>\n",
              "      <td>10475856</td>\n",
              "      <td>&lt;p&gt;Assuming this works properly for telling if...</td>\n",
              "      <td>PHP, 'Haystack contains Needle?'</td>\n",
              "      <td>&lt;php&gt;</td>\n",
              "    </tr>\n",
              "    <tr>\n",
              "      <th>2</th>\n",
              "      <td>35064632</td>\n",
              "      <td>&lt;p&gt;I'm trying to understand substantial speed ...</td>\n",
              "      <td>Understanding json_agg performance in Postgres...</td>\n",
              "      <td>&lt;performance&gt;&lt;postgresql&gt;</td>\n",
              "    </tr>\n",
              "    <tr>\n",
              "      <th>3</th>\n",
              "      <td>42515650</td>\n",
              "      <td>&lt;p&gt;I have a simple java program. A main thread...</td>\n",
              "      <td>java: why main thread waits for child thread t...</td>\n",
              "      <td>&lt;java&gt;&lt;multithreading&gt;</td>\n",
              "    </tr>\n",
              "    <tr>\n",
              "      <th>4</th>\n",
              "      <td>8594144</td>\n",
              "      <td>&lt;p&gt;I want to stream live video to a browser wi...</td>\n",
              "      <td>Stream live video to browser (with low latency)</td>\n",
              "      <td>&lt;flash&gt;&lt;video&gt;&lt;stream&gt;&lt;live&gt;</td>\n",
              "    </tr>\n",
              "  </tbody>\n",
              "</table>\n",
              "</div>"
            ],
            "text/plain": [
              "         Id  ...                          Tags\n",
              "0  57694656  ...              <python><pandas>\n",
              "1  10475856  ...                         <php>\n",
              "2  35064632  ...     <performance><postgresql>\n",
              "3  42515650  ...        <java><multithreading>\n",
              "4   8594144  ...  <flash><video><stream><live>\n",
              "\n",
              "[5 rows x 4 columns]"
            ]
          },
          "metadata": {
            "tags": []
          },
          "execution_count": 14
        }
      ]
    },
    {
      "cell_type": "code",
      "metadata": {
        "id": "D5XpRFZ5mg9n",
        "colab": {
          "base_uri": "https://localhost:8080/"
        },
        "outputId": "e565d39a-5099-4300-9264-28de454f2efd"
      },
      "source": [
        "df_sample.info()"
      ],
      "execution_count": 15,
      "outputs": [
        {
          "output_type": "stream",
          "text": [
            "<class 'pandas.core.frame.DataFrame'>\n",
            "RangeIndex: 40000 entries, 0 to 39999\n",
            "Data columns (total 4 columns):\n",
            " #   Column  Non-Null Count  Dtype \n",
            "---  ------  --------------  ----- \n",
            " 0   Id      40000 non-null  int64 \n",
            " 1   Body    40000 non-null  object\n",
            " 2   Title   40000 non-null  object\n",
            " 3   Tags    40000 non-null  object\n",
            "dtypes: int64(1), object(3)\n",
            "memory usage: 1.2+ MB\n"
          ],
          "name": "stdout"
        }
      ]
    },
    {
      "cell_type": "code",
      "metadata": {
        "id": "bsRWYtvyoBZW",
        "colab": {
          "base_uri": "https://localhost:8080/",
          "height": 202
        },
        "outputId": "8307865c-8e62-4da5-a6a1-2df4faed9225"
      },
      "source": [
        "#df_sample = df_sample.loc[:, ['Id', 'Title', 'Body', 'Tags']]\n",
        "df_sample = df_sample.set_index('Id').reset_index(drop=True)\n",
        "df_sample.head()"
      ],
      "execution_count": 16,
      "outputs": [
        {
          "output_type": "execute_result",
          "data": {
            "text/html": [
              "<div>\n",
              "<style scoped>\n",
              "    .dataframe tbody tr th:only-of-type {\n",
              "        vertical-align: middle;\n",
              "    }\n",
              "\n",
              "    .dataframe tbody tr th {\n",
              "        vertical-align: top;\n",
              "    }\n",
              "\n",
              "    .dataframe thead th {\n",
              "        text-align: right;\n",
              "    }\n",
              "</style>\n",
              "<table border=\"1\" class=\"dataframe\">\n",
              "  <thead>\n",
              "    <tr style=\"text-align: right;\">\n",
              "      <th></th>\n",
              "      <th>Body</th>\n",
              "      <th>Title</th>\n",
              "      <th>Tags</th>\n",
              "    </tr>\n",
              "  </thead>\n",
              "  <tbody>\n",
              "    <tr>\n",
              "      <th>0</th>\n",
              "      <td>&lt;p&gt;Pandas does not seem to find all elements i...</td>\n",
              "      <td>Pandas not finding elements in Columns</td>\n",
              "      <td>&lt;python&gt;&lt;pandas&gt;</td>\n",
              "    </tr>\n",
              "    <tr>\n",
              "      <th>1</th>\n",
              "      <td>&lt;p&gt;Assuming this works properly for telling if...</td>\n",
              "      <td>PHP, 'Haystack contains Needle?'</td>\n",
              "      <td>&lt;php&gt;</td>\n",
              "    </tr>\n",
              "    <tr>\n",
              "      <th>2</th>\n",
              "      <td>&lt;p&gt;I'm trying to understand substantial speed ...</td>\n",
              "      <td>Understanding json_agg performance in Postgres...</td>\n",
              "      <td>&lt;performance&gt;&lt;postgresql&gt;</td>\n",
              "    </tr>\n",
              "    <tr>\n",
              "      <th>3</th>\n",
              "      <td>&lt;p&gt;I have a simple java program. A main thread...</td>\n",
              "      <td>java: why main thread waits for child thread t...</td>\n",
              "      <td>&lt;java&gt;&lt;multithreading&gt;</td>\n",
              "    </tr>\n",
              "    <tr>\n",
              "      <th>4</th>\n",
              "      <td>&lt;p&gt;I want to stream live video to a browser wi...</td>\n",
              "      <td>Stream live video to browser (with low latency)</td>\n",
              "      <td>&lt;flash&gt;&lt;video&gt;&lt;stream&gt;&lt;live&gt;</td>\n",
              "    </tr>\n",
              "  </tbody>\n",
              "</table>\n",
              "</div>"
            ],
            "text/plain": [
              "                                                Body  ...                          Tags\n",
              "0  <p>Pandas does not seem to find all elements i...  ...              <python><pandas>\n",
              "1  <p>Assuming this works properly for telling if...  ...                         <php>\n",
              "2  <p>I'm trying to understand substantial speed ...  ...     <performance><postgresql>\n",
              "3  <p>I have a simple java program. A main thread...  ...        <java><multithreading>\n",
              "4  <p>I want to stream live video to a browser wi...  ...  <flash><video><stream><live>\n",
              "\n",
              "[5 rows x 3 columns]"
            ]
          },
          "metadata": {
            "tags": []
          },
          "execution_count": 16
        }
      ]
    },
    {
      "cell_type": "markdown",
      "metadata": {
        "id": "rsq5NNeQY1MM"
      },
      "source": [
        "## **3.Preprocessing**"
      ]
    },
    {
      "cell_type": "code",
      "metadata": {
        "id": "cSS6pmwSuWSe",
        "colab": {
          "base_uri": "https://localhost:8080/"
        },
        "outputId": "a004124e-97f7-408d-d5fa-507ea70b42ca"
      },
      "source": [
        "df_sample.duplicated(subset=[\"Body\", \"Title\"]).sum()"
      ],
      "execution_count": 17,
      "outputs": [
        {
          "output_type": "execute_result",
          "data": {
            "text/plain": [
              "0"
            ]
          },
          "metadata": {
            "tags": []
          },
          "execution_count": 17
        }
      ]
    },
    {
      "cell_type": "code",
      "metadata": {
        "id": "C4NtewDAK46S"
      },
      "source": [
        "example_body = df_sample.Body.iloc[0]"
      ],
      "execution_count": 18,
      "outputs": []
    },
    {
      "cell_type": "code",
      "metadata": {
        "id": "v0FcnRlmLaop",
        "colab": {
          "base_uri": "https://localhost:8080/",
          "height": 87
        },
        "outputId": "078d926d-1ffc-4cb2-8e97-897c9f4b93ff"
      },
      "source": [
        "example_body"
      ],
      "execution_count": 19,
      "outputs": [
        {
          "output_type": "execute_result",
          "data": {
            "application/vnd.google.colaboratory.intrinsic+json": {
              "type": "string"
            },
            "text/plain": [
              "'<p>Pandas does not seem to find all elements in a list:</p>\\n\\n<pre><code>df = pd.DataFrame({\"rid\": [\"125264429\", \"a\"], \"id\": [1, 2]})\\n1 in df[\"id\"]                # &lt;- expect True, get True\\n\"125264429\" in df[\"rid\"]     # &lt;- expect True, get False\\ndf[df[\"rid\"] == \"125264429\"] # &lt;- yields result\\n</code></pre>\\n\\n<p>I am sure there is a perfectly reasonable explanation for this behaviour, but I can\\'t seem to find it. It seems that the last two columns contradict each other.\\nDoes it have to do something with the fact that the datatype of the \"rid\" column is object?</p>\\n'"
            ]
          },
          "metadata": {
            "tags": []
          },
          "execution_count": 19
        }
      ]
    },
    {
      "cell_type": "code",
      "metadata": {
        "id": "u-o4p8QYLgz9"
      },
      "source": [
        "example_title = df_sample.Title.iloc[0]"
      ],
      "execution_count": 20,
      "outputs": []
    },
    {
      "cell_type": "code",
      "metadata": {
        "id": "_EJVGUYKLsGM",
        "colab": {
          "base_uri": "https://localhost:8080/",
          "height": 35
        },
        "outputId": "e92dd82b-3453-4e21-bfa9-29ae71c59bb8"
      },
      "source": [
        "example_title"
      ],
      "execution_count": 21,
      "outputs": [
        {
          "output_type": "execute_result",
          "data": {
            "application/vnd.google.colaboratory.intrinsic+json": {
              "type": "string"
            },
            "text/plain": [
              "'Pandas not finding elements in Columns'"
            ]
          },
          "metadata": {
            "tags": []
          },
          "execution_count": 21
        }
      ]
    },
    {
      "cell_type": "code",
      "metadata": {
        "id": "M9luITnRArx8"
      },
      "source": [
        "#Merge Title and Body\n",
        "df_sample['Question'] = df_sample['Title'] + ' ' + df_sample['Body']"
      ],
      "execution_count": 22,
      "outputs": []
    },
    {
      "cell_type": "code",
      "metadata": {
        "id": "KOEE0BMDvNJr",
        "colab": {
          "base_uri": "https://localhost:8080/",
          "height": 289
        },
        "outputId": "2ecfcb23-9ade-4219-cc11-abfae925cfdf"
      },
      "source": [
        "df_sample.head()\n"
      ],
      "execution_count": 23,
      "outputs": [
        {
          "output_type": "execute_result",
          "data": {
            "text/html": [
              "<div>\n",
              "<style scoped>\n",
              "    .dataframe tbody tr th:only-of-type {\n",
              "        vertical-align: middle;\n",
              "    }\n",
              "\n",
              "    .dataframe tbody tr th {\n",
              "        vertical-align: top;\n",
              "    }\n",
              "\n",
              "    .dataframe thead th {\n",
              "        text-align: right;\n",
              "    }\n",
              "</style>\n",
              "<table border=\"1\" class=\"dataframe\">\n",
              "  <thead>\n",
              "    <tr style=\"text-align: right;\">\n",
              "      <th></th>\n",
              "      <th>Body</th>\n",
              "      <th>Title</th>\n",
              "      <th>Tags</th>\n",
              "      <th>Question</th>\n",
              "    </tr>\n",
              "  </thead>\n",
              "  <tbody>\n",
              "    <tr>\n",
              "      <th>0</th>\n",
              "      <td>&lt;p&gt;Pandas does not seem to find all elements i...</td>\n",
              "      <td>Pandas not finding elements in Columns</td>\n",
              "      <td>&lt;python&gt;&lt;pandas&gt;</td>\n",
              "      <td>Pandas not finding elements in Columns &lt;p&gt;Pand...</td>\n",
              "    </tr>\n",
              "    <tr>\n",
              "      <th>1</th>\n",
              "      <td>&lt;p&gt;Assuming this works properly for telling if...</td>\n",
              "      <td>PHP, 'Haystack contains Needle?'</td>\n",
              "      <td>&lt;php&gt;</td>\n",
              "      <td>PHP, 'Haystack contains Needle?' &lt;p&gt;Assuming t...</td>\n",
              "    </tr>\n",
              "    <tr>\n",
              "      <th>2</th>\n",
              "      <td>&lt;p&gt;I'm trying to understand substantial speed ...</td>\n",
              "      <td>Understanding json_agg performance in Postgres...</td>\n",
              "      <td>&lt;performance&gt;&lt;postgresql&gt;</td>\n",
              "      <td>Understanding json_agg performance in Postgres...</td>\n",
              "    </tr>\n",
              "    <tr>\n",
              "      <th>3</th>\n",
              "      <td>&lt;p&gt;I have a simple java program. A main thread...</td>\n",
              "      <td>java: why main thread waits for child thread t...</td>\n",
              "      <td>&lt;java&gt;&lt;multithreading&gt;</td>\n",
              "      <td>java: why main thread waits for child thread t...</td>\n",
              "    </tr>\n",
              "    <tr>\n",
              "      <th>4</th>\n",
              "      <td>&lt;p&gt;I want to stream live video to a browser wi...</td>\n",
              "      <td>Stream live video to browser (with low latency)</td>\n",
              "      <td>&lt;flash&gt;&lt;video&gt;&lt;stream&gt;&lt;live&gt;</td>\n",
              "      <td>Stream live video to browser (with low latency...</td>\n",
              "    </tr>\n",
              "  </tbody>\n",
              "</table>\n",
              "</div>"
            ],
            "text/plain": [
              "                                                Body  ...                                           Question\n",
              "0  <p>Pandas does not seem to find all elements i...  ...  Pandas not finding elements in Columns <p>Pand...\n",
              "1  <p>Assuming this works properly for telling if...  ...  PHP, 'Haystack contains Needle?' <p>Assuming t...\n",
              "2  <p>I'm trying to understand substantial speed ...  ...  Understanding json_agg performance in Postgres...\n",
              "3  <p>I have a simple java program. A main thread...  ...  java: why main thread waits for child thread t...\n",
              "4  <p>I want to stream live video to a browser wi...  ...  Stream live video to browser (with low latency...\n",
              "\n",
              "[5 rows x 4 columns]"
            ]
          },
          "metadata": {
            "tags": []
          },
          "execution_count": 23
        }
      ]
    },
    {
      "cell_type": "code",
      "metadata": {
        "id": "otKOZCqRvbF-"
      },
      "source": [
        "variables_reorganization = ['Question', 'Tags']\n",
        "df_sample = df_sample[['Question', 'Tags']]"
      ],
      "execution_count": 24,
      "outputs": []
    },
    {
      "cell_type": "code",
      "metadata": {
        "id": "jW2klWNWv9Ca",
        "colab": {
          "base_uri": "https://localhost:8080/",
          "height": 202
        },
        "outputId": "1849814b-85f6-45ac-c624-82b07e9b8d2c"
      },
      "source": [
        "df_sample.head()"
      ],
      "execution_count": 25,
      "outputs": [
        {
          "output_type": "execute_result",
          "data": {
            "text/html": [
              "<div>\n",
              "<style scoped>\n",
              "    .dataframe tbody tr th:only-of-type {\n",
              "        vertical-align: middle;\n",
              "    }\n",
              "\n",
              "    .dataframe tbody tr th {\n",
              "        vertical-align: top;\n",
              "    }\n",
              "\n",
              "    .dataframe thead th {\n",
              "        text-align: right;\n",
              "    }\n",
              "</style>\n",
              "<table border=\"1\" class=\"dataframe\">\n",
              "  <thead>\n",
              "    <tr style=\"text-align: right;\">\n",
              "      <th></th>\n",
              "      <th>Question</th>\n",
              "      <th>Tags</th>\n",
              "    </tr>\n",
              "  </thead>\n",
              "  <tbody>\n",
              "    <tr>\n",
              "      <th>0</th>\n",
              "      <td>Pandas not finding elements in Columns &lt;p&gt;Pand...</td>\n",
              "      <td>&lt;python&gt;&lt;pandas&gt;</td>\n",
              "    </tr>\n",
              "    <tr>\n",
              "      <th>1</th>\n",
              "      <td>PHP, 'Haystack contains Needle?' &lt;p&gt;Assuming t...</td>\n",
              "      <td>&lt;php&gt;</td>\n",
              "    </tr>\n",
              "    <tr>\n",
              "      <th>2</th>\n",
              "      <td>Understanding json_agg performance in Postgres...</td>\n",
              "      <td>&lt;performance&gt;&lt;postgresql&gt;</td>\n",
              "    </tr>\n",
              "    <tr>\n",
              "      <th>3</th>\n",
              "      <td>java: why main thread waits for child thread t...</td>\n",
              "      <td>&lt;java&gt;&lt;multithreading&gt;</td>\n",
              "    </tr>\n",
              "    <tr>\n",
              "      <th>4</th>\n",
              "      <td>Stream live video to browser (with low latency...</td>\n",
              "      <td>&lt;flash&gt;&lt;video&gt;&lt;stream&gt;&lt;live&gt;</td>\n",
              "    </tr>\n",
              "  </tbody>\n",
              "</table>\n",
              "</div>"
            ],
            "text/plain": [
              "                                            Question                          Tags\n",
              "0  Pandas not finding elements in Columns <p>Pand...              <python><pandas>\n",
              "1  PHP, 'Haystack contains Needle?' <p>Assuming t...                         <php>\n",
              "2  Understanding json_agg performance in Postgres...     <performance><postgresql>\n",
              "3  java: why main thread waits for child thread t...        <java><multithreading>\n",
              "4  Stream live video to browser (with low latency...  <flash><video><stream><live>"
            ]
          },
          "metadata": {
            "tags": []
          },
          "execution_count": 25
        }
      ]
    },
    {
      "cell_type": "code",
      "metadata": {
        "id": "41veqd4nsmUH",
        "colab": {
          "base_uri": "https://localhost:8080/",
          "height": 105
        },
        "outputId": "612568c8-7c72-48c7-8289-1f82eadceb4b"
      },
      "source": [
        "df_sample.Question.iloc[0]"
      ],
      "execution_count": 26,
      "outputs": [
        {
          "output_type": "execute_result",
          "data": {
            "application/vnd.google.colaboratory.intrinsic+json": {
              "type": "string"
            },
            "text/plain": [
              "'Pandas not finding elements in Columns <p>Pandas does not seem to find all elements in a list:</p>\\n\\n<pre><code>df = pd.DataFrame({\"rid\": [\"125264429\", \"a\"], \"id\": [1, 2]})\\n1 in df[\"id\"]                # &lt;- expect True, get True\\n\"125264429\" in df[\"rid\"]     # &lt;- expect True, get False\\ndf[df[\"rid\"] == \"125264429\"] # &lt;- yields result\\n</code></pre>\\n\\n<p>I am sure there is a perfectly reasonable explanation for this behaviour, but I can\\'t seem to find it. It seems that the last two columns contradict each other.\\nDoes it have to do something with the fact that the datatype of the \"rid\" column is object?</p>\\n'"
            ]
          },
          "metadata": {
            "tags": []
          },
          "execution_count": 26
        }
      ]
    },
    {
      "cell_type": "markdown",
      "metadata": {
        "id": "FKJpzA3GjfUs"
      },
      "source": [
        "### **HTML**"
      ]
    },
    {
      "cell_type": "code",
      "metadata": {
        "id": "ODJZRQTKtawy"
      },
      "source": [
        "#HTML characters removing\n",
        "def remove_html(body):\n",
        "  html_regex = re.compile('<.*?>') #Compile regular expresions\n",
        "  return re.sub(html_regex, ' ', str(body)) # Replace regex by ' '"
      ],
      "execution_count": 27,
      "outputs": []
    },
    {
      "cell_type": "code",
      "metadata": {
        "id": "FuOICImzpMJe",
        "colab": {
          "base_uri": "https://localhost:8080/",
          "height": 202
        },
        "outputId": "7e499ee0-2573-4c64-e155-4fe557d3394d"
      },
      "source": [
        "df_sample['Question'] = df_sample['Question'].apply(remove_html)\n",
        "df_sample.head()"
      ],
      "execution_count": 28,
      "outputs": [
        {
          "output_type": "execute_result",
          "data": {
            "text/html": [
              "<div>\n",
              "<style scoped>\n",
              "    .dataframe tbody tr th:only-of-type {\n",
              "        vertical-align: middle;\n",
              "    }\n",
              "\n",
              "    .dataframe tbody tr th {\n",
              "        vertical-align: top;\n",
              "    }\n",
              "\n",
              "    .dataframe thead th {\n",
              "        text-align: right;\n",
              "    }\n",
              "</style>\n",
              "<table border=\"1\" class=\"dataframe\">\n",
              "  <thead>\n",
              "    <tr style=\"text-align: right;\">\n",
              "      <th></th>\n",
              "      <th>Question</th>\n",
              "      <th>Tags</th>\n",
              "    </tr>\n",
              "  </thead>\n",
              "  <tbody>\n",
              "    <tr>\n",
              "      <th>0</th>\n",
              "      <td>Pandas not finding elements in Columns  Pandas...</td>\n",
              "      <td>&lt;python&gt;&lt;pandas&gt;</td>\n",
              "    </tr>\n",
              "    <tr>\n",
              "      <th>1</th>\n",
              "      <td>PHP, 'Haystack contains Needle?'  Assuming thi...</td>\n",
              "      <td>&lt;php&gt;</td>\n",
              "    </tr>\n",
              "    <tr>\n",
              "      <th>2</th>\n",
              "      <td>Understanding json_agg performance in Postgres...</td>\n",
              "      <td>&lt;performance&gt;&lt;postgresql&gt;</td>\n",
              "    </tr>\n",
              "    <tr>\n",
              "      <th>3</th>\n",
              "      <td>java: why main thread waits for child thread t...</td>\n",
              "      <td>&lt;java&gt;&lt;multithreading&gt;</td>\n",
              "    </tr>\n",
              "    <tr>\n",
              "      <th>4</th>\n",
              "      <td>Stream live video to browser (with low latency...</td>\n",
              "      <td>&lt;flash&gt;&lt;video&gt;&lt;stream&gt;&lt;live&gt;</td>\n",
              "    </tr>\n",
              "  </tbody>\n",
              "</table>\n",
              "</div>"
            ],
            "text/plain": [
              "                                            Question                          Tags\n",
              "0  Pandas not finding elements in Columns  Pandas...              <python><pandas>\n",
              "1  PHP, 'Haystack contains Needle?'  Assuming thi...                         <php>\n",
              "2  Understanding json_agg performance in Postgres...     <performance><postgresql>\n",
              "3  java: why main thread waits for child thread t...        <java><multithreading>\n",
              "4  Stream live video to browser (with low latency...  <flash><video><stream><live>"
            ]
          },
          "metadata": {
            "tags": []
          },
          "execution_count": 28
        }
      ]
    },
    {
      "cell_type": "code",
      "metadata": {
        "id": "vkoq83Wch7_0",
        "colab": {
          "base_uri": "https://localhost:8080/",
          "height": 105
        },
        "outputId": "ff1a9b70-a1a1-4b44-89db-7a9e67443a2f"
      },
      "source": [
        "df_sample.Question.iloc[0]"
      ],
      "execution_count": 29,
      "outputs": [
        {
          "output_type": "execute_result",
          "data": {
            "application/vnd.google.colaboratory.intrinsic+json": {
              "type": "string"
            },
            "text/plain": [
              "'Pandas not finding elements in Columns  Pandas does not seem to find all elements in a list: \\n\\n  df = pd.DataFrame({\"rid\": [\"125264429\", \"a\"], \"id\": [1, 2]})\\n1 in df[\"id\"]                # &lt;- expect True, get True\\n\"125264429\" in df[\"rid\"]     # &lt;- expect True, get False\\ndf[df[\"rid\"] == \"125264429\"] # &lt;- yields result\\n  \\n\\n I am sure there is a perfectly reasonable explanation for this behaviour, but I can\\'t seem to find it. It seems that the last two columns contradict each other.\\nDoes it have to do something with the fact that the datatype of the \"rid\" column is object? \\n'"
            ]
          },
          "metadata": {
            "tags": []
          },
          "execution_count": 29
        }
      ]
    },
    {
      "cell_type": "markdown",
      "metadata": {
        "id": "0vJRcF76jncB"
      },
      "source": [
        "### **URL**"
      ]
    },
    {
      "cell_type": "code",
      "metadata": {
        "id": "x5QvAxQnwylj"
      },
      "source": [
        "#URL removing\n",
        "def remove_url(body):\n",
        "  url_regex = 'http[s]?://(?:[a-zA-Z]|[0-9]|[$-_@.&+]|[!*\\(\\),]|(?:%[0-9a-fA-F][0-9a-fA-F]))+'\n",
        "  return re.sub(url_regex, ' ', str(body))  "
      ],
      "execution_count": 30,
      "outputs": []
    },
    {
      "cell_type": "code",
      "metadata": {
        "id": "PVZuq5NeL6E-",
        "colab": {
          "base_uri": "https://localhost:8080/",
          "height": 202
        },
        "outputId": "548aa1c6-d598-4a0a-c508-035b992db5d2"
      },
      "source": [
        "df_sample['Question'] = df_sample['Question'].apply(remove_url)\n",
        "df_sample.head()"
      ],
      "execution_count": 31,
      "outputs": [
        {
          "output_type": "execute_result",
          "data": {
            "text/html": [
              "<div>\n",
              "<style scoped>\n",
              "    .dataframe tbody tr th:only-of-type {\n",
              "        vertical-align: middle;\n",
              "    }\n",
              "\n",
              "    .dataframe tbody tr th {\n",
              "        vertical-align: top;\n",
              "    }\n",
              "\n",
              "    .dataframe thead th {\n",
              "        text-align: right;\n",
              "    }\n",
              "</style>\n",
              "<table border=\"1\" class=\"dataframe\">\n",
              "  <thead>\n",
              "    <tr style=\"text-align: right;\">\n",
              "      <th></th>\n",
              "      <th>Question</th>\n",
              "      <th>Tags</th>\n",
              "    </tr>\n",
              "  </thead>\n",
              "  <tbody>\n",
              "    <tr>\n",
              "      <th>0</th>\n",
              "      <td>Pandas not finding elements in Columns  Pandas...</td>\n",
              "      <td>&lt;python&gt;&lt;pandas&gt;</td>\n",
              "    </tr>\n",
              "    <tr>\n",
              "      <th>1</th>\n",
              "      <td>PHP, 'Haystack contains Needle?'  Assuming thi...</td>\n",
              "      <td>&lt;php&gt;</td>\n",
              "    </tr>\n",
              "    <tr>\n",
              "      <th>2</th>\n",
              "      <td>Understanding json_agg performance in Postgres...</td>\n",
              "      <td>&lt;performance&gt;&lt;postgresql&gt;</td>\n",
              "    </tr>\n",
              "    <tr>\n",
              "      <th>3</th>\n",
              "      <td>java: why main thread waits for child thread t...</td>\n",
              "      <td>&lt;java&gt;&lt;multithreading&gt;</td>\n",
              "    </tr>\n",
              "    <tr>\n",
              "      <th>4</th>\n",
              "      <td>Stream live video to browser (with low latency...</td>\n",
              "      <td>&lt;flash&gt;&lt;video&gt;&lt;stream&gt;&lt;live&gt;</td>\n",
              "    </tr>\n",
              "  </tbody>\n",
              "</table>\n",
              "</div>"
            ],
            "text/plain": [
              "                                            Question                          Tags\n",
              "0  Pandas not finding elements in Columns  Pandas...              <python><pandas>\n",
              "1  PHP, 'Haystack contains Needle?'  Assuming thi...                         <php>\n",
              "2  Understanding json_agg performance in Postgres...     <performance><postgresql>\n",
              "3  java: why main thread waits for child thread t...        <java><multithreading>\n",
              "4  Stream live video to browser (with low latency...  <flash><video><stream><live>"
            ]
          },
          "metadata": {
            "tags": []
          },
          "execution_count": 31
        }
      ]
    },
    {
      "cell_type": "code",
      "metadata": {
        "id": "L43cenkZiH6I",
        "colab": {
          "base_uri": "https://localhost:8080/",
          "height": 105
        },
        "outputId": "9799e17c-eb94-4474-e5f1-476eaa272347"
      },
      "source": [
        "df_sample.Question.iloc[0]"
      ],
      "execution_count": 33,
      "outputs": [
        {
          "output_type": "execute_result",
          "data": {
            "application/vnd.google.colaboratory.intrinsic+json": {
              "type": "string"
            },
            "text/plain": [
              "'Pandas not finding elements in Columns  Pandas does not seem to find all elements in a list: \\n\\n  df = pd.DataFrame({\"rid\": [\"125264429\", \"a\"], \"id\": [1, 2]})\\n1 in df[\"id\"]                # &lt;- expect True, get True\\n\"125264429\" in df[\"rid\"]     # &lt;- expect True, get False\\ndf[df[\"rid\"] == \"125264429\"] # &lt;- yields result\\n  \\n\\n I am sure there is a perfectly reasonable explanation for this behaviour, but I can\\'t seem to find it. It seems that the last two columns contradict each other.\\nDoes it have to do something with the fact that the datatype of the \"rid\" column is object? \\n'"
            ]
          },
          "metadata": {
            "tags": []
          },
          "execution_count": 33
        }
      ]
    },
    {
      "cell_type": "markdown",
      "metadata": {
        "id": "oqrGUCL-ju-K"
      },
      "source": [
        "### **Punctuation**"
      ]
    },
    {
      "cell_type": "code",
      "metadata": {
        "id": "Rg1XwcS7qzcX"
      },
      "source": [
        "#Punctuation removing\n",
        "def remove_punc(body):\n",
        "  clean_text = re.sub(r'[?|!|\"|:|=|_|{|}|[|]|-|$|%|^|&|]',r' ',str(body))\n",
        "  clean_text = re.sub(r'[.|,|)|(|\\|/|-|~|`|>|<|*|$|@|;|→|#|]',r' ', clean_text)\n",
        "  return clean_text"
      ],
      "execution_count": 45,
      "outputs": []
    },
    {
      "cell_type": "code",
      "metadata": {
        "id": "pbLLFOAZ9x9k"
      },
      "source": [
        "df_sample['Question'] = df_sample['Question'].apply(remove_punc)"
      ],
      "execution_count": 46,
      "outputs": []
    },
    {
      "cell_type": "code",
      "metadata": {
        "id": "N1v00_8giS9s",
        "colab": {
          "base_uri": "https://localhost:8080/",
          "height": 87
        },
        "outputId": "752af852-e096-4d31-f821-386bfe7d5760"
      },
      "source": [
        "df_sample.Question.iloc[0]"
      ],
      "execution_count": 47,
      "outputs": [
        {
          "output_type": "execute_result",
          "data": {
            "application/vnd.google.colaboratory.intrinsic+json": {
              "type": "string"
            },
            "text/plain": [
              "' pandas not finding elements in columns pandas does not seem to find all elements in a list df pd dataframe rid 125264429 a id 1 2 1 in df id   lt expect true get true 125264429 in df rid   lt expect true get false df df rid 125264429   lt yields result i am sure there is a perfectly reasonable explanation for this behaviour but i can t seem to find it it seems that the last two columns contradict each other does it have to do something with the fact that the datatype of the rid column is object '"
            ]
          },
          "metadata": {
            "tags": []
          },
          "execution_count": 47
        }
      ]
    },
    {
      "cell_type": "markdown",
      "metadata": {
        "id": "spUwNPvIj6-o"
      },
      "source": [
        "### **Other characters**"
      ]
    },
    {
      "cell_type": "code",
      "metadata": {
        "id": "jhnRPj4ye-L7"
      },
      "source": [
        "#All characters removing except letters, numbers \n",
        "#Lower\n",
        "def remove_other(body):\n",
        "  text = str(body)\n",
        "  clean_text = re.sub(r\"[^a-zA-Z0-9#+-]\", \" \", text.lower())\n",
        "  return clean_text"
      ],
      "execution_count": 48,
      "outputs": []
    },
    {
      "cell_type": "code",
      "metadata": {
        "id": "2ODVUIyvgSsq",
        "colab": {
          "base_uri": "https://localhost:8080/",
          "height": 202
        },
        "outputId": "d8bbe2ee-c5df-46f2-c7ed-8cb7f7ef5782"
      },
      "source": [
        "df_sample['Question'] = df_sample['Question'].apply(remove_other)\n",
        "df_sample.head()"
      ],
      "execution_count": 49,
      "outputs": [
        {
          "output_type": "execute_result",
          "data": {
            "text/html": [
              "<div>\n",
              "<style scoped>\n",
              "    .dataframe tbody tr th:only-of-type {\n",
              "        vertical-align: middle;\n",
              "    }\n",
              "\n",
              "    .dataframe tbody tr th {\n",
              "        vertical-align: top;\n",
              "    }\n",
              "\n",
              "    .dataframe thead th {\n",
              "        text-align: right;\n",
              "    }\n",
              "</style>\n",
              "<table border=\"1\" class=\"dataframe\">\n",
              "  <thead>\n",
              "    <tr style=\"text-align: right;\">\n",
              "      <th></th>\n",
              "      <th>Question</th>\n",
              "      <th>Tags</th>\n",
              "    </tr>\n",
              "  </thead>\n",
              "  <tbody>\n",
              "    <tr>\n",
              "      <th>0</th>\n",
              "      <td>pandas not finding elements in columns pandas...</td>\n",
              "      <td>&lt;python&gt;&lt;pandas&gt;</td>\n",
              "    </tr>\n",
              "    <tr>\n",
              "      <th>1</th>\n",
              "      <td>php haystack contains needle assuming this wo...</td>\n",
              "      <td>&lt;php&gt;</td>\n",
              "    </tr>\n",
              "    <tr>\n",
              "      <th>2</th>\n",
              "      <td>understanding json agg performance in postgre...</td>\n",
              "      <td>&lt;performance&gt;&lt;postgresql&gt;</td>\n",
              "    </tr>\n",
              "    <tr>\n",
              "      <th>3</th>\n",
              "      <td>java why main thread waits for child thread t...</td>\n",
              "      <td>&lt;java&gt;&lt;multithreading&gt;</td>\n",
              "    </tr>\n",
              "    <tr>\n",
              "      <th>4</th>\n",
              "      <td>stream live video to browser with low latency...</td>\n",
              "      <td>&lt;flash&gt;&lt;video&gt;&lt;stream&gt;&lt;live&gt;</td>\n",
              "    </tr>\n",
              "  </tbody>\n",
              "</table>\n",
              "</div>"
            ],
            "text/plain": [
              "                                            Question                          Tags\n",
              "0   pandas not finding elements in columns pandas...              <python><pandas>\n",
              "1   php haystack contains needle assuming this wo...                         <php>\n",
              "2   understanding json agg performance in postgre...     <performance><postgresql>\n",
              "3   java why main thread waits for child thread t...        <java><multithreading>\n",
              "4   stream live video to browser with low latency...  <flash><video><stream><live>"
            ]
          },
          "metadata": {
            "tags": []
          },
          "execution_count": 49
        }
      ]
    },
    {
      "cell_type": "code",
      "metadata": {
        "id": "5ICRcIezhPF0",
        "colab": {
          "base_uri": "https://localhost:8080/",
          "height": 87
        },
        "outputId": "35d51750-e14a-4c76-ecaa-ddda72919f42"
      },
      "source": [
        "df_sample.Question.iloc[0]"
      ],
      "execution_count": 50,
      "outputs": [
        {
          "output_type": "execute_result",
          "data": {
            "application/vnd.google.colaboratory.intrinsic+json": {
              "type": "string"
            },
            "text/plain": [
              "' pandas not finding elements in columns pandas does not seem to find all elements in a list df pd dataframe rid 125264429 a id 1 2 1 in df id   lt expect true get true 125264429 in df rid   lt expect true get false df df rid 125264429   lt yields result i am sure there is a perfectly reasonable explanation for this behaviour but i can t seem to find it it seems that the last two columns contradict each other does it have to do something with the fact that the datatype of the rid column is object '"
            ]
          },
          "metadata": {
            "tags": []
          },
          "execution_count": 50
        }
      ]
    },
    {
      "cell_type": "markdown",
      "metadata": {
        "id": "OnhaYS2_kF6L"
      },
      "source": [
        "### **Space**"
      ]
    },
    {
      "cell_type": "code",
      "metadata": {
        "id": "SIdM-GNzyse6"
      },
      "source": [
        "#Space removing\n",
        "def remove_space(body):\n",
        "  return ' '.join(str(body).split()) "
      ],
      "execution_count": 51,
      "outputs": []
    },
    {
      "cell_type": "code",
      "metadata": {
        "id": "HjvChyO17tes"
      },
      "source": [
        "df_sample['Question'] = df_sample['Question'].apply(remove_space)"
      ],
      "execution_count": 52,
      "outputs": []
    },
    {
      "cell_type": "code",
      "metadata": {
        "id": "rZa6Pe2i8A4S",
        "colab": {
          "base_uri": "https://localhost:8080/",
          "height": 87
        },
        "outputId": "e625c22e-ffbd-410d-8fdf-52b95a5b8bbf"
      },
      "source": [
        "df_sample.Question.iloc[0]"
      ],
      "execution_count": 54,
      "outputs": [
        {
          "output_type": "execute_result",
          "data": {
            "application/vnd.google.colaboratory.intrinsic+json": {
              "type": "string"
            },
            "text/plain": [
              "'pandas not finding elements in columns pandas does not seem to find all elements in a list df pd dataframe rid 125264429 a id 1 2 1 in df id lt expect true get true 125264429 in df rid lt expect true get false df df rid 125264429 lt yields result i am sure there is a perfectly reasonable explanation for this behaviour but i can t seem to find it it seems that the last two columns contradict each other does it have to do something with the fact that the datatype of the rid column is object'"
            ]
          },
          "metadata": {
            "tags": []
          },
          "execution_count": 54
        }
      ]
    },
    {
      "cell_type": "code",
      "metadata": {
        "id": "NipGuoPUgc80"
      },
      "source": [
        "#df_analysis['Title_Body_count'] = df_analysis['Title_Body'].apply(lambda text: len(text.split(\" \")))"
      ],
      "execution_count": 55,
      "outputs": []
    },
    {
      "cell_type": "code",
      "metadata": {
        "id": "3Nl2g1o8geKB",
        "colab": {
          "base_uri": "https://localhost:8080/",
          "height": 202
        },
        "outputId": "f86b8863-3341-439c-978a-f61757cae0e1"
      },
      "source": [
        "df_sample.head()"
      ],
      "execution_count": 56,
      "outputs": [
        {
          "output_type": "execute_result",
          "data": {
            "text/html": [
              "<div>\n",
              "<style scoped>\n",
              "    .dataframe tbody tr th:only-of-type {\n",
              "        vertical-align: middle;\n",
              "    }\n",
              "\n",
              "    .dataframe tbody tr th {\n",
              "        vertical-align: top;\n",
              "    }\n",
              "\n",
              "    .dataframe thead th {\n",
              "        text-align: right;\n",
              "    }\n",
              "</style>\n",
              "<table border=\"1\" class=\"dataframe\">\n",
              "  <thead>\n",
              "    <tr style=\"text-align: right;\">\n",
              "      <th></th>\n",
              "      <th>Question</th>\n",
              "      <th>Tags</th>\n",
              "    </tr>\n",
              "  </thead>\n",
              "  <tbody>\n",
              "    <tr>\n",
              "      <th>0</th>\n",
              "      <td>pandas not finding elements in columns pandas ...</td>\n",
              "      <td>&lt;python&gt;&lt;pandas&gt;</td>\n",
              "    </tr>\n",
              "    <tr>\n",
              "      <th>1</th>\n",
              "      <td>php haystack contains needle assuming this wor...</td>\n",
              "      <td>&lt;php&gt;</td>\n",
              "    </tr>\n",
              "    <tr>\n",
              "      <th>2</th>\n",
              "      <td>understanding json agg performance in postgres...</td>\n",
              "      <td>&lt;performance&gt;&lt;postgresql&gt;</td>\n",
              "    </tr>\n",
              "    <tr>\n",
              "      <th>3</th>\n",
              "      <td>java why main thread waits for child thread to...</td>\n",
              "      <td>&lt;java&gt;&lt;multithreading&gt;</td>\n",
              "    </tr>\n",
              "    <tr>\n",
              "      <th>4</th>\n",
              "      <td>stream live video to browser with low latency ...</td>\n",
              "      <td>&lt;flash&gt;&lt;video&gt;&lt;stream&gt;&lt;live&gt;</td>\n",
              "    </tr>\n",
              "  </tbody>\n",
              "</table>\n",
              "</div>"
            ],
            "text/plain": [
              "                                            Question                          Tags\n",
              "0  pandas not finding elements in columns pandas ...              <python><pandas>\n",
              "1  php haystack contains needle assuming this wor...                         <php>\n",
              "2  understanding json agg performance in postgres...     <performance><postgresql>\n",
              "3  java why main thread waits for child thread to...        <java><multithreading>\n",
              "4  stream live video to browser with low latency ...  <flash><video><stream><live>"
            ]
          },
          "metadata": {
            "tags": []
          },
          "execution_count": 56
        }
      ]
    },
    {
      "cell_type": "markdown",
      "metadata": {
        "id": "TJejYX1wkWJx"
      },
      "source": [
        "### **StopWords**"
      ]
    },
    {
      "cell_type": "code",
      "metadata": {
        "id": "os74ax1iEZ2S"
      },
      "source": [
        "#Tokenization\n",
        "#nltk.download(\"punkt\")\n",
        "#from nltk.tokenize import word_tokenize"
      ],
      "execution_count": null,
      "outputs": []
    },
    {
      "cell_type": "code",
      "metadata": {
        "id": "uXZRI_NEUX0t"
      },
      "source": [
        "stop_words = set(stopwords.words('english'))\n",
        "from nltk.stem import WordNetLemmatizer, PorterStemmer\n",
        "from nltk.stem.snowball import EnglishStemmer\n",
        "lemma = WordNetLemmatizer().lemmatize\n",
        "ps = PorterStemmer()\n",
        "stemmer = EnglishStemmer()"
      ],
      "execution_count": 59,
      "outputs": []
    },
    {
      "cell_type": "code",
      "metadata": {
        "id": "hpprHCsXKS5F"
      },
      "source": [
        "set_alpha = set(['a', 'b', 'd', 'e', 'f', 'g', 'h', 'i', 'k', 'l', 'm', 'n', 'o', 'p', 'q', 's', 't', 'u', 'v', 'w', 'x', 'y' 'z'])"
      ],
      "execution_count": 60,
      "outputs": []
    },
    {
      "cell_type": "code",
      "metadata": {
        "id": "HoP_cdg6JOug"
      },
      "source": [
        "def remove_stopwords(text):\n",
        "    text = str(text)\n",
        "    text = \" \".join(word for word in text.split() if word not in gensim.parsing.preprocessing.STOPWORDS and word not in stop_words and word not in set_alpha)\n",
        "    return text"
      ],
      "execution_count": 61,
      "outputs": []
    },
    {
      "cell_type": "code",
      "metadata": {
        "id": "MoHi-5wlWBpj"
      },
      "source": [
        "df_sample['Question'] = df_sample['Question'].apply(remove_stopwords)"
      ],
      "execution_count": 62,
      "outputs": []
    },
    {
      "cell_type": "code",
      "metadata": {
        "id": "KaSzDJUSo3xm",
        "colab": {
          "base_uri": "https://localhost:8080/",
          "height": 53
        },
        "outputId": "faa33ae8-d618-40dc-ec4a-037759946702"
      },
      "source": [
        "df_sample.Question.iloc[0]"
      ],
      "execution_count": 64,
      "outputs": [
        {
          "output_type": "execute_result",
          "data": {
            "application/vnd.google.colaboratory.intrinsic+json": {
              "type": "string"
            },
            "text/plain": [
              "'pandas finding elements columns pandas elements list df pd dataframe rid 125264429 id 1 2 1 df id lt expect true true 125264429 df rid lt expect true false df df rid 125264429 lt yields result sure perfectly reasonable explanation behaviour columns contradict fact datatype rid column object'"
            ]
          },
          "metadata": {
            "tags": []
          },
          "execution_count": 64
        }
      ]
    },
    {
      "cell_type": "code",
      "metadata": {
        "id": "7YaLawhYUw8s",
        "colab": {
          "base_uri": "https://localhost:8080/",
          "height": 202
        },
        "outputId": "5368b367-4b44-4b3f-9800-4775f5a2cc22"
      },
      "source": [
        "df_sample.head()"
      ],
      "execution_count": 65,
      "outputs": [
        {
          "output_type": "execute_result",
          "data": {
            "text/html": [
              "<div>\n",
              "<style scoped>\n",
              "    .dataframe tbody tr th:only-of-type {\n",
              "        vertical-align: middle;\n",
              "    }\n",
              "\n",
              "    .dataframe tbody tr th {\n",
              "        vertical-align: top;\n",
              "    }\n",
              "\n",
              "    .dataframe thead th {\n",
              "        text-align: right;\n",
              "    }\n",
              "</style>\n",
              "<table border=\"1\" class=\"dataframe\">\n",
              "  <thead>\n",
              "    <tr style=\"text-align: right;\">\n",
              "      <th></th>\n",
              "      <th>Question</th>\n",
              "      <th>Tags</th>\n",
              "    </tr>\n",
              "  </thead>\n",
              "  <tbody>\n",
              "    <tr>\n",
              "      <th>0</th>\n",
              "      <td>pandas finding elements columns pandas element...</td>\n",
              "      <td>&lt;python&gt;&lt;pandas&gt;</td>\n",
              "    </tr>\n",
              "    <tr>\n",
              "      <th>1</th>\n",
              "      <td>php haystack contains needle assuming works pr...</td>\n",
              "      <td>&lt;php&gt;</td>\n",
              "    </tr>\n",
              "    <tr>\n",
              "      <th>2</th>\n",
              "      <td>understanding json agg performance postgres 9 ...</td>\n",
              "      <td>&lt;performance&gt;&lt;postgresql&gt;</td>\n",
              "    </tr>\n",
              "    <tr>\n",
              "      <th>3</th>\n",
              "      <td>java main thread waits child thread finish sim...</td>\n",
              "      <td>&lt;java&gt;&lt;multithreading&gt;</td>\n",
              "    </tr>\n",
              "    <tr>\n",
              "      <th>4</th>\n",
              "      <td>stream live video browser low latency want str...</td>\n",
              "      <td>&lt;flash&gt;&lt;video&gt;&lt;stream&gt;&lt;live&gt;</td>\n",
              "    </tr>\n",
              "  </tbody>\n",
              "</table>\n",
              "</div>"
            ],
            "text/plain": [
              "                                            Question                          Tags\n",
              "0  pandas finding elements columns pandas element...              <python><pandas>\n",
              "1  php haystack contains needle assuming works pr...                         <php>\n",
              "2  understanding json agg performance postgres 9 ...     <performance><postgresql>\n",
              "3  java main thread waits child thread finish sim...        <java><multithreading>\n",
              "4  stream live video browser low latency want str...  <flash><video><stream><live>"
            ]
          },
          "metadata": {
            "tags": []
          },
          "execution_count": 65
        }
      ]
    },
    {
      "cell_type": "markdown",
      "metadata": {
        "id": "By3nrs2-OJPy"
      },
      "source": [
        "## **Tokenization**"
      ]
    },
    {
      "cell_type": "markdown",
      "metadata": {
        "id": "YH5-KerXOixc"
      },
      "source": [
        "### **Question**"
      ]
    },
    {
      "cell_type": "code",
      "metadata": {
        "colab": {
          "base_uri": "https://localhost:8080/"
        },
        "id": "JjsQLWXN-vr_",
        "outputId": "885427bd-1940-4cba-c69b-c3181cc7c6d1"
      },
      "source": [
        "nltk.download('all')"
      ],
      "execution_count": 66,
      "outputs": [
        {
          "output_type": "stream",
          "text": [
            "[nltk_data] Downloading collection 'all'\n",
            "[nltk_data]    | \n",
            "[nltk_data]    | Downloading package abc to /root/nltk_data...\n",
            "[nltk_data]    |   Unzipping corpora/abc.zip.\n",
            "[nltk_data]    | Downloading package alpino to /root/nltk_data...\n",
            "[nltk_data]    |   Unzipping corpora/alpino.zip.\n",
            "[nltk_data]    | Downloading package biocreative_ppi to\n",
            "[nltk_data]    |     /root/nltk_data...\n",
            "[nltk_data]    |   Unzipping corpora/biocreative_ppi.zip.\n",
            "[nltk_data]    | Downloading package brown to /root/nltk_data...\n",
            "[nltk_data]    |   Unzipping corpora/brown.zip.\n",
            "[nltk_data]    | Downloading package brown_tei to /root/nltk_data...\n",
            "[nltk_data]    |   Unzipping corpora/brown_tei.zip.\n",
            "[nltk_data]    | Downloading package cess_cat to /root/nltk_data...\n",
            "[nltk_data]    |   Unzipping corpora/cess_cat.zip.\n",
            "[nltk_data]    | Downloading package cess_esp to /root/nltk_data...\n",
            "[nltk_data]    |   Unzipping corpora/cess_esp.zip.\n",
            "[nltk_data]    | Downloading package chat80 to /root/nltk_data...\n",
            "[nltk_data]    |   Unzipping corpora/chat80.zip.\n",
            "[nltk_data]    | Downloading package city_database to\n",
            "[nltk_data]    |     /root/nltk_data...\n",
            "[nltk_data]    |   Unzipping corpora/city_database.zip.\n",
            "[nltk_data]    | Downloading package cmudict to /root/nltk_data...\n",
            "[nltk_data]    |   Unzipping corpora/cmudict.zip.\n",
            "[nltk_data]    | Downloading package comparative_sentences to\n",
            "[nltk_data]    |     /root/nltk_data...\n",
            "[nltk_data]    |   Unzipping corpora/comparative_sentences.zip.\n",
            "[nltk_data]    | Downloading package comtrans to /root/nltk_data...\n",
            "[nltk_data]    | Downloading package conll2000 to /root/nltk_data...\n",
            "[nltk_data]    |   Unzipping corpora/conll2000.zip.\n",
            "[nltk_data]    | Downloading package conll2002 to /root/nltk_data...\n",
            "[nltk_data]    |   Unzipping corpora/conll2002.zip.\n",
            "[nltk_data]    | Downloading package conll2007 to /root/nltk_data...\n",
            "[nltk_data]    | Downloading package crubadan to /root/nltk_data...\n",
            "[nltk_data]    |   Unzipping corpora/crubadan.zip.\n",
            "[nltk_data]    | Downloading package dependency_treebank to\n",
            "[nltk_data]    |     /root/nltk_data...\n",
            "[nltk_data]    |   Unzipping corpora/dependency_treebank.zip.\n",
            "[nltk_data]    | Downloading package dolch to /root/nltk_data...\n",
            "[nltk_data]    |   Unzipping corpora/dolch.zip.\n",
            "[nltk_data]    | Downloading package europarl_raw to\n",
            "[nltk_data]    |     /root/nltk_data...\n",
            "[nltk_data]    |   Unzipping corpora/europarl_raw.zip.\n",
            "[nltk_data]    | Downloading package floresta to /root/nltk_data...\n",
            "[nltk_data]    |   Unzipping corpora/floresta.zip.\n",
            "[nltk_data]    | Downloading package framenet_v15 to\n",
            "[nltk_data]    |     /root/nltk_data...\n",
            "[nltk_data]    |   Unzipping corpora/framenet_v15.zip.\n",
            "[nltk_data]    | Downloading package framenet_v17 to\n",
            "[nltk_data]    |     /root/nltk_data...\n",
            "[nltk_data]    |   Unzipping corpora/framenet_v17.zip.\n",
            "[nltk_data]    | Downloading package gazetteers to /root/nltk_data...\n",
            "[nltk_data]    |   Unzipping corpora/gazetteers.zip.\n",
            "[nltk_data]    | Downloading package genesis to /root/nltk_data...\n",
            "[nltk_data]    |   Unzipping corpora/genesis.zip.\n",
            "[nltk_data]    | Downloading package gutenberg to /root/nltk_data...\n",
            "[nltk_data]    |   Unzipping corpora/gutenberg.zip.\n",
            "[nltk_data]    | Downloading package ieer to /root/nltk_data...\n",
            "[nltk_data]    |   Unzipping corpora/ieer.zip.\n",
            "[nltk_data]    | Downloading package inaugural to /root/nltk_data...\n",
            "[nltk_data]    |   Unzipping corpora/inaugural.zip.\n",
            "[nltk_data]    | Downloading package indian to /root/nltk_data...\n",
            "[nltk_data]    |   Unzipping corpora/indian.zip.\n",
            "[nltk_data]    | Downloading package jeita to /root/nltk_data...\n",
            "[nltk_data]    | Downloading package kimmo to /root/nltk_data...\n",
            "[nltk_data]    |   Unzipping corpora/kimmo.zip.\n",
            "[nltk_data]    | Downloading package knbc to /root/nltk_data...\n",
            "[nltk_data]    | Downloading package lin_thesaurus to\n",
            "[nltk_data]    |     /root/nltk_data...\n",
            "[nltk_data]    |   Unzipping corpora/lin_thesaurus.zip.\n",
            "[nltk_data]    | Downloading package mac_morpho to /root/nltk_data...\n",
            "[nltk_data]    |   Unzipping corpora/mac_morpho.zip.\n",
            "[nltk_data]    | Downloading package machado to /root/nltk_data...\n",
            "[nltk_data]    | Downloading package masc_tagged to /root/nltk_data...\n",
            "[nltk_data]    | Downloading package moses_sample to\n",
            "[nltk_data]    |     /root/nltk_data...\n",
            "[nltk_data]    |   Unzipping models/moses_sample.zip.\n",
            "[nltk_data]    | Downloading package movie_reviews to\n",
            "[nltk_data]    |     /root/nltk_data...\n",
            "[nltk_data]    |   Unzipping corpora/movie_reviews.zip.\n",
            "[nltk_data]    | Downloading package names to /root/nltk_data...\n",
            "[nltk_data]    |   Unzipping corpora/names.zip.\n",
            "[nltk_data]    | Downloading package nombank.1.0 to /root/nltk_data...\n",
            "[nltk_data]    | Downloading package nps_chat to /root/nltk_data...\n",
            "[nltk_data]    |   Unzipping corpora/nps_chat.zip.\n",
            "[nltk_data]    | Downloading package omw to /root/nltk_data...\n",
            "[nltk_data]    |   Unzipping corpora/omw.zip.\n",
            "[nltk_data]    | Downloading package opinion_lexicon to\n",
            "[nltk_data]    |     /root/nltk_data...\n",
            "[nltk_data]    |   Unzipping corpora/opinion_lexicon.zip.\n",
            "[nltk_data]    | Downloading package paradigms to /root/nltk_data...\n",
            "[nltk_data]    |   Unzipping corpora/paradigms.zip.\n",
            "[nltk_data]    | Downloading package pil to /root/nltk_data...\n",
            "[nltk_data]    |   Unzipping corpora/pil.zip.\n",
            "[nltk_data]    | Downloading package pl196x to /root/nltk_data...\n",
            "[nltk_data]    |   Unzipping corpora/pl196x.zip.\n",
            "[nltk_data]    | Downloading package ppattach to /root/nltk_data...\n",
            "[nltk_data]    |   Unzipping corpora/ppattach.zip.\n",
            "[nltk_data]    | Downloading package problem_reports to\n",
            "[nltk_data]    |     /root/nltk_data...\n",
            "[nltk_data]    |   Unzipping corpora/problem_reports.zip.\n",
            "[nltk_data]    | Downloading package propbank to /root/nltk_data...\n",
            "[nltk_data]    | Downloading package ptb to /root/nltk_data...\n",
            "[nltk_data]    |   Unzipping corpora/ptb.zip.\n",
            "[nltk_data]    | Downloading package product_reviews_1 to\n",
            "[nltk_data]    |     /root/nltk_data...\n",
            "[nltk_data]    |   Unzipping corpora/product_reviews_1.zip.\n",
            "[nltk_data]    | Downloading package product_reviews_2 to\n",
            "[nltk_data]    |     /root/nltk_data...\n",
            "[nltk_data]    |   Unzipping corpora/product_reviews_2.zip.\n",
            "[nltk_data]    | Downloading package pros_cons to /root/nltk_data...\n",
            "[nltk_data]    |   Unzipping corpora/pros_cons.zip.\n",
            "[nltk_data]    | Downloading package qc to /root/nltk_data...\n",
            "[nltk_data]    |   Unzipping corpora/qc.zip.\n",
            "[nltk_data]    | Downloading package reuters to /root/nltk_data...\n",
            "[nltk_data]    | Downloading package rte to /root/nltk_data...\n",
            "[nltk_data]    |   Unzipping corpora/rte.zip.\n",
            "[nltk_data]    | Downloading package semcor to /root/nltk_data...\n",
            "[nltk_data]    | Downloading package senseval to /root/nltk_data...\n",
            "[nltk_data]    |   Unzipping corpora/senseval.zip.\n",
            "[nltk_data]    | Downloading package sentiwordnet to\n",
            "[nltk_data]    |     /root/nltk_data...\n",
            "[nltk_data]    |   Unzipping corpora/sentiwordnet.zip.\n",
            "[nltk_data]    | Downloading package sentence_polarity to\n",
            "[nltk_data]    |     /root/nltk_data...\n",
            "[nltk_data]    |   Unzipping corpora/sentence_polarity.zip.\n",
            "[nltk_data]    | Downloading package shakespeare to /root/nltk_data...\n",
            "[nltk_data]    |   Unzipping corpora/shakespeare.zip.\n",
            "[nltk_data]    | Downloading package sinica_treebank to\n",
            "[nltk_data]    |     /root/nltk_data...\n",
            "[nltk_data]    |   Unzipping corpora/sinica_treebank.zip.\n",
            "[nltk_data]    | Downloading package smultron to /root/nltk_data...\n",
            "[nltk_data]    |   Unzipping corpora/smultron.zip.\n",
            "[nltk_data]    | Downloading package state_union to /root/nltk_data...\n",
            "[nltk_data]    |   Unzipping corpora/state_union.zip.\n",
            "[nltk_data]    | Downloading package stopwords to /root/nltk_data...\n",
            "[nltk_data]    |   Package stopwords is already up-to-date!\n",
            "[nltk_data]    | Downloading package subjectivity to\n",
            "[nltk_data]    |     /root/nltk_data...\n",
            "[nltk_data]    |   Unzipping corpora/subjectivity.zip.\n",
            "[nltk_data]    | Downloading package swadesh to /root/nltk_data...\n",
            "[nltk_data]    |   Unzipping corpora/swadesh.zip.\n",
            "[nltk_data]    | Downloading package switchboard to /root/nltk_data...\n",
            "[nltk_data]    |   Unzipping corpora/switchboard.zip.\n",
            "[nltk_data]    | Downloading package timit to /root/nltk_data...\n",
            "[nltk_data]    |   Unzipping corpora/timit.zip.\n",
            "[nltk_data]    | Downloading package toolbox to /root/nltk_data...\n",
            "[nltk_data]    |   Unzipping corpora/toolbox.zip.\n",
            "[nltk_data]    | Downloading package treebank to /root/nltk_data...\n",
            "[nltk_data]    |   Unzipping corpora/treebank.zip.\n",
            "[nltk_data]    | Downloading package twitter_samples to\n",
            "[nltk_data]    |     /root/nltk_data...\n",
            "[nltk_data]    |   Unzipping corpora/twitter_samples.zip.\n",
            "[nltk_data]    | Downloading package udhr to /root/nltk_data...\n",
            "[nltk_data]    |   Unzipping corpora/udhr.zip.\n",
            "[nltk_data]    | Downloading package udhr2 to /root/nltk_data...\n",
            "[nltk_data]    |   Unzipping corpora/udhr2.zip.\n",
            "[nltk_data]    | Downloading package unicode_samples to\n",
            "[nltk_data]    |     /root/nltk_data...\n",
            "[nltk_data]    |   Unzipping corpora/unicode_samples.zip.\n",
            "[nltk_data]    | Downloading package universal_treebanks_v20 to\n",
            "[nltk_data]    |     /root/nltk_data...\n",
            "[nltk_data]    | Downloading package verbnet to /root/nltk_data...\n",
            "[nltk_data]    |   Unzipping corpora/verbnet.zip.\n",
            "[nltk_data]    | Downloading package verbnet3 to /root/nltk_data...\n",
            "[nltk_data]    |   Unzipping corpora/verbnet3.zip.\n",
            "[nltk_data]    | Downloading package webtext to /root/nltk_data...\n",
            "[nltk_data]    |   Unzipping corpora/webtext.zip.\n",
            "[nltk_data]    | Downloading package wordnet to /root/nltk_data...\n",
            "[nltk_data]    |   Unzipping corpora/wordnet.zip.\n",
            "[nltk_data]    | Downloading package wordnet_ic to /root/nltk_data...\n",
            "[nltk_data]    |   Unzipping corpora/wordnet_ic.zip.\n",
            "[nltk_data]    | Downloading package words to /root/nltk_data...\n",
            "[nltk_data]    |   Unzipping corpora/words.zip.\n",
            "[nltk_data]    | Downloading package ycoe to /root/nltk_data...\n",
            "[nltk_data]    |   Unzipping corpora/ycoe.zip.\n",
            "[nltk_data]    | Downloading package rslp to /root/nltk_data...\n",
            "[nltk_data]    |   Unzipping stemmers/rslp.zip.\n",
            "[nltk_data]    | Downloading package maxent_treebank_pos_tagger to\n",
            "[nltk_data]    |     /root/nltk_data...\n",
            "[nltk_data]    |   Unzipping taggers/maxent_treebank_pos_tagger.zip.\n",
            "[nltk_data]    | Downloading package universal_tagset to\n",
            "[nltk_data]    |     /root/nltk_data...\n",
            "[nltk_data]    |   Unzipping taggers/universal_tagset.zip.\n",
            "[nltk_data]    | Downloading package maxent_ne_chunker to\n",
            "[nltk_data]    |     /root/nltk_data...\n",
            "[nltk_data]    |   Unzipping chunkers/maxent_ne_chunker.zip.\n",
            "[nltk_data]    | Downloading package punkt to /root/nltk_data...\n",
            "[nltk_data]    |   Unzipping tokenizers/punkt.zip.\n",
            "[nltk_data]    | Downloading package book_grammars to\n",
            "[nltk_data]    |     /root/nltk_data...\n",
            "[nltk_data]    |   Unzipping grammars/book_grammars.zip.\n",
            "[nltk_data]    | Downloading package sample_grammars to\n",
            "[nltk_data]    |     /root/nltk_data...\n",
            "[nltk_data]    |   Unzipping grammars/sample_grammars.zip.\n",
            "[nltk_data]    | Downloading package spanish_grammars to\n",
            "[nltk_data]    |     /root/nltk_data...\n",
            "[nltk_data]    |   Unzipping grammars/spanish_grammars.zip.\n",
            "[nltk_data]    | Downloading package basque_grammars to\n",
            "[nltk_data]    |     /root/nltk_data...\n",
            "[nltk_data]    |   Unzipping grammars/basque_grammars.zip.\n",
            "[nltk_data]    | Downloading package large_grammars to\n",
            "[nltk_data]    |     /root/nltk_data...\n",
            "[nltk_data]    |   Unzipping grammars/large_grammars.zip.\n",
            "[nltk_data]    | Downloading package tagsets to /root/nltk_data...\n",
            "[nltk_data]    |   Unzipping help/tagsets.zip.\n",
            "[nltk_data]    | Downloading package snowball_data to\n",
            "[nltk_data]    |     /root/nltk_data...\n",
            "[nltk_data]    | Downloading package bllip_wsj_no_aux to\n",
            "[nltk_data]    |     /root/nltk_data...\n",
            "[nltk_data]    |   Unzipping models/bllip_wsj_no_aux.zip.\n",
            "[nltk_data]    | Downloading package word2vec_sample to\n",
            "[nltk_data]    |     /root/nltk_data...\n",
            "[nltk_data]    |   Unzipping models/word2vec_sample.zip.\n",
            "[nltk_data]    | Downloading package panlex_swadesh to\n",
            "[nltk_data]    |     /root/nltk_data...\n",
            "[nltk_data]    | Downloading package mte_teip5 to /root/nltk_data...\n",
            "[nltk_data]    |   Unzipping corpora/mte_teip5.zip.\n",
            "[nltk_data]    | Downloading package averaged_perceptron_tagger to\n",
            "[nltk_data]    |     /root/nltk_data...\n",
            "[nltk_data]    |   Unzipping taggers/averaged_perceptron_tagger.zip.\n",
            "[nltk_data]    | Downloading package averaged_perceptron_tagger_ru to\n",
            "[nltk_data]    |     /root/nltk_data...\n",
            "[nltk_data]    |   Unzipping\n",
            "[nltk_data]    |       taggers/averaged_perceptron_tagger_ru.zip.\n",
            "[nltk_data]    | Downloading package perluniprops to\n",
            "[nltk_data]    |     /root/nltk_data...\n",
            "[nltk_data]    |   Unzipping misc/perluniprops.zip.\n",
            "[nltk_data]    | Downloading package nonbreaking_prefixes to\n",
            "[nltk_data]    |     /root/nltk_data...\n",
            "[nltk_data]    |   Unzipping corpora/nonbreaking_prefixes.zip.\n",
            "[nltk_data]    | Downloading package vader_lexicon to\n",
            "[nltk_data]    |     /root/nltk_data...\n",
            "[nltk_data]    | Downloading package porter_test to /root/nltk_data...\n",
            "[nltk_data]    |   Unzipping stemmers/porter_test.zip.\n",
            "[nltk_data]    | Downloading package wmt15_eval to /root/nltk_data...\n",
            "[nltk_data]    |   Unzipping models/wmt15_eval.zip.\n",
            "[nltk_data]    | Downloading package mwa_ppdb to /root/nltk_data...\n",
            "[nltk_data]    |   Unzipping misc/mwa_ppdb.zip.\n",
            "[nltk_data]    | \n",
            "[nltk_data]  Done downloading collection all\n"
          ],
          "name": "stdout"
        },
        {
          "output_type": "execute_result",
          "data": {
            "text/plain": [
              "True"
            ]
          },
          "metadata": {
            "tags": []
          },
          "execution_count": 66
        }
      ]
    },
    {
      "cell_type": "code",
      "metadata": {
        "id": "2-A9nKpL-8uX"
      },
      "source": [
        "def tokenize(document):\n",
        "  tokens = [lemma(w) for w in document.split()] #if w.isalpha()\n",
        "  return tokens"
      ],
      "execution_count": 67,
      "outputs": []
    },
    {
      "cell_type": "code",
      "metadata": {
        "id": "tvRBLWDZ_OHa"
      },
      "source": [
        "df_sample['Question_Tokens'] = df_sample['Question'].apply(tokenize)"
      ],
      "execution_count": 68,
      "outputs": []
    },
    {
      "cell_type": "code",
      "metadata": {
        "colab": {
          "base_uri": "https://localhost:8080/",
          "height": 202
        },
        "id": "X1Tnv5GyAict",
        "outputId": "b3e739d4-27d4-4cf1-cc86-c4d99fe7037f"
      },
      "source": [
        "df_sample.head()"
      ],
      "execution_count": 69,
      "outputs": [
        {
          "output_type": "execute_result",
          "data": {
            "text/html": [
              "<div>\n",
              "<style scoped>\n",
              "    .dataframe tbody tr th:only-of-type {\n",
              "        vertical-align: middle;\n",
              "    }\n",
              "\n",
              "    .dataframe tbody tr th {\n",
              "        vertical-align: top;\n",
              "    }\n",
              "\n",
              "    .dataframe thead th {\n",
              "        text-align: right;\n",
              "    }\n",
              "</style>\n",
              "<table border=\"1\" class=\"dataframe\">\n",
              "  <thead>\n",
              "    <tr style=\"text-align: right;\">\n",
              "      <th></th>\n",
              "      <th>Question</th>\n",
              "      <th>Tags</th>\n",
              "      <th>Question_Tokens</th>\n",
              "    </tr>\n",
              "  </thead>\n",
              "  <tbody>\n",
              "    <tr>\n",
              "      <th>0</th>\n",
              "      <td>pandas finding elements columns pandas element...</td>\n",
              "      <td>&lt;python&gt;&lt;pandas&gt;</td>\n",
              "      <td>[panda, finding, element, column, panda, eleme...</td>\n",
              "    </tr>\n",
              "    <tr>\n",
              "      <th>1</th>\n",
              "      <td>php haystack contains needle assuming works pr...</td>\n",
              "      <td>&lt;php&gt;</td>\n",
              "      <td>[php, haystack, contains, needle, assuming, wo...</td>\n",
              "    </tr>\n",
              "    <tr>\n",
              "      <th>2</th>\n",
              "      <td>understanding json agg performance postgres 9 ...</td>\n",
              "      <td>&lt;performance&gt;&lt;postgresql&gt;</td>\n",
              "      <td>[understanding, json, agg, performance, postgr...</td>\n",
              "    </tr>\n",
              "    <tr>\n",
              "      <th>3</th>\n",
              "      <td>java main thread waits child thread finish sim...</td>\n",
              "      <td>&lt;java&gt;&lt;multithreading&gt;</td>\n",
              "      <td>[java, main, thread, wait, child, thread, fini...</td>\n",
              "    </tr>\n",
              "    <tr>\n",
              "      <th>4</th>\n",
              "      <td>stream live video browser low latency want str...</td>\n",
              "      <td>&lt;flash&gt;&lt;video&gt;&lt;stream&gt;&lt;live&gt;</td>\n",
              "      <td>[stream, live, video, browser, low, latency, w...</td>\n",
              "    </tr>\n",
              "  </tbody>\n",
              "</table>\n",
              "</div>"
            ],
            "text/plain": [
              "                                            Question  ...                                    Question_Tokens\n",
              "0  pandas finding elements columns pandas element...  ...  [panda, finding, element, column, panda, eleme...\n",
              "1  php haystack contains needle assuming works pr...  ...  [php, haystack, contains, needle, assuming, wo...\n",
              "2  understanding json agg performance postgres 9 ...  ...  [understanding, json, agg, performance, postgr...\n",
              "3  java main thread waits child thread finish sim...  ...  [java, main, thread, wait, child, thread, fini...\n",
              "4  stream live video browser low latency want str...  ...  [stream, live, video, browser, low, latency, w...\n",
              "\n",
              "[5 rows x 3 columns]"
            ]
          },
          "metadata": {
            "tags": []
          },
          "execution_count": 69
        }
      ]
    },
    {
      "cell_type": "markdown",
      "metadata": {
        "id": "58BY8RPp6s2o"
      },
      "source": [
        "## **Tags**"
      ]
    },
    {
      "cell_type": "code",
      "metadata": {
        "id": "2C_lMMvG8zck"
      },
      "source": [
        "from ast import literal_eval"
      ],
      "execution_count": 70,
      "outputs": []
    },
    {
      "cell_type": "code",
      "metadata": {
        "colab": {
          "base_uri": "https://localhost:8080/",
          "height": 35
        },
        "id": "oII-4uBa61r1",
        "outputId": "23c3516a-a896-4fb1-9cea-68f00e68ca72"
      },
      "source": [
        "df_sample.Tags.iloc[0]"
      ],
      "execution_count": 71,
      "outputs": [
        {
          "output_type": "execute_result",
          "data": {
            "application/vnd.google.colaboratory.intrinsic+json": {
              "type": "string"
            },
            "text/plain": [
              "'<python><pandas>'"
            ]
          },
          "metadata": {
            "tags": []
          },
          "execution_count": 71
        }
      ]
    },
    {
      "cell_type": "code",
      "metadata": {
        "id": "T8BRohxr7LzH"
      },
      "source": [
        "# convert data to list\n",
        "to_list = {'><': \"','\",'<':\"['\", '>':\"']\"}\n",
        "for key, value in to_list.items():\n",
        "  df_sample['Tags'] = df_sample['Tags'].str.replace(key, value)"
      ],
      "execution_count": 72,
      "outputs": []
    },
    {
      "cell_type": "code",
      "metadata": {
        "colab": {
          "base_uri": "https://localhost:8080/",
          "height": 202
        },
        "id": "ML0A3nej7PkU",
        "outputId": "b4379deb-d737-423c-b683-73f35f2931a7"
      },
      "source": [
        "df_sample_tok = df_sample\n",
        "df_sample_tok.head()"
      ],
      "execution_count": 73,
      "outputs": [
        {
          "output_type": "execute_result",
          "data": {
            "text/html": [
              "<div>\n",
              "<style scoped>\n",
              "    .dataframe tbody tr th:only-of-type {\n",
              "        vertical-align: middle;\n",
              "    }\n",
              "\n",
              "    .dataframe tbody tr th {\n",
              "        vertical-align: top;\n",
              "    }\n",
              "\n",
              "    .dataframe thead th {\n",
              "        text-align: right;\n",
              "    }\n",
              "</style>\n",
              "<table border=\"1\" class=\"dataframe\">\n",
              "  <thead>\n",
              "    <tr style=\"text-align: right;\">\n",
              "      <th></th>\n",
              "      <th>Question</th>\n",
              "      <th>Tags</th>\n",
              "      <th>Question_Tokens</th>\n",
              "    </tr>\n",
              "  </thead>\n",
              "  <tbody>\n",
              "    <tr>\n",
              "      <th>0</th>\n",
              "      <td>pandas finding elements columns pandas element...</td>\n",
              "      <td>['python','pandas']</td>\n",
              "      <td>[panda, finding, element, column, panda, eleme...</td>\n",
              "    </tr>\n",
              "    <tr>\n",
              "      <th>1</th>\n",
              "      <td>php haystack contains needle assuming works pr...</td>\n",
              "      <td>['php']</td>\n",
              "      <td>[php, haystack, contains, needle, assuming, wo...</td>\n",
              "    </tr>\n",
              "    <tr>\n",
              "      <th>2</th>\n",
              "      <td>understanding json agg performance postgres 9 ...</td>\n",
              "      <td>['performance','postgresql']</td>\n",
              "      <td>[understanding, json, agg, performance, postgr...</td>\n",
              "    </tr>\n",
              "    <tr>\n",
              "      <th>3</th>\n",
              "      <td>java main thread waits child thread finish sim...</td>\n",
              "      <td>['java','multithreading']</td>\n",
              "      <td>[java, main, thread, wait, child, thread, fini...</td>\n",
              "    </tr>\n",
              "    <tr>\n",
              "      <th>4</th>\n",
              "      <td>stream live video browser low latency want str...</td>\n",
              "      <td>['flash','video','stream','live']</td>\n",
              "      <td>[stream, live, video, browser, low, latency, w...</td>\n",
              "    </tr>\n",
              "  </tbody>\n",
              "</table>\n",
              "</div>"
            ],
            "text/plain": [
              "                                            Question  ...                                    Question_Tokens\n",
              "0  pandas finding elements columns pandas element...  ...  [panda, finding, element, column, panda, eleme...\n",
              "1  php haystack contains needle assuming works pr...  ...  [php, haystack, contains, needle, assuming, wo...\n",
              "2  understanding json agg performance postgres 9 ...  ...  [understanding, json, agg, performance, postgr...\n",
              "3  java main thread waits child thread finish sim...  ...  [java, main, thread, wait, child, thread, fini...\n",
              "4  stream live video browser low latency want str...  ...  [stream, live, video, browser, low, latency, w...\n",
              "\n",
              "[5 rows x 3 columns]"
            ]
          },
          "metadata": {
            "tags": []
          },
          "execution_count": 73
        }
      ]
    },
    {
      "cell_type": "code",
      "metadata": {
        "id": "ziEOs1rx8gU5"
      },
      "source": [
        "def to_list(df,column):\n",
        "  df[column] = df[column].apply(literal_eval)\n",
        "  return df"
      ],
      "execution_count": 74,
      "outputs": []
    },
    {
      "cell_type": "code",
      "metadata": {
        "id": "DCzMysyH8nNo"
      },
      "source": [
        "df_sample_list = to_list(df_sample_tok, 'Tags')"
      ],
      "execution_count": 75,
      "outputs": []
    },
    {
      "cell_type": "code",
      "metadata": {
        "colab": {
          "base_uri": "https://localhost:8080/",
          "height": 202
        },
        "id": "7FXbhsor8-OD",
        "outputId": "876236df-7b49-4c81-d42f-b391b8a3024c"
      },
      "source": [
        "reorganization = ['Question', 'Question_Tokens', 'Tags']\n",
        "df_sample_list = df_sample_list[reorganization]\n",
        "df_sample_list.head()\n"
      ],
      "execution_count": 76,
      "outputs": [
        {
          "output_type": "execute_result",
          "data": {
            "text/html": [
              "<div>\n",
              "<style scoped>\n",
              "    .dataframe tbody tr th:only-of-type {\n",
              "        vertical-align: middle;\n",
              "    }\n",
              "\n",
              "    .dataframe tbody tr th {\n",
              "        vertical-align: top;\n",
              "    }\n",
              "\n",
              "    .dataframe thead th {\n",
              "        text-align: right;\n",
              "    }\n",
              "</style>\n",
              "<table border=\"1\" class=\"dataframe\">\n",
              "  <thead>\n",
              "    <tr style=\"text-align: right;\">\n",
              "      <th></th>\n",
              "      <th>Question</th>\n",
              "      <th>Question_Tokens</th>\n",
              "      <th>Tags</th>\n",
              "    </tr>\n",
              "  </thead>\n",
              "  <tbody>\n",
              "    <tr>\n",
              "      <th>0</th>\n",
              "      <td>pandas finding elements columns pandas element...</td>\n",
              "      <td>[panda, finding, element, column, panda, eleme...</td>\n",
              "      <td>[python, pandas]</td>\n",
              "    </tr>\n",
              "    <tr>\n",
              "      <th>1</th>\n",
              "      <td>php haystack contains needle assuming works pr...</td>\n",
              "      <td>[php, haystack, contains, needle, assuming, wo...</td>\n",
              "      <td>[php]</td>\n",
              "    </tr>\n",
              "    <tr>\n",
              "      <th>2</th>\n",
              "      <td>understanding json agg performance postgres 9 ...</td>\n",
              "      <td>[understanding, json, agg, performance, postgr...</td>\n",
              "      <td>[performance, postgresql]</td>\n",
              "    </tr>\n",
              "    <tr>\n",
              "      <th>3</th>\n",
              "      <td>java main thread waits child thread finish sim...</td>\n",
              "      <td>[java, main, thread, wait, child, thread, fini...</td>\n",
              "      <td>[java, multithreading]</td>\n",
              "    </tr>\n",
              "    <tr>\n",
              "      <th>4</th>\n",
              "      <td>stream live video browser low latency want str...</td>\n",
              "      <td>[stream, live, video, browser, low, latency, w...</td>\n",
              "      <td>[flash, video, stream, live]</td>\n",
              "    </tr>\n",
              "  </tbody>\n",
              "</table>\n",
              "</div>"
            ],
            "text/plain": [
              "                                            Question  ...                          Tags\n",
              "0  pandas finding elements columns pandas element...  ...              [python, pandas]\n",
              "1  php haystack contains needle assuming works pr...  ...                         [php]\n",
              "2  understanding json agg performance postgres 9 ...  ...     [performance, postgresql]\n",
              "3  java main thread waits child thread finish sim...  ...        [java, multithreading]\n",
              "4  stream live video browser low latency want str...  ...  [flash, video, stream, live]\n",
              "\n",
              "[5 rows x 3 columns]"
            ]
          },
          "metadata": {
            "tags": []
          },
          "execution_count": 76
        }
      ]
    },
    {
      "cell_type": "code",
      "metadata": {
        "id": "B3_JDZFD-vWx"
      },
      "source": [
        "df_sample_list.to_csv('df_sample_list.csv')"
      ],
      "execution_count": 77,
      "outputs": []
    },
    {
      "cell_type": "code",
      "metadata": {
        "id": "BA2nrw9wDbZb"
      },
      "source": [
        "#df_mod = pd.read_csv('/content/drive/My Drive/CentraleSupelec_OCR/P6/df_sample_list.csv')\r\n",
        "#df_mod = df_mod.iloc[:, 1:]\r\n",
        "#df_mod.head()"
      ],
      "execution_count": 78,
      "outputs": []
    },
    {
      "cell_type": "code",
      "metadata": {
        "id": "286nYvcJsoh9"
      },
      "source": [
        "#questions2 = questions1.apply(tokenize)\n",
        "#questions2"
      ],
      "execution_count": 79,
      "outputs": []
    },
    {
      "cell_type": "code",
      "metadata": {
        "id": "Oghm6GaRZWO5"
      },
      "source": [
        ""
      ],
      "execution_count": null,
      "outputs": []
    }
  ]
}