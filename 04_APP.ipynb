{
  "nbformat": 4,
  "nbformat_minor": 0,
  "metadata": {
    "colab": {
      "name": "04_APP.ipynb",
      "provenance": [],
      "include_colab_link": true
    },
    "kernelspec": {
      "name": "python3",
      "display_name": "Python 3"
    }
  },
  "cells": [
    {
      "cell_type": "markdown",
      "metadata": {
        "id": "view-in-github",
        "colab_type": "text"
      },
      "source": [
        "<a href=\"https://colab.research.google.com/github/Adil1979/P6_Tag_Recommendation_Stackoverflow/blob/master/04_APP.ipynb\" target=\"_parent\"><img src=\"https://colab.research.google.com/assets/colab-badge.svg\" alt=\"Open In Colab\"/></a>"
      ]
    },
    {
      "cell_type": "markdown",
      "metadata": {
        "id": "c7deOb_hC_zl"
      },
      "source": [
        "# **Projet6: Catégorisation automatique de questions**"
      ]
    },
    {
      "cell_type": "markdown",
      "metadata": {
        "id": "S9H2cZKxDFXb"
      },
      "source": [
        "## **1.Librairies**"
      ]
    },
    {
      "cell_type": "code",
      "metadata": {
        "colab": {
          "base_uri": "https://localhost:8080/"
        },
        "id": "dQlPlP92DEVp",
        "outputId": "380a619d-724f-4c25-835c-97e3f234d934"
      },
      "source": [
        "!pip install gensim # Gensim is an open-source library for unsupervised topic modeling and natural language processing"
      ],
      "execution_count": 2,
      "outputs": [
        {
          "output_type": "stream",
          "text": [
            "Requirement already satisfied: gensim in /usr/local/lib/python3.6/dist-packages (3.6.0)\n",
            "Requirement already satisfied: scipy>=0.18.1 in /usr/local/lib/python3.6/dist-packages (from gensim) (1.4.1)\n",
            "Requirement already satisfied: numpy>=1.11.3 in /usr/local/lib/python3.6/dist-packages (from gensim) (1.19.5)\n",
            "Requirement already satisfied: smart-open>=1.2.1 in /usr/local/lib/python3.6/dist-packages (from gensim) (4.1.2)\n",
            "Requirement already satisfied: six>=1.5.0 in /usr/local/lib/python3.6/dist-packages (from gensim) (1.15.0)\n"
          ],
          "name": "stdout"
        }
      ]
    },
    {
      "cell_type": "code",
      "metadata": {
        "colab": {
          "base_uri": "https://localhost:8080/"
        },
        "id": "D4Nf8KISC7oE",
        "outputId": "3d4a3674-d0a9-4300-afda-b6397ff795a9"
      },
      "source": [
        "import numpy as np\n",
        "import pandas as pd\n",
        "import matplotlib.pyplot as plt\n",
        "%matplotlib inline\n",
        "from matplotlib.lines import Line2D\n",
        "import matplotlib as mpl\n",
        "#import chart_studio.plotly.plotly as py\n",
        "from collections import Counter\n",
        "#import plotly.plotly as py\n",
        "import seaborn as sns\n",
        "import datetime as dt\n",
        "import calendar as cld\n",
        "from scipy import stats\n",
        "from sklearn import preprocessing\n",
        "from sklearn.preprocessing import StandardScaler\n",
        "from sklearn.preprocessing import scale\n",
        "from os import listdir\n",
        "import glob\n",
        "import missingno as msno\n",
        "#from feature_engine.categorical_encoders import OneHotCategoricalEncoder\n",
        "from sklearn.decomposition import PCA\n",
        "from matplotlib import dates\n",
        "import nltk\n",
        "import re\n",
        "from nltk.corpus import stopwords \n",
        "nltk.download('stopwords')\n",
        "from nltk.stem.porter import PorterStemmer \n",
        "import string\n",
        "from collections import Counter\n",
        "from bs4 import BeautifulSoup\n",
        "import gensim\n",
        "from gensim.utils import simple_preprocess\n",
        "from gensim.parsing.preprocessing import STOPWORDS\n",
        "from ast import literal_eval \n",
        "from sklearn.externals import joblib\n",
        "from joblib import load, dump\n",
        "stop_words = set(stopwords.words('english'))\n",
        "from nltk.stem import WordNetLemmatizer, PorterStemmer\n",
        "from nltk.stem.snowball import EnglishStemmer\n",
        "lemma = WordNetLemmatizer().lemmatize\n",
        "ps = PorterStemmer()\n",
        "stemmer = EnglishStemmer()\n",
        "from joblib import load\n",
        "random_state = 747"
      ],
      "execution_count": 3,
      "outputs": [
        {
          "output_type": "stream",
          "text": [
            "[nltk_data] Downloading package stopwords to /root/nltk_data...\n",
            "[nltk_data]   Unzipping corpora/stopwords.zip.\n"
          ],
          "name": "stdout"
        },
        {
          "output_type": "stream",
          "text": [
            "/usr/local/lib/python3.6/dist-packages/sklearn/externals/joblib/__init__.py:15: FutureWarning: sklearn.externals.joblib is deprecated in 0.21 and will be removed in 0.23. Please import this functionality directly from joblib, which can be installed with: pip install joblib. If this warning is raised when loading pickled models, you may need to re-serialize those models with scikit-learn 0.21+.\n",
            "  warnings.warn(msg, category=FutureWarning)\n"
          ],
          "name": "stderr"
        }
      ]
    },
    {
      "cell_type": "code",
      "metadata": {
        "id": "UNfM9Sy9PQNk",
        "colab": {
          "base_uri": "https://localhost:8080/"
        },
        "outputId": "33f0ce2a-a521-46d3-f9a0-ec5dfc4252c0"
      },
      "source": [
        "nltk.download('all')"
      ],
      "execution_count": 4,
      "outputs": [
        {
          "output_type": "stream",
          "text": [
            "[nltk_data] Downloading collection 'all'\n",
            "[nltk_data]    | \n",
            "[nltk_data]    | Downloading package abc to /root/nltk_data...\n",
            "[nltk_data]    |   Unzipping corpora/abc.zip.\n",
            "[nltk_data]    | Downloading package alpino to /root/nltk_data...\n",
            "[nltk_data]    |   Unzipping corpora/alpino.zip.\n",
            "[nltk_data]    | Downloading package biocreative_ppi to\n",
            "[nltk_data]    |     /root/nltk_data...\n",
            "[nltk_data]    |   Unzipping corpora/biocreative_ppi.zip.\n",
            "[nltk_data]    | Downloading package brown to /root/nltk_data...\n",
            "[nltk_data]    |   Unzipping corpora/brown.zip.\n",
            "[nltk_data]    | Downloading package brown_tei to /root/nltk_data...\n",
            "[nltk_data]    |   Unzipping corpora/brown_tei.zip.\n",
            "[nltk_data]    | Downloading package cess_cat to /root/nltk_data...\n",
            "[nltk_data]    |   Unzipping corpora/cess_cat.zip.\n",
            "[nltk_data]    | Downloading package cess_esp to /root/nltk_data...\n",
            "[nltk_data]    |   Unzipping corpora/cess_esp.zip.\n",
            "[nltk_data]    | Downloading package chat80 to /root/nltk_data...\n",
            "[nltk_data]    |   Unzipping corpora/chat80.zip.\n",
            "[nltk_data]    | Downloading package city_database to\n",
            "[nltk_data]    |     /root/nltk_data...\n",
            "[nltk_data]    |   Unzipping corpora/city_database.zip.\n",
            "[nltk_data]    | Downloading package cmudict to /root/nltk_data...\n",
            "[nltk_data]    |   Unzipping corpora/cmudict.zip.\n",
            "[nltk_data]    | Downloading package comparative_sentences to\n",
            "[nltk_data]    |     /root/nltk_data...\n",
            "[nltk_data]    |   Unzipping corpora/comparative_sentences.zip.\n",
            "[nltk_data]    | Downloading package comtrans to /root/nltk_data...\n",
            "[nltk_data]    | Downloading package conll2000 to /root/nltk_data...\n",
            "[nltk_data]    |   Unzipping corpora/conll2000.zip.\n",
            "[nltk_data]    | Downloading package conll2002 to /root/nltk_data...\n",
            "[nltk_data]    |   Unzipping corpora/conll2002.zip.\n",
            "[nltk_data]    | Downloading package conll2007 to /root/nltk_data...\n",
            "[nltk_data]    | Downloading package crubadan to /root/nltk_data...\n",
            "[nltk_data]    |   Unzipping corpora/crubadan.zip.\n",
            "[nltk_data]    | Downloading package dependency_treebank to\n",
            "[nltk_data]    |     /root/nltk_data...\n",
            "[nltk_data]    |   Unzipping corpora/dependency_treebank.zip.\n",
            "[nltk_data]    | Downloading package dolch to /root/nltk_data...\n",
            "[nltk_data]    |   Unzipping corpora/dolch.zip.\n",
            "[nltk_data]    | Downloading package europarl_raw to\n",
            "[nltk_data]    |     /root/nltk_data...\n",
            "[nltk_data]    |   Unzipping corpora/europarl_raw.zip.\n",
            "[nltk_data]    | Downloading package floresta to /root/nltk_data...\n",
            "[nltk_data]    |   Unzipping corpora/floresta.zip.\n",
            "[nltk_data]    | Downloading package framenet_v15 to\n",
            "[nltk_data]    |     /root/nltk_data...\n",
            "[nltk_data]    |   Unzipping corpora/framenet_v15.zip.\n",
            "[nltk_data]    | Downloading package framenet_v17 to\n",
            "[nltk_data]    |     /root/nltk_data...\n",
            "[nltk_data]    |   Unzipping corpora/framenet_v17.zip.\n",
            "[nltk_data]    | Downloading package gazetteers to /root/nltk_data...\n",
            "[nltk_data]    |   Unzipping corpora/gazetteers.zip.\n",
            "[nltk_data]    | Downloading package genesis to /root/nltk_data...\n",
            "[nltk_data]    |   Unzipping corpora/genesis.zip.\n",
            "[nltk_data]    | Downloading package gutenberg to /root/nltk_data...\n",
            "[nltk_data]    |   Unzipping corpora/gutenberg.zip.\n",
            "[nltk_data]    | Downloading package ieer to /root/nltk_data...\n",
            "[nltk_data]    |   Unzipping corpora/ieer.zip.\n",
            "[nltk_data]    | Downloading package inaugural to /root/nltk_data...\n",
            "[nltk_data]    |   Unzipping corpora/inaugural.zip.\n",
            "[nltk_data]    | Downloading package indian to /root/nltk_data...\n",
            "[nltk_data]    |   Unzipping corpora/indian.zip.\n",
            "[nltk_data]    | Downloading package jeita to /root/nltk_data...\n",
            "[nltk_data]    | Downloading package kimmo to /root/nltk_data...\n",
            "[nltk_data]    |   Unzipping corpora/kimmo.zip.\n",
            "[nltk_data]    | Downloading package knbc to /root/nltk_data...\n",
            "[nltk_data]    | Downloading package lin_thesaurus to\n",
            "[nltk_data]    |     /root/nltk_data...\n",
            "[nltk_data]    |   Unzipping corpora/lin_thesaurus.zip.\n",
            "[nltk_data]    | Downloading package mac_morpho to /root/nltk_data...\n",
            "[nltk_data]    |   Unzipping corpora/mac_morpho.zip.\n",
            "[nltk_data]    | Downloading package machado to /root/nltk_data...\n",
            "[nltk_data]    | Downloading package masc_tagged to /root/nltk_data...\n",
            "[nltk_data]    | Downloading package moses_sample to\n",
            "[nltk_data]    |     /root/nltk_data...\n",
            "[nltk_data]    |   Unzipping models/moses_sample.zip.\n",
            "[nltk_data]    | Downloading package movie_reviews to\n",
            "[nltk_data]    |     /root/nltk_data...\n",
            "[nltk_data]    |   Unzipping corpora/movie_reviews.zip.\n",
            "[nltk_data]    | Downloading package names to /root/nltk_data...\n",
            "[nltk_data]    |   Unzipping corpora/names.zip.\n",
            "[nltk_data]    | Downloading package nombank.1.0 to /root/nltk_data...\n",
            "[nltk_data]    | Downloading package nps_chat to /root/nltk_data...\n",
            "[nltk_data]    |   Unzipping corpora/nps_chat.zip.\n",
            "[nltk_data]    | Downloading package omw to /root/nltk_data...\n",
            "[nltk_data]    |   Unzipping corpora/omw.zip.\n",
            "[nltk_data]    | Downloading package opinion_lexicon to\n",
            "[nltk_data]    |     /root/nltk_data...\n",
            "[nltk_data]    |   Unzipping corpora/opinion_lexicon.zip.\n",
            "[nltk_data]    | Downloading package paradigms to /root/nltk_data...\n",
            "[nltk_data]    |   Unzipping corpora/paradigms.zip.\n",
            "[nltk_data]    | Downloading package pil to /root/nltk_data...\n",
            "[nltk_data]    |   Unzipping corpora/pil.zip.\n",
            "[nltk_data]    | Downloading package pl196x to /root/nltk_data...\n",
            "[nltk_data]    |   Unzipping corpora/pl196x.zip.\n",
            "[nltk_data]    | Downloading package ppattach to /root/nltk_data...\n",
            "[nltk_data]    |   Unzipping corpora/ppattach.zip.\n",
            "[nltk_data]    | Downloading package problem_reports to\n",
            "[nltk_data]    |     /root/nltk_data...\n",
            "[nltk_data]    |   Unzipping corpora/problem_reports.zip.\n",
            "[nltk_data]    | Downloading package propbank to /root/nltk_data...\n",
            "[nltk_data]    | Downloading package ptb to /root/nltk_data...\n",
            "[nltk_data]    |   Unzipping corpora/ptb.zip.\n",
            "[nltk_data]    | Downloading package product_reviews_1 to\n",
            "[nltk_data]    |     /root/nltk_data...\n",
            "[nltk_data]    |   Unzipping corpora/product_reviews_1.zip.\n",
            "[nltk_data]    | Downloading package product_reviews_2 to\n",
            "[nltk_data]    |     /root/nltk_data...\n",
            "[nltk_data]    |   Unzipping corpora/product_reviews_2.zip.\n",
            "[nltk_data]    | Downloading package pros_cons to /root/nltk_data...\n",
            "[nltk_data]    |   Unzipping corpora/pros_cons.zip.\n",
            "[nltk_data]    | Downloading package qc to /root/nltk_data...\n",
            "[nltk_data]    |   Unzipping corpora/qc.zip.\n",
            "[nltk_data]    | Downloading package reuters to /root/nltk_data...\n",
            "[nltk_data]    | Downloading package rte to /root/nltk_data...\n",
            "[nltk_data]    |   Unzipping corpora/rte.zip.\n",
            "[nltk_data]    | Downloading package semcor to /root/nltk_data...\n",
            "[nltk_data]    | Downloading package senseval to /root/nltk_data...\n",
            "[nltk_data]    |   Unzipping corpora/senseval.zip.\n",
            "[nltk_data]    | Downloading package sentiwordnet to\n",
            "[nltk_data]    |     /root/nltk_data...\n",
            "[nltk_data]    |   Unzipping corpora/sentiwordnet.zip.\n",
            "[nltk_data]    | Downloading package sentence_polarity to\n",
            "[nltk_data]    |     /root/nltk_data...\n",
            "[nltk_data]    |   Unzipping corpora/sentence_polarity.zip.\n",
            "[nltk_data]    | Downloading package shakespeare to /root/nltk_data...\n",
            "[nltk_data]    |   Unzipping corpora/shakespeare.zip.\n",
            "[nltk_data]    | Downloading package sinica_treebank to\n",
            "[nltk_data]    |     /root/nltk_data...\n",
            "[nltk_data]    |   Unzipping corpora/sinica_treebank.zip.\n",
            "[nltk_data]    | Downloading package smultron to /root/nltk_data...\n",
            "[nltk_data]    |   Unzipping corpora/smultron.zip.\n",
            "[nltk_data]    | Downloading package state_union to /root/nltk_data...\n",
            "[nltk_data]    |   Unzipping corpora/state_union.zip.\n",
            "[nltk_data]    | Downloading package stopwords to /root/nltk_data...\n",
            "[nltk_data]    |   Package stopwords is already up-to-date!\n",
            "[nltk_data]    | Downloading package subjectivity to\n",
            "[nltk_data]    |     /root/nltk_data...\n",
            "[nltk_data]    |   Unzipping corpora/subjectivity.zip.\n",
            "[nltk_data]    | Downloading package swadesh to /root/nltk_data...\n",
            "[nltk_data]    |   Unzipping corpora/swadesh.zip.\n",
            "[nltk_data]    | Downloading package switchboard to /root/nltk_data...\n",
            "[nltk_data]    |   Unzipping corpora/switchboard.zip.\n",
            "[nltk_data]    | Downloading package timit to /root/nltk_data...\n",
            "[nltk_data]    |   Unzipping corpora/timit.zip.\n",
            "[nltk_data]    | Downloading package toolbox to /root/nltk_data...\n",
            "[nltk_data]    |   Unzipping corpora/toolbox.zip.\n",
            "[nltk_data]    | Downloading package treebank to /root/nltk_data...\n",
            "[nltk_data]    |   Unzipping corpora/treebank.zip.\n",
            "[nltk_data]    | Downloading package twitter_samples to\n",
            "[nltk_data]    |     /root/nltk_data...\n",
            "[nltk_data]    |   Unzipping corpora/twitter_samples.zip.\n",
            "[nltk_data]    | Downloading package udhr to /root/nltk_data...\n",
            "[nltk_data]    |   Unzipping corpora/udhr.zip.\n",
            "[nltk_data]    | Downloading package udhr2 to /root/nltk_data...\n",
            "[nltk_data]    |   Unzipping corpora/udhr2.zip.\n",
            "[nltk_data]    | Downloading package unicode_samples to\n",
            "[nltk_data]    |     /root/nltk_data...\n",
            "[nltk_data]    |   Unzipping corpora/unicode_samples.zip.\n",
            "[nltk_data]    | Downloading package universal_treebanks_v20 to\n",
            "[nltk_data]    |     /root/nltk_data...\n",
            "[nltk_data]    | Downloading package verbnet to /root/nltk_data...\n",
            "[nltk_data]    |   Unzipping corpora/verbnet.zip.\n",
            "[nltk_data]    | Downloading package verbnet3 to /root/nltk_data...\n",
            "[nltk_data]    |   Unzipping corpora/verbnet3.zip.\n",
            "[nltk_data]    | Downloading package webtext to /root/nltk_data...\n",
            "[nltk_data]    |   Unzipping corpora/webtext.zip.\n",
            "[nltk_data]    | Downloading package wordnet to /root/nltk_data...\n",
            "[nltk_data]    |   Unzipping corpora/wordnet.zip.\n",
            "[nltk_data]    | Downloading package wordnet_ic to /root/nltk_data...\n",
            "[nltk_data]    |   Unzipping corpora/wordnet_ic.zip.\n",
            "[nltk_data]    | Downloading package words to /root/nltk_data...\n",
            "[nltk_data]    |   Unzipping corpora/words.zip.\n",
            "[nltk_data]    | Downloading package ycoe to /root/nltk_data...\n",
            "[nltk_data]    |   Unzipping corpora/ycoe.zip.\n",
            "[nltk_data]    | Downloading package rslp to /root/nltk_data...\n",
            "[nltk_data]    |   Unzipping stemmers/rslp.zip.\n",
            "[nltk_data]    | Downloading package maxent_treebank_pos_tagger to\n",
            "[nltk_data]    |     /root/nltk_data...\n",
            "[nltk_data]    |   Unzipping taggers/maxent_treebank_pos_tagger.zip.\n",
            "[nltk_data]    | Downloading package universal_tagset to\n",
            "[nltk_data]    |     /root/nltk_data...\n",
            "[nltk_data]    |   Unzipping taggers/universal_tagset.zip.\n",
            "[nltk_data]    | Downloading package maxent_ne_chunker to\n",
            "[nltk_data]    |     /root/nltk_data...\n",
            "[nltk_data]    |   Unzipping chunkers/maxent_ne_chunker.zip.\n",
            "[nltk_data]    | Downloading package punkt to /root/nltk_data...\n",
            "[nltk_data]    |   Unzipping tokenizers/punkt.zip.\n",
            "[nltk_data]    | Downloading package book_grammars to\n",
            "[nltk_data]    |     /root/nltk_data...\n",
            "[nltk_data]    |   Unzipping grammars/book_grammars.zip.\n",
            "[nltk_data]    | Downloading package sample_grammars to\n",
            "[nltk_data]    |     /root/nltk_data...\n",
            "[nltk_data]    |   Unzipping grammars/sample_grammars.zip.\n",
            "[nltk_data]    | Downloading package spanish_grammars to\n",
            "[nltk_data]    |     /root/nltk_data...\n",
            "[nltk_data]    |   Unzipping grammars/spanish_grammars.zip.\n",
            "[nltk_data]    | Downloading package basque_grammars to\n",
            "[nltk_data]    |     /root/nltk_data...\n",
            "[nltk_data]    |   Unzipping grammars/basque_grammars.zip.\n",
            "[nltk_data]    | Downloading package large_grammars to\n",
            "[nltk_data]    |     /root/nltk_data...\n",
            "[nltk_data]    |   Unzipping grammars/large_grammars.zip.\n",
            "[nltk_data]    | Downloading package tagsets to /root/nltk_data...\n",
            "[nltk_data]    |   Unzipping help/tagsets.zip.\n",
            "[nltk_data]    | Downloading package snowball_data to\n",
            "[nltk_data]    |     /root/nltk_data...\n",
            "[nltk_data]    | Downloading package bllip_wsj_no_aux to\n",
            "[nltk_data]    |     /root/nltk_data...\n",
            "[nltk_data]    |   Unzipping models/bllip_wsj_no_aux.zip.\n",
            "[nltk_data]    | Downloading package word2vec_sample to\n",
            "[nltk_data]    |     /root/nltk_data...\n",
            "[nltk_data]    |   Unzipping models/word2vec_sample.zip.\n",
            "[nltk_data]    | Downloading package panlex_swadesh to\n",
            "[nltk_data]    |     /root/nltk_data...\n",
            "[nltk_data]    | Downloading package mte_teip5 to /root/nltk_data...\n",
            "[nltk_data]    |   Unzipping corpora/mte_teip5.zip.\n",
            "[nltk_data]    | Downloading package averaged_perceptron_tagger to\n",
            "[nltk_data]    |     /root/nltk_data...\n",
            "[nltk_data]    |   Unzipping taggers/averaged_perceptron_tagger.zip.\n",
            "[nltk_data]    | Downloading package averaged_perceptron_tagger_ru to\n",
            "[nltk_data]    |     /root/nltk_data...\n",
            "[nltk_data]    |   Unzipping\n",
            "[nltk_data]    |       taggers/averaged_perceptron_tagger_ru.zip.\n",
            "[nltk_data]    | Downloading package perluniprops to\n",
            "[nltk_data]    |     /root/nltk_data...\n",
            "[nltk_data]    |   Unzipping misc/perluniprops.zip.\n",
            "[nltk_data]    | Downloading package nonbreaking_prefixes to\n",
            "[nltk_data]    |     /root/nltk_data...\n",
            "[nltk_data]    |   Unzipping corpora/nonbreaking_prefixes.zip.\n",
            "[nltk_data]    | Downloading package vader_lexicon to\n",
            "[nltk_data]    |     /root/nltk_data...\n",
            "[nltk_data]    | Downloading package porter_test to /root/nltk_data...\n",
            "[nltk_data]    |   Unzipping stemmers/porter_test.zip.\n",
            "[nltk_data]    | Downloading package wmt15_eval to /root/nltk_data...\n",
            "[nltk_data]    |   Unzipping models/wmt15_eval.zip.\n",
            "[nltk_data]    | Downloading package mwa_ppdb to /root/nltk_data...\n",
            "[nltk_data]    |   Unzipping misc/mwa_ppdb.zip.\n",
            "[nltk_data]    | \n",
            "[nltk_data]  Done downloading collection all\n"
          ],
          "name": "stdout"
        },
        {
          "output_type": "execute_result",
          "data": {
            "text/plain": [
              "True"
            ]
          },
          "metadata": {
            "tags": []
          },
          "execution_count": 4
        }
      ]
    },
    {
      "cell_type": "code",
      "metadata": {
        "id": "lqe5vm1ps-_P"
      },
      "source": [
        "set_alpha = set(['a', 'b', 'd', 'e', 'f', 'g', 'h', 'i', 'k', 'l', 'm', 'n', 'o', 'p', 'q', 's', 't', 'u', 'v', 'w', 'x', 'y', 'z', '-'])"
      ],
      "execution_count": 5,
      "outputs": []
    },
    {
      "cell_type": "markdown",
      "metadata": {
        "id": "GRAnwpQpDi0X"
      },
      "source": [
        "## **2.Data**"
      ]
    },
    {
      "cell_type": "code",
      "metadata": {
        "colab": {
          "base_uri": "https://localhost:8080/"
        },
        "id": "NzWo_lsXDT58",
        "outputId": "a0a429e0-29fa-4b22-98a8-0176aa251c38"
      },
      "source": [
        "from google.colab import drive\n",
        "drive.mount('/content/drive')"
      ],
      "execution_count": 6,
      "outputs": [
        {
          "output_type": "stream",
          "text": [
            "Go to this URL in a browser: https://accounts.google.com/o/oauth2/auth?client_id=947318989803-6bn6qk8qdgf4n4g3pfee6491hc0brc4i.apps.googleusercontent.com&redirect_uri=urn%3aietf%3awg%3aoauth%3a2.0%3aoob&scope=email%20https%3a%2f%2fwww.googleapis.com%2fauth%2fdocs.test%20https%3a%2f%2fwww.googleapis.com%2fauth%2fdrive%20https%3a%2f%2fwww.googleapis.com%2fauth%2fdrive.photos.readonly%20https%3a%2f%2fwww.googleapis.com%2fauth%2fpeopleapi.readonly%20https%3a%2f%2fwww.googleapis.com%2fauth%2fdrive.activity.readonly&response_type=code\n",
            "\n",
            "Enter your authorization code:\n",
            "4/1AY0e-g5SqG8iP_StGJ--L6ScTqucNu_iveztAJ_vg_HKXVSuPqG14SaNKxU\n"
          ],
          "name": "stdout"
        },
        {
          "output_type": "stream",
          "text": [
            "Mounted at /content/drive\n"
          ],
          "name": "stdout"
        }
      ]
    },
    {
      "cell_type": "code",
      "metadata": {
        "id": "q9Nyu3oCvTTo"
      },
      "source": [
        "model_lr = joblib.load('/content/drive/My Drive/CentraleSupelec_OCR/P6/reg_log_saved.joblib')"
      ],
      "execution_count": 7,
      "outputs": []
    },
    {
      "cell_type": "code",
      "metadata": {
        "id": "sqfKJTjQeW_9",
        "colab": {
          "base_uri": "https://localhost:8080/"
        },
        "outputId": "7db0e47c-62aa-40b5-ea78-f9c862a5e93a"
      },
      "source": [
        "dict_tags_500 = joblib.load('/content/drive/My Drive/CentraleSupelec_OCR/P6/list_tag_key_500.joblib')\r\n",
        "print(dict_tags_500)"
      ],
      "execution_count": 9,
      "outputs": [
        {
          "output_type": "stream",
          "text": [
            "{'button', 'merge', 'security', 'heroku', 'jaxb', 'indexing', 'tfs', 'charts', 'entity-framework', 'unix', 'xpath', 'asp.net-mvc', 'visual-studio-2012', 'date', 'opengl-es', 'jquery', 'keras', 'vuejs2', 'ubuntu', 'cordova', 'xamarin', 'powershell', 'svg', 'asp.net', 'stream', 'hibernate', 'module', 'amazon-s3', 'razor', 'sql', 'filesystems', 'angularjs', 'dynamic', 'arraylist', 'mercurial', 'facebook', 'localization', 'msbuild', '.net-3.5', 'fonts', 'activerecord', 'intellij-idea', 'xsd', 'ajax', 'kubernetes', 'uitableview', 'woocommerce', 'string', 'testing', 'audio', 'methods', 'mysql', 'computer-vision', 'sql-server-2008', 'internet-explorer', 'uiview', 'hadoop', 'web-services', 'scipy', 'algorithm', 'websocket', 'java-stream', 'facebook-graph-api', 'matlab', 'php', 'listview', 'react-router', 'language-agnostic', 'tomcat', 'r', 'jackson', 'postgresql', 'pyspark', 'api', 'swiftui', 'recursion', 'scroll', 'ionic-framework', 'animation', 'rxjs', 'swing', 'git', 'object', 'angular5', 'laravel', 'promise', 'python-3.x', 'arrays', 'google-apps-script', 'timer', 'post', 'spring-mvc', 'ecmascript-6', 'version-control', 'ansible', 'gcc', 'database-design', 'windows', 'canvas', 'sockets', 'ssis', 'graphql', 'css-selectors', 'eclipse-plugin', 'google-api', 'sed', 'google-app-engine', 'jsp', 'webpack', 'ggplot2', 'jsf', 'list', 'batch-file', 'closures', 'javafx', 'utf-8', 'file', 'mocking', 'autocomplete', 'devise', 'selenium', 'garbage-collection', 'swift', 'parsing', 'build', 'erlang', 'asp.net-mvc-4', 'elasticsearch', 'scala', 'enums', 'redux', 'twitter-bootstrap', 'initialization', '.net-core', 'compilation', 'django', 'ms-access', 'refactoring', 'formatting', 'async-await', 'properties', 'web-applications', 'actionscript-3', 'encryption', 'html', 'dll', 'wix', 'makefile', 'twitter', 'visual-studio-2015', 'dataframe', 'cocoa-touch', 'latex', 'spring-boot', 'mobile', 'plot', 'magento', 'constants', 'apache-spark-sql', 'twitter-bootstrap-3', 'linux-kernel', 'integer', 'validation', 'macros', 'ant', 'c++11', 'aws-lambda', 'julia', 'frameworks', 'jdbc', 'asp.net-core-2.0', 'sorting', 'uwp', 'sqlite', 'class', 'vector', 'openssl', 'django-models', 'amazon-ec2', 'function', 'process', 'angular-material', 'split', 'static', 'emacs', 'design-patterns', 'concurrency', 'groovy', 'vim', 'node.js', 'routing', 'dependency-injection', 'qt', 'sbt', 'exception', 'javascript', 'user-interface', 'iframe', 'rest', 'xaml', 'google-chrome', 'lisp', 'browser', 'ide', 'unity3d', 'language-lawyer', 'rabbitmq', 'f#', 'unit-testing', 'linux', 'laravel-5', 'netbeans', 'google-chrome-extension', 'google-cloud-platform', 'asynchronous', 'dplyr', 'dom', 'if-statement', 'colors', 'asp.net-web-api', 'haskell', 'shiny', 'visual-studio', 'xslt', 'model', 'apache', 'cocoa', 'video', 'url', 'vb.net', 'memory-leaks', 'binary', 'oauth', 'servlets', 'go', 'csv', 'visual-c++', 'ios7', 'ipad', 'loops', 'matplotlib', 'c#', 'scripting', 'regex', 'codeigniter', 'visual-studio-2008', 'github', 'unicode', 'flash', 'oauth-2.0', '.net', 'deployment', 'performance', 'mongodb', 'safari', 'webview', 'inheritance', 'delphi', 'react-native', 'kotlin', 'jestjs', 'error-handling', 'grails', 'lua', 'zend-framework', 'npm', 'ssh', 'json', 'angular', 'c++17', 'stl', 'io', 'model-view-controller', 'neural-network', 'controls', 'search', 'vue.js', 'cmake', 'core-data', 'matrix', 'architecture', 'clojure', 'c', 'graphics', 'command-line', 'assembly', 'rspec', 'permissions', 'tensorflow', 'data-structures', 'soap', 'rust', 'docker', 'google-cloud-firestore', 'pandas', 'android-layout', 'bash', 'flexbox', 'variables', 'stored-procedures', 'join', 'tsql', 'asp.net-core-mvc', 'terminal', 'multidimensional-array', 'css', 'scope', 'xml', 'awk', 'dart', 'docker-compose', 'wordpress', 'group-by', 'data-binding', 'serialization', 'curl', 'ios', 'selenium-webdriver', 'casting', 'configuration', 'express', 'd3.js', 'binding', 'flutter', 'excel', 'redirect', 'macos', 'windows-7', 'spring-security', 'null', 'machine-learning', 'text', 'jakarta-ee', 'compiler-construction', 'asp.net-core', 'hash', 'ssl', 'interface', 'dictionary', 'winapi', 'firefox', 'junit', 'http', 'silverlight', 'ruby-on-rails-4', 'deep-learning', 'image-processing', 'generics', 'networking', 'visual-studio-2017', 'android-emulator', 'objective-c', 'scikit-learn', 'struct', 'jquery-ui', 'opencv', 'https', 'laravel-4', 'installation', 'entity-framework-core', 'java-8', 'perl', 'iphone', 'cakephp', 'environment-variables', 'x86', 'mongoose', 'proxy', 'multithreading', 'authentication', 'collections', 'jvm', 'ios5', 'amazon-web-services', 'set', 'orm', 'iis-7', 'jpa', 'migration', 'opengl', 'drupal', 'android-studio', 'python-2.7', 'reflection', 'maven', 'android-activity', 'sqlalchemy', 'for-loop', 'statistics', 'android', 'python', 'azure', 'image', 'memory', 'jenkins', 'service', 'gradle', 'optimization', 'programming-languages', 'functional-programming', 'apache-spark', 'dns', 'eclipse', 'parameters', 'android-fragments', 'plugins', 'linq-to-sql', 'input', 'nginx', 'reference', 'iterator', 'shell', 'c++14', 'session', 'random', 'pdf', 'ruby-on-rails', 'visual-studio-2010', 'cookies', 'boost', 'r-markdown', 'memory-management', 'linq', 'android-intent', 'layout', 'typescript', 'maven-2', 'coldfusion', 'math', 'iis', 'dockerfile', 'ios8', 'symfony', 'file-io', 'ruby-on-rails-3', 'events', 'android-gradle-plugin', 'lambda', 'asp.net-mvc-3', 'email', 'internationalization', 'parallel-processing', 'pip', 'datetime', 'svn', 'path', 'debugging', 'xamarin.forms', 'syntax', 'reactjs', 'firebase', 'sql-server', 'google-maps', 'c++', 'caching', 'ffmpeg', 'xcode', 'constructor', 'wcf', 'clang', 'templates', 'forms', 'spring', 'redis', 'meteor', 'java', 'floating-point', 'numpy', 'graph', 'database', 'sharepoint', 'select', 'ruby', 'wpf', 'flask', 'vba', 'pointers', 'time', 'import', 'coding-style', 'sql-server-2005', 'type-conversion', 'visual-studio-code', '.htaccess', 'mvvm', 'apache-kafka', 'types', 'exception-handling', 'web', 'bootstrap-4', 'encoding', 'tkinter', 'winforms', 'nhibernate', 'oop', 'asp.net-mvc-2', 'logging', 'oracle', 'checkbox', 'sass'}\n"
          ],
          "name": "stdout"
        }
      ]
    },
    {
      "cell_type": "code",
      "metadata": {
        "id": "k4cQI4QL6y_z",
        "colab": {
          "base_uri": "https://localhost:8080/"
        },
        "outputId": "4a235f1e-2664-43c9-fbc8-d2c02050fdfc"
      },
      "source": [
        "type(dict_tags_500)"
      ],
      "execution_count": 10,
      "outputs": [
        {
          "output_type": "execute_result",
          "data": {
            "text/plain": [
              "set"
            ]
          },
          "metadata": {
            "tags": []
          },
          "execution_count": 10
        }
      ]
    },
    {
      "cell_type": "code",
      "metadata": {
        "id": "4dWLnR4ZnIud",
        "outputId": "98e40ae6-01ff-4ef6-f5b7-600222a79266",
        "colab": {
          "base_uri": "https://localhost:8080/"
        }
      },
      "source": [
        "len(dict_tags_500)"
      ],
      "execution_count": 13,
      "outputs": [
        {
          "output_type": "execute_result",
          "data": {
            "text/plain": [
              "500"
            ]
          },
          "metadata": {
            "tags": []
          },
          "execution_count": 13
        }
      ]
    },
    {
      "cell_type": "code",
      "metadata": {
        "id": "UVSSwZlb7tsJ",
        "colab": {
          "base_uri": "https://localhost:8080/",
          "height": 139
        },
        "outputId": "d315ab5f-e5b7-4488-a934-e44d573ed7a0"
      },
      "source": [
        "st_tags_500  = \" \".join(dict_tags_500)\r\n",
        "st_tags_500"
      ],
      "execution_count": 14,
      "outputs": [
        {
          "output_type": "execute_result",
          "data": {
            "application/vnd.google.colaboratory.intrinsic+json": {
              "type": "string"
            },
            "text/plain": [
              "'button merge security heroku jaxb indexing tfs charts entity-framework unix xpath asp.net-mvc visual-studio-2012 date opengl-es jquery keras vuejs2 ubuntu cordova xamarin powershell svg asp.net stream hibernate module amazon-s3 razor sql filesystems angularjs dynamic arraylist mercurial facebook localization msbuild .net-3.5 fonts activerecord intellij-idea xsd ajax kubernetes uitableview woocommerce string testing audio methods mysql computer-vision sql-server-2008 internet-explorer uiview hadoop web-services scipy algorithm websocket java-stream facebook-graph-api matlab php listview react-router language-agnostic tomcat r jackson postgresql pyspark api swiftui recursion scroll ionic-framework animation rxjs swing git object angular5 laravel promise python-3.x arrays google-apps-script timer post spring-mvc ecmascript-6 version-control ansible gcc database-design windows canvas sockets ssis graphql css-selectors eclipse-plugin google-api sed google-app-engine jsp webpack ggplot2 jsf list batch-file closures javafx utf-8 file mocking autocomplete devise selenium garbage-collection swift parsing build erlang asp.net-mvc-4 elasticsearch scala enums redux twitter-bootstrap initialization .net-core compilation django ms-access refactoring formatting async-await properties web-applications actionscript-3 encryption html dll wix makefile twitter visual-studio-2015 dataframe cocoa-touch latex spring-boot mobile plot magento constants apache-spark-sql twitter-bootstrap-3 linux-kernel integer validation macros ant c++11 aws-lambda julia frameworks jdbc asp.net-core-2.0 sorting uwp sqlite class vector openssl django-models amazon-ec2 function process angular-material split static emacs design-patterns concurrency groovy vim node.js routing dependency-injection qt sbt exception javascript user-interface iframe rest xaml google-chrome lisp browser ide unity3d language-lawyer rabbitmq f# unit-testing linux laravel-5 netbeans google-chrome-extension google-cloud-platform asynchronous dplyr dom if-statement colors asp.net-web-api haskell shiny visual-studio xslt model apache cocoa video url vb.net memory-leaks binary oauth servlets go csv visual-c++ ios7 ipad loops matplotlib c# scripting regex codeigniter visual-studio-2008 github unicode flash oauth-2.0 .net deployment performance mongodb safari webview inheritance delphi react-native kotlin jestjs error-handling grails lua zend-framework npm ssh json angular c++17 stl io model-view-controller neural-network controls search vue.js cmake core-data matrix architecture clojure c graphics command-line assembly rspec permissions tensorflow data-structures soap rust docker google-cloud-firestore pandas android-layout bash flexbox variables stored-procedures join tsql asp.net-core-mvc terminal multidimensional-array css scope xml awk dart docker-compose wordpress group-by data-binding serialization curl ios selenium-webdriver casting configuration express d3.js binding flutter excel redirect macos windows-7 spring-security null machine-learning text jakarta-ee compiler-construction asp.net-core hash ssl interface dictionary winapi firefox junit http silverlight ruby-on-rails-4 deep-learning image-processing generics networking visual-studio-2017 android-emulator objective-c scikit-learn struct jquery-ui opencv https laravel-4 installation entity-framework-core java-8 perl iphone cakephp environment-variables x86 mongoose proxy multithreading authentication collections jvm ios5 amazon-web-services set orm iis-7 jpa migration opengl drupal android-studio python-2.7 reflection maven android-activity sqlalchemy for-loop statistics android python azure image memory jenkins service gradle optimization programming-languages functional-programming apache-spark dns eclipse parameters android-fragments plugins linq-to-sql input nginx reference iterator shell c++14 session random pdf ruby-on-rails visual-studio-2010 cookies boost r-markdown memory-management linq android-intent layout typescript maven-2 coldfusion math iis dockerfile ios8 symfony file-io ruby-on-rails-3 events android-gradle-plugin lambda asp.net-mvc-3 email internationalization parallel-processing pip datetime svn path debugging xamarin.forms syntax reactjs firebase sql-server google-maps c++ caching ffmpeg xcode constructor wcf clang templates forms spring redis meteor java floating-point numpy graph database sharepoint select ruby wpf flask vba pointers time import coding-style sql-server-2005 type-conversion visual-studio-code .htaccess mvvm apache-kafka types exception-handling web bootstrap-4 encoding tkinter winforms nhibernate oop asp.net-mvc-2 logging oracle checkbox sass'"
            ]
          },
          "metadata": {
            "tags": []
          },
          "execution_count": 14
        }
      ]
    },
    {
      "cell_type": "code",
      "metadata": {
        "id": "apXt3siF_3T2",
        "colab": {
          "base_uri": "https://localhost:8080/"
        },
        "outputId": "3f31fade-1865-46ee-bb5c-7560e0954411"
      },
      "source": [
        "type(st_tags_500)"
      ],
      "execution_count": 15,
      "outputs": [
        {
          "output_type": "execute_result",
          "data": {
            "text/plain": [
              "str"
            ]
          },
          "metadata": {
            "tags": []
          },
          "execution_count": 15
        }
      ]
    },
    {
      "cell_type": "code",
      "metadata": {
        "id": "ZEfxYy0dolh6"
      },
      "source": [
        "def word_count(question):\r\n",
        "  return len(question.split())"
      ],
      "execution_count": 22,
      "outputs": []
    },
    {
      "cell_type": "code",
      "metadata": {
        "id": "ffly-uvFo9ou",
        "outputId": "4507cef3-b05c-462e-dc05-51f8e92b3189",
        "colab": {
          "base_uri": "https://localhost:8080/"
        }
      },
      "source": [
        "word_count(st_tags_500)"
      ],
      "execution_count": 23,
      "outputs": [
        {
          "output_type": "execute_result",
          "data": {
            "text/plain": [
              "500"
            ]
          },
          "metadata": {
            "tags": []
          },
          "execution_count": 23
        }
      ]
    },
    {
      "cell_type": "code",
      "metadata": {
        "id": "fGhXeLGb_N4r",
        "colab": {
          "base_uri": "https://localhost:8080/",
          "height": 87
        },
        "outputId": "a0af1f8d-dcc6-4bb9-b04a-72cb122d6898"
      },
      "source": [
        "question_test = 'C# gRPC client - name resolution failure <p>A client is running our C# gRPC client on a corporate network, behind an HTTP proxy. The <code>http_proxy</code> environment variable is configured, but nevertheless he sees an error message <code>Name resolution failure</code> when attempting to connect to the server on the internet. </p>\\n\\n<p>DNS resolution from the same machine works fine using nslookup. </p>\\n\\n<p>Any ideas what I can do to investigate this problem?</p>\\n'\r\n",
        "question_test"
      ],
      "execution_count": 16,
      "outputs": [
        {
          "output_type": "execute_result",
          "data": {
            "application/vnd.google.colaboratory.intrinsic+json": {
              "type": "string"
            },
            "text/plain": [
              "'C# gRPC client - name resolution failure <p>A client is running our C# gRPC client on a corporate network, behind an HTTP proxy. The <code>http_proxy</code> environment variable is configured, but nevertheless he sees an error message <code>Name resolution failure</code> when attempting to connect to the server on the internet. </p>\\n\\n<p>DNS resolution from the same machine works fine using nslookup. </p>\\n\\n<p>Any ideas what I can do to investigate this problem?</p>\\n'"
            ]
          },
          "metadata": {
            "tags": []
          },
          "execution_count": 16
        }
      ]
    },
    {
      "cell_type": "code",
      "metadata": {
        "id": "2p5DI_QsH0j9",
        "colab": {
          "base_uri": "https://localhost:8080/"
        },
        "outputId": "8387c2a3-ac20-409b-f8e5-10b1bcc011c6"
      },
      "source": [
        "type(question_test)"
      ],
      "execution_count": 17,
      "outputs": [
        {
          "output_type": "execute_result",
          "data": {
            "text/plain": [
              "str"
            ]
          },
          "metadata": {
            "tags": []
          },
          "execution_count": 17
        }
      ]
    },
    {
      "cell_type": "code",
      "metadata": {
        "id": "gh2PQXcG1lUl"
      },
      "source": [
        "def preprocessing(text):\r\n",
        "  #HTML characters removing\r\n",
        "  def remove_html(text):\r\n",
        "    html_regex = re.compile('<.*?>') #Compile regular expresions\r\n",
        "    return re.sub(html_regex, ' ', str(text)) # Replace regex by ' '\r\n",
        "  text0 = remove_html(text)\r\n",
        "  \r\n",
        "\r\n",
        "  #URL removing\r\n",
        "  def remove_url(text0):\r\n",
        "    url_regex = 'http[s]?://(?:[a-zA-Z]|[0-9]|[$-_@.&+]|[!*\\(\\),]|(?:%[0-9a-fA-F][0-9a-fA-F]))+'\r\n",
        "    return re.sub(url_regex, ' ', str(text0))\r\n",
        "  text1 = remove_url(text0)\r\n",
        "  \r\n",
        "\r\n",
        "  #Punctuation removing\r\n",
        "  def remove_punc(text1):\r\n",
        "    clean_text = re.sub(r'[?|!|\"|:|=|_|{|}|[|]|-|$|%|^|&|]',r' ',str(text1))\r\n",
        "    clean_text = re.sub(r'[.|,|)|(|\\|/|-|~|`|>|<|*|$|@|;|→]',r' ', clean_text)\r\n",
        "    return clean_text\r\n",
        "  text2 = remove_url(text1)\r\n",
        "  \r\n",
        "\r\n",
        "  def remove_other(text2):\r\n",
        "    text = str(text2)\r\n",
        "    clean_text = re.sub(r\"[^a-zA-Z0-9#+-]\", \" \", text2.lower())\r\n",
        "    return clean_text\r\n",
        "  text3 = remove_other(text2)\r\n",
        "  \r\n",
        "\r\n",
        "  #Space removing\r\n",
        "  def remove_space(text3):\r\n",
        "    return ' '.join(str(text3).split())\r\n",
        "  text4 = remove_space(text3)\r\n",
        "  \r\n",
        "\r\n",
        "  def remove_stopwords(text4):\r\n",
        "    text4 = str(text4)\r\n",
        "    text4 = \" \".join(word for word in text4.split() if word not in gensim.parsing.preprocessing.STOPWORDS and word not in stop_words and word not in set_alpha )\r\n",
        "    return text4\r\n",
        "  text5 = remove_stopwords(text4)\r\n",
        "  \r\n",
        "\r\n",
        "  def tokenize(text5):\r\n",
        "    tokens = [lemma(w) for w in text5.split()] #if w.isalpha()\r\n",
        "    return tokens\r\n",
        "  text6 = tokenize(text5)\r\n",
        "  \r\n",
        "\r\n",
        "  def to_string(text6):\r\n",
        "    input_string = \" \".join(text6)\r\n",
        "    return input_string\r\n",
        "  text7 = to_string(text6)\r\n",
        "  \r\n",
        "  def keep_tags(text7):\r\n",
        "    text7 = str(text7)\r\n",
        "    text7 = \" \".join(tag for tag in text7.split() if tag in dict_tags_500)\r\n",
        "    return text7\r\n",
        "  text8 = keep_tags(text7)\r\n",
        "  return text8\r\n"
      ],
      "execution_count": 18,
      "outputs": []
    },
    {
      "cell_type": "code",
      "metadata": {
        "id": "zwae2MY5KDj4",
        "colab": {
          "base_uri": "https://localhost:8080/"
        },
        "outputId": "a92eb127-5f7c-40a1-c618-3297041c9a72"
      },
      "source": [
        "question_test_tag = preprocessing(question_test)\r\n",
        "print(question_test_tag)"
      ],
      "execution_count": 19,
      "outputs": [
        {
          "output_type": "stream",
          "text": [
            "c# c# http proxy http proxy dns\n"
          ],
          "name": "stdout"
        }
      ]
    },
    {
      "cell_type": "code",
      "metadata": {
        "id": "I1ucRqorkvdp",
        "colab": {
          "base_uri": "https://localhost:8080/",
          "height": 79
        },
        "outputId": "07a5a0d9-1970-456e-e5e1-8d012faa5490"
      },
      "source": [
        "question_test_tag_df = pd.DataFrame([question_test_tag], columns=['question'])\r\n",
        "question_test_tag_df"
      ],
      "execution_count": 20,
      "outputs": [
        {
          "output_type": "execute_result",
          "data": {
            "text/html": [
              "<div>\n",
              "<style scoped>\n",
              "    .dataframe tbody tr th:only-of-type {\n",
              "        vertical-align: middle;\n",
              "    }\n",
              "\n",
              "    .dataframe tbody tr th {\n",
              "        vertical-align: top;\n",
              "    }\n",
              "\n",
              "    .dataframe thead th {\n",
              "        text-align: right;\n",
              "    }\n",
              "</style>\n",
              "<table border=\"1\" class=\"dataframe\">\n",
              "  <thead>\n",
              "    <tr style=\"text-align: right;\">\n",
              "      <th></th>\n",
              "      <th>question</th>\n",
              "    </tr>\n",
              "  </thead>\n",
              "  <tbody>\n",
              "    <tr>\n",
              "      <th>0</th>\n",
              "      <td>c# c# http proxy http proxy dns</td>\n",
              "    </tr>\n",
              "  </tbody>\n",
              "</table>\n",
              "</div>"
            ],
            "text/plain": [
              "                          question\n",
              "0  c# c# http proxy http proxy dns"
            ]
          },
          "metadata": {
            "tags": []
          },
          "execution_count": 20
        }
      ]
    },
    {
      "cell_type": "code",
      "metadata": {
        "id": "SSx44QVdtYUB",
        "colab": {
          "base_uri": "https://localhost:8080/",
          "height": 79
        },
        "outputId": "934bbba5-9f81-4e97-c6eb-60ab16918758"
      },
      "source": [
        "tags_500_df = pd.DataFrame([st_tags_500], columns=['question'])\r\n",
        "tags_500_df"
      ],
      "execution_count": 24,
      "outputs": [
        {
          "output_type": "execute_result",
          "data": {
            "text/html": [
              "<div>\n",
              "<style scoped>\n",
              "    .dataframe tbody tr th:only-of-type {\n",
              "        vertical-align: middle;\n",
              "    }\n",
              "\n",
              "    .dataframe tbody tr th {\n",
              "        vertical-align: top;\n",
              "    }\n",
              "\n",
              "    .dataframe thead th {\n",
              "        text-align: right;\n",
              "    }\n",
              "</style>\n",
              "<table border=\"1\" class=\"dataframe\">\n",
              "  <thead>\n",
              "    <tr style=\"text-align: right;\">\n",
              "      <th></th>\n",
              "      <th>question</th>\n",
              "    </tr>\n",
              "  </thead>\n",
              "  <tbody>\n",
              "    <tr>\n",
              "      <th>0</th>\n",
              "      <td>button merge security heroku jaxb indexing tfs...</td>\n",
              "    </tr>\n",
              "  </tbody>\n",
              "</table>\n",
              "</div>"
            ],
            "text/plain": [
              "                                            question\n",
              "0  button merge security heroku jaxb indexing tfs..."
            ]
          },
          "metadata": {
            "tags": []
          },
          "execution_count": 24
        }
      ]
    },
    {
      "cell_type": "code",
      "metadata": {
        "id": "lJlrh50Bj-mG",
        "colab": {
          "base_uri": "https://localhost:8080/",
          "height": 110
        },
        "outputId": "5a3d9ba7-f079-4184-acf7-44ab559eaa37"
      },
      "source": [
        "test_input_df = pd.concat([question_test_tag_df, tags_500_df], ignore_index=True)\r\n",
        "test_input_df"
      ],
      "execution_count": 26,
      "outputs": [
        {
          "output_type": "execute_result",
          "data": {
            "text/html": [
              "<div>\n",
              "<style scoped>\n",
              "    .dataframe tbody tr th:only-of-type {\n",
              "        vertical-align: middle;\n",
              "    }\n",
              "\n",
              "    .dataframe tbody tr th {\n",
              "        vertical-align: top;\n",
              "    }\n",
              "\n",
              "    .dataframe thead th {\n",
              "        text-align: right;\n",
              "    }\n",
              "</style>\n",
              "<table border=\"1\" class=\"dataframe\">\n",
              "  <thead>\n",
              "    <tr style=\"text-align: right;\">\n",
              "      <th></th>\n",
              "      <th>question</th>\n",
              "    </tr>\n",
              "  </thead>\n",
              "  <tbody>\n",
              "    <tr>\n",
              "      <th>0</th>\n",
              "      <td>c# c# http proxy http proxy dns</td>\n",
              "    </tr>\n",
              "    <tr>\n",
              "      <th>1</th>\n",
              "      <td>button merge security heroku jaxb indexing tfs...</td>\n",
              "    </tr>\n",
              "  </tbody>\n",
              "</table>\n",
              "</div>"
            ],
            "text/plain": [
              "                                            question\n",
              "0                    c# c# http proxy http proxy dns\n",
              "1  button merge security heroku jaxb indexing tfs..."
            ]
          },
          "metadata": {
            "tags": []
          },
          "execution_count": 26
        }
      ]
    },
    {
      "cell_type": "code",
      "metadata": {
        "id": "saHW_RLgl_pw",
        "colab": {
          "base_uri": "https://localhost:8080/"
        },
        "outputId": "a9b59500-bb7b-4e2a-e837-9a0f56db4195"
      },
      "source": [
        "question_test =  test_input_df['question']\r\n",
        "question_test"
      ],
      "execution_count": 27,
      "outputs": [
        {
          "output_type": "execute_result",
          "data": {
            "text/plain": [
              "0                      c# c# http proxy http proxy dns\n",
              "1    button merge security heroku jaxb indexing tfs...\n",
              "Name: question, dtype: object"
            ]
          },
          "metadata": {
            "tags": []
          },
          "execution_count": 27
        }
      ]
    },
    {
      "cell_type": "code",
      "metadata": {
        "id": "6Ef5g0AVmNAZ",
        "colab": {
          "base_uri": "https://localhost:8080/"
        },
        "outputId": "344ad709-9180-4260-f41b-8795fdd8a4a4"
      },
      "source": [
        "type(question_test)"
      ],
      "execution_count": 28,
      "outputs": [
        {
          "output_type": "execute_result",
          "data": {
            "text/plain": [
              "pandas.core.series.Series"
            ]
          },
          "metadata": {
            "tags": []
          },
          "execution_count": 28
        }
      ]
    },
    {
      "cell_type": "code",
      "metadata": {
        "id": "9B6n-bsLmfAW"
      },
      "source": [
        "from sklearn.feature_extraction.text import TfidfVectorizer"
      ],
      "execution_count": 29,
      "outputs": []
    },
    {
      "cell_type": "code",
      "metadata": {
        "id": "Mp9daW8iG69P"
      },
      "source": [
        "def tokenize(document):\r\n",
        "  tokens = [lemma(w) for w in document.split()]         #if w.isalpha()\r\n",
        "  return tokens"
      ],
      "execution_count": 30,
      "outputs": []
    },
    {
      "cell_type": "code",
      "metadata": {
        "id": "MR0ULMvCG75M"
      },
      "source": [
        "stop_words = set(stopwords.words('english'))"
      ],
      "execution_count": 31,
      "outputs": []
    },
    {
      "cell_type": "code",
      "metadata": {
        "id": "xVbfvQNIlnCk",
        "colab": {
          "base_uri": "https://localhost:8080/"
        },
        "outputId": "dc56f063-4595-4061-ebe5-21d8b9ac9104"
      },
      "source": [
        "vectorizer = TfidfVectorizer(tokenizer = tokenize, stop_words = stop_words, max_features=355)\r\n",
        "X_tfidf = vectorizer.fit_transform(question_test).toarray()"
      ],
      "execution_count": 38,
      "outputs": [
        {
          "output_type": "stream",
          "text": [
            "/usr/local/lib/python3.6/dist-packages/sklearn/feature_extraction/text.py:385: UserWarning: Your stop_words may be inconsistent with your preprocessing. Tokenizing the stop words generated tokens ['doe', 'ha', 'wa'] not in stop_words.\n",
            "  'stop_words.' % sorted(inconsistent))\n"
          ],
          "name": "stderr"
        }
      ]
    },
    {
      "cell_type": "code",
      "metadata": {
        "id": "Mjvoh_qUmvu4",
        "colab": {
          "base_uri": "https://localhost:8080/"
        },
        "outputId": "e4fd9105-4884-4dbe-de53-908cbba753a6"
      },
      "source": [
        "print(X_tfidf.shape)"
      ],
      "execution_count": 39,
      "outputs": [
        {
          "output_type": "stream",
          "text": [
            "(2, 355)\n"
          ],
          "name": "stdout"
        }
      ]
    },
    {
      "cell_type": "code",
      "metadata": {
        "id": "w6AT41N6IAMk",
        "colab": {
          "base_uri": "https://localhost:8080/"
        },
        "outputId": "619da36f-8af0-4495-b572-c67342902fd0"
      },
      "source": [
        "feature_names  = vectorizer.get_feature_names()\r\n",
        "print(feature_names)"
      ],
      "execution_count": 40,
      "outputs": [
        {
          "output_type": "stream",
          "text": [
            "['.htaccess', '.net', '.net-3.5', '.net-core', 'actionscript-3', 'activerecord', 'ajax', 'algorithm', 'amazon-ec2', 'amazon-s3', 'amazon-web-services', 'android', 'android-activity', 'android-emulator', 'android-fragments', 'android-gradle-plugin', 'android-intent', 'android-layout', 'android-studio', 'angular', 'angular-material', 'angular5', 'angularjs', 'animation', 'ansible', 'ant', 'apache', 'apache-kafka', 'apache-spark', 'apache-spark-sql', 'architecture', 'awk', 'aws-lambda', 'azure', 'bash', 'batch-file', 'binary', 'binding', 'boost', 'bootstrap-4', 'browser', 'build', 'button', 'c', 'c#', 'c++', 'c++11', 'c++14', 'c++17', 'caching', 'cakephp', 'canvas', 'casting', 'chart', 'checkbox', 'clang', 'class', 'clojure', 'closure', 'cmake', 'cocoa', 'cocoa-touch', 'codeigniter', 'coding-style', 'coldfusion', 'collection', 'color', 'command-line', 'compilation', 'compiler-construction', 'computer-vision', 'concurrency', 'configuration', 'constant', 'constructor', 'control', 'cooky', 'cordova', 'core-data', 'cs', 'css-selectors', 'csv', 'curl', 'd3.js', 'dart', 'data-binding', 'data-structures', 'database', 'database-design', 'dataframe', 'date', 'datetime', 'debugging', 'deep-learning', 'delphi', 'dependency-injection', 'deployment', 'design-patterns', 'devise', 'dictionary', 'django', 'django-models', 'dll', 'dns', 'docker', 'docker-compose', 'http', 'io', 'lambda', 'language-agnostic', 'laravel', 'laravel-4', 'laravel-5', 'latex', 'layout', 'linq', 'linq-to-sql', 'linux', 'linux-kernel', 'lisp', 'list', 'listview', 'localization', 'logging', 'loop', 'lua', 'machine-learning', 'macos', 'macro', 'magento', 'makefile', 'math', 'matlab', 'matplotlib', 'matrix', 'maven', 'maven-2', 'memory', 'memory-leaks', 'memory-management', 'mercurial', 'merge', 'meteor', 'method', 'migration', 'mobile', 'mocking', 'model', 'model-view-controller', 'module', 'mongodb', 'mongoose', 'ms-access', 'msbuild', 'multidimensional-array', 'multithreading', 'mvvm', 'mysql', 'netbeans', 'networking', 'neural-network', 'nginx', 'nhibernate', 'node.js', 'npm', 'null', 'numpy', 'oauth', 'oauth-2.0', 'object', 'objective-c', 'oop', 'opencv', 'opengl', 'opengl-es', 'openssl', 'optimization', 'oracle', 'orm', 'panda', 'parallel-processing', 'parameter', 'parsing', 'path', 'pdf', 'performance', 'perl', 'permission', 'php', 'pip', 'plot', 'plugins', 'pointer', 'post', 'postgresql', 'powershell', 'process', 'programming-languages', 'promise', 'property', 'proxy', 'pyspark', 'python', 'python-2.7', 'python-3.x', 'qt', 'r', 'r-markdown', 'rabbitmq', 'random', 'razor', 'react-native', 'react-router', 'reactjs', 'recursion', 'redirect', 'redis', 'redux', 'refactoring', 'reference', 'reflection', 'regex', 'rest', 'routing', 'rspec', 'ruby', 'ruby-on-rails', 'ruby-on-rails-3', 'ruby-on-rails-4', 'rust', 'rxjs', 'safari', 'sas', 'sbt', 'scala', 'scikit-learn', 'scipy', 'scope', 'scripting', 'scroll', 'search', 'security', 'sed', 'select', 'selenium', 'selenium-webdriver', 'serialization', 'service', 'servlets', 'session', 'set', 'sharepoint', 'shell', 'shiny', 'silverlight', 'soap', 'socket', 'sorting', 'split', 'spring', 'spring-boot', 'spring-mvc', 'spring-security', 'sql', 'sql-server', 'sql-server-2005', 'sql-server-2008', 'sqlalchemy', 'sqlite', 'ssh', 'ssis', 'ssl', 'static', 'statistic', 'stl', 'stored-procedures', 'stream', 'string', 'struct', 'svg', 'svn', 'swift', 'swiftui', 'swing', 'symfony', 'syntax', 'template', 'tensorflow', 'terminal', 'testing', 'text', 'tfs', 'time', 'timer', 'tkinter', 'tomcat', 'tsql', 'twitter', 'twitter-bootstrap', 'twitter-bootstrap-3', 'type', 'type-conversion', 'typescript', 'ubuntu', 'uitableview', 'uiview', 'unicode', 'unit-testing', 'unity3d', 'unix', 'url', 'user-interface', 'utf-8', 'uwp', 'validation', 'variable', 'vb.net', 'vba', 'vector', 'version-control', 'video', 'vim', 'visual-c++', 'visual-studio', 'visual-studio-2008', 'visual-studio-2010', 'visual-studio-2012', 'visual-studio-2015', 'visual-studio-2017', 'visual-studio-code', 'vue.js', 'vuejs2', 'wcf', 'web', 'web-applications', 'web-services', 'webpack', 'websocket', 'webview', 'winapi', 'window', 'windows-7', 'winforms', 'wix', 'woocommerce', 'wordpress', 'wpf', 'x86', 'xamarin', 'xamarin.forms', 'xaml', 'xcode', 'xml', 'xpath', 'xsd']\n"
          ],
          "name": "stdout"
        }
      ]
    },
    {
      "cell_type": "code",
      "metadata": {
        "id": "h4iugnHVvd-W",
        "colab": {
          "base_uri": "https://localhost:8080/"
        },
        "outputId": "530dfcc5-b25d-4886-ff6b-a5e574ab7d6d"
      },
      "source": [
        "len(feature_names)"
      ],
      "execution_count": 41,
      "outputs": [
        {
          "output_type": "execute_result",
          "data": {
            "text/plain": [
              "355"
            ]
          },
          "metadata": {
            "tags": []
          },
          "execution_count": 41
        }
      ]
    },
    {
      "cell_type": "code",
      "metadata": {
        "id": "T9KapJdrmwuH",
        "colab": {
          "base_uri": "https://localhost:8080/",
          "height": 163
        },
        "outputId": "54388335-cb57-47ba-e9e2-c222717bc61c"
      },
      "source": [
        "X_test = pd.DataFrame(X_tfidf)\r\n",
        "X_test = X_test.iloc[0:1,:]\r\n",
        "X_test.columns = feature_names\r\n",
        "X_test"
      ],
      "execution_count": 42,
      "outputs": [
        {
          "output_type": "execute_result",
          "data": {
            "text/html": [
              "<div>\n",
              "<style scoped>\n",
              "    .dataframe tbody tr th:only-of-type {\n",
              "        vertical-align: middle;\n",
              "    }\n",
              "\n",
              "    .dataframe tbody tr th {\n",
              "        vertical-align: top;\n",
              "    }\n",
              "\n",
              "    .dataframe thead th {\n",
              "        text-align: right;\n",
              "    }\n",
              "</style>\n",
              "<table border=\"1\" class=\"dataframe\">\n",
              "  <thead>\n",
              "    <tr style=\"text-align: right;\">\n",
              "      <th></th>\n",
              "      <th>.htaccess</th>\n",
              "      <th>.net</th>\n",
              "      <th>.net-3.5</th>\n",
              "      <th>.net-core</th>\n",
              "      <th>actionscript-3</th>\n",
              "      <th>activerecord</th>\n",
              "      <th>ajax</th>\n",
              "      <th>algorithm</th>\n",
              "      <th>amazon-ec2</th>\n",
              "      <th>amazon-s3</th>\n",
              "      <th>amazon-web-services</th>\n",
              "      <th>android</th>\n",
              "      <th>android-activity</th>\n",
              "      <th>android-emulator</th>\n",
              "      <th>android-fragments</th>\n",
              "      <th>android-gradle-plugin</th>\n",
              "      <th>android-intent</th>\n",
              "      <th>android-layout</th>\n",
              "      <th>android-studio</th>\n",
              "      <th>angular</th>\n",
              "      <th>angular-material</th>\n",
              "      <th>angular5</th>\n",
              "      <th>angularjs</th>\n",
              "      <th>animation</th>\n",
              "      <th>ansible</th>\n",
              "      <th>ant</th>\n",
              "      <th>apache</th>\n",
              "      <th>apache-kafka</th>\n",
              "      <th>apache-spark</th>\n",
              "      <th>apache-spark-sql</th>\n",
              "      <th>architecture</th>\n",
              "      <th>awk</th>\n",
              "      <th>aws-lambda</th>\n",
              "      <th>azure</th>\n",
              "      <th>bash</th>\n",
              "      <th>batch-file</th>\n",
              "      <th>binary</th>\n",
              "      <th>binding</th>\n",
              "      <th>boost</th>\n",
              "      <th>bootstrap-4</th>\n",
              "      <th>...</th>\n",
              "      <th>variable</th>\n",
              "      <th>vb.net</th>\n",
              "      <th>vba</th>\n",
              "      <th>vector</th>\n",
              "      <th>version-control</th>\n",
              "      <th>video</th>\n",
              "      <th>vim</th>\n",
              "      <th>visual-c++</th>\n",
              "      <th>visual-studio</th>\n",
              "      <th>visual-studio-2008</th>\n",
              "      <th>visual-studio-2010</th>\n",
              "      <th>visual-studio-2012</th>\n",
              "      <th>visual-studio-2015</th>\n",
              "      <th>visual-studio-2017</th>\n",
              "      <th>visual-studio-code</th>\n",
              "      <th>vue.js</th>\n",
              "      <th>vuejs2</th>\n",
              "      <th>wcf</th>\n",
              "      <th>web</th>\n",
              "      <th>web-applications</th>\n",
              "      <th>web-services</th>\n",
              "      <th>webpack</th>\n",
              "      <th>websocket</th>\n",
              "      <th>webview</th>\n",
              "      <th>winapi</th>\n",
              "      <th>window</th>\n",
              "      <th>windows-7</th>\n",
              "      <th>winforms</th>\n",
              "      <th>wix</th>\n",
              "      <th>woocommerce</th>\n",
              "      <th>wordpress</th>\n",
              "      <th>wpf</th>\n",
              "      <th>x86</th>\n",
              "      <th>xamarin</th>\n",
              "      <th>xamarin.forms</th>\n",
              "      <th>xaml</th>\n",
              "      <th>xcode</th>\n",
              "      <th>xml</th>\n",
              "      <th>xpath</th>\n",
              "      <th>xsd</th>\n",
              "    </tr>\n",
              "  </thead>\n",
              "  <tbody>\n",
              "    <tr>\n",
              "      <th>0</th>\n",
              "      <td>0.0</td>\n",
              "      <td>0.0</td>\n",
              "      <td>0.0</td>\n",
              "      <td>0.0</td>\n",
              "      <td>0.0</td>\n",
              "      <td>0.0</td>\n",
              "      <td>0.0</td>\n",
              "      <td>0.0</td>\n",
              "      <td>0.0</td>\n",
              "      <td>0.0</td>\n",
              "      <td>0.0</td>\n",
              "      <td>0.0</td>\n",
              "      <td>0.0</td>\n",
              "      <td>0.0</td>\n",
              "      <td>0.0</td>\n",
              "      <td>0.0</td>\n",
              "      <td>0.0</td>\n",
              "      <td>0.0</td>\n",
              "      <td>0.0</td>\n",
              "      <td>0.0</td>\n",
              "      <td>0.0</td>\n",
              "      <td>0.0</td>\n",
              "      <td>0.0</td>\n",
              "      <td>0.0</td>\n",
              "      <td>0.0</td>\n",
              "      <td>0.0</td>\n",
              "      <td>0.0</td>\n",
              "      <td>0.0</td>\n",
              "      <td>0.0</td>\n",
              "      <td>0.0</td>\n",
              "      <td>0.0</td>\n",
              "      <td>0.0</td>\n",
              "      <td>0.0</td>\n",
              "      <td>0.0</td>\n",
              "      <td>0.0</td>\n",
              "      <td>0.0</td>\n",
              "      <td>0.0</td>\n",
              "      <td>0.0</td>\n",
              "      <td>0.0</td>\n",
              "      <td>0.0</td>\n",
              "      <td>...</td>\n",
              "      <td>0.0</td>\n",
              "      <td>0.0</td>\n",
              "      <td>0.0</td>\n",
              "      <td>0.0</td>\n",
              "      <td>0.0</td>\n",
              "      <td>0.0</td>\n",
              "      <td>0.0</td>\n",
              "      <td>0.0</td>\n",
              "      <td>0.0</td>\n",
              "      <td>0.0</td>\n",
              "      <td>0.0</td>\n",
              "      <td>0.0</td>\n",
              "      <td>0.0</td>\n",
              "      <td>0.0</td>\n",
              "      <td>0.0</td>\n",
              "      <td>0.0</td>\n",
              "      <td>0.0</td>\n",
              "      <td>0.0</td>\n",
              "      <td>0.0</td>\n",
              "      <td>0.0</td>\n",
              "      <td>0.0</td>\n",
              "      <td>0.0</td>\n",
              "      <td>0.0</td>\n",
              "      <td>0.0</td>\n",
              "      <td>0.0</td>\n",
              "      <td>0.0</td>\n",
              "      <td>0.0</td>\n",
              "      <td>0.0</td>\n",
              "      <td>0.0</td>\n",
              "      <td>0.0</td>\n",
              "      <td>0.0</td>\n",
              "      <td>0.0</td>\n",
              "      <td>0.0</td>\n",
              "      <td>0.0</td>\n",
              "      <td>0.0</td>\n",
              "      <td>0.0</td>\n",
              "      <td>0.0</td>\n",
              "      <td>0.0</td>\n",
              "      <td>0.0</td>\n",
              "      <td>0.0</td>\n",
              "    </tr>\n",
              "  </tbody>\n",
              "</table>\n",
              "<p>1 rows × 355 columns</p>\n",
              "</div>"
            ],
            "text/plain": [
              "   .htaccess  .net  .net-3.5  .net-core  ...  xcode  xml  xpath  xsd\n",
              "0        0.0   0.0       0.0        0.0  ...    0.0  0.0    0.0  0.0\n",
              "\n",
              "[1 rows x 355 columns]"
            ]
          },
          "metadata": {
            "tags": []
          },
          "execution_count": 42
        }
      ]
    },
    {
      "cell_type": "code",
      "metadata": {
        "id": "irv57iouKeMm",
        "colab": {
          "base_uri": "https://localhost:8080/"
        },
        "outputId": "02f2fe2c-6763-45a3-bb5f-97c50bba7d38"
      },
      "source": [
        "X_test.loc[0,'proxy'] #c# c# http proxy http proxy dns"
      ],
      "execution_count": 46,
      "outputs": [
        {
          "output_type": "execute_result",
          "data": {
            "text/plain": [
              "0.5547001962252291"
            ]
          },
          "metadata": {
            "tags": []
          },
          "execution_count": 46
        }
      ]
    },
    {
      "cell_type": "code",
      "metadata": {
        "id": "Z8sjAExcnhno",
        "colab": {
          "base_uri": "https://localhost:8080/"
        },
        "outputId": "35dd9ea9-442d-494a-d677-ce79ab986fb5"
      },
      "source": [
        "y_pred = model_lr.predict(X_test)\r\n",
        "y_pred"
      ],
      "execution_count": 51,
      "outputs": [
        {
          "output_type": "execute_result",
          "data": {
            "text/plain": [
              "array([[0, 0, 0, 0, 0, 0, 0, 0, 0, 0, 0, 0, 0, 0, 0, 0, 0, 0, 0, 0, 0, 0,\n",
              "        0, 0, 0, 0, 0, 0, 0, 0, 0, 0, 0, 0, 0, 0, 0, 0, 0, 0, 0, 0, 0, 0,\n",
              "        0, 0, 0, 0, 0, 0, 0, 0, 0, 0, 0, 0, 0, 0, 0, 0, 0, 0, 0, 0, 0, 0,\n",
              "        0, 0, 0, 0, 0, 0, 0, 0, 0, 0, 0, 0, 0, 0, 0, 0, 0, 0, 0, 0, 0, 0,\n",
              "        0, 0, 0, 0, 0, 0, 0, 0, 0, 0, 0, 0, 0, 0, 0, 0, 0, 0, 0, 0, 0, 0,\n",
              "        0, 0, 0, 0, 0, 0, 0, 0, 0, 0, 0, 0, 0, 0, 0, 0, 0, 0, 0, 0, 0, 0,\n",
              "        0, 0, 0, 0, 0, 0, 0, 0, 0, 0, 0, 0, 0, 0, 0, 0, 0, 0, 0, 0, 0, 0,\n",
              "        0, 0, 0, 0, 0, 0, 0, 0, 0, 0, 0, 0, 0, 0, 0, 0, 0, 0, 0, 0, 0, 0,\n",
              "        0, 0, 0, 0, 0, 0, 0, 0, 0, 0, 0, 0, 0, 0, 0, 0, 0, 0, 0, 0, 0, 0,\n",
              "        0, 0, 0, 0, 0, 0, 0, 0, 0, 0, 0, 0, 0, 0, 0, 0, 0, 0, 0, 0, 0, 0,\n",
              "        0, 0, 0, 0, 0, 0, 0, 0, 0, 0, 0, 0, 0, 0, 0, 0, 0, 0, 0, 0, 0, 0,\n",
              "        0, 0, 0, 0, 0, 0, 0, 0, 0, 0, 0, 0, 0, 0, 0, 0, 0, 0, 0, 0, 0, 0,\n",
              "        0, 0, 0, 0, 0, 0, 0, 0, 0, 0, 0, 0, 0, 0, 0, 0, 0, 0, 0, 0, 0, 0,\n",
              "        0, 0, 0, 0, 0, 0, 0, 0, 0, 0, 0, 0, 0, 0, 0, 0, 0, 0, 0, 0, 0, 0,\n",
              "        0, 0, 0, 0, 0, 0, 0, 0, 0, 0, 0, 0, 0, 0, 0, 0, 0, 0, 0, 0, 0, 0,\n",
              "        0, 0, 0, 0, 0, 0, 0, 0, 0, 0, 0, 0, 0, 0, 0, 0, 0, 0, 0, 0, 0, 0,\n",
              "        0, 0, 0, 0, 0, 0, 0, 0, 0, 0, 0, 0, 0, 0, 0, 0, 0, 0, 0, 0, 0, 0,\n",
              "        0, 0, 0, 0, 0, 0, 0, 0, 0, 0, 0, 0, 0, 0, 0, 0, 0, 0, 0, 0, 0, 0,\n",
              "        0, 0, 0, 0, 0, 0, 0, 0, 0, 0, 0, 0, 0, 0, 0, 0, 0, 0, 0, 0, 0, 0,\n",
              "        0, 0, 0, 0, 0, 0, 0, 0, 0, 0, 0, 0, 0, 0, 0, 0, 0, 0, 0, 0, 0, 0,\n",
              "        0, 0, 0, 0, 0, 0, 0, 0, 0, 0, 0, 0, 0, 0, 0, 0, 0, 0, 0, 0, 0, 0,\n",
              "        0, 0, 0, 0, 0, 0, 0, 0, 0, 0, 0, 0, 0, 0, 0, 0, 0, 0, 0, 0, 0, 0,\n",
              "        0, 0, 0, 0, 0, 0, 0, 0, 0, 0, 0, 0, 0, 0, 0, 0]])"
            ]
          },
          "metadata": {
            "tags": []
          },
          "execution_count": 51
        }
      ]
    },
    {
      "cell_type": "code",
      "metadata": {
        "id": "-bdPv4mwh2-O"
      },
      "source": [
        "from sklearn.preprocessing import MultiLabelBinarizer\r\n",
        "mlb = MultiLabelBinarizer(classes=sorted(dict_tags_500))"
      ],
      "execution_count": 49,
      "outputs": []
    },
    {
      "cell_type": "code",
      "metadata": {
        "id": "mLbcNArBBVQK",
        "outputId": "cd9906bf-9773-4623-c869-9c1f4523325f",
        "colab": {
          "base_uri": "https://localhost:8080/",
          "height": 329
        }
      },
      "source": [
        "pd.concat([pd.Series(mlb.inverse_transform(y_pred), name='y_pred')],axis=1)\r\n",
        "           #pd.Series(mlb.inverse_transform(y_test.to_numpy()), name='y_true')], axis=1)"
      ],
      "execution_count": 50,
      "outputs": [
        {
          "output_type": "error",
          "ename": "NotFittedError",
          "evalue": "ignored",
          "traceback": [
            "\u001b[0;31m---------------------------------------------------------------------------\u001b[0m",
            "\u001b[0;31mNotFittedError\u001b[0m                            Traceback (most recent call last)",
            "\u001b[0;32m<ipython-input-50-212f9ae2d369>\u001b[0m in \u001b[0;36m<module>\u001b[0;34m()\u001b[0m\n\u001b[0;32m----> 1\u001b[0;31m \u001b[0mpd\u001b[0m\u001b[0;34m.\u001b[0m\u001b[0mconcat\u001b[0m\u001b[0;34m(\u001b[0m\u001b[0;34m[\u001b[0m\u001b[0mpd\u001b[0m\u001b[0;34m.\u001b[0m\u001b[0mSeries\u001b[0m\u001b[0;34m(\u001b[0m\u001b[0mmlb\u001b[0m\u001b[0;34m.\u001b[0m\u001b[0minverse_transform\u001b[0m\u001b[0;34m(\u001b[0m\u001b[0my_pred\u001b[0m\u001b[0;34m)\u001b[0m\u001b[0;34m,\u001b[0m \u001b[0mname\u001b[0m\u001b[0;34m=\u001b[0m\u001b[0;34m'y_pred'\u001b[0m\u001b[0;34m)\u001b[0m\u001b[0;34m]\u001b[0m\u001b[0;34m,\u001b[0m\u001b[0maxis\u001b[0m\u001b[0;34m=\u001b[0m\u001b[0;36m1\u001b[0m\u001b[0;34m)\u001b[0m\u001b[0;34m\u001b[0m\u001b[0;34m\u001b[0m\u001b[0m\n\u001b[0m\u001b[1;32m      2\u001b[0m            \u001b[0;31m#pd.Series(mlb.inverse_transform(y_test.to_numpy()), name='y_true')], axis=1)\u001b[0m\u001b[0;34m\u001b[0m\u001b[0;34m\u001b[0m\u001b[0;34m\u001b[0m\u001b[0m\n",
            "\u001b[0;32m/usr/local/lib/python3.6/dist-packages/sklearn/preprocessing/_label.py\u001b[0m in \u001b[0;36minverse_transform\u001b[0;34m(self, yt)\u001b[0m\n\u001b[1;32m   1005\u001b[0m             \u001b[0;31m`\u001b[0m\u001b[0mclasses_\u001b[0m\u001b[0;34m[\u001b[0m\u001b[0mj\u001b[0m\u001b[0;34m]\u001b[0m\u001b[0;31m`\u001b[0m \u001b[0;32mfor\u001b[0m \u001b[0meach\u001b[0m\u001b[0;31m \u001b[0m\u001b[0;31m`\u001b[0m\u001b[0myt\u001b[0m\u001b[0;34m[\u001b[0m\u001b[0mi\u001b[0m\u001b[0;34m,\u001b[0m \u001b[0mj\u001b[0m\u001b[0;34m]\u001b[0m \u001b[0;34m==\u001b[0m \u001b[0;36m1\u001b[0m\u001b[0;31m`\u001b[0m\u001b[0;34m.\u001b[0m\u001b[0;34m\u001b[0m\u001b[0;34m\u001b[0m\u001b[0m\n\u001b[1;32m   1006\u001b[0m         \"\"\"\n\u001b[0;32m-> 1007\u001b[0;31m         \u001b[0mcheck_is_fitted\u001b[0m\u001b[0;34m(\u001b[0m\u001b[0mself\u001b[0m\u001b[0;34m)\u001b[0m\u001b[0;34m\u001b[0m\u001b[0;34m\u001b[0m\u001b[0m\n\u001b[0m\u001b[1;32m   1008\u001b[0m \u001b[0;34m\u001b[0m\u001b[0m\n\u001b[1;32m   1009\u001b[0m         \u001b[0;32mif\u001b[0m \u001b[0myt\u001b[0m\u001b[0;34m.\u001b[0m\u001b[0mshape\u001b[0m\u001b[0;34m[\u001b[0m\u001b[0;36m1\u001b[0m\u001b[0;34m]\u001b[0m \u001b[0;34m!=\u001b[0m \u001b[0mlen\u001b[0m\u001b[0;34m(\u001b[0m\u001b[0mself\u001b[0m\u001b[0;34m.\u001b[0m\u001b[0mclasses_\u001b[0m\u001b[0;34m)\u001b[0m\u001b[0;34m:\u001b[0m\u001b[0;34m\u001b[0m\u001b[0;34m\u001b[0m\u001b[0m\n",
            "\u001b[0;32m/usr/local/lib/python3.6/dist-packages/sklearn/utils/validation.py\u001b[0m in \u001b[0;36mcheck_is_fitted\u001b[0;34m(estimator, attributes, msg, all_or_any)\u001b[0m\n\u001b[1;32m    965\u001b[0m \u001b[0;34m\u001b[0m\u001b[0m\n\u001b[1;32m    966\u001b[0m     \u001b[0;32mif\u001b[0m \u001b[0;32mnot\u001b[0m \u001b[0mattrs\u001b[0m\u001b[0;34m:\u001b[0m\u001b[0;34m\u001b[0m\u001b[0;34m\u001b[0m\u001b[0m\n\u001b[0;32m--> 967\u001b[0;31m         \u001b[0;32mraise\u001b[0m \u001b[0mNotFittedError\u001b[0m\u001b[0;34m(\u001b[0m\u001b[0mmsg\u001b[0m \u001b[0;34m%\u001b[0m \u001b[0;34m{\u001b[0m\u001b[0;34m'name'\u001b[0m\u001b[0;34m:\u001b[0m \u001b[0mtype\u001b[0m\u001b[0;34m(\u001b[0m\u001b[0mestimator\u001b[0m\u001b[0;34m)\u001b[0m\u001b[0;34m.\u001b[0m\u001b[0m__name__\u001b[0m\u001b[0;34m}\u001b[0m\u001b[0;34m)\u001b[0m\u001b[0;34m\u001b[0m\u001b[0;34m\u001b[0m\u001b[0m\n\u001b[0m\u001b[1;32m    968\u001b[0m \u001b[0;34m\u001b[0m\u001b[0m\n\u001b[1;32m    969\u001b[0m \u001b[0;34m\u001b[0m\u001b[0m\n",
            "\u001b[0;31mNotFittedError\u001b[0m: This MultiLabelBinarizer instance is not fitted yet. Call 'fit' with appropriate arguments before using this estimator."
          ]
        }
      ]
    },
    {
      "cell_type": "code",
      "metadata": {
        "id": "UtGslqRNiEUP",
        "colab": {
          "base_uri": "https://localhost:8080/"
        },
        "outputId": "7ae99582-3dcf-45b3-b499-a80ec89760f5"
      },
      "source": [
        "A={'.htaccess': 43,'.net': 1201,'.net-3.5': 41}\r\n",
        "A          "
      ],
      "execution_count": null,
      "outputs": [
        {
          "output_type": "execute_result",
          "data": {
            "text/plain": [
              "{'.htaccess': 43, '.net': 1201, '.net-3.5': 41}"
            ]
          },
          "metadata": {
            "tags": []
          },
          "execution_count": 107
        }
      ]
    },
    {
      "cell_type": "code",
      "metadata": {
        "id": "VTA_R5XqieZV",
        "colab": {
          "base_uri": "https://localhost:8080/"
        },
        "outputId": "6cce78fc-c690-49d5-85f4-b082e24aae06"
      },
      "source": [
        "A.keys()"
      ],
      "execution_count": null,
      "outputs": [
        {
          "output_type": "execute_result",
          "data": {
            "text/plain": [
              "dict_keys(['.htaccess', '.net', '.net-3.5'])"
            ]
          },
          "metadata": {
            "tags": []
          },
          "execution_count": 108
        }
      ]
    },
    {
      "cell_type": "code",
      "metadata": {
        "id": "53QwKU5iilR5",
        "colab": {
          "base_uri": "https://localhost:8080/"
        },
        "outputId": "486811ac-b9b1-4e95-fd6a-078a4bf2412e"
      },
      "source": [
        "type(A.keys())"
      ],
      "execution_count": null,
      "outputs": [
        {
          "output_type": "execute_result",
          "data": {
            "text/plain": [
              "dict_keys"
            ]
          },
          "metadata": {
            "tags": []
          },
          "execution_count": 109
        }
      ]
    },
    {
      "cell_type": "code",
      "metadata": {
        "id": "pDrbC1KEiqJ1"
      },
      "source": [
        ""
      ],
      "execution_count": null,
      "outputs": []
    }
  ]
}