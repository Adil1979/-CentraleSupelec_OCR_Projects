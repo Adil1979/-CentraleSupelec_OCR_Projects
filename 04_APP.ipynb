{
  "nbformat": 4,
  "nbformat_minor": 0,
  "metadata": {
    "colab": {
      "name": "04_APP.ipynb",
      "provenance": [],
      "include_colab_link": true
    },
    "kernelspec": {
      "name": "python3",
      "display_name": "Python 3"
    }
  },
  "cells": [
    {
      "cell_type": "markdown",
      "metadata": {
        "id": "view-in-github",
        "colab_type": "text"
      },
      "source": [
        "<a href=\"https://colab.research.google.com/github/Adil1979/P6_Tag_Recommendation_Stackoverflow/blob/master/04_APP.ipynb\" target=\"_parent\"><img src=\"https://colab.research.google.com/assets/colab-badge.svg\" alt=\"Open In Colab\"/></a>"
      ]
    },
    {
      "cell_type": "markdown",
      "metadata": {
        "id": "c7deOb_hC_zl"
      },
      "source": [
        "# **Projet6: Catégorisation automatique de questions**"
      ]
    },
    {
      "cell_type": "markdown",
      "metadata": {
        "id": "S9H2cZKxDFXb"
      },
      "source": [
        "## **1.Librairies**"
      ]
    },
    {
      "cell_type": "code",
      "metadata": {
        "colab": {
          "base_uri": "https://localhost:8080/"
        },
        "id": "dQlPlP92DEVp",
        "outputId": "e584e038-37ee-4c04-ebcf-e2a023c715bf"
      },
      "source": [
        "!pip install gensim # Gensim is an open-source library for unsupervised topic modeling and natural language processing"
      ],
      "execution_count": 124,
      "outputs": [
        {
          "output_type": "stream",
          "text": [
            "Requirement already satisfied: gensim in /usr/local/lib/python3.6/dist-packages (3.6.0)\n",
            "Requirement already satisfied: six>=1.5.0 in /usr/local/lib/python3.6/dist-packages (from gensim) (1.15.0)\n",
            "Requirement already satisfied: numpy>=1.11.3 in /usr/local/lib/python3.6/dist-packages (from gensim) (1.19.5)\n",
            "Requirement already satisfied: scipy>=0.18.1 in /usr/local/lib/python3.6/dist-packages (from gensim) (1.4.1)\n",
            "Requirement already satisfied: smart-open>=1.2.1 in /usr/local/lib/python3.6/dist-packages (from gensim) (4.1.2)\n"
          ],
          "name": "stdout"
        }
      ]
    },
    {
      "cell_type": "code",
      "metadata": {
        "colab": {
          "base_uri": "https://localhost:8080/"
        },
        "id": "D4Nf8KISC7oE",
        "outputId": "2855dc3b-ab22-44b6-a7fa-55ff7f44ac8b"
      },
      "source": [
        "import numpy as np\n",
        "import pandas as pd\n",
        "import matplotlib.pyplot as plt\n",
        "%matplotlib inline\n",
        "from matplotlib.lines import Line2D\n",
        "import matplotlib as mpl\n",
        "#import chart_studio.plotly.plotly as py\n",
        "from collections import Counter\n",
        "#import plotly.plotly as py\n",
        "import seaborn as sns\n",
        "import datetime as dt\n",
        "import calendar as cld\n",
        "from scipy import stats\n",
        "from sklearn import preprocessing\n",
        "from sklearn.preprocessing import StandardScaler\n",
        "from sklearn.preprocessing import scale\n",
        "from os import listdir\n",
        "import glob\n",
        "import missingno as msno\n",
        "#from feature_engine.categorical_encoders import OneHotCategoricalEncoder\n",
        "from sklearn.decomposition import PCA\n",
        "from matplotlib import dates\n",
        "import nltk\n",
        "import re\n",
        "from nltk.corpus import stopwords \n",
        "nltk.download('stopwords')\n",
        "from nltk.stem.porter import PorterStemmer \n",
        "import string\n",
        "from collections import Counter\n",
        "from bs4 import BeautifulSoup\n",
        "import gensim\n",
        "from gensim.utils import simple_preprocess\n",
        "from gensim.parsing.preprocessing import STOPWORDS\n",
        "from ast import literal_eval \n",
        "from sklearn.externals import joblib\n",
        "from joblib import load, dump\n",
        "stop_words = set(stopwords.words('english'))\n",
        "from nltk.stem import WordNetLemmatizer, PorterStemmer\n",
        "from nltk.stem.snowball import EnglishStemmer\n",
        "lemma = WordNetLemmatizer().lemmatize\n",
        "ps = PorterStemmer()\n",
        "stemmer = EnglishStemmer()\n",
        "from joblib import load\n",
        "random_state = 747"
      ],
      "execution_count": 125,
      "outputs": [
        {
          "output_type": "stream",
          "text": [
            "[nltk_data] Downloading package stopwords to /root/nltk_data...\n",
            "[nltk_data]   Package stopwords is already up-to-date!\n"
          ],
          "name": "stdout"
        }
      ]
    },
    {
      "cell_type": "code",
      "metadata": {
        "id": "UNfM9Sy9PQNk",
        "colab": {
          "base_uri": "https://localhost:8080/"
        },
        "outputId": "cc9b0765-742e-4e37-c821-cd7083ee40ae"
      },
      "source": [
        "nltk.download('all')"
      ],
      "execution_count": 126,
      "outputs": [
        {
          "output_type": "stream",
          "text": [
            "[nltk_data] Downloading collection 'all'\n",
            "[nltk_data]    | \n",
            "[nltk_data]    | Downloading package abc to /root/nltk_data...\n",
            "[nltk_data]    |   Package abc is already up-to-date!\n",
            "[nltk_data]    | Downloading package alpino to /root/nltk_data...\n",
            "[nltk_data]    |   Package alpino is already up-to-date!\n",
            "[nltk_data]    | Downloading package biocreative_ppi to\n",
            "[nltk_data]    |     /root/nltk_data...\n",
            "[nltk_data]    |   Package biocreative_ppi is already up-to-date!\n",
            "[nltk_data]    | Downloading package brown to /root/nltk_data...\n",
            "[nltk_data]    |   Package brown is already up-to-date!\n",
            "[nltk_data]    | Downloading package brown_tei to /root/nltk_data...\n",
            "[nltk_data]    |   Package brown_tei is already up-to-date!\n",
            "[nltk_data]    | Downloading package cess_cat to /root/nltk_data...\n",
            "[nltk_data]    |   Package cess_cat is already up-to-date!\n",
            "[nltk_data]    | Downloading package cess_esp to /root/nltk_data...\n",
            "[nltk_data]    |   Package cess_esp is already up-to-date!\n",
            "[nltk_data]    | Downloading package chat80 to /root/nltk_data...\n",
            "[nltk_data]    |   Package chat80 is already up-to-date!\n",
            "[nltk_data]    | Downloading package city_database to\n",
            "[nltk_data]    |     /root/nltk_data...\n",
            "[nltk_data]    |   Package city_database is already up-to-date!\n",
            "[nltk_data]    | Downloading package cmudict to /root/nltk_data...\n",
            "[nltk_data]    |   Package cmudict is already up-to-date!\n",
            "[nltk_data]    | Downloading package comparative_sentences to\n",
            "[nltk_data]    |     /root/nltk_data...\n",
            "[nltk_data]    |   Package comparative_sentences is already up-to-\n",
            "[nltk_data]    |       date!\n",
            "[nltk_data]    | Downloading package comtrans to /root/nltk_data...\n",
            "[nltk_data]    |   Package comtrans is already up-to-date!\n",
            "[nltk_data]    | Downloading package conll2000 to /root/nltk_data...\n",
            "[nltk_data]    |   Package conll2000 is already up-to-date!\n",
            "[nltk_data]    | Downloading package conll2002 to /root/nltk_data...\n",
            "[nltk_data]    |   Package conll2002 is already up-to-date!\n",
            "[nltk_data]    | Downloading package conll2007 to /root/nltk_data...\n",
            "[nltk_data]    |   Package conll2007 is already up-to-date!\n",
            "[nltk_data]    | Downloading package crubadan to /root/nltk_data...\n",
            "[nltk_data]    |   Package crubadan is already up-to-date!\n",
            "[nltk_data]    | Downloading package dependency_treebank to\n",
            "[nltk_data]    |     /root/nltk_data...\n",
            "[nltk_data]    |   Package dependency_treebank is already up-to-date!\n",
            "[nltk_data]    | Downloading package dolch to /root/nltk_data...\n",
            "[nltk_data]    |   Package dolch is already up-to-date!\n",
            "[nltk_data]    | Downloading package europarl_raw to\n",
            "[nltk_data]    |     /root/nltk_data...\n",
            "[nltk_data]    |   Package europarl_raw is already up-to-date!\n",
            "[nltk_data]    | Downloading package floresta to /root/nltk_data...\n",
            "[nltk_data]    |   Package floresta is already up-to-date!\n",
            "[nltk_data]    | Downloading package framenet_v15 to\n",
            "[nltk_data]    |     /root/nltk_data...\n",
            "[nltk_data]    |   Package framenet_v15 is already up-to-date!\n",
            "[nltk_data]    | Downloading package framenet_v17 to\n",
            "[nltk_data]    |     /root/nltk_data...\n",
            "[nltk_data]    |   Package framenet_v17 is already up-to-date!\n",
            "[nltk_data]    | Downloading package gazetteers to /root/nltk_data...\n",
            "[nltk_data]    |   Package gazetteers is already up-to-date!\n",
            "[nltk_data]    | Downloading package genesis to /root/nltk_data...\n",
            "[nltk_data]    |   Package genesis is already up-to-date!\n",
            "[nltk_data]    | Downloading package gutenberg to /root/nltk_data...\n",
            "[nltk_data]    |   Package gutenberg is already up-to-date!\n",
            "[nltk_data]    | Downloading package ieer to /root/nltk_data...\n",
            "[nltk_data]    |   Package ieer is already up-to-date!\n",
            "[nltk_data]    | Downloading package inaugural to /root/nltk_data...\n",
            "[nltk_data]    |   Package inaugural is already up-to-date!\n",
            "[nltk_data]    | Downloading package indian to /root/nltk_data...\n",
            "[nltk_data]    |   Package indian is already up-to-date!\n",
            "[nltk_data]    | Downloading package jeita to /root/nltk_data...\n",
            "[nltk_data]    |   Package jeita is already up-to-date!\n",
            "[nltk_data]    | Downloading package kimmo to /root/nltk_data...\n",
            "[nltk_data]    |   Package kimmo is already up-to-date!\n",
            "[nltk_data]    | Downloading package knbc to /root/nltk_data...\n",
            "[nltk_data]    |   Package knbc is already up-to-date!\n",
            "[nltk_data]    | Downloading package lin_thesaurus to\n",
            "[nltk_data]    |     /root/nltk_data...\n",
            "[nltk_data]    |   Package lin_thesaurus is already up-to-date!\n",
            "[nltk_data]    | Downloading package mac_morpho to /root/nltk_data...\n",
            "[nltk_data]    |   Package mac_morpho is already up-to-date!\n",
            "[nltk_data]    | Downloading package machado to /root/nltk_data...\n",
            "[nltk_data]    |   Package machado is already up-to-date!\n",
            "[nltk_data]    | Downloading package masc_tagged to /root/nltk_data...\n",
            "[nltk_data]    |   Package masc_tagged is already up-to-date!\n",
            "[nltk_data]    | Downloading package moses_sample to\n",
            "[nltk_data]    |     /root/nltk_data...\n",
            "[nltk_data]    |   Package moses_sample is already up-to-date!\n",
            "[nltk_data]    | Downloading package movie_reviews to\n",
            "[nltk_data]    |     /root/nltk_data...\n",
            "[nltk_data]    |   Package movie_reviews is already up-to-date!\n",
            "[nltk_data]    | Downloading package names to /root/nltk_data...\n",
            "[nltk_data]    |   Package names is already up-to-date!\n",
            "[nltk_data]    | Downloading package nombank.1.0 to /root/nltk_data...\n",
            "[nltk_data]    |   Package nombank.1.0 is already up-to-date!\n",
            "[nltk_data]    | Downloading package nps_chat to /root/nltk_data...\n",
            "[nltk_data]    |   Package nps_chat is already up-to-date!\n",
            "[nltk_data]    | Downloading package omw to /root/nltk_data...\n",
            "[nltk_data]    |   Package omw is already up-to-date!\n",
            "[nltk_data]    | Downloading package opinion_lexicon to\n",
            "[nltk_data]    |     /root/nltk_data...\n",
            "[nltk_data]    |   Package opinion_lexicon is already up-to-date!\n",
            "[nltk_data]    | Downloading package paradigms to /root/nltk_data...\n",
            "[nltk_data]    |   Package paradigms is already up-to-date!\n",
            "[nltk_data]    | Downloading package pil to /root/nltk_data...\n",
            "[nltk_data]    |   Package pil is already up-to-date!\n",
            "[nltk_data]    | Downloading package pl196x to /root/nltk_data...\n",
            "[nltk_data]    |   Package pl196x is already up-to-date!\n",
            "[nltk_data]    | Downloading package ppattach to /root/nltk_data...\n",
            "[nltk_data]    |   Package ppattach is already up-to-date!\n",
            "[nltk_data]    | Downloading package problem_reports to\n",
            "[nltk_data]    |     /root/nltk_data...\n",
            "[nltk_data]    |   Package problem_reports is already up-to-date!\n",
            "[nltk_data]    | Downloading package propbank to /root/nltk_data...\n",
            "[nltk_data]    |   Package propbank is already up-to-date!\n",
            "[nltk_data]    | Downloading package ptb to /root/nltk_data...\n",
            "[nltk_data]    |   Package ptb is already up-to-date!\n",
            "[nltk_data]    | Downloading package product_reviews_1 to\n",
            "[nltk_data]    |     /root/nltk_data...\n",
            "[nltk_data]    |   Package product_reviews_1 is already up-to-date!\n",
            "[nltk_data]    | Downloading package product_reviews_2 to\n",
            "[nltk_data]    |     /root/nltk_data...\n",
            "[nltk_data]    |   Package product_reviews_2 is already up-to-date!\n",
            "[nltk_data]    | Downloading package pros_cons to /root/nltk_data...\n",
            "[nltk_data]    |   Package pros_cons is already up-to-date!\n",
            "[nltk_data]    | Downloading package qc to /root/nltk_data...\n",
            "[nltk_data]    |   Package qc is already up-to-date!\n",
            "[nltk_data]    | Downloading package reuters to /root/nltk_data...\n",
            "[nltk_data]    |   Package reuters is already up-to-date!\n",
            "[nltk_data]    | Downloading package rte to /root/nltk_data...\n",
            "[nltk_data]    |   Package rte is already up-to-date!\n",
            "[nltk_data]    | Downloading package semcor to /root/nltk_data...\n",
            "[nltk_data]    |   Package semcor is already up-to-date!\n",
            "[nltk_data]    | Downloading package senseval to /root/nltk_data...\n",
            "[nltk_data]    |   Package senseval is already up-to-date!\n",
            "[nltk_data]    | Downloading package sentiwordnet to\n",
            "[nltk_data]    |     /root/nltk_data...\n",
            "[nltk_data]    |   Package sentiwordnet is already up-to-date!\n",
            "[nltk_data]    | Downloading package sentence_polarity to\n",
            "[nltk_data]    |     /root/nltk_data...\n",
            "[nltk_data]    |   Package sentence_polarity is already up-to-date!\n",
            "[nltk_data]    | Downloading package shakespeare to /root/nltk_data...\n",
            "[nltk_data]    |   Package shakespeare is already up-to-date!\n",
            "[nltk_data]    | Downloading package sinica_treebank to\n",
            "[nltk_data]    |     /root/nltk_data...\n",
            "[nltk_data]    |   Package sinica_treebank is already up-to-date!\n",
            "[nltk_data]    | Downloading package smultron to /root/nltk_data...\n",
            "[nltk_data]    |   Package smultron is already up-to-date!\n",
            "[nltk_data]    | Downloading package state_union to /root/nltk_data...\n",
            "[nltk_data]    |   Package state_union is already up-to-date!\n",
            "[nltk_data]    | Downloading package stopwords to /root/nltk_data...\n",
            "[nltk_data]    |   Package stopwords is already up-to-date!\n",
            "[nltk_data]    | Downloading package subjectivity to\n",
            "[nltk_data]    |     /root/nltk_data...\n",
            "[nltk_data]    |   Package subjectivity is already up-to-date!\n",
            "[nltk_data]    | Downloading package swadesh to /root/nltk_data...\n",
            "[nltk_data]    |   Package swadesh is already up-to-date!\n",
            "[nltk_data]    | Downloading package switchboard to /root/nltk_data...\n",
            "[nltk_data]    |   Package switchboard is already up-to-date!\n",
            "[nltk_data]    | Downloading package timit to /root/nltk_data...\n",
            "[nltk_data]    |   Package timit is already up-to-date!\n",
            "[nltk_data]    | Downloading package toolbox to /root/nltk_data...\n",
            "[nltk_data]    |   Package toolbox is already up-to-date!\n",
            "[nltk_data]    | Downloading package treebank to /root/nltk_data...\n",
            "[nltk_data]    |   Package treebank is already up-to-date!\n",
            "[nltk_data]    | Downloading package twitter_samples to\n",
            "[nltk_data]    |     /root/nltk_data...\n",
            "[nltk_data]    |   Package twitter_samples is already up-to-date!\n",
            "[nltk_data]    | Downloading package udhr to /root/nltk_data...\n",
            "[nltk_data]    |   Package udhr is already up-to-date!\n",
            "[nltk_data]    | Downloading package udhr2 to /root/nltk_data...\n",
            "[nltk_data]    |   Package udhr2 is already up-to-date!\n",
            "[nltk_data]    | Downloading package unicode_samples to\n",
            "[nltk_data]    |     /root/nltk_data...\n",
            "[nltk_data]    |   Package unicode_samples is already up-to-date!\n",
            "[nltk_data]    | Downloading package universal_treebanks_v20 to\n",
            "[nltk_data]    |     /root/nltk_data...\n",
            "[nltk_data]    |   Package universal_treebanks_v20 is already up-to-\n",
            "[nltk_data]    |       date!\n",
            "[nltk_data]    | Downloading package verbnet to /root/nltk_data...\n",
            "[nltk_data]    |   Package verbnet is already up-to-date!\n",
            "[nltk_data]    | Downloading package verbnet3 to /root/nltk_data...\n",
            "[nltk_data]    |   Package verbnet3 is already up-to-date!\n",
            "[nltk_data]    | Downloading package webtext to /root/nltk_data...\n",
            "[nltk_data]    |   Package webtext is already up-to-date!\n",
            "[nltk_data]    | Downloading package wordnet to /root/nltk_data...\n",
            "[nltk_data]    |   Package wordnet is already up-to-date!\n",
            "[nltk_data]    | Downloading package wordnet_ic to /root/nltk_data...\n",
            "[nltk_data]    |   Package wordnet_ic is already up-to-date!\n",
            "[nltk_data]    | Downloading package words to /root/nltk_data...\n",
            "[nltk_data]    |   Package words is already up-to-date!\n",
            "[nltk_data]    | Downloading package ycoe to /root/nltk_data...\n",
            "[nltk_data]    |   Package ycoe is already up-to-date!\n",
            "[nltk_data]    | Downloading package rslp to /root/nltk_data...\n",
            "[nltk_data]    |   Package rslp is already up-to-date!\n",
            "[nltk_data]    | Downloading package maxent_treebank_pos_tagger to\n",
            "[nltk_data]    |     /root/nltk_data...\n",
            "[nltk_data]    |   Package maxent_treebank_pos_tagger is already up-\n",
            "[nltk_data]    |       to-date!\n",
            "[nltk_data]    | Downloading package universal_tagset to\n",
            "[nltk_data]    |     /root/nltk_data...\n",
            "[nltk_data]    |   Package universal_tagset is already up-to-date!\n",
            "[nltk_data]    | Downloading package maxent_ne_chunker to\n",
            "[nltk_data]    |     /root/nltk_data...\n",
            "[nltk_data]    |   Package maxent_ne_chunker is already up-to-date!\n",
            "[nltk_data]    | Downloading package punkt to /root/nltk_data...\n",
            "[nltk_data]    |   Package punkt is already up-to-date!\n",
            "[nltk_data]    | Downloading package book_grammars to\n",
            "[nltk_data]    |     /root/nltk_data...\n",
            "[nltk_data]    |   Package book_grammars is already up-to-date!\n",
            "[nltk_data]    | Downloading package sample_grammars to\n",
            "[nltk_data]    |     /root/nltk_data...\n",
            "[nltk_data]    |   Package sample_grammars is already up-to-date!\n",
            "[nltk_data]    | Downloading package spanish_grammars to\n",
            "[nltk_data]    |     /root/nltk_data...\n",
            "[nltk_data]    |   Package spanish_grammars is already up-to-date!\n",
            "[nltk_data]    | Downloading package basque_grammars to\n",
            "[nltk_data]    |     /root/nltk_data...\n",
            "[nltk_data]    |   Package basque_grammars is already up-to-date!\n",
            "[nltk_data]    | Downloading package large_grammars to\n",
            "[nltk_data]    |     /root/nltk_data...\n",
            "[nltk_data]    |   Package large_grammars is already up-to-date!\n",
            "[nltk_data]    | Downloading package tagsets to /root/nltk_data...\n",
            "[nltk_data]    |   Package tagsets is already up-to-date!\n",
            "[nltk_data]    | Downloading package snowball_data to\n",
            "[nltk_data]    |     /root/nltk_data...\n",
            "[nltk_data]    |   Package snowball_data is already up-to-date!\n",
            "[nltk_data]    | Downloading package bllip_wsj_no_aux to\n",
            "[nltk_data]    |     /root/nltk_data...\n",
            "[nltk_data]    |   Package bllip_wsj_no_aux is already up-to-date!\n",
            "[nltk_data]    | Downloading package word2vec_sample to\n",
            "[nltk_data]    |     /root/nltk_data...\n",
            "[nltk_data]    |   Package word2vec_sample is already up-to-date!\n",
            "[nltk_data]    | Downloading package panlex_swadesh to\n",
            "[nltk_data]    |     /root/nltk_data...\n",
            "[nltk_data]    |   Package panlex_swadesh is already up-to-date!\n",
            "[nltk_data]    | Downloading package mte_teip5 to /root/nltk_data...\n",
            "[nltk_data]    |   Package mte_teip5 is already up-to-date!\n",
            "[nltk_data]    | Downloading package averaged_perceptron_tagger to\n",
            "[nltk_data]    |     /root/nltk_data...\n",
            "[nltk_data]    |   Package averaged_perceptron_tagger is already up-\n",
            "[nltk_data]    |       to-date!\n",
            "[nltk_data]    | Downloading package averaged_perceptron_tagger_ru to\n",
            "[nltk_data]    |     /root/nltk_data...\n",
            "[nltk_data]    |   Package averaged_perceptron_tagger_ru is already\n",
            "[nltk_data]    |       up-to-date!\n",
            "[nltk_data]    | Downloading package perluniprops to\n",
            "[nltk_data]    |     /root/nltk_data...\n",
            "[nltk_data]    |   Package perluniprops is already up-to-date!\n",
            "[nltk_data]    | Downloading package nonbreaking_prefixes to\n",
            "[nltk_data]    |     /root/nltk_data...\n",
            "[nltk_data]    |   Package nonbreaking_prefixes is already up-to-date!\n",
            "[nltk_data]    | Downloading package vader_lexicon to\n",
            "[nltk_data]    |     /root/nltk_data...\n",
            "[nltk_data]    |   Package vader_lexicon is already up-to-date!\n",
            "[nltk_data]    | Downloading package porter_test to /root/nltk_data...\n",
            "[nltk_data]    |   Package porter_test is already up-to-date!\n",
            "[nltk_data]    | Downloading package wmt15_eval to /root/nltk_data...\n",
            "[nltk_data]    |   Package wmt15_eval is already up-to-date!\n",
            "[nltk_data]    | Downloading package mwa_ppdb to /root/nltk_data...\n",
            "[nltk_data]    |   Package mwa_ppdb is already up-to-date!\n",
            "[nltk_data]    | \n",
            "[nltk_data]  Done downloading collection all\n"
          ],
          "name": "stdout"
        },
        {
          "output_type": "execute_result",
          "data": {
            "text/plain": [
              "True"
            ]
          },
          "metadata": {
            "tags": []
          },
          "execution_count": 126
        }
      ]
    },
    {
      "cell_type": "code",
      "metadata": {
        "id": "lqe5vm1ps-_P"
      },
      "source": [
        "set_alpha = set(['a', 'b', 'd', 'e', 'f', 'g', 'h', 'i', 'k', 'l', 'm', 'n', 'o', 'p', 'q', 's', 't', 'u', 'v', 'w', 'x', 'y', 'z', '-'])"
      ],
      "execution_count": 127,
      "outputs": []
    },
    {
      "cell_type": "markdown",
      "metadata": {
        "id": "GRAnwpQpDi0X"
      },
      "source": [
        "## **2.Data**"
      ]
    },
    {
      "cell_type": "code",
      "metadata": {
        "colab": {
          "base_uri": "https://localhost:8080/"
        },
        "id": "NzWo_lsXDT58",
        "outputId": "cb0cba44-4325-400d-e6e4-5accdd55bdee"
      },
      "source": [
        "from google.colab import drive\n",
        "drive.mount('/content/drive')"
      ],
      "execution_count": 128,
      "outputs": [
        {
          "output_type": "stream",
          "text": [
            "Drive already mounted at /content/drive; to attempt to forcibly remount, call drive.mount(\"/content/drive\", force_remount=True).\n"
          ],
          "name": "stdout"
        }
      ]
    },
    {
      "cell_type": "code",
      "metadata": {
        "id": "q9Nyu3oCvTTo"
      },
      "source": [
        "model_lr = joblib.load('/content/drive/My Drive/CentraleSupelec_OCR/P6/reg_log_saved.joblib')"
      ],
      "execution_count": 129,
      "outputs": []
    },
    {
      "cell_type": "code",
      "metadata": {
        "id": "sqfKJTjQeW_9",
        "colab": {
          "base_uri": "https://localhost:8080/"
        },
        "outputId": "033da73b-ea46-4314-ea48-42fd5ad59901"
      },
      "source": [
        "dict_tags_500 = joblib.load('/content/drive/My Drive/CentraleSupelec_OCR/P6/list_tag_key_500.joblib')\r\n",
        "dict_tags_500"
      ],
      "execution_count": 130,
      "outputs": [
        {
          "output_type": "execute_result",
          "data": {
            "text/plain": [
              "{'.htaccess',\n",
              " '.net',\n",
              " '.net-3.5',\n",
              " '.net-core',\n",
              " 'actionscript-3',\n",
              " 'activerecord',\n",
              " 'ajax',\n",
              " 'algorithm',\n",
              " 'amazon-ec2',\n",
              " 'amazon-s3',\n",
              " 'amazon-web-services',\n",
              " 'android',\n",
              " 'android-activity',\n",
              " 'android-emulator',\n",
              " 'android-fragments',\n",
              " 'android-gradle-plugin',\n",
              " 'android-intent',\n",
              " 'android-layout',\n",
              " 'android-studio',\n",
              " 'angular',\n",
              " 'angular-material',\n",
              " 'angular5',\n",
              " 'angularjs',\n",
              " 'animation',\n",
              " 'ansible',\n",
              " 'ant',\n",
              " 'apache',\n",
              " 'apache-kafka',\n",
              " 'apache-spark',\n",
              " 'apache-spark-sql',\n",
              " 'api',\n",
              " 'architecture',\n",
              " 'arraylist',\n",
              " 'arrays',\n",
              " 'asp.net',\n",
              " 'asp.net-core',\n",
              " 'asp.net-core-2.0',\n",
              " 'asp.net-core-mvc',\n",
              " 'asp.net-mvc',\n",
              " 'asp.net-mvc-2',\n",
              " 'asp.net-mvc-3',\n",
              " 'asp.net-mvc-4',\n",
              " 'asp.net-web-api',\n",
              " 'assembly',\n",
              " 'async-await',\n",
              " 'asynchronous',\n",
              " 'audio',\n",
              " 'authentication',\n",
              " 'autocomplete',\n",
              " 'awk',\n",
              " 'aws-lambda',\n",
              " 'azure',\n",
              " 'bash',\n",
              " 'batch-file',\n",
              " 'binary',\n",
              " 'binding',\n",
              " 'boost',\n",
              " 'bootstrap-4',\n",
              " 'browser',\n",
              " 'build',\n",
              " 'button',\n",
              " 'c',\n",
              " 'c#',\n",
              " 'c++',\n",
              " 'c++11',\n",
              " 'c++14',\n",
              " 'c++17',\n",
              " 'caching',\n",
              " 'cakephp',\n",
              " 'canvas',\n",
              " 'casting',\n",
              " 'charts',\n",
              " 'checkbox',\n",
              " 'clang',\n",
              " 'class',\n",
              " 'clojure',\n",
              " 'closures',\n",
              " 'cmake',\n",
              " 'cocoa',\n",
              " 'cocoa-touch',\n",
              " 'codeigniter',\n",
              " 'coding-style',\n",
              " 'coldfusion',\n",
              " 'collections',\n",
              " 'colors',\n",
              " 'command-line',\n",
              " 'compilation',\n",
              " 'compiler-construction',\n",
              " 'computer-vision',\n",
              " 'concurrency',\n",
              " 'configuration',\n",
              " 'constants',\n",
              " 'constructor',\n",
              " 'controls',\n",
              " 'cookies',\n",
              " 'cordova',\n",
              " 'core-data',\n",
              " 'css',\n",
              " 'css-selectors',\n",
              " 'csv',\n",
              " 'curl',\n",
              " 'd3.js',\n",
              " 'dart',\n",
              " 'data-binding',\n",
              " 'data-structures',\n",
              " 'database',\n",
              " 'database-design',\n",
              " 'dataframe',\n",
              " 'date',\n",
              " 'datetime',\n",
              " 'debugging',\n",
              " 'deep-learning',\n",
              " 'delphi',\n",
              " 'dependency-injection',\n",
              " 'deployment',\n",
              " 'design-patterns',\n",
              " 'devise',\n",
              " 'dictionary',\n",
              " 'django',\n",
              " 'django-models',\n",
              " 'dll',\n",
              " 'dns',\n",
              " 'docker',\n",
              " 'docker-compose',\n",
              " 'dockerfile',\n",
              " 'dom',\n",
              " 'dplyr',\n",
              " 'drupal',\n",
              " 'dynamic',\n",
              " 'eclipse',\n",
              " 'eclipse-plugin',\n",
              " 'ecmascript-6',\n",
              " 'elasticsearch',\n",
              " 'emacs',\n",
              " 'email',\n",
              " 'encoding',\n",
              " 'encryption',\n",
              " 'entity-framework',\n",
              " 'entity-framework-core',\n",
              " 'enums',\n",
              " 'environment-variables',\n",
              " 'erlang',\n",
              " 'error-handling',\n",
              " 'events',\n",
              " 'excel',\n",
              " 'exception',\n",
              " 'exception-handling',\n",
              " 'express',\n",
              " 'f#',\n",
              " 'facebook',\n",
              " 'facebook-graph-api',\n",
              " 'ffmpeg',\n",
              " 'file',\n",
              " 'file-io',\n",
              " 'filesystems',\n",
              " 'firebase',\n",
              " 'firefox',\n",
              " 'flash',\n",
              " 'flask',\n",
              " 'flexbox',\n",
              " 'floating-point',\n",
              " 'flutter',\n",
              " 'fonts',\n",
              " 'for-loop',\n",
              " 'formatting',\n",
              " 'forms',\n",
              " 'frameworks',\n",
              " 'function',\n",
              " 'functional-programming',\n",
              " 'garbage-collection',\n",
              " 'gcc',\n",
              " 'generics',\n",
              " 'ggplot2',\n",
              " 'git',\n",
              " 'github',\n",
              " 'go',\n",
              " 'google-api',\n",
              " 'google-app-engine',\n",
              " 'google-apps-script',\n",
              " 'google-chrome',\n",
              " 'google-chrome-extension',\n",
              " 'google-cloud-firestore',\n",
              " 'google-cloud-platform',\n",
              " 'google-maps',\n",
              " 'gradle',\n",
              " 'grails',\n",
              " 'graph',\n",
              " 'graphics',\n",
              " 'graphql',\n",
              " 'groovy',\n",
              " 'group-by',\n",
              " 'hadoop',\n",
              " 'hash',\n",
              " 'haskell',\n",
              " 'heroku',\n",
              " 'hibernate',\n",
              " 'html',\n",
              " 'http',\n",
              " 'https',\n",
              " 'ide',\n",
              " 'if-statement',\n",
              " 'iframe',\n",
              " 'iis',\n",
              " 'iis-7',\n",
              " 'image',\n",
              " 'image-processing',\n",
              " 'import',\n",
              " 'indexing',\n",
              " 'inheritance',\n",
              " 'initialization',\n",
              " 'input',\n",
              " 'installation',\n",
              " 'integer',\n",
              " 'intellij-idea',\n",
              " 'interface',\n",
              " 'internationalization',\n",
              " 'internet-explorer',\n",
              " 'io',\n",
              " 'ionic-framework',\n",
              " 'ios',\n",
              " 'ios5',\n",
              " 'ios7',\n",
              " 'ios8',\n",
              " 'ipad',\n",
              " 'iphone',\n",
              " 'iterator',\n",
              " 'jackson',\n",
              " 'jakarta-ee',\n",
              " 'java',\n",
              " 'java-8',\n",
              " 'java-stream',\n",
              " 'javafx',\n",
              " 'javascript',\n",
              " 'jaxb',\n",
              " 'jdbc',\n",
              " 'jenkins',\n",
              " 'jestjs',\n",
              " 'join',\n",
              " 'jpa',\n",
              " 'jquery',\n",
              " 'jquery-ui',\n",
              " 'jsf',\n",
              " 'json',\n",
              " 'jsp',\n",
              " 'julia',\n",
              " 'junit',\n",
              " 'jvm',\n",
              " 'keras',\n",
              " 'kotlin',\n",
              " 'kubernetes',\n",
              " 'lambda',\n",
              " 'language-agnostic',\n",
              " 'language-lawyer',\n",
              " 'laravel',\n",
              " 'laravel-4',\n",
              " 'laravel-5',\n",
              " 'latex',\n",
              " 'layout',\n",
              " 'linq',\n",
              " 'linq-to-sql',\n",
              " 'linux',\n",
              " 'linux-kernel',\n",
              " 'lisp',\n",
              " 'list',\n",
              " 'listview',\n",
              " 'localization',\n",
              " 'logging',\n",
              " 'loops',\n",
              " 'lua',\n",
              " 'machine-learning',\n",
              " 'macos',\n",
              " 'macros',\n",
              " 'magento',\n",
              " 'makefile',\n",
              " 'math',\n",
              " 'matlab',\n",
              " 'matplotlib',\n",
              " 'matrix',\n",
              " 'maven',\n",
              " 'maven-2',\n",
              " 'memory',\n",
              " 'memory-leaks',\n",
              " 'memory-management',\n",
              " 'mercurial',\n",
              " 'merge',\n",
              " 'meteor',\n",
              " 'methods',\n",
              " 'migration',\n",
              " 'mobile',\n",
              " 'mocking',\n",
              " 'model',\n",
              " 'model-view-controller',\n",
              " 'module',\n",
              " 'mongodb',\n",
              " 'mongoose',\n",
              " 'ms-access',\n",
              " 'msbuild',\n",
              " 'multidimensional-array',\n",
              " 'multithreading',\n",
              " 'mvvm',\n",
              " 'mysql',\n",
              " 'netbeans',\n",
              " 'networking',\n",
              " 'neural-network',\n",
              " 'nginx',\n",
              " 'nhibernate',\n",
              " 'node.js',\n",
              " 'npm',\n",
              " 'null',\n",
              " 'numpy',\n",
              " 'oauth',\n",
              " 'oauth-2.0',\n",
              " 'object',\n",
              " 'objective-c',\n",
              " 'oop',\n",
              " 'opencv',\n",
              " 'opengl',\n",
              " 'opengl-es',\n",
              " 'openssl',\n",
              " 'optimization',\n",
              " 'oracle',\n",
              " 'orm',\n",
              " 'pandas',\n",
              " 'parallel-processing',\n",
              " 'parameters',\n",
              " 'parsing',\n",
              " 'path',\n",
              " 'pdf',\n",
              " 'performance',\n",
              " 'perl',\n",
              " 'permissions',\n",
              " 'php',\n",
              " 'pip',\n",
              " 'plot',\n",
              " 'plugins',\n",
              " 'pointers',\n",
              " 'post',\n",
              " 'postgresql',\n",
              " 'powershell',\n",
              " 'process',\n",
              " 'programming-languages',\n",
              " 'promise',\n",
              " 'properties',\n",
              " 'proxy',\n",
              " 'pyspark',\n",
              " 'python',\n",
              " 'python-2.7',\n",
              " 'python-3.x',\n",
              " 'qt',\n",
              " 'r',\n",
              " 'r-markdown',\n",
              " 'rabbitmq',\n",
              " 'random',\n",
              " 'razor',\n",
              " 'react-native',\n",
              " 'react-router',\n",
              " 'reactjs',\n",
              " 'recursion',\n",
              " 'redirect',\n",
              " 'redis',\n",
              " 'redux',\n",
              " 'refactoring',\n",
              " 'reference',\n",
              " 'reflection',\n",
              " 'regex',\n",
              " 'rest',\n",
              " 'routing',\n",
              " 'rspec',\n",
              " 'ruby',\n",
              " 'ruby-on-rails',\n",
              " 'ruby-on-rails-3',\n",
              " 'ruby-on-rails-4',\n",
              " 'rust',\n",
              " 'rxjs',\n",
              " 'safari',\n",
              " 'sass',\n",
              " 'sbt',\n",
              " 'scala',\n",
              " 'scikit-learn',\n",
              " 'scipy',\n",
              " 'scope',\n",
              " 'scripting',\n",
              " 'scroll',\n",
              " 'search',\n",
              " 'security',\n",
              " 'sed',\n",
              " 'select',\n",
              " 'selenium',\n",
              " 'selenium-webdriver',\n",
              " 'serialization',\n",
              " 'service',\n",
              " 'servlets',\n",
              " 'session',\n",
              " 'set',\n",
              " 'sharepoint',\n",
              " 'shell',\n",
              " 'shiny',\n",
              " 'silverlight',\n",
              " 'soap',\n",
              " 'sockets',\n",
              " 'sorting',\n",
              " 'split',\n",
              " 'spring',\n",
              " 'spring-boot',\n",
              " 'spring-mvc',\n",
              " 'spring-security',\n",
              " 'sql',\n",
              " 'sql-server',\n",
              " 'sql-server-2005',\n",
              " 'sql-server-2008',\n",
              " 'sqlalchemy',\n",
              " 'sqlite',\n",
              " 'ssh',\n",
              " 'ssis',\n",
              " 'ssl',\n",
              " 'static',\n",
              " 'statistics',\n",
              " 'stl',\n",
              " 'stored-procedures',\n",
              " 'stream',\n",
              " 'string',\n",
              " 'struct',\n",
              " 'svg',\n",
              " 'svn',\n",
              " 'swift',\n",
              " 'swiftui',\n",
              " 'swing',\n",
              " 'symfony',\n",
              " 'syntax',\n",
              " 'templates',\n",
              " 'tensorflow',\n",
              " 'terminal',\n",
              " 'testing',\n",
              " 'text',\n",
              " 'tfs',\n",
              " 'time',\n",
              " 'timer',\n",
              " 'tkinter',\n",
              " 'tomcat',\n",
              " 'tsql',\n",
              " 'twitter',\n",
              " 'twitter-bootstrap',\n",
              " 'twitter-bootstrap-3',\n",
              " 'type-conversion',\n",
              " 'types',\n",
              " 'typescript',\n",
              " 'ubuntu',\n",
              " 'uitableview',\n",
              " 'uiview',\n",
              " 'unicode',\n",
              " 'unit-testing',\n",
              " 'unity3d',\n",
              " 'unix',\n",
              " 'url',\n",
              " 'user-interface',\n",
              " 'utf-8',\n",
              " 'uwp',\n",
              " 'validation',\n",
              " 'variables',\n",
              " 'vb.net',\n",
              " 'vba',\n",
              " 'vector',\n",
              " 'version-control',\n",
              " 'video',\n",
              " 'vim',\n",
              " 'visual-c++',\n",
              " 'visual-studio',\n",
              " 'visual-studio-2008',\n",
              " 'visual-studio-2010',\n",
              " 'visual-studio-2012',\n",
              " 'visual-studio-2015',\n",
              " 'visual-studio-2017',\n",
              " 'visual-studio-code',\n",
              " 'vue.js',\n",
              " 'vuejs2',\n",
              " 'wcf',\n",
              " 'web',\n",
              " 'web-applications',\n",
              " 'web-services',\n",
              " 'webpack',\n",
              " 'websocket',\n",
              " 'webview',\n",
              " 'winapi',\n",
              " 'windows',\n",
              " 'windows-7',\n",
              " 'winforms',\n",
              " 'wix',\n",
              " 'woocommerce',\n",
              " 'wordpress',\n",
              " 'wpf',\n",
              " 'x86',\n",
              " 'xamarin',\n",
              " 'xamarin.forms',\n",
              " 'xaml',\n",
              " 'xcode',\n",
              " 'xml',\n",
              " 'xpath',\n",
              " 'xsd',\n",
              " 'xslt',\n",
              " 'zend-framework'}"
            ]
          },
          "metadata": {
            "tags": []
          },
          "execution_count": 130
        }
      ]
    },
    {
      "cell_type": "code",
      "metadata": {
        "id": "k4cQI4QL6y_z",
        "colab": {
          "base_uri": "https://localhost:8080/"
        },
        "outputId": "55e4fd95-2ace-4f90-fba2-0ea62b2c5a17"
      },
      "source": [
        "type(dict_tags_500)"
      ],
      "execution_count": 131,
      "outputs": [
        {
          "output_type": "execute_result",
          "data": {
            "text/plain": [
              "set"
            ]
          },
          "metadata": {
            "tags": []
          },
          "execution_count": 131
        }
      ]
    },
    {
      "cell_type": "code",
      "metadata": {
        "id": "UVSSwZlb7tsJ",
        "colab": {
          "base_uri": "https://localhost:8080/",
          "height": 139
        },
        "outputId": "b13b0ccd-d871-43c9-c6ae-22f67c222b23"
      },
      "source": [
        "st_tags_500  = \" \".join(dict_tags_500)\r\n",
        "st_tags_500"
      ],
      "execution_count": 132,
      "outputs": [
        {
          "output_type": "execute_result",
          "data": {
            "application/vnd.google.colaboratory.intrinsic+json": {
              "type": "string"
            },
            "text/plain": [
              "'visual-studio-2010 safari asp.net-mvc-3 iis shell static redirect .net-core utf-8 entity-framework cocoa xml binding maven react-router haskell jackson string oauth opengl csv keras erlang mysql mobile sbt configuration fonts asp.net-core-2.0 apache-kafka nhibernate listview facebook sorting unix error-handling merge oop ajax regex qt html django github time firebase ruby-on-rails-4 environment-variables scikit-learn amazon-web-services ios web-services ipad jdbc file-io timer intellij-idea julia audio jaxb websocket https date macros authentication syntax ios8 exception iterator graph email xcode user-interface multithreading sql-server hadoop jsf jakarta-ee image ruby canvas c++11 eclipse-plugin floating-point delphi group-by google-chrome iis-7 rxjs dockerfile sed colors optimization heroku for-loop ubuntu zend-framework java logging laravel pandas vue.js windows google-maps mvvm lisp model eclipse f# migration parallel-processing java-stream typescript compilation ssis dictionary laravel-5 flash serialization join shiny visual-c++ c++17 inheritance swiftui formatting pointers functional-programming objective-c charts jquery swift ios5 xslt xsd coding-style data-binding plugins uwp properties facebook-graph-api sharepoint android-gradle-plugin casting rabbitmq visual-studio c++14 activerecord dplyr junit terminal angularjs image-processing mercurial php asp.net-mvc-2 asp.net-mvc-4 dart function lua stream constructor android-fragments asynchronous python-3.x android-studio android cocoa-touch mongoose grails rest awk layout bootstrap-4 scipy select enums javafx module class multidimensional-array sqlite scala svg servlets x86 tfs git android-intent .htaccess elasticsearch networking iframe animation jenkins pip django-models macos iphone memory css parsing events file twitter-bootstrap cordova npm interface oracle deployment ruby-on-rails wordpress closures visual-studio-2017 ecmascript-6 parameters search database-design gradle google-chrome-extension io process meteor reactjs visual-studio-2008 garbage-collection binary apache-spark wcf express initialization graphql debugging ggplot2 asp.net-core dependency-injection openssl post scroll ssl scripting list vector spring-security url maven-2 dynamic ffmpeg import drupal cookies webview arrays tomcat machine-learning hibernate boost null d3.js aws-lambda unicode sockets encryption xamarin filesystems set graphics asp.net-web-api google-app-engine validation vim matplotlib jestjs ssh vuejs2 lambda struct xpath plot orm webpack methods google-api excel ruby-on-rails-3 jsp wpf encoding refactoring assembly soap types loops angular5 docker language-lawyer groovy coldfusion selenium pdf internationalization reflection arraylist svn sass redis concurrency swing math programming-languages if-statement dns twitter-bootstrap-3 selenium-webdriver google-apps-script laravel-4 dataframe visual-studio-2012 gcc stored-procedures batch-file firefox promise jpa constants windows-7 datetime razor variables r-markdown sqlalchemy ant google-cloud-firestore silverlight permissions stl clojure amazon-s3 makefile session emacs http computer-vision postgresql exception-handling autocomplete go localization memory-management button deep-learning pyspark flutter sql-server-2008 opencv spring asp.net twitter sql security css-selectors .net-3.5 collections flexbox matlab installation android-layout flask memory-leaks command-line azure reference frameworks uiview ansible docker-compose video build spring-mvc path hash kubernetes wix core-data mongodb apache text caching ms-access jvm checkbox jquery-ui testing r xaml json devise actionscript-3 tensorflow numpy routing unity3d forms uitableview neural-network amazon-ec2 java-8 input recursion linq node.js unit-testing generics statistics type-conversion angular-material visual-studio-2015 compiler-construction oauth-2.0 magento matrix xamarin.forms latex internet-explorer bash msbuild vba symfony cmake rspec scope asp.net-core-mvc python templates opengl-es entity-framework-core random vb.net async-await react-native ionic-framework service .net javascript cakephp tkinter mocking codeigniter winapi sql-server-2005 split design-patterns python-2.7 web-applications tsql nginx integer dll c# version-control linux-kernel linq-to-sql visual-studio-code database google-cloud-platform ide model-view-controller curl browser asp.net-mvc proxy powershell performance c c++ kotlin controls apache-spark-sql netbeans winforms clang ios7 woocommerce web algorithm android-activity dom language-agnostic spring-boot architecture data-structures perl redux object angular linux indexing rust api android-emulator'"
            ]
          },
          "metadata": {
            "tags": []
          },
          "execution_count": 132
        }
      ]
    },
    {
      "cell_type": "code",
      "metadata": {
        "id": "apXt3siF_3T2",
        "colab": {
          "base_uri": "https://localhost:8080/"
        },
        "outputId": "698568a8-58fe-485d-d9e1-9a881a432aac"
      },
      "source": [
        "type(st_tags_500)"
      ],
      "execution_count": 133,
      "outputs": [
        {
          "output_type": "execute_result",
          "data": {
            "text/plain": [
              "str"
            ]
          },
          "metadata": {
            "tags": []
          },
          "execution_count": 133
        }
      ]
    },
    {
      "cell_type": "code",
      "metadata": {
        "id": "fGhXeLGb_N4r",
        "colab": {
          "base_uri": "https://localhost:8080/",
          "height": 87
        },
        "outputId": "81a00b73-314a-40dc-c250-280de386d839"
      },
      "source": [
        "question_test = 'C# gRPC client - name resolution failure <p>A client is running our C# gRPC client on a corporate network, behind an HTTP proxy. The <code>http_proxy</code> environment variable is configured, but nevertheless he sees an error message <code>Name resolution failure</code> when attempting to connect to the server on the internet. </p>\\n\\n<p>DNS resolution from the same machine works fine using nslookup. </p>\\n\\n<p>Any ideas what I can do to investigate this problem?</p>\\n'\r\n",
        "question_test"
      ],
      "execution_count": 134,
      "outputs": [
        {
          "output_type": "execute_result",
          "data": {
            "application/vnd.google.colaboratory.intrinsic+json": {
              "type": "string"
            },
            "text/plain": [
              "'C# gRPC client - name resolution failure <p>A client is running our C# gRPC client on a corporate network, behind an HTTP proxy. The <code>http_proxy</code> environment variable is configured, but nevertheless he sees an error message <code>Name resolution failure</code> when attempting to connect to the server on the internet. </p>\\n\\n<p>DNS resolution from the same machine works fine using nslookup. </p>\\n\\n<p>Any ideas what I can do to investigate this problem?</p>\\n'"
            ]
          },
          "metadata": {
            "tags": []
          },
          "execution_count": 134
        }
      ]
    },
    {
      "cell_type": "code",
      "metadata": {
        "id": "2p5DI_QsH0j9",
        "colab": {
          "base_uri": "https://localhost:8080/"
        },
        "outputId": "043937ff-7bbb-4b4b-eb1d-61a324ccd6d1"
      },
      "source": [
        "type(question_test)"
      ],
      "execution_count": 135,
      "outputs": [
        {
          "output_type": "execute_result",
          "data": {
            "text/plain": [
              "str"
            ]
          },
          "metadata": {
            "tags": []
          },
          "execution_count": 135
        }
      ]
    },
    {
      "cell_type": "code",
      "metadata": {
        "id": "gh2PQXcG1lUl"
      },
      "source": [
        "def preprocessing(text):\r\n",
        "  #HTML characters removing\r\n",
        "  def remove_html(text):\r\n",
        "    html_regex = re.compile('<.*?>') #Compile regular expresions\r\n",
        "    return re.sub(html_regex, ' ', str(text)) # Replace regex by ' '\r\n",
        "  text0 = remove_html(text)\r\n",
        "  \r\n",
        "\r\n",
        "  #URL removing\r\n",
        "  def remove_url(text0):\r\n",
        "    url_regex = 'http[s]?://(?:[a-zA-Z]|[0-9]|[$-_@.&+]|[!*\\(\\),]|(?:%[0-9a-fA-F][0-9a-fA-F]))+'\r\n",
        "    return re.sub(url_regex, ' ', str(text0))\r\n",
        "  text1 = remove_url(text0)\r\n",
        "  \r\n",
        "\r\n",
        "  #Punctuation removing\r\n",
        "  def remove_punc(text1):\r\n",
        "    clean_text = re.sub(r'[?|!|\"|:|=|_|{|}|[|]|-|$|%|^|&|]',r' ',str(text1))\r\n",
        "    clean_text = re.sub(r'[.|,|)|(|\\|/|-|~|`|>|<|*|$|@|;|→]',r' ', clean_text)\r\n",
        "    return clean_text\r\n",
        "  text2 = remove_url(text1)\r\n",
        "  \r\n",
        "\r\n",
        "  def remove_other(text2):\r\n",
        "    text = str(text2)\r\n",
        "    clean_text = re.sub(r\"[^a-zA-Z0-9#+-]\", \" \", text2.lower())\r\n",
        "    return clean_text\r\n",
        "  text3 = remove_other(text2)\r\n",
        "  \r\n",
        "\r\n",
        "  #Space removing\r\n",
        "  def remove_space(text3):\r\n",
        "    return ' '.join(str(text3).split())\r\n",
        "  text4 = remove_space(text3)\r\n",
        "  \r\n",
        "\r\n",
        "  def remove_stopwords(text4):\r\n",
        "    text4 = str(text4)\r\n",
        "    text4 = \" \".join(word for word in text4.split() if word not in gensim.parsing.preprocessing.STOPWORDS and word not in stop_words and word not in set_alpha )\r\n",
        "    return text4\r\n",
        "  text5 = remove_stopwords(text4)\r\n",
        "  \r\n",
        "\r\n",
        "  def tokenize(text5):\r\n",
        "    tokens = [lemma(w) for w in text5.split()] #if w.isalpha()\r\n",
        "    return tokens\r\n",
        "  text6 = tokenize(text5)\r\n",
        "  \r\n",
        "\r\n",
        "  def to_string(text6):\r\n",
        "    input_string = \" \".join(text6)\r\n",
        "    return input_string\r\n",
        "  text7 = to_string(text6)\r\n",
        "  \r\n",
        "  def keep_tags(text7):\r\n",
        "    text7 = str(text7)\r\n",
        "    text7 = \" \".join(tag for tag in text7.split() if tag in dict_tags_500)\r\n",
        "    return text7\r\n",
        "  text8 = keep_tags(text7)\r\n",
        "  return text8\r\n",
        "\r\n"
      ],
      "execution_count": 136,
      "outputs": []
    },
    {
      "cell_type": "code",
      "metadata": {
        "id": "zwae2MY5KDj4",
        "colab": {
          "base_uri": "https://localhost:8080/"
        },
        "outputId": "03db4a4c-607d-44d9-c66a-313c7407bae4"
      },
      "source": [
        "tag_question_test = preprocessing(question_test)\r\n",
        "print(tag_question_test)"
      ],
      "execution_count": 137,
      "outputs": [
        {
          "output_type": "stream",
          "text": [
            "c# c# http proxy http proxy dns\n"
          ],
          "name": "stdout"
        }
      ]
    },
    {
      "cell_type": "code",
      "metadata": {
        "id": "I1ucRqorkvdp",
        "colab": {
          "base_uri": "https://localhost:8080/",
          "height": 79
        },
        "outputId": "5549f114-03a1-4260-b08b-45b673d1398d"
      },
      "source": [
        "tag_question_test_df = pd.DataFrame([tag_question_test], columns=['question'])\r\n",
        "tag_question_test_df"
      ],
      "execution_count": 138,
      "outputs": [
        {
          "output_type": "execute_result",
          "data": {
            "text/html": [
              "<div>\n",
              "<style scoped>\n",
              "    .dataframe tbody tr th:only-of-type {\n",
              "        vertical-align: middle;\n",
              "    }\n",
              "\n",
              "    .dataframe tbody tr th {\n",
              "        vertical-align: top;\n",
              "    }\n",
              "\n",
              "    .dataframe thead th {\n",
              "        text-align: right;\n",
              "    }\n",
              "</style>\n",
              "<table border=\"1\" class=\"dataframe\">\n",
              "  <thead>\n",
              "    <tr style=\"text-align: right;\">\n",
              "      <th></th>\n",
              "      <th>question</th>\n",
              "    </tr>\n",
              "  </thead>\n",
              "  <tbody>\n",
              "    <tr>\n",
              "      <th>0</th>\n",
              "      <td>c# c# http proxy http proxy dns</td>\n",
              "    </tr>\n",
              "  </tbody>\n",
              "</table>\n",
              "</div>"
            ],
            "text/plain": [
              "                          question\n",
              "0  c# c# http proxy http proxy dns"
            ]
          },
          "metadata": {
            "tags": []
          },
          "execution_count": 138
        }
      ]
    },
    {
      "cell_type": "code",
      "metadata": {
        "id": "SSx44QVdtYUB",
        "outputId": "4eec3de2-1342-46b2-f1f8-9d060028db34",
        "colab": {
          "base_uri": "https://localhost:8080/",
          "height": 79
        }
      },
      "source": [
        "tags_500_df = pd.DataFrame([st_tags_500], columns=['question'])\r\n",
        "tags_500_df"
      ],
      "execution_count": 139,
      "outputs": [
        {
          "output_type": "execute_result",
          "data": {
            "text/html": [
              "<div>\n",
              "<style scoped>\n",
              "    .dataframe tbody tr th:only-of-type {\n",
              "        vertical-align: middle;\n",
              "    }\n",
              "\n",
              "    .dataframe tbody tr th {\n",
              "        vertical-align: top;\n",
              "    }\n",
              "\n",
              "    .dataframe thead th {\n",
              "        text-align: right;\n",
              "    }\n",
              "</style>\n",
              "<table border=\"1\" class=\"dataframe\">\n",
              "  <thead>\n",
              "    <tr style=\"text-align: right;\">\n",
              "      <th></th>\n",
              "      <th>question</th>\n",
              "    </tr>\n",
              "  </thead>\n",
              "  <tbody>\n",
              "    <tr>\n",
              "      <th>0</th>\n",
              "      <td>visual-studio-2010 safari asp.net-mvc-3 iis sh...</td>\n",
              "    </tr>\n",
              "  </tbody>\n",
              "</table>\n",
              "</div>"
            ],
            "text/plain": [
              "                                            question\n",
              "0  visual-studio-2010 safari asp.net-mvc-3 iis sh..."
            ]
          },
          "metadata": {
            "tags": []
          },
          "execution_count": 139
        }
      ]
    },
    {
      "cell_type": "code",
      "metadata": {
        "id": "lJlrh50Bj-mG",
        "colab": {
          "base_uri": "https://localhost:8080/",
          "height": 110
        },
        "outputId": "517a4acb-151e-483f-dd28-bec1795d431c"
      },
      "source": [
        "df_test_input = pd.concat([tag_question_test_df, tags_500_df], ignore_index=True)\r\n",
        "df_test_input"
      ],
      "execution_count": 140,
      "outputs": [
        {
          "output_type": "execute_result",
          "data": {
            "text/html": [
              "<div>\n",
              "<style scoped>\n",
              "    .dataframe tbody tr th:only-of-type {\n",
              "        vertical-align: middle;\n",
              "    }\n",
              "\n",
              "    .dataframe tbody tr th {\n",
              "        vertical-align: top;\n",
              "    }\n",
              "\n",
              "    .dataframe thead th {\n",
              "        text-align: right;\n",
              "    }\n",
              "</style>\n",
              "<table border=\"1\" class=\"dataframe\">\n",
              "  <thead>\n",
              "    <tr style=\"text-align: right;\">\n",
              "      <th></th>\n",
              "      <th>question</th>\n",
              "    </tr>\n",
              "  </thead>\n",
              "  <tbody>\n",
              "    <tr>\n",
              "      <th>0</th>\n",
              "      <td>c# c# http proxy http proxy dns</td>\n",
              "    </tr>\n",
              "    <tr>\n",
              "      <th>1</th>\n",
              "      <td>visual-studio-2010 safari asp.net-mvc-3 iis sh...</td>\n",
              "    </tr>\n",
              "  </tbody>\n",
              "</table>\n",
              "</div>"
            ],
            "text/plain": [
              "                                            question\n",
              "0                    c# c# http proxy http proxy dns\n",
              "1  visual-studio-2010 safari asp.net-mvc-3 iis sh..."
            ]
          },
          "metadata": {
            "tags": []
          },
          "execution_count": 140
        }
      ]
    },
    {
      "cell_type": "code",
      "metadata": {
        "id": "saHW_RLgl_pw",
        "colab": {
          "base_uri": "https://localhost:8080/"
        },
        "outputId": "9286fa3d-6495-415f-b5e2-212562ebe992"
      },
      "source": [
        "question_test =  df_test_input['question']\r\n",
        "question_test"
      ],
      "execution_count": 141,
      "outputs": [
        {
          "output_type": "execute_result",
          "data": {
            "text/plain": [
              "0                      c# c# http proxy http proxy dns\n",
              "1    visual-studio-2010 safari asp.net-mvc-3 iis sh...\n",
              "Name: question, dtype: object"
            ]
          },
          "metadata": {
            "tags": []
          },
          "execution_count": 141
        }
      ]
    },
    {
      "cell_type": "code",
      "metadata": {
        "id": "6Ef5g0AVmNAZ",
        "colab": {
          "base_uri": "https://localhost:8080/"
        },
        "outputId": "fea0143a-ce11-4d75-a8f7-86ecc4f6cd35"
      },
      "source": [
        "type(question_test)"
      ],
      "execution_count": 142,
      "outputs": [
        {
          "output_type": "execute_result",
          "data": {
            "text/plain": [
              "pandas.core.series.Series"
            ]
          },
          "metadata": {
            "tags": []
          },
          "execution_count": 142
        }
      ]
    },
    {
      "cell_type": "code",
      "metadata": {
        "id": "9B6n-bsLmfAW"
      },
      "source": [
        "from sklearn.feature_extraction.text import TfidfVectorizer"
      ],
      "execution_count": 143,
      "outputs": []
    },
    {
      "cell_type": "code",
      "metadata": {
        "id": "Mp9daW8iG69P"
      },
      "source": [
        "def tokenize(document):\r\n",
        "  tokens = [lemma(w) for w in document.split()] #if w.isalpha()]\r\n",
        "  return tokens"
      ],
      "execution_count": 144,
      "outputs": []
    },
    {
      "cell_type": "code",
      "metadata": {
        "id": "MR0ULMvCG75M"
      },
      "source": [
        "stop_words = set(stopwords.words('english'))"
      ],
      "execution_count": 145,
      "outputs": []
    },
    {
      "cell_type": "code",
      "metadata": {
        "id": "xVbfvQNIlnCk",
        "colab": {
          "base_uri": "https://localhost:8080/"
        },
        "outputId": "57f84914-01a9-435b-f473-ef528bef07a4"
      },
      "source": [
        "vectorizer = TfidfVectorizer(tokenizer = tokenize, stop_words = stop_words, max_features=500)\r\n",
        "X_tfidf = vectorizer.fit_transform(question_test).toarray()"
      ],
      "execution_count": 146,
      "outputs": [
        {
          "output_type": "stream",
          "text": [
            "/usr/local/lib/python3.6/dist-packages/sklearn/feature_extraction/text.py:385: UserWarning: Your stop_words may be inconsistent with your preprocessing. Tokenizing the stop words generated tokens ['doe', 'ha', 'wa'] not in stop_words.\n",
            "  'stop_words.' % sorted(inconsistent))\n"
          ],
          "name": "stderr"
        }
      ]
    },
    {
      "cell_type": "code",
      "metadata": {
        "id": "Mjvoh_qUmvu4",
        "colab": {
          "base_uri": "https://localhost:8080/"
        },
        "outputId": "8bc23da8-a549-4cb5-cc3b-dafc21233080"
      },
      "source": [
        "print(X_tfidf.shape)"
      ],
      "execution_count": 147,
      "outputs": [
        {
          "output_type": "stream",
          "text": [
            "(2, 498)\n"
          ],
          "name": "stdout"
        }
      ]
    },
    {
      "cell_type": "code",
      "metadata": {
        "id": "w6AT41N6IAMk",
        "colab": {
          "base_uri": "https://localhost:8080/"
        },
        "outputId": "6cc035e6-568d-4a9f-f582-7f4e1197dde9"
      },
      "source": [
        "feature_names  = vectorizer.get_feature_names()\r\n",
        "print(feature_names)"
      ],
      "execution_count": 148,
      "outputs": [
        {
          "output_type": "stream",
          "text": [
            "['.htaccess', '.net', '.net-3.5', '.net-core', 'actionscript-3', 'activerecord', 'ajax', 'algorithm', 'amazon-ec2', 'amazon-s3', 'amazon-web-services', 'android', 'android-activity', 'android-emulator', 'android-fragments', 'android-gradle-plugin', 'android-intent', 'android-layout', 'android-studio', 'angular', 'angular-material', 'angular5', 'angularjs', 'animation', 'ansible', 'ant', 'apache', 'apache-kafka', 'apache-spark', 'apache-spark-sql', 'api', 'architecture', 'array', 'arraylist', 'asp.net', 'asp.net-core', 'asp.net-core-2.0', 'asp.net-core-mvc', 'asp.net-mvc', 'asp.net-mvc-2', 'asp.net-mvc-3', 'asp.net-mvc-4', 'asp.net-web-api', 'assembly', 'async-await', 'asynchronous', 'audio', 'authentication', 'autocomplete', 'awk', 'aws-lambda', 'azure', 'bash', 'batch-file', 'binary', 'binding', 'boost', 'bootstrap-4', 'browser', 'build', 'button', 'c', 'c#', 'c++', 'c++11', 'c++14', 'c++17', 'caching', 'cakephp', 'canvas', 'casting', 'chart', 'checkbox', 'clang', 'class', 'clojure', 'closure', 'cmake', 'cocoa', 'cocoa-touch', 'codeigniter', 'coding-style', 'coldfusion', 'collection', 'color', 'command-line', 'compilation', 'compiler-construction', 'computer-vision', 'concurrency', 'configuration', 'constant', 'constructor', 'control', 'cooky', 'cordova', 'core-data', 'cs', 'css-selectors', 'csv', 'curl', 'd3.js', 'dart', 'data-binding', 'data-structures', 'database', 'database-design', 'dataframe', 'date', 'datetime', 'debugging', 'deep-learning', 'delphi', 'dependency-injection', 'deployment', 'design-patterns', 'devise', 'dictionary', 'django', 'django-models', 'dll', 'dns', 'docker', 'docker-compose', 'dockerfile', 'dom', 'dplyr', 'drupal', 'dynamic', 'eclipse', 'eclipse-plugin', 'ecmascript-6', 'elasticsearch', 'emacs', 'email', 'encoding', 'encryption', 'entity-framework', 'entity-framework-core', 'enums', 'environment-variables', 'erlang', 'error-handling', 'event', 'excel', 'exception', 'exception-handling', 'express', 'f#', 'facebook', 'facebook-graph-api', 'ffmpeg', 'file', 'file-io', 'filesystems', 'firebase', 'firefox', 'flash', 'flask', 'flexbox', 'floating-point', 'flutter', 'font', 'for-loop', 'form', 'formatting', 'framework', 'function', 'functional-programming', 'garbage-collection', 'gcc', 'generic', 'ggplot2', 'git', 'github', 'go', 'google-api', 'google-app-engine', 'google-apps-script', 'google-chrome', 'google-chrome-extension', 'google-cloud-firestore', 'google-cloud-platform', 'google-maps', 'gradle', 'grail', 'graph', 'graphic', 'graphql', 'groovy', 'group-by', 'hadoop', 'hash', 'haskell', 'heroku', 'hibernate', 'html', 'http', 'ide', 'if-statement', 'iframe', 'ii', 'iis-7', 'image', 'image-processing', 'import', 'indexing', 'inheritance', 'initialization', 'input', 'installation', 'integer', 'intellij-idea', 'interface', 'internationalization', 'internet-explorer', 'io', 'ionic-framework', 'ios5', 'ios7', 'ios8', 'ipad', 'iphone', 'iterator', 'jackson', 'jakarta-ee', 'java', 'java-8', 'java-stream', 'javafx', 'javascript', 'jaxb', 'jdbc', 'jenkins', 'jestjs', 'join', 'jpa', 'jquery', 'jquery-ui', 'jsf', 'json', 'jsp', 'julia', 'junit', 'jvm', 'kera', 'kotlin', 'kubernetes', 'lambda', 'language-agnostic', 'language-lawyer', 'laravel', 'laravel-4', 'laravel-5', 'latex', 'layout', 'linq', 'linq-to-sql', 'linux', 'linux-kernel', 'lisp', 'list', 'listview', 'localization', 'logging', 'loop', 'lua', 'machine-learning', 'macos', 'macro', 'magento', 'makefile', 'math', 'matlab', 'matplotlib', 'matrix', 'maven', 'maven-2', 'memory', 'memory-leaks', 'memory-management', 'mercurial', 'merge', 'meteor', 'method', 'migration', 'mobile', 'mocking', 'model', 'model-view-controller', 'module', 'mongodb', 'mongoose', 'ms-access', 'msbuild', 'multidimensional-array', 'multithreading', 'mvvm', 'mysql', 'netbeans', 'networking', 'neural-network', 'nginx', 'nhibernate', 'node.js', 'npm', 'null', 'numpy', 'oauth', 'oauth-2.0', 'object', 'objective-c', 'oop', 'opencv', 'opengl', 'opengl-es', 'openssl', 'optimization', 'oracle', 'orm', 'panda', 'parallel-processing', 'parameter', 'parsing', 'path', 'pdf', 'performance', 'perl', 'permission', 'php', 'pip', 'plot', 'plugins', 'pointer', 'post', 'postgresql', 'powershell', 'process', 'programming-languages', 'promise', 'property', 'proxy', 'pyspark', 'python', 'python-2.7', 'python-3.x', 'qt', 'r', 'r-markdown', 'rabbitmq', 'random', 'razor', 'react-native', 'react-router', 'reactjs', 'recursion', 'redirect', 'redis', 'redux', 'refactoring', 'reference', 'reflection', 'regex', 'rest', 'routing', 'rspec', 'ruby', 'ruby-on-rails', 'ruby-on-rails-3', 'ruby-on-rails-4', 'rust', 'rxjs', 'safari', 'sas', 'sbt', 'scala', 'scikit-learn', 'scipy', 'scope', 'scripting', 'scroll', 'search', 'security', 'sed', 'select', 'selenium', 'selenium-webdriver', 'serialization', 'service', 'servlets', 'session', 'set', 'sharepoint', 'shell', 'shiny', 'silverlight', 'soap', 'socket', 'sorting', 'split', 'spring', 'spring-boot', 'spring-mvc', 'spring-security', 'sql', 'sql-server', 'sql-server-2005', 'sql-server-2008', 'sqlalchemy', 'sqlite', 'ssh', 'ssis', 'ssl', 'static', 'statistic', 'stl', 'stored-procedures', 'stream', 'string', 'struct', 'svg', 'svn', 'swift', 'swiftui', 'swing', 'symfony', 'syntax', 'template', 'tensorflow', 'terminal', 'testing', 'text', 'tfs', 'time', 'timer', 'tkinter', 'tomcat', 'tsql', 'twitter', 'twitter-bootstrap', 'twitter-bootstrap-3', 'type', 'type-conversion', 'typescript', 'ubuntu', 'uitableview', 'uiview', 'unicode', 'unit-testing', 'unity3d', 'unix', 'url', 'user-interface', 'utf-8', 'uwp', 'validation', 'variable', 'vb.net', 'vba', 'vector', 'version-control', 'video', 'vim', 'visual-c++', 'visual-studio', 'visual-studio-2008', 'visual-studio-2010', 'visual-studio-2012', 'visual-studio-2015', 'visual-studio-2017', 'visual-studio-code', 'vue.js', 'vuejs2', 'wcf', 'web', 'web-applications', 'web-services', 'webpack', 'websocket', 'webview', 'winapi', 'window', 'windows-7', 'winforms', 'wix', 'woocommerce', 'wordpress', 'wpf', 'x86', 'xamarin', 'xamarin.forms', 'xaml', 'xcode', 'xml', 'xpath', 'xsd', 'xslt', 'zend-framework']\n"
          ],
          "name": "stdout"
        }
      ]
    },
    {
      "cell_type": "code",
      "metadata": {
        "id": "h4iugnHVvd-W",
        "outputId": "27b06164-f741-42ea-cfe5-2b184472a337",
        "colab": {
          "base_uri": "https://localhost:8080/"
        }
      },
      "source": [
        "len(feature_names)"
      ],
      "execution_count": 149,
      "outputs": [
        {
          "output_type": "execute_result",
          "data": {
            "text/plain": [
              "498"
            ]
          },
          "metadata": {
            "tags": []
          },
          "execution_count": 149
        }
      ]
    },
    {
      "cell_type": "code",
      "metadata": {
        "id": "T9KapJdrmwuH",
        "colab": {
          "base_uri": "https://localhost:8080/",
          "height": 163
        },
        "outputId": "752d163c-cda7-4ba6-b87a-3b8d38e7837e"
      },
      "source": [
        "X_test = pd.DataFrame(X_tfidf)\r\n",
        "X_test = X_test.iloc[0:1,:]\r\n",
        "X_test.columns = feature_names\r\n",
        "X_test"
      ],
      "execution_count": 151,
      "outputs": [
        {
          "output_type": "execute_result",
          "data": {
            "text/html": [
              "<div>\n",
              "<style scoped>\n",
              "    .dataframe tbody tr th:only-of-type {\n",
              "        vertical-align: middle;\n",
              "    }\n",
              "\n",
              "    .dataframe tbody tr th {\n",
              "        vertical-align: top;\n",
              "    }\n",
              "\n",
              "    .dataframe thead th {\n",
              "        text-align: right;\n",
              "    }\n",
              "</style>\n",
              "<table border=\"1\" class=\"dataframe\">\n",
              "  <thead>\n",
              "    <tr style=\"text-align: right;\">\n",
              "      <th></th>\n",
              "      <th>.htaccess</th>\n",
              "      <th>.net</th>\n",
              "      <th>.net-3.5</th>\n",
              "      <th>.net-core</th>\n",
              "      <th>actionscript-3</th>\n",
              "      <th>activerecord</th>\n",
              "      <th>ajax</th>\n",
              "      <th>algorithm</th>\n",
              "      <th>amazon-ec2</th>\n",
              "      <th>amazon-s3</th>\n",
              "      <th>amazon-web-services</th>\n",
              "      <th>android</th>\n",
              "      <th>android-activity</th>\n",
              "      <th>android-emulator</th>\n",
              "      <th>android-fragments</th>\n",
              "      <th>android-gradle-plugin</th>\n",
              "      <th>android-intent</th>\n",
              "      <th>android-layout</th>\n",
              "      <th>android-studio</th>\n",
              "      <th>angular</th>\n",
              "      <th>angular-material</th>\n",
              "      <th>angular5</th>\n",
              "      <th>angularjs</th>\n",
              "      <th>animation</th>\n",
              "      <th>ansible</th>\n",
              "      <th>ant</th>\n",
              "      <th>apache</th>\n",
              "      <th>apache-kafka</th>\n",
              "      <th>apache-spark</th>\n",
              "      <th>apache-spark-sql</th>\n",
              "      <th>api</th>\n",
              "      <th>architecture</th>\n",
              "      <th>array</th>\n",
              "      <th>arraylist</th>\n",
              "      <th>asp.net</th>\n",
              "      <th>asp.net-core</th>\n",
              "      <th>asp.net-core-2.0</th>\n",
              "      <th>asp.net-core-mvc</th>\n",
              "      <th>asp.net-mvc</th>\n",
              "      <th>asp.net-mvc-2</th>\n",
              "      <th>...</th>\n",
              "      <th>vba</th>\n",
              "      <th>vector</th>\n",
              "      <th>version-control</th>\n",
              "      <th>video</th>\n",
              "      <th>vim</th>\n",
              "      <th>visual-c++</th>\n",
              "      <th>visual-studio</th>\n",
              "      <th>visual-studio-2008</th>\n",
              "      <th>visual-studio-2010</th>\n",
              "      <th>visual-studio-2012</th>\n",
              "      <th>visual-studio-2015</th>\n",
              "      <th>visual-studio-2017</th>\n",
              "      <th>visual-studio-code</th>\n",
              "      <th>vue.js</th>\n",
              "      <th>vuejs2</th>\n",
              "      <th>wcf</th>\n",
              "      <th>web</th>\n",
              "      <th>web-applications</th>\n",
              "      <th>web-services</th>\n",
              "      <th>webpack</th>\n",
              "      <th>websocket</th>\n",
              "      <th>webview</th>\n",
              "      <th>winapi</th>\n",
              "      <th>window</th>\n",
              "      <th>windows-7</th>\n",
              "      <th>winforms</th>\n",
              "      <th>wix</th>\n",
              "      <th>woocommerce</th>\n",
              "      <th>wordpress</th>\n",
              "      <th>wpf</th>\n",
              "      <th>x86</th>\n",
              "      <th>xamarin</th>\n",
              "      <th>xamarin.forms</th>\n",
              "      <th>xaml</th>\n",
              "      <th>xcode</th>\n",
              "      <th>xml</th>\n",
              "      <th>xpath</th>\n",
              "      <th>xsd</th>\n",
              "      <th>xslt</th>\n",
              "      <th>zend-framework</th>\n",
              "    </tr>\n",
              "  </thead>\n",
              "  <tbody>\n",
              "    <tr>\n",
              "      <th>0</th>\n",
              "      <td>0.0</td>\n",
              "      <td>0.0</td>\n",
              "      <td>0.0</td>\n",
              "      <td>0.0</td>\n",
              "      <td>0.0</td>\n",
              "      <td>0.0</td>\n",
              "      <td>0.0</td>\n",
              "      <td>0.0</td>\n",
              "      <td>0.0</td>\n",
              "      <td>0.0</td>\n",
              "      <td>0.0</td>\n",
              "      <td>0.0</td>\n",
              "      <td>0.0</td>\n",
              "      <td>0.0</td>\n",
              "      <td>0.0</td>\n",
              "      <td>0.0</td>\n",
              "      <td>0.0</td>\n",
              "      <td>0.0</td>\n",
              "      <td>0.0</td>\n",
              "      <td>0.0</td>\n",
              "      <td>0.0</td>\n",
              "      <td>0.0</td>\n",
              "      <td>0.0</td>\n",
              "      <td>0.0</td>\n",
              "      <td>0.0</td>\n",
              "      <td>0.0</td>\n",
              "      <td>0.0</td>\n",
              "      <td>0.0</td>\n",
              "      <td>0.0</td>\n",
              "      <td>0.0</td>\n",
              "      <td>0.0</td>\n",
              "      <td>0.0</td>\n",
              "      <td>0.0</td>\n",
              "      <td>0.0</td>\n",
              "      <td>0.0</td>\n",
              "      <td>0.0</td>\n",
              "      <td>0.0</td>\n",
              "      <td>0.0</td>\n",
              "      <td>0.0</td>\n",
              "      <td>0.0</td>\n",
              "      <td>...</td>\n",
              "      <td>0.0</td>\n",
              "      <td>0.0</td>\n",
              "      <td>0.0</td>\n",
              "      <td>0.0</td>\n",
              "      <td>0.0</td>\n",
              "      <td>0.0</td>\n",
              "      <td>0.0</td>\n",
              "      <td>0.0</td>\n",
              "      <td>0.0</td>\n",
              "      <td>0.0</td>\n",
              "      <td>0.0</td>\n",
              "      <td>0.0</td>\n",
              "      <td>0.0</td>\n",
              "      <td>0.0</td>\n",
              "      <td>0.0</td>\n",
              "      <td>0.0</td>\n",
              "      <td>0.0</td>\n",
              "      <td>0.0</td>\n",
              "      <td>0.0</td>\n",
              "      <td>0.0</td>\n",
              "      <td>0.0</td>\n",
              "      <td>0.0</td>\n",
              "      <td>0.0</td>\n",
              "      <td>0.0</td>\n",
              "      <td>0.0</td>\n",
              "      <td>0.0</td>\n",
              "      <td>0.0</td>\n",
              "      <td>0.0</td>\n",
              "      <td>0.0</td>\n",
              "      <td>0.0</td>\n",
              "      <td>0.0</td>\n",
              "      <td>0.0</td>\n",
              "      <td>0.0</td>\n",
              "      <td>0.0</td>\n",
              "      <td>0.0</td>\n",
              "      <td>0.0</td>\n",
              "      <td>0.0</td>\n",
              "      <td>0.0</td>\n",
              "      <td>0.0</td>\n",
              "      <td>0.0</td>\n",
              "    </tr>\n",
              "  </tbody>\n",
              "</table>\n",
              "<p>1 rows × 498 columns</p>\n",
              "</div>"
            ],
            "text/plain": [
              "   .htaccess  .net  .net-3.5  .net-core  ...  xpath  xsd  xslt  zend-framework\n",
              "0        0.0   0.0       0.0        0.0  ...    0.0  0.0   0.0             0.0\n",
              "\n",
              "[1 rows x 498 columns]"
            ]
          },
          "metadata": {
            "tags": []
          },
          "execution_count": 151
        }
      ]
    },
    {
      "cell_type": "code",
      "metadata": {
        "id": "irv57iouKeMm",
        "colab": {
          "base_uri": "https://localhost:8080/"
        },
        "outputId": "0871ab31-fa2b-407c-c964-325673a6ed84"
      },
      "source": [
        "X_test.loc[0,'dns']"
      ],
      "execution_count": 152,
      "outputs": [
        {
          "output_type": "execute_result",
          "data": {
            "text/plain": [
              "0.2773500981126146"
            ]
          },
          "metadata": {
            "tags": []
          },
          "execution_count": 152
        }
      ]
    },
    {
      "cell_type": "code",
      "metadata": {
        "id": "Z8sjAExcnhno",
        "outputId": "bae446ef-993e-4540-93a6-6bf81bce795f",
        "colab": {
          "base_uri": "https://localhost:8080/",
          "height": 311
        }
      },
      "source": [
        "y_pred = model_lr.predict(X_test)"
      ],
      "execution_count": 153,
      "outputs": [
        {
          "output_type": "error",
          "ename": "ValueError",
          "evalue": "ignored",
          "traceback": [
            "\u001b[0;31m---------------------------------------------------------------------------\u001b[0m",
            "\u001b[0;31mValueError\u001b[0m                                Traceback (most recent call last)",
            "\u001b[0;32m<ipython-input-153-1e9f867041f9>\u001b[0m in \u001b[0;36m<module>\u001b[0;34m()\u001b[0m\n\u001b[0;32m----> 1\u001b[0;31m \u001b[0my_pred\u001b[0m \u001b[0;34m=\u001b[0m \u001b[0mmodel_lr\u001b[0m\u001b[0;34m.\u001b[0m\u001b[0mpredict\u001b[0m\u001b[0;34m(\u001b[0m\u001b[0mX_test\u001b[0m\u001b[0;34m)\u001b[0m\u001b[0;34m\u001b[0m\u001b[0;34m\u001b[0m\u001b[0m\n\u001b[0m",
            "\u001b[0;32m/usr/local/lib/python3.6/dist-packages/sklearn/utils/metaestimators.py\u001b[0m in \u001b[0;36m<lambda>\u001b[0;34m(*args, **kwargs)\u001b[0m\n\u001b[1;32m    114\u001b[0m \u001b[0;34m\u001b[0m\u001b[0m\n\u001b[1;32m    115\u001b[0m         \u001b[0;31m# lambda, but not partial, allows help() to work with update_wrapper\u001b[0m\u001b[0;34m\u001b[0m\u001b[0;34m\u001b[0m\u001b[0;34m\u001b[0m\u001b[0m\n\u001b[0;32m--> 116\u001b[0;31m         \u001b[0mout\u001b[0m \u001b[0;34m=\u001b[0m \u001b[0;32mlambda\u001b[0m \u001b[0;34m*\u001b[0m\u001b[0margs\u001b[0m\u001b[0;34m,\u001b[0m \u001b[0;34m**\u001b[0m\u001b[0mkwargs\u001b[0m\u001b[0;34m:\u001b[0m \u001b[0mself\u001b[0m\u001b[0;34m.\u001b[0m\u001b[0mfn\u001b[0m\u001b[0;34m(\u001b[0m\u001b[0mobj\u001b[0m\u001b[0;34m,\u001b[0m \u001b[0;34m*\u001b[0m\u001b[0margs\u001b[0m\u001b[0;34m,\u001b[0m \u001b[0;34m**\u001b[0m\u001b[0mkwargs\u001b[0m\u001b[0;34m)\u001b[0m\u001b[0;34m\u001b[0m\u001b[0;34m\u001b[0m\u001b[0m\n\u001b[0m\u001b[1;32m    117\u001b[0m         \u001b[0;31m# update the docstring of the returned function\u001b[0m\u001b[0;34m\u001b[0m\u001b[0;34m\u001b[0m\u001b[0;34m\u001b[0m\u001b[0m\n\u001b[1;32m    118\u001b[0m         \u001b[0mupdate_wrapper\u001b[0m\u001b[0;34m(\u001b[0m\u001b[0mout\u001b[0m\u001b[0;34m,\u001b[0m \u001b[0mself\u001b[0m\u001b[0;34m.\u001b[0m\u001b[0mfn\u001b[0m\u001b[0;34m)\u001b[0m\u001b[0;34m\u001b[0m\u001b[0;34m\u001b[0m\u001b[0m\n",
            "\u001b[0;32m/usr/local/lib/python3.6/dist-packages/sklearn/model_selection/_search.py\u001b[0m in \u001b[0;36mpredict\u001b[0;34m(self, X)\u001b[0m\n\u001b[1;32m    475\u001b[0m         \"\"\"\n\u001b[1;32m    476\u001b[0m         \u001b[0mself\u001b[0m\u001b[0;34m.\u001b[0m\u001b[0m_check_is_fitted\u001b[0m\u001b[0;34m(\u001b[0m\u001b[0;34m'predict'\u001b[0m\u001b[0;34m)\u001b[0m\u001b[0;34m\u001b[0m\u001b[0;34m\u001b[0m\u001b[0m\n\u001b[0;32m--> 477\u001b[0;31m         \u001b[0;32mreturn\u001b[0m \u001b[0mself\u001b[0m\u001b[0;34m.\u001b[0m\u001b[0mbest_estimator_\u001b[0m\u001b[0;34m.\u001b[0m\u001b[0mpredict\u001b[0m\u001b[0;34m(\u001b[0m\u001b[0mX\u001b[0m\u001b[0;34m)\u001b[0m\u001b[0;34m\u001b[0m\u001b[0;34m\u001b[0m\u001b[0m\n\u001b[0m\u001b[1;32m    478\u001b[0m \u001b[0;34m\u001b[0m\u001b[0m\n\u001b[1;32m    479\u001b[0m     \u001b[0;34m@\u001b[0m\u001b[0mif_delegate_has_method\u001b[0m\u001b[0;34m(\u001b[0m\u001b[0mdelegate\u001b[0m\u001b[0;34m=\u001b[0m\u001b[0;34m(\u001b[0m\u001b[0;34m'best_estimator_'\u001b[0m\u001b[0;34m,\u001b[0m \u001b[0;34m'estimator'\u001b[0m\u001b[0;34m)\u001b[0m\u001b[0;34m)\u001b[0m\u001b[0;34m\u001b[0m\u001b[0;34m\u001b[0m\u001b[0m\n",
            "\u001b[0;32m/usr/local/lib/python3.6/dist-packages/sklearn/multiclass.py\u001b[0m in \u001b[0;36mpredict\u001b[0;34m(self, X)\u001b[0m\n\u001b[1;32m    331\u001b[0m             \u001b[0mindptr\u001b[0m \u001b[0;34m=\u001b[0m \u001b[0marray\u001b[0m\u001b[0;34m.\u001b[0m\u001b[0marray\u001b[0m\u001b[0;34m(\u001b[0m\u001b[0;34m'i'\u001b[0m\u001b[0;34m,\u001b[0m \u001b[0;34m[\u001b[0m\u001b[0;36m0\u001b[0m\u001b[0;34m]\u001b[0m\u001b[0;34m)\u001b[0m\u001b[0;34m\u001b[0m\u001b[0;34m\u001b[0m\u001b[0m\n\u001b[1;32m    332\u001b[0m             \u001b[0;32mfor\u001b[0m \u001b[0me\u001b[0m \u001b[0;32min\u001b[0m \u001b[0mself\u001b[0m\u001b[0;34m.\u001b[0m\u001b[0mestimators_\u001b[0m\u001b[0;34m:\u001b[0m\u001b[0;34m\u001b[0m\u001b[0;34m\u001b[0m\u001b[0m\n\u001b[0;32m--> 333\u001b[0;31m                 \u001b[0mindices\u001b[0m\u001b[0;34m.\u001b[0m\u001b[0mextend\u001b[0m\u001b[0;34m(\u001b[0m\u001b[0mnp\u001b[0m\u001b[0;34m.\u001b[0m\u001b[0mwhere\u001b[0m\u001b[0;34m(\u001b[0m\u001b[0m_predict_binary\u001b[0m\u001b[0;34m(\u001b[0m\u001b[0me\u001b[0m\u001b[0;34m,\u001b[0m \u001b[0mX\u001b[0m\u001b[0;34m)\u001b[0m \u001b[0;34m>\u001b[0m \u001b[0mthresh\u001b[0m\u001b[0;34m)\u001b[0m\u001b[0;34m[\u001b[0m\u001b[0;36m0\u001b[0m\u001b[0;34m]\u001b[0m\u001b[0;34m)\u001b[0m\u001b[0;34m\u001b[0m\u001b[0;34m\u001b[0m\u001b[0m\n\u001b[0m\u001b[1;32m    334\u001b[0m                 \u001b[0mindptr\u001b[0m\u001b[0;34m.\u001b[0m\u001b[0mappend\u001b[0m\u001b[0;34m(\u001b[0m\u001b[0mlen\u001b[0m\u001b[0;34m(\u001b[0m\u001b[0mindices\u001b[0m\u001b[0;34m)\u001b[0m\u001b[0;34m)\u001b[0m\u001b[0;34m\u001b[0m\u001b[0;34m\u001b[0m\u001b[0m\n\u001b[1;32m    335\u001b[0m             \u001b[0mdata\u001b[0m \u001b[0;34m=\u001b[0m \u001b[0mnp\u001b[0m\u001b[0;34m.\u001b[0m\u001b[0mones\u001b[0m\u001b[0;34m(\u001b[0m\u001b[0mlen\u001b[0m\u001b[0;34m(\u001b[0m\u001b[0mindices\u001b[0m\u001b[0;34m)\u001b[0m\u001b[0;34m,\u001b[0m \u001b[0mdtype\u001b[0m\u001b[0;34m=\u001b[0m\u001b[0mint\u001b[0m\u001b[0;34m)\u001b[0m\u001b[0;34m\u001b[0m\u001b[0;34m\u001b[0m\u001b[0m\n",
            "\u001b[0;32m/usr/local/lib/python3.6/dist-packages/sklearn/multiclass.py\u001b[0m in \u001b[0;36m_predict_binary\u001b[0;34m(estimator, X)\u001b[0m\n\u001b[1;32m     92\u001b[0m         \u001b[0;32mreturn\u001b[0m \u001b[0mestimator\u001b[0m\u001b[0;34m.\u001b[0m\u001b[0mpredict\u001b[0m\u001b[0;34m(\u001b[0m\u001b[0mX\u001b[0m\u001b[0;34m)\u001b[0m\u001b[0;34m\u001b[0m\u001b[0;34m\u001b[0m\u001b[0m\n\u001b[1;32m     93\u001b[0m     \u001b[0;32mtry\u001b[0m\u001b[0;34m:\u001b[0m\u001b[0;34m\u001b[0m\u001b[0;34m\u001b[0m\u001b[0m\n\u001b[0;32m---> 94\u001b[0;31m         \u001b[0mscore\u001b[0m \u001b[0;34m=\u001b[0m \u001b[0mnp\u001b[0m\u001b[0;34m.\u001b[0m\u001b[0mravel\u001b[0m\u001b[0;34m(\u001b[0m\u001b[0mestimator\u001b[0m\u001b[0;34m.\u001b[0m\u001b[0mdecision_function\u001b[0m\u001b[0;34m(\u001b[0m\u001b[0mX\u001b[0m\u001b[0;34m)\u001b[0m\u001b[0;34m)\u001b[0m\u001b[0;34m\u001b[0m\u001b[0;34m\u001b[0m\u001b[0m\n\u001b[0m\u001b[1;32m     95\u001b[0m     \u001b[0;32mexcept\u001b[0m \u001b[0;34m(\u001b[0m\u001b[0mAttributeError\u001b[0m\u001b[0;34m,\u001b[0m \u001b[0mNotImplementedError\u001b[0m\u001b[0;34m)\u001b[0m\u001b[0;34m:\u001b[0m\u001b[0;34m\u001b[0m\u001b[0;34m\u001b[0m\u001b[0m\n\u001b[1;32m     96\u001b[0m         \u001b[0;31m# probabilities of the positive class\u001b[0m\u001b[0;34m\u001b[0m\u001b[0;34m\u001b[0m\u001b[0;34m\u001b[0m\u001b[0m\n",
            "\u001b[0;32m/usr/local/lib/python3.6/dist-packages/sklearn/linear_model/_base.py\u001b[0m in \u001b[0;36mdecision_function\u001b[0;34m(self, X)\u001b[0m\n\u001b[1;32m    271\u001b[0m         \u001b[0;32mif\u001b[0m \u001b[0mX\u001b[0m\u001b[0;34m.\u001b[0m\u001b[0mshape\u001b[0m\u001b[0;34m[\u001b[0m\u001b[0;36m1\u001b[0m\u001b[0;34m]\u001b[0m \u001b[0;34m!=\u001b[0m \u001b[0mn_features\u001b[0m\u001b[0;34m:\u001b[0m\u001b[0;34m\u001b[0m\u001b[0;34m\u001b[0m\u001b[0m\n\u001b[1;32m    272\u001b[0m             raise ValueError(\"X has %d features per sample; expecting %d\"\n\u001b[0;32m--> 273\u001b[0;31m                              % (X.shape[1], n_features))\n\u001b[0m\u001b[1;32m    274\u001b[0m \u001b[0;34m\u001b[0m\u001b[0m\n\u001b[1;32m    275\u001b[0m         scores = safe_sparse_dot(X, self.coef_.T,\n",
            "\u001b[0;31mValueError\u001b[0m: X has 498 features per sample; expecting 355"
          ]
        }
      ]
    },
    {
      "cell_type": "code",
      "metadata": {
        "id": "-bdPv4mwh2-O"
      },
      "source": [
        "from sklearn.preprocessing import MultiLabelBinarizer\r\n",
        "mlb = MultiLabelBinarizer(classes=sorted(dict_tags_500))"
      ],
      "execution_count": null,
      "outputs": []
    },
    {
      "cell_type": "code",
      "metadata": {
        "id": "mLbcNArBBVQK"
      },
      "source": [
        "pd.concat([pd.Series(mlb.inverse_transform(y_pred), name='y_pred'),\r\n",
        "           pd.Series(mlb.inverse_transform(y_test.to_numpy()), name='y_true')], axis=1)"
      ],
      "execution_count": null,
      "outputs": []
    },
    {
      "cell_type": "code",
      "metadata": {
        "id": "UtGslqRNiEUP",
        "colab": {
          "base_uri": "https://localhost:8080/"
        },
        "outputId": "7ae99582-3dcf-45b3-b499-a80ec89760f5"
      },
      "source": [
        "A={'.htaccess': 43,'.net': 1201,'.net-3.5': 41}\r\n",
        "A          "
      ],
      "execution_count": null,
      "outputs": [
        {
          "output_type": "execute_result",
          "data": {
            "text/plain": [
              "{'.htaccess': 43, '.net': 1201, '.net-3.5': 41}"
            ]
          },
          "metadata": {
            "tags": []
          },
          "execution_count": 107
        }
      ]
    },
    {
      "cell_type": "code",
      "metadata": {
        "id": "VTA_R5XqieZV",
        "colab": {
          "base_uri": "https://localhost:8080/"
        },
        "outputId": "6cce78fc-c690-49d5-85f4-b082e24aae06"
      },
      "source": [
        "A.keys()"
      ],
      "execution_count": null,
      "outputs": [
        {
          "output_type": "execute_result",
          "data": {
            "text/plain": [
              "dict_keys(['.htaccess', '.net', '.net-3.5'])"
            ]
          },
          "metadata": {
            "tags": []
          },
          "execution_count": 108
        }
      ]
    },
    {
      "cell_type": "code",
      "metadata": {
        "id": "53QwKU5iilR5",
        "colab": {
          "base_uri": "https://localhost:8080/"
        },
        "outputId": "486811ac-b9b1-4e95-fd6a-078a4bf2412e"
      },
      "source": [
        "type(A.keys())"
      ],
      "execution_count": null,
      "outputs": [
        {
          "output_type": "execute_result",
          "data": {
            "text/plain": [
              "dict_keys"
            ]
          },
          "metadata": {
            "tags": []
          },
          "execution_count": 109
        }
      ]
    },
    {
      "cell_type": "code",
      "metadata": {
        "id": "pDrbC1KEiqJ1"
      },
      "source": [
        ""
      ],
      "execution_count": null,
      "outputs": []
    }
  ]
}