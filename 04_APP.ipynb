{
  "nbformat": 4,
  "nbformat_minor": 0,
  "metadata": {
    "colab": {
      "name": "04_APP.ipynb",
      "provenance": [],
      "include_colab_link": true
    },
    "kernelspec": {
      "name": "python3",
      "display_name": "Python 3"
    }
  },
  "cells": [
    {
      "cell_type": "markdown",
      "metadata": {
        "id": "view-in-github",
        "colab_type": "text"
      },
      "source": [
        "<a href=\"https://colab.research.google.com/github/Adil1979/P6_Tag_Recommendation_Stackoverflow/blob/master/04_APP.ipynb\" target=\"_parent\"><img src=\"https://colab.research.google.com/assets/colab-badge.svg\" alt=\"Open In Colab\"/></a>"
      ]
    },
    {
      "cell_type": "markdown",
      "metadata": {
        "id": "c7deOb_hC_zl"
      },
      "source": [
        "# **Projet6: Catégorisation automatique de questions**"
      ]
    },
    {
      "cell_type": "markdown",
      "metadata": {
        "id": "S9H2cZKxDFXb"
      },
      "source": [
        "## **1.Librairies**"
      ]
    },
    {
      "cell_type": "code",
      "metadata": {
        "colab": {
          "base_uri": "https://localhost:8080/"
        },
        "id": "dQlPlP92DEVp",
        "outputId": "5efc5e99-2943-43d6-8da2-52d6b2c746b3"
      },
      "source": [
        "!pip install gensim # Gensim is an open-source library for unsupervised topic modeling and natural language processing"
      ],
      "execution_count": null,
      "outputs": [
        {
          "output_type": "stream",
          "text": [
            "Requirement already satisfied: gensim in /usr/local/lib/python3.6/dist-packages (3.6.0)\n",
            "Requirement already satisfied: numpy>=1.11.3 in /usr/local/lib/python3.6/dist-packages (from gensim) (1.19.5)\n",
            "Requirement already satisfied: scipy>=0.18.1 in /usr/local/lib/python3.6/dist-packages (from gensim) (1.4.1)\n",
            "Requirement already satisfied: six>=1.5.0 in /usr/local/lib/python3.6/dist-packages (from gensim) (1.15.0)\n",
            "Requirement already satisfied: smart-open>=1.2.1 in /usr/local/lib/python3.6/dist-packages (from gensim) (4.1.2)\n"
          ],
          "name": "stdout"
        }
      ]
    },
    {
      "cell_type": "code",
      "metadata": {
        "colab": {
          "base_uri": "https://localhost:8080/"
        },
        "id": "D4Nf8KISC7oE",
        "outputId": "3dfb12c5-afd4-4c65-c200-28b0c53fbdf4"
      },
      "source": [
        "import numpy as np\n",
        "import pandas as pd\n",
        "import matplotlib.pyplot as plt\n",
        "%matplotlib inline\n",
        "from matplotlib.lines import Line2D\n",
        "import matplotlib as mpl\n",
        "#import chart_studio.plotly.plotly as py\n",
        "from collections import Counter\n",
        "#import plotly.plotly as py\n",
        "import seaborn as sns\n",
        "import datetime as dt\n",
        "import calendar as cld\n",
        "from scipy import stats\n",
        "from sklearn import preprocessing\n",
        "from sklearn.preprocessing import StandardScaler\n",
        "from sklearn.preprocessing import scale\n",
        "from os import listdir\n",
        "import glob\n",
        "import missingno as msno\n",
        "#from feature_engine.categorical_encoders import OneHotCategoricalEncoder\n",
        "from sklearn.decomposition import PCA\n",
        "from matplotlib import dates\n",
        "import nltk\n",
        "import re\n",
        "from nltk.corpus import stopwords \n",
        "nltk.download('stopwords')\n",
        "from nltk.stem.porter import PorterStemmer \n",
        "import string\n",
        "from collections import Counter\n",
        "from bs4 import BeautifulSoup\n",
        "import gensim\n",
        "from gensim.utils import simple_preprocess\n",
        "from gensim.parsing.preprocessing import STOPWORDS\n",
        "from ast import literal_eval \n",
        "from sklearn.externals import joblib\n",
        "from joblib import load, dump\n",
        "stop_words = set(stopwords.words('english'))\n",
        "from nltk.stem import WordNetLemmatizer, PorterStemmer\n",
        "from nltk.stem.snowball import EnglishStemmer\n",
        "lemma = WordNetLemmatizer().lemmatize\n",
        "ps = PorterStemmer()\n",
        "stemmer = EnglishStemmer()\n",
        "from joblib import load\n",
        "random_state = 747"
      ],
      "execution_count": null,
      "outputs": [
        {
          "output_type": "stream",
          "text": [
            "[nltk_data] Downloading package stopwords to /root/nltk_data...\n",
            "[nltk_data]   Unzipping corpora/stopwords.zip.\n"
          ],
          "name": "stdout"
        },
        {
          "output_type": "stream",
          "text": [
            "/usr/local/lib/python3.6/dist-packages/sklearn/externals/joblib/__init__.py:15: FutureWarning: sklearn.externals.joblib is deprecated in 0.21 and will be removed in 0.23. Please import this functionality directly from joblib, which can be installed with: pip install joblib. If this warning is raised when loading pickled models, you may need to re-serialize those models with scikit-learn 0.21+.\n",
            "  warnings.warn(msg, category=FutureWarning)\n"
          ],
          "name": "stderr"
        }
      ]
    },
    {
      "cell_type": "code",
      "metadata": {
        "id": "UNfM9Sy9PQNk",
        "colab": {
          "base_uri": "https://localhost:8080/"
        },
        "outputId": "2f111de6-37bd-4d95-fb15-1658b3db9cfe"
      },
      "source": [
        "nltk.download('all')"
      ],
      "execution_count": null,
      "outputs": [
        {
          "output_type": "stream",
          "text": [
            "[nltk_data] Downloading collection 'all'\n",
            "[nltk_data]    | \n",
            "[nltk_data]    | Downloading package abc to /root/nltk_data...\n",
            "[nltk_data]    |   Unzipping corpora/abc.zip.\n",
            "[nltk_data]    | Downloading package alpino to /root/nltk_data...\n",
            "[nltk_data]    |   Unzipping corpora/alpino.zip.\n",
            "[nltk_data]    | Downloading package biocreative_ppi to\n",
            "[nltk_data]    |     /root/nltk_data...\n",
            "[nltk_data]    |   Unzipping corpora/biocreative_ppi.zip.\n",
            "[nltk_data]    | Downloading package brown to /root/nltk_data...\n",
            "[nltk_data]    |   Unzipping corpora/brown.zip.\n",
            "[nltk_data]    | Downloading package brown_tei to /root/nltk_data...\n",
            "[nltk_data]    |   Unzipping corpora/brown_tei.zip.\n",
            "[nltk_data]    | Downloading package cess_cat to /root/nltk_data...\n",
            "[nltk_data]    |   Unzipping corpora/cess_cat.zip.\n",
            "[nltk_data]    | Downloading package cess_esp to /root/nltk_data...\n",
            "[nltk_data]    |   Unzipping corpora/cess_esp.zip.\n",
            "[nltk_data]    | Downloading package chat80 to /root/nltk_data...\n",
            "[nltk_data]    |   Unzipping corpora/chat80.zip.\n",
            "[nltk_data]    | Downloading package city_database to\n",
            "[nltk_data]    |     /root/nltk_data...\n",
            "[nltk_data]    |   Unzipping corpora/city_database.zip.\n",
            "[nltk_data]    | Downloading package cmudict to /root/nltk_data...\n",
            "[nltk_data]    |   Unzipping corpora/cmudict.zip.\n",
            "[nltk_data]    | Downloading package comparative_sentences to\n",
            "[nltk_data]    |     /root/nltk_data...\n",
            "[nltk_data]    |   Unzipping corpora/comparative_sentences.zip.\n",
            "[nltk_data]    | Downloading package comtrans to /root/nltk_data...\n",
            "[nltk_data]    | Downloading package conll2000 to /root/nltk_data...\n",
            "[nltk_data]    |   Unzipping corpora/conll2000.zip.\n",
            "[nltk_data]    | Downloading package conll2002 to /root/nltk_data...\n",
            "[nltk_data]    |   Unzipping corpora/conll2002.zip.\n",
            "[nltk_data]    | Downloading package conll2007 to /root/nltk_data...\n",
            "[nltk_data]    | Downloading package crubadan to /root/nltk_data...\n",
            "[nltk_data]    |   Unzipping corpora/crubadan.zip.\n",
            "[nltk_data]    | Downloading package dependency_treebank to\n",
            "[nltk_data]    |     /root/nltk_data...\n",
            "[nltk_data]    |   Unzipping corpora/dependency_treebank.zip.\n",
            "[nltk_data]    | Downloading package dolch to /root/nltk_data...\n",
            "[nltk_data]    |   Unzipping corpora/dolch.zip.\n",
            "[nltk_data]    | Downloading package europarl_raw to\n",
            "[nltk_data]    |     /root/nltk_data...\n",
            "[nltk_data]    |   Unzipping corpora/europarl_raw.zip.\n",
            "[nltk_data]    | Downloading package floresta to /root/nltk_data...\n",
            "[nltk_data]    |   Unzipping corpora/floresta.zip.\n",
            "[nltk_data]    | Downloading package framenet_v15 to\n",
            "[nltk_data]    |     /root/nltk_data...\n",
            "[nltk_data]    |   Unzipping corpora/framenet_v15.zip.\n",
            "[nltk_data]    | Downloading package framenet_v17 to\n",
            "[nltk_data]    |     /root/nltk_data...\n",
            "[nltk_data]    |   Unzipping corpora/framenet_v17.zip.\n",
            "[nltk_data]    | Downloading package gazetteers to /root/nltk_data...\n",
            "[nltk_data]    |   Unzipping corpora/gazetteers.zip.\n",
            "[nltk_data]    | Downloading package genesis to /root/nltk_data...\n",
            "[nltk_data]    |   Unzipping corpora/genesis.zip.\n",
            "[nltk_data]    | Downloading package gutenberg to /root/nltk_data...\n",
            "[nltk_data]    |   Unzipping corpora/gutenberg.zip.\n",
            "[nltk_data]    | Downloading package ieer to /root/nltk_data...\n",
            "[nltk_data]    |   Unzipping corpora/ieer.zip.\n",
            "[nltk_data]    | Downloading package inaugural to /root/nltk_data...\n",
            "[nltk_data]    |   Unzipping corpora/inaugural.zip.\n",
            "[nltk_data]    | Downloading package indian to /root/nltk_data...\n",
            "[nltk_data]    |   Unzipping corpora/indian.zip.\n",
            "[nltk_data]    | Downloading package jeita to /root/nltk_data...\n",
            "[nltk_data]    | Downloading package kimmo to /root/nltk_data...\n",
            "[nltk_data]    |   Unzipping corpora/kimmo.zip.\n",
            "[nltk_data]    | Downloading package knbc to /root/nltk_data...\n",
            "[nltk_data]    | Downloading package lin_thesaurus to\n",
            "[nltk_data]    |     /root/nltk_data...\n",
            "[nltk_data]    |   Unzipping corpora/lin_thesaurus.zip.\n",
            "[nltk_data]    | Downloading package mac_morpho to /root/nltk_data...\n",
            "[nltk_data]    |   Unzipping corpora/mac_morpho.zip.\n",
            "[nltk_data]    | Downloading package machado to /root/nltk_data...\n",
            "[nltk_data]    | Downloading package masc_tagged to /root/nltk_data...\n",
            "[nltk_data]    | Downloading package moses_sample to\n",
            "[nltk_data]    |     /root/nltk_data...\n",
            "[nltk_data]    |   Unzipping models/moses_sample.zip.\n",
            "[nltk_data]    | Downloading package movie_reviews to\n",
            "[nltk_data]    |     /root/nltk_data...\n",
            "[nltk_data]    |   Unzipping corpora/movie_reviews.zip.\n",
            "[nltk_data]    | Downloading package names to /root/nltk_data...\n",
            "[nltk_data]    |   Unzipping corpora/names.zip.\n",
            "[nltk_data]    | Downloading package nombank.1.0 to /root/nltk_data...\n",
            "[nltk_data]    | Downloading package nps_chat to /root/nltk_data...\n",
            "[nltk_data]    |   Unzipping corpora/nps_chat.zip.\n",
            "[nltk_data]    | Downloading package omw to /root/nltk_data...\n",
            "[nltk_data]    |   Unzipping corpora/omw.zip.\n",
            "[nltk_data]    | Downloading package opinion_lexicon to\n",
            "[nltk_data]    |     /root/nltk_data...\n",
            "[nltk_data]    |   Unzipping corpora/opinion_lexicon.zip.\n",
            "[nltk_data]    | Downloading package paradigms to /root/nltk_data...\n",
            "[nltk_data]    |   Unzipping corpora/paradigms.zip.\n",
            "[nltk_data]    | Downloading package pil to /root/nltk_data...\n",
            "[nltk_data]    |   Unzipping corpora/pil.zip.\n",
            "[nltk_data]    | Downloading package pl196x to /root/nltk_data...\n",
            "[nltk_data]    |   Unzipping corpora/pl196x.zip.\n",
            "[nltk_data]    | Downloading package ppattach to /root/nltk_data...\n",
            "[nltk_data]    |   Unzipping corpora/ppattach.zip.\n",
            "[nltk_data]    | Downloading package problem_reports to\n",
            "[nltk_data]    |     /root/nltk_data...\n",
            "[nltk_data]    |   Unzipping corpora/problem_reports.zip.\n",
            "[nltk_data]    | Downloading package propbank to /root/nltk_data...\n",
            "[nltk_data]    | Downloading package ptb to /root/nltk_data...\n",
            "[nltk_data]    |   Unzipping corpora/ptb.zip.\n",
            "[nltk_data]    | Downloading package product_reviews_1 to\n",
            "[nltk_data]    |     /root/nltk_data...\n",
            "[nltk_data]    |   Unzipping corpora/product_reviews_1.zip.\n",
            "[nltk_data]    | Downloading package product_reviews_2 to\n",
            "[nltk_data]    |     /root/nltk_data...\n",
            "[nltk_data]    |   Unzipping corpora/product_reviews_2.zip.\n",
            "[nltk_data]    | Downloading package pros_cons to /root/nltk_data...\n",
            "[nltk_data]    |   Unzipping corpora/pros_cons.zip.\n",
            "[nltk_data]    | Downloading package qc to /root/nltk_data...\n",
            "[nltk_data]    |   Unzipping corpora/qc.zip.\n",
            "[nltk_data]    | Downloading package reuters to /root/nltk_data...\n",
            "[nltk_data]    | Downloading package rte to /root/nltk_data...\n",
            "[nltk_data]    |   Unzipping corpora/rte.zip.\n",
            "[nltk_data]    | Downloading package semcor to /root/nltk_data...\n",
            "[nltk_data]    | Downloading package senseval to /root/nltk_data...\n",
            "[nltk_data]    |   Unzipping corpora/senseval.zip.\n",
            "[nltk_data]    | Downloading package sentiwordnet to\n",
            "[nltk_data]    |     /root/nltk_data...\n",
            "[nltk_data]    |   Unzipping corpora/sentiwordnet.zip.\n",
            "[nltk_data]    | Downloading package sentence_polarity to\n",
            "[nltk_data]    |     /root/nltk_data...\n",
            "[nltk_data]    |   Unzipping corpora/sentence_polarity.zip.\n",
            "[nltk_data]    | Downloading package shakespeare to /root/nltk_data...\n",
            "[nltk_data]    |   Unzipping corpora/shakespeare.zip.\n",
            "[nltk_data]    | Downloading package sinica_treebank to\n",
            "[nltk_data]    |     /root/nltk_data...\n",
            "[nltk_data]    |   Unzipping corpora/sinica_treebank.zip.\n",
            "[nltk_data]    | Downloading package smultron to /root/nltk_data...\n",
            "[nltk_data]    |   Unzipping corpora/smultron.zip.\n",
            "[nltk_data]    | Downloading package state_union to /root/nltk_data...\n",
            "[nltk_data]    |   Unzipping corpora/state_union.zip.\n",
            "[nltk_data]    | Downloading package stopwords to /root/nltk_data...\n",
            "[nltk_data]    |   Package stopwords is already up-to-date!\n",
            "[nltk_data]    | Downloading package subjectivity to\n",
            "[nltk_data]    |     /root/nltk_data...\n",
            "[nltk_data]    |   Unzipping corpora/subjectivity.zip.\n",
            "[nltk_data]    | Downloading package swadesh to /root/nltk_data...\n",
            "[nltk_data]    |   Unzipping corpora/swadesh.zip.\n",
            "[nltk_data]    | Downloading package switchboard to /root/nltk_data...\n",
            "[nltk_data]    |   Unzipping corpora/switchboard.zip.\n",
            "[nltk_data]    | Downloading package timit to /root/nltk_data...\n",
            "[nltk_data]    |   Unzipping corpora/timit.zip.\n",
            "[nltk_data]    | Downloading package toolbox to /root/nltk_data...\n",
            "[nltk_data]    |   Unzipping corpora/toolbox.zip.\n",
            "[nltk_data]    | Downloading package treebank to /root/nltk_data...\n",
            "[nltk_data]    |   Unzipping corpora/treebank.zip.\n",
            "[nltk_data]    | Downloading package twitter_samples to\n",
            "[nltk_data]    |     /root/nltk_data...\n",
            "[nltk_data]    |   Unzipping corpora/twitter_samples.zip.\n",
            "[nltk_data]    | Downloading package udhr to /root/nltk_data...\n",
            "[nltk_data]    |   Unzipping corpora/udhr.zip.\n",
            "[nltk_data]    | Downloading package udhr2 to /root/nltk_data...\n",
            "[nltk_data]    |   Unzipping corpora/udhr2.zip.\n",
            "[nltk_data]    | Downloading package unicode_samples to\n",
            "[nltk_data]    |     /root/nltk_data...\n",
            "[nltk_data]    |   Unzipping corpora/unicode_samples.zip.\n",
            "[nltk_data]    | Downloading package universal_treebanks_v20 to\n",
            "[nltk_data]    |     /root/nltk_data...\n",
            "[nltk_data]    | Downloading package verbnet to /root/nltk_data...\n",
            "[nltk_data]    |   Unzipping corpora/verbnet.zip.\n",
            "[nltk_data]    | Downloading package verbnet3 to /root/nltk_data...\n",
            "[nltk_data]    |   Unzipping corpora/verbnet3.zip.\n",
            "[nltk_data]    | Downloading package webtext to /root/nltk_data...\n",
            "[nltk_data]    |   Unzipping corpora/webtext.zip.\n",
            "[nltk_data]    | Downloading package wordnet to /root/nltk_data...\n",
            "[nltk_data]    |   Unzipping corpora/wordnet.zip.\n",
            "[nltk_data]    | Downloading package wordnet_ic to /root/nltk_data...\n",
            "[nltk_data]    |   Unzipping corpora/wordnet_ic.zip.\n",
            "[nltk_data]    | Downloading package words to /root/nltk_data...\n",
            "[nltk_data]    |   Unzipping corpora/words.zip.\n",
            "[nltk_data]    | Downloading package ycoe to /root/nltk_data...\n",
            "[nltk_data]    |   Unzipping corpora/ycoe.zip.\n",
            "[nltk_data]    | Downloading package rslp to /root/nltk_data...\n",
            "[nltk_data]    |   Unzipping stemmers/rslp.zip.\n",
            "[nltk_data]    | Downloading package maxent_treebank_pos_tagger to\n",
            "[nltk_data]    |     /root/nltk_data...\n",
            "[nltk_data]    |   Unzipping taggers/maxent_treebank_pos_tagger.zip.\n",
            "[nltk_data]    | Downloading package universal_tagset to\n",
            "[nltk_data]    |     /root/nltk_data...\n",
            "[nltk_data]    |   Unzipping taggers/universal_tagset.zip.\n",
            "[nltk_data]    | Downloading package maxent_ne_chunker to\n",
            "[nltk_data]    |     /root/nltk_data...\n",
            "[nltk_data]    |   Unzipping chunkers/maxent_ne_chunker.zip.\n",
            "[nltk_data]    | Downloading package punkt to /root/nltk_data...\n",
            "[nltk_data]    |   Unzipping tokenizers/punkt.zip.\n",
            "[nltk_data]    | Downloading package book_grammars to\n",
            "[nltk_data]    |     /root/nltk_data...\n",
            "[nltk_data]    |   Unzipping grammars/book_grammars.zip.\n",
            "[nltk_data]    | Downloading package sample_grammars to\n",
            "[nltk_data]    |     /root/nltk_data...\n",
            "[nltk_data]    |   Unzipping grammars/sample_grammars.zip.\n",
            "[nltk_data]    | Downloading package spanish_grammars to\n",
            "[nltk_data]    |     /root/nltk_data...\n",
            "[nltk_data]    |   Unzipping grammars/spanish_grammars.zip.\n",
            "[nltk_data]    | Downloading package basque_grammars to\n",
            "[nltk_data]    |     /root/nltk_data...\n",
            "[nltk_data]    |   Unzipping grammars/basque_grammars.zip.\n",
            "[nltk_data]    | Downloading package large_grammars to\n",
            "[nltk_data]    |     /root/nltk_data...\n",
            "[nltk_data]    |   Unzipping grammars/large_grammars.zip.\n",
            "[nltk_data]    | Downloading package tagsets to /root/nltk_data...\n",
            "[nltk_data]    |   Unzipping help/tagsets.zip.\n",
            "[nltk_data]    | Downloading package snowball_data to\n",
            "[nltk_data]    |     /root/nltk_data...\n",
            "[nltk_data]    | Downloading package bllip_wsj_no_aux to\n",
            "[nltk_data]    |     /root/nltk_data...\n",
            "[nltk_data]    |   Unzipping models/bllip_wsj_no_aux.zip.\n",
            "[nltk_data]    | Downloading package word2vec_sample to\n",
            "[nltk_data]    |     /root/nltk_data...\n",
            "[nltk_data]    |   Unzipping models/word2vec_sample.zip.\n",
            "[nltk_data]    | Downloading package panlex_swadesh to\n",
            "[nltk_data]    |     /root/nltk_data...\n",
            "[nltk_data]    | Downloading package mte_teip5 to /root/nltk_data...\n",
            "[nltk_data]    |   Unzipping corpora/mte_teip5.zip.\n",
            "[nltk_data]    | Downloading package averaged_perceptron_tagger to\n",
            "[nltk_data]    |     /root/nltk_data...\n",
            "[nltk_data]    |   Unzipping taggers/averaged_perceptron_tagger.zip.\n",
            "[nltk_data]    | Downloading package averaged_perceptron_tagger_ru to\n",
            "[nltk_data]    |     /root/nltk_data...\n",
            "[nltk_data]    |   Unzipping\n",
            "[nltk_data]    |       taggers/averaged_perceptron_tagger_ru.zip.\n",
            "[nltk_data]    | Downloading package perluniprops to\n",
            "[nltk_data]    |     /root/nltk_data...\n",
            "[nltk_data]    |   Unzipping misc/perluniprops.zip.\n",
            "[nltk_data]    | Downloading package nonbreaking_prefixes to\n",
            "[nltk_data]    |     /root/nltk_data...\n",
            "[nltk_data]    |   Unzipping corpora/nonbreaking_prefixes.zip.\n",
            "[nltk_data]    | Downloading package vader_lexicon to\n",
            "[nltk_data]    |     /root/nltk_data...\n",
            "[nltk_data]    | Downloading package porter_test to /root/nltk_data...\n",
            "[nltk_data]    |   Unzipping stemmers/porter_test.zip.\n",
            "[nltk_data]    | Downloading package wmt15_eval to /root/nltk_data...\n",
            "[nltk_data]    |   Unzipping models/wmt15_eval.zip.\n",
            "[nltk_data]    | Downloading package mwa_ppdb to /root/nltk_data...\n",
            "[nltk_data]    |   Unzipping misc/mwa_ppdb.zip.\n",
            "[nltk_data]    | \n",
            "[nltk_data]  Done downloading collection all\n"
          ],
          "name": "stdout"
        },
        {
          "output_type": "execute_result",
          "data": {
            "text/plain": [
              "True"
            ]
          },
          "metadata": {
            "tags": []
          },
          "execution_count": 3
        }
      ]
    },
    {
      "cell_type": "code",
      "metadata": {
        "id": "lqe5vm1ps-_P"
      },
      "source": [
        "set_alpha = set(['a', 'b', 'd', 'e', 'f', 'g', 'h', 'i', 'k', 'l', 'm', 'n', 'o', 'p', 'q', 's', 't', 'u', 'v', 'w', 'x', 'y', 'z', '-'])"
      ],
      "execution_count": null,
      "outputs": []
    },
    {
      "cell_type": "markdown",
      "metadata": {
        "id": "GRAnwpQpDi0X"
      },
      "source": [
        "## **2.Data**"
      ]
    },
    {
      "cell_type": "code",
      "metadata": {
        "colab": {
          "base_uri": "https://localhost:8080/"
        },
        "id": "NzWo_lsXDT58",
        "outputId": "63d5c1da-a30c-4be7-b5df-d710fd3c32c5"
      },
      "source": [
        "from google.colab import drive\n",
        "drive.mount('/content/drive')"
      ],
      "execution_count": null,
      "outputs": [
        {
          "output_type": "stream",
          "text": [
            "Mounted at /content/drive\n"
          ],
          "name": "stdout"
        }
      ]
    },
    {
      "cell_type": "code",
      "metadata": {
        "id": "q9Nyu3oCvTTo"
      },
      "source": [
        "model_lr = joblib.load('/content/drive/My Drive/CentraleSupelec_OCR/P6/reg_log_saved.joblib')"
      ],
      "execution_count": null,
      "outputs": []
    },
    {
      "cell_type": "code",
      "metadata": {
        "id": "sqfKJTjQeW_9",
        "colab": {
          "base_uri": "https://localhost:8080/"
        },
        "outputId": "7c1b333a-425a-4280-aa61-479a98a42369"
      },
      "source": [
        "dict_tags_500 = joblib.load('/content/drive/My Drive/CentraleSupelec_OCR/P6/list_tag_key_500.joblib')\r\n",
        "print(dict_tags_500)"
      ],
      "execution_count": null,
      "outputs": [
        {
          "output_type": "stream",
          "text": [
            "{'wix', 'jvm', 'linq', 'mysql', 'maven-2', 'tkinter', 'process', 'google-api', 'mongodb', 'linux', '.htaccess', 'cakephp', 'redirect', 'uiview', 'codeigniter', 'wpf', 'maven', 'model', 'selenium', 'multidimensional-array', 'math', 'encoding', 'asp.net-mvc-2', 'filesystems', 'hash', 'unity3d', 'intellij-idea', 'ssh', 'silverlight', 'entity-framework', 'configuration', 'msbuild', '.net-core', 'orm', 'oauth', 'spring-security', 'c++11', 'jenkins', 'facebook-graph-api', 'plot', 'validation', 'compilation', 'inheritance', 'proxy', 'database-design', 'pandas', 'exception-handling', 'jaxb', 'laravel-5', 'jakarta-ee', 'cordova', 'soap', 'cmake', 'algorithm', 'webpack', 'iframe', 'ant', 'video', 'exception', 'scripting', 'random', 'graphql', 'json', 'vector', 'facebook', 'jdbc', 'dll', 'julia', 'lambda', 'swift', 'model-view-controller', 'netbeans', 'pyspark', 'ms-access', 'sqlalchemy', 'ios7', 'javascript', 'colors', 'xamarin.forms', 'android-emulator', 'boost', 'coldfusion', 'memory-management', 'gcc', 'regex', 'ios5', 'python-2.7', 'closures', 'openssl', 'shiny', 'core-data', 'enums', 'groovy', 'encryption', 'dataframe', 'laravel', 'asp.net-core-2.0', 'tsql', 'ide', 'visual-studio-2015', 'image', 'spring', 'parsing', 'programming-languages', 'error-handling', 'wordpress', 'web-services', 'ajax', 'hibernate', 'eclipse-plugin', 'service', 'sqlite', 'string', 'visual-c++', 'ipad', 'utf-8', 'events', 'jsf', 'datetime', 'select', 'php', 'forms', '.net-3.5', 'visual-studio-2008', 'import', 'null', 'initialization', 'perl', 'asp.net-mvc', 'memory', 'csv', 'visual-studio-2017', 'types', 'dockerfile', 'file', 'entity-framework-core', 'path', 'set', 'machine-learning', 'canvas', 'twitter-bootstrap', 'casting', 'd3.js', 'azure', 'linux-kernel', 'asp.net-core-mvc', 'properties', 'delphi', 'ios8', 'ruby', 'hadoop', 'docker-compose', 'amazon-web-services', 'rabbitmq', 'rust', 'haskell', 'generics', 'listview', 'dictionary', 'dom', 'web', 'mercurial', 'matplotlib', 'css', 'opengl', 'language-lawyer', 'symfony', 'node.js', 'vuejs2', 'android-studio', 'flutter', 'mongoose', 'nginx', 'linq-to-sql', 'ggplot2', 'arraylist', 'c++14', 'tfs', 'ffmpeg', 'visual-studio-2012', 'constants', 'google-apps-script', 'clojure', 'angular5', 'iis', 'keras', 'interface', 'formatting', 'xcode', 'charts', 'split', 'garbage-collection', 'asp.net', 'ecmascript-6', 'google-chrome-extension', 'data-binding', 'aws-lambda', 'join', 'migration', 'java-stream', 'objective-c', 'ionic-framework', 'actionscript-3', 'google-cloud-firestore', 'tensorflow', 'scikit-learn', 'emacs', 'c++17', 'iis-7', 'security', 'flask', 'python-3.x', 'spring-mvc', 'jestjs', 'autocomplete', 'sql-server-2005', 'x86', 'installation', 'servlets', 'jsp', 'junit', 'cocoa-touch', 'stream', 'function', 'ruby-on-rails', 'kubernetes', 'static', 'button', 'reactjs', 'xml', 'templates', 'jpa', 'group-by', 'qt', 'magento', 'angularjs', 'scipy', 'c', 'localization', 'multithreading', 'git', 'reflection', 'integer', 'parameters', 'pip', 'logging', 'ubuntu', 'dependency-injection', 'sorting', 'dplyr', 'pdf', 'mocking', 'django', 'heroku', 'terminal', 'collections', 'architecture', 'drupal', 'floating-point', 'django-models', 'sql-server', 'tomcat', 'graph', 'if-statement', 'sbt', 'matrix', 'redux', 'rspec', 'internet-explorer', 'google-cloud-platform', 'dynamic', 'audio', 'routing', '.net', 'sed', 'asp.net-web-api', 'apache-spark', 'twitter', 'stl', 'vba', 'timer', 'debugging', 'frameworks', 'android-layout', 'internationalization', 'ruby-on-rails-3', 'user-interface', 'unicode', 'selenium-webdriver', 'vb.net', 'pointers', 'svg', 'xslt', 'list', 'parallel-processing', 'database', 'clang', 'version-control', 'safari', 'spring-boot', 'meteor', 'ruby-on-rails-4', 'visual-studio-2010', 'vue.js', 'language-agnostic', 'jackson', 'macos', 'react-native', 'graphics', 'angular', 'deep-learning', 'nhibernate', 'rest', 'email', 'sass', 'opencv', 'javafx', 'image-processing', 'post', 'shell', 'flash', 'excel', 'windows', 'r-markdown', 'time', 'web-applications', 'text', 'mvvm', 'ansible', 'jquery-ui', 'url', 'plugins', 'date', 'deployment', 'asp.net-core', 'zend-framework', 'type-conversion', 'swiftui', 'indexing', 'awk', 'winforms', 'checkbox', 'stored-procedures', 'batch-file', 'opengl-es', 'f#', 'wcf', 'merge', 'apache', 'makefile', 'css-selectors', 'latex', 'refactoring', 'kotlin', 'jquery', 'animation', 'promise', 'android-intent', 'sql', 'sockets', 'redis', 'iterator', 'assembly', 'postgresql', 'visual-studio', 'for-loop', 'coding-style', 'r', 'file-io', 'webview', 'scala', 'woocommerce', 'docker', 'sql-server-2008', 'html', 'lua', 'command-line', 'github', 'asynchronous', 'class', 'sharepoint', 'computer-vision', 'react-router', 'devise', 'dns', 'bash', 'constructor', 'environment-variables', 'gradle', 'curl', 'binary', 'struct', 'unit-testing', 'serialization', 'api', 'android-activity', 'erlang', 'android-fragments', 'unix', 'oop', 'controls', 'concurrency', 'layout', 'angular-material', 'cocoa', 'networking', 'browser', 'powershell', 'data-structures', 'iphone', 'authentication', 'npm', 'go', 'mobile', 'dart', 'async-await', 'android-gradle-plugin', 'input', 'typescript', 'xaml', 'flexbox', 'google-app-engine', 'websocket', 'oauth-2.0', 'testing', 'amazon-s3', 'optimization', 'asp.net-mvc-4', 'permissions', 'macros', 'object', 'build', 'session', 'loops', 'asp.net-mvc-3', 'apache-kafka', 'ssis', 'matlab', 'rxjs', 'apache-spark-sql', 'xamarin', 'swing', 'express', 'java', 'uwp', 'c++', 'elasticsearch', 'oracle', 'caching', 'google-chrome', 'activerecord', 'c#', 'laravel-4', 'amazon-ec2', 'https', 'scope', 'python', 'neural-network', 'functional-programming', 'compiler-construction', 'xsd', 'numpy', 'module', 'eclipse', 'winapi', 'java-8', 'recursion', 'binding', 'fonts', 'grails', 'google-maps', 'windows-7', 'twitter-bootstrap-3', 'uitableview', 'cookies', 'methods', 'performance', 'search', 'android', 'arrays', 'lisp', 'http', 'memory-leaks', 'io', 'statistics', 'firefox', 'firebase', 'xpath', 'svn', 'variables', 'ssl', 'design-patterns', 'visual-studio-code', 'scroll', 'syntax', 'razor', 'vim', 'bootstrap-4', 'reference', 'ios'}\n"
          ],
          "name": "stdout"
        }
      ]
    },
    {
      "cell_type": "code",
      "metadata": {
        "id": "k4cQI4QL6y_z",
        "colab": {
          "base_uri": "https://localhost:8080/"
        },
        "outputId": "d5ede5b0-51fb-4a53-8378-dc9082ccaaec"
      },
      "source": [
        "type(dict_tags_500)"
      ],
      "execution_count": null,
      "outputs": [
        {
          "output_type": "execute_result",
          "data": {
            "text/plain": [
              "set"
            ]
          },
          "metadata": {
            "tags": []
          },
          "execution_count": 8
        }
      ]
    },
    {
      "cell_type": "code",
      "metadata": {
        "id": "4dWLnR4ZnIud",
        "colab": {
          "base_uri": "https://localhost:8080/"
        },
        "outputId": "ca622575-02cb-4b74-dbf5-0c4b24e2d4af"
      },
      "source": [
        "len(dict_tags_500)"
      ],
      "execution_count": null,
      "outputs": [
        {
          "output_type": "execute_result",
          "data": {
            "text/plain": [
              "500"
            ]
          },
          "metadata": {
            "tags": []
          },
          "execution_count": 9
        }
      ]
    },
    {
      "cell_type": "code",
      "metadata": {
        "id": "UVSSwZlb7tsJ",
        "colab": {
          "base_uri": "https://localhost:8080/",
          "height": 139
        },
        "outputId": "3de52fea-7deb-4e69-b340-5a067e713928"
      },
      "source": [
        "st_tags_500  = \" \".join(dict_tags_500)\r\n",
        "st_tags_500"
      ],
      "execution_count": null,
      "outputs": [
        {
          "output_type": "execute_result",
          "data": {
            "application/vnd.google.colaboratory.intrinsic+json": {
              "type": "string"
            },
            "text/plain": [
              "'wix jvm linq mysql maven-2 tkinter process google-api mongodb linux .htaccess cakephp redirect uiview codeigniter wpf maven model selenium multidimensional-array math encoding asp.net-mvc-2 filesystems hash unity3d intellij-idea ssh silverlight entity-framework configuration msbuild .net-core orm oauth spring-security c++11 jenkins facebook-graph-api plot validation compilation inheritance proxy database-design pandas exception-handling jaxb laravel-5 jakarta-ee cordova soap cmake algorithm webpack iframe ant video exception scripting random graphql json vector facebook jdbc dll julia lambda swift model-view-controller netbeans pyspark ms-access sqlalchemy ios7 javascript colors xamarin.forms android-emulator boost coldfusion memory-management gcc regex ios5 python-2.7 closures openssl shiny core-data enums groovy encryption dataframe laravel asp.net-core-2.0 tsql ide visual-studio-2015 image spring parsing programming-languages error-handling wordpress web-services ajax hibernate eclipse-plugin service sqlite string visual-c++ ipad utf-8 events jsf datetime select php forms .net-3.5 visual-studio-2008 import null initialization perl asp.net-mvc memory csv visual-studio-2017 types dockerfile file entity-framework-core path set machine-learning canvas twitter-bootstrap casting d3.js azure linux-kernel asp.net-core-mvc properties delphi ios8 ruby hadoop docker-compose amazon-web-services rabbitmq rust haskell generics listview dictionary dom web mercurial matplotlib css opengl language-lawyer symfony node.js vuejs2 android-studio flutter mongoose nginx linq-to-sql ggplot2 arraylist c++14 tfs ffmpeg visual-studio-2012 constants google-apps-script clojure angular5 iis keras interface formatting xcode charts split garbage-collection asp.net ecmascript-6 google-chrome-extension data-binding aws-lambda join migration java-stream objective-c ionic-framework actionscript-3 google-cloud-firestore tensorflow scikit-learn emacs c++17 iis-7 security flask python-3.x spring-mvc jestjs autocomplete sql-server-2005 x86 installation servlets jsp junit cocoa-touch stream function ruby-on-rails kubernetes static button reactjs xml templates jpa group-by qt magento angularjs scipy c localization multithreading git reflection integer parameters pip logging ubuntu dependency-injection sorting dplyr pdf mocking django heroku terminal collections architecture drupal floating-point django-models sql-server tomcat graph if-statement sbt matrix redux rspec internet-explorer google-cloud-platform dynamic audio routing .net sed asp.net-web-api apache-spark twitter stl vba timer debugging frameworks android-layout internationalization ruby-on-rails-3 user-interface unicode selenium-webdriver vb.net pointers svg xslt list parallel-processing database clang version-control safari spring-boot meteor ruby-on-rails-4 visual-studio-2010 vue.js language-agnostic jackson macos react-native graphics angular deep-learning nhibernate rest email sass opencv javafx image-processing post shell flash excel windows r-markdown time web-applications text mvvm ansible jquery-ui url plugins date deployment asp.net-core zend-framework type-conversion swiftui indexing awk winforms checkbox stored-procedures batch-file opengl-es f# wcf merge apache makefile css-selectors latex refactoring kotlin jquery animation promise android-intent sql sockets redis iterator assembly postgresql visual-studio for-loop coding-style r file-io webview scala woocommerce docker sql-server-2008 html lua command-line github asynchronous class sharepoint computer-vision react-router devise dns bash constructor environment-variables gradle curl binary struct unit-testing serialization api android-activity erlang android-fragments unix oop controls concurrency layout angular-material cocoa networking browser powershell data-structures iphone authentication npm go mobile dart async-await android-gradle-plugin input typescript xaml flexbox google-app-engine websocket oauth-2.0 testing amazon-s3 optimization asp.net-mvc-4 permissions macros object build session loops asp.net-mvc-3 apache-kafka ssis matlab rxjs apache-spark-sql xamarin swing express java uwp c++ elasticsearch oracle caching google-chrome activerecord c# laravel-4 amazon-ec2 https scope python neural-network functional-programming compiler-construction xsd numpy module eclipse winapi java-8 recursion binding fonts grails google-maps windows-7 twitter-bootstrap-3 uitableview cookies methods performance search android arrays lisp http memory-leaks io statistics firefox firebase xpath svn variables ssl design-patterns visual-studio-code scroll syntax razor vim bootstrap-4 reference ios'"
            ]
          },
          "metadata": {
            "tags": []
          },
          "execution_count": 10
        }
      ]
    },
    {
      "cell_type": "code",
      "metadata": {
        "id": "apXt3siF_3T2",
        "colab": {
          "base_uri": "https://localhost:8080/"
        },
        "outputId": "f55e9c4c-3403-4470-d6cb-e05ad477b7c6"
      },
      "source": [
        "type(st_tags_500)"
      ],
      "execution_count": null,
      "outputs": [
        {
          "output_type": "execute_result",
          "data": {
            "text/plain": [
              "str"
            ]
          },
          "metadata": {
            "tags": []
          },
          "execution_count": 11
        }
      ]
    },
    {
      "cell_type": "code",
      "metadata": {
        "id": "ZEfxYy0dolh6"
      },
      "source": [
        "def word_count(question):\r\n",
        "  return len(question.split())"
      ],
      "execution_count": null,
      "outputs": []
    },
    {
      "cell_type": "code",
      "metadata": {
        "id": "ffly-uvFo9ou",
        "colab": {
          "base_uri": "https://localhost:8080/"
        },
        "outputId": "5a668522-4c42-4be6-a2fa-0c19badef27b"
      },
      "source": [
        "word_count(st_tags_500)"
      ],
      "execution_count": null,
      "outputs": [
        {
          "output_type": "execute_result",
          "data": {
            "text/plain": [
              "500"
            ]
          },
          "metadata": {
            "tags": []
          },
          "execution_count": 13
        }
      ]
    },
    {
      "cell_type": "code",
      "metadata": {
        "id": "fGhXeLGb_N4r",
        "colab": {
          "base_uri": "https://localhost:8080/",
          "height": 139
        },
        "outputId": "89339341-1daf-4fe1-8fb7-47a0b4655681"
      },
      "source": [
        "question_test = \"PHP DOMElement::getElementsByTagName - Anyway to get just the immediate matching children? <p>is there a way to retrieve only the immediate children found by a call to DOMElement::getElementsByTagName? For example, I have an XML document that has a category element. That category element has sub category elements (which have the same structure), like:</p>\\n\\n<pre><code>&lt;category&gt;\\n    &lt;id&gt;1&lt;/id&gt;\\n    &lt;name&gt;Top Level Category Name&lt;/name&gt;\\n    &lt;subCategory&gt;\\n        &lt;id&gt;2&lt;/id&gt;\\n        &lt;name&gt;Sub Category Name&lt;/name&gt;\\n    &lt;/subCategory&gt;\\n    ...\\n&lt;/category&gt;\\n</code></pre>\\n\\n<p>If I have a DOMElement representing the top level category, </p>\\n\\n<pre><code>$topLevelCategoryElement-&gt;getElementsByTagName('id');\\n</code></pre>\\n\\n<p>will return a list with the nodes for all 'id' elements, where I want just the one from the top level. Any way to do this outside of using XPath?</p>\\n\"\r\n",
        "question_test"
      ],
      "execution_count": null,
      "outputs": [
        {
          "output_type": "execute_result",
          "data": {
            "application/vnd.google.colaboratory.intrinsic+json": {
              "type": "string"
            },
            "text/plain": [
              "\"PHP DOMElement::getElementsByTagName - Anyway to get just the immediate matching children? <p>is there a way to retrieve only the immediate children found by a call to DOMElement::getElementsByTagName? For example, I have an XML document that has a category element. That category element has sub category elements (which have the same structure), like:</p>\\n\\n<pre><code>&lt;category&gt;\\n    &lt;id&gt;1&lt;/id&gt;\\n    &lt;name&gt;Top Level Category Name&lt;/name&gt;\\n    &lt;subCategory&gt;\\n        &lt;id&gt;2&lt;/id&gt;\\n        &lt;name&gt;Sub Category Name&lt;/name&gt;\\n    &lt;/subCategory&gt;\\n    ...\\n&lt;/category&gt;\\n</code></pre>\\n\\n<p>If I have a DOMElement representing the top level category, </p>\\n\\n<pre><code>$topLevelCategoryElement-&gt;getElementsByTagName('id');\\n</code></pre>\\n\\n<p>will return a list with the nodes for all 'id' elements, where I want just the one from the top level. Any way to do this outside of using XPath?</p>\\n\""
            ]
          },
          "metadata": {
            "tags": []
          },
          "execution_count": 37
        }
      ]
    },
    {
      "cell_type": "code",
      "metadata": {
        "id": "2p5DI_QsH0j9",
        "colab": {
          "base_uri": "https://localhost:8080/"
        },
        "outputId": "079702c8-9470-4859-832e-fb89dc99e06f"
      },
      "source": [
        "type(question_test)"
      ],
      "execution_count": null,
      "outputs": [
        {
          "output_type": "execute_result",
          "data": {
            "text/plain": [
              "str"
            ]
          },
          "metadata": {
            "tags": []
          },
          "execution_count": 38
        }
      ]
    },
    {
      "cell_type": "code",
      "metadata": {
        "id": "gh2PQXcG1lUl"
      },
      "source": [
        "def preprocessing(text):\r\n",
        "  #HTML characters removing\r\n",
        "  def remove_html(text):\r\n",
        "    html_regex = re.compile('<.*?>') #Compile regular expresions\r\n",
        "    return re.sub(html_regex, ' ', str(text)) # Replace regex by ' '\r\n",
        "  text0 = remove_html(text)\r\n",
        "  \r\n",
        "\r\n",
        "  #URL removing\r\n",
        "  def remove_url(text0):\r\n",
        "    url_regex = 'http[s]?://(?:[a-zA-Z]|[0-9]|[$-_@.&+]|[!*\\(\\),]|(?:%[0-9a-fA-F][0-9a-fA-F]))+'\r\n",
        "    return re.sub(url_regex, ' ', str(text0))\r\n",
        "  text1 = remove_url(text0)\r\n",
        "  \r\n",
        "\r\n",
        "  #Punctuation removing\r\n",
        "  def remove_punc(text1):\r\n",
        "    clean_text = re.sub(r'[?|!|\"|:|=|_|{|}|[|]|-|$|%|^|&|]',r' ',str(text1))\r\n",
        "    clean_text = re.sub(r'[.|,|)|(|\\|/|-|~|`|>|<|*|$|@|;|→]',r' ', clean_text)\r\n",
        "    return clean_text\r\n",
        "  text2 = remove_url(text1)\r\n",
        "  \r\n",
        "\r\n",
        "  def remove_other(text2):\r\n",
        "    text = str(text2)\r\n",
        "    clean_text = re.sub(r\"[^a-zA-Z0-9#+-]\", \" \", text2.lower())\r\n",
        "    return clean_text\r\n",
        "  text3 = remove_other(text2)\r\n",
        "  \r\n",
        "\r\n",
        "  #Space removing\r\n",
        "  def remove_space(text3):\r\n",
        "    return ' '.join(str(text3).split())\r\n",
        "  text4 = remove_space(text3)\r\n",
        "  \r\n",
        "\r\n",
        "  def remove_stopwords(text4):\r\n",
        "    text4 = str(text4)\r\n",
        "    text4 = \" \".join(word for word in text4.split() if word not in gensim.parsing.preprocessing.STOPWORDS and word not in stop_words and word not in set_alpha )\r\n",
        "    return text4\r\n",
        "  text5 = remove_stopwords(text4)\r\n",
        "  \r\n",
        "\r\n",
        "  def tokenize(text5):\r\n",
        "    tokens = [lemma(w) for w in text5.split()] #if w.isalpha()\r\n",
        "    return tokens\r\n",
        "  text6 = tokenize(text5)\r\n",
        "  \r\n",
        "\r\n",
        "  def to_string(text6):\r\n",
        "    input_string = \" \".join(text6)\r\n",
        "    return input_string\r\n",
        "  text7 = to_string(text6)\r\n",
        "  \r\n",
        "  def keep_tags(text7):\r\n",
        "    text7 = str(text7)\r\n",
        "    text7 = \" \".join(tag for tag in text7.split() if tag in dict_tags_500)\r\n",
        "    return text7\r\n",
        "  text8 = keep_tags(text7)\r\n",
        "  return text8\r\n"
      ],
      "execution_count": null,
      "outputs": []
    },
    {
      "cell_type": "code",
      "metadata": {
        "id": "zwae2MY5KDj4",
        "colab": {
          "base_uri": "https://localhost:8080/"
        },
        "outputId": "c470cb69-1c9f-4bb6-e9d8-69ed1aafad5c"
      },
      "source": [
        "question_test_tag = preprocessing(question_test)\r\n",
        "print(question_test_tag)"
      ],
      "execution_count": null,
      "outputs": [
        {
          "output_type": "stream",
          "text": [
            "php xml list xpath\n"
          ],
          "name": "stdout"
        }
      ]
    },
    {
      "cell_type": "code",
      "metadata": {
        "id": "I1ucRqorkvdp",
        "colab": {
          "base_uri": "https://localhost:8080/",
          "height": 79
        },
        "outputId": "1071d693-a792-487d-a1fa-ac2315e1030e"
      },
      "source": [
        "question_test_tag_df = pd.DataFrame([question_test_tag], columns=['question'])\r\n",
        "question_test_tag_df"
      ],
      "execution_count": null,
      "outputs": [
        {
          "output_type": "execute_result",
          "data": {
            "text/html": [
              "<div>\n",
              "<style scoped>\n",
              "    .dataframe tbody tr th:only-of-type {\n",
              "        vertical-align: middle;\n",
              "    }\n",
              "\n",
              "    .dataframe tbody tr th {\n",
              "        vertical-align: top;\n",
              "    }\n",
              "\n",
              "    .dataframe thead th {\n",
              "        text-align: right;\n",
              "    }\n",
              "</style>\n",
              "<table border=\"1\" class=\"dataframe\">\n",
              "  <thead>\n",
              "    <tr style=\"text-align: right;\">\n",
              "      <th></th>\n",
              "      <th>question</th>\n",
              "    </tr>\n",
              "  </thead>\n",
              "  <tbody>\n",
              "    <tr>\n",
              "      <th>0</th>\n",
              "      <td>php xml list xpath</td>\n",
              "    </tr>\n",
              "  </tbody>\n",
              "</table>\n",
              "</div>"
            ],
            "text/plain": [
              "             question\n",
              "0  php xml list xpath"
            ]
          },
          "metadata": {
            "tags": []
          },
          "execution_count": 41
        }
      ]
    },
    {
      "cell_type": "code",
      "metadata": {
        "id": "SSx44QVdtYUB",
        "colab": {
          "base_uri": "https://localhost:8080/",
          "height": 79
        },
        "outputId": "c0e4f7c4-a490-4c35-be15-dfb5ce77eddf"
      },
      "source": [
        "tags_500_df = pd.DataFrame([st_tags_500], columns=['question'])\r\n",
        "tags_500_df"
      ],
      "execution_count": null,
      "outputs": [
        {
          "output_type": "execute_result",
          "data": {
            "text/html": [
              "<div>\n",
              "<style scoped>\n",
              "    .dataframe tbody tr th:only-of-type {\n",
              "        vertical-align: middle;\n",
              "    }\n",
              "\n",
              "    .dataframe tbody tr th {\n",
              "        vertical-align: top;\n",
              "    }\n",
              "\n",
              "    .dataframe thead th {\n",
              "        text-align: right;\n",
              "    }\n",
              "</style>\n",
              "<table border=\"1\" class=\"dataframe\">\n",
              "  <thead>\n",
              "    <tr style=\"text-align: right;\">\n",
              "      <th></th>\n",
              "      <th>question</th>\n",
              "    </tr>\n",
              "  </thead>\n",
              "  <tbody>\n",
              "    <tr>\n",
              "      <th>0</th>\n",
              "      <td>wix jvm linq mysql maven-2 tkinter process goo...</td>\n",
              "    </tr>\n",
              "  </tbody>\n",
              "</table>\n",
              "</div>"
            ],
            "text/plain": [
              "                                            question\n",
              "0  wix jvm linq mysql maven-2 tkinter process goo..."
            ]
          },
          "metadata": {
            "tags": []
          },
          "execution_count": 42
        }
      ]
    },
    {
      "cell_type": "code",
      "metadata": {
        "id": "lJlrh50Bj-mG",
        "colab": {
          "base_uri": "https://localhost:8080/",
          "height": 110
        },
        "outputId": "aee2adc3-efb8-4e06-aace-3efac707d660"
      },
      "source": [
        "test_input_df = pd.concat([question_test_tag_df, tags_500_df], ignore_index=True)\r\n",
        "test_input_df"
      ],
      "execution_count": null,
      "outputs": [
        {
          "output_type": "execute_result",
          "data": {
            "text/html": [
              "<div>\n",
              "<style scoped>\n",
              "    .dataframe tbody tr th:only-of-type {\n",
              "        vertical-align: middle;\n",
              "    }\n",
              "\n",
              "    .dataframe tbody tr th {\n",
              "        vertical-align: top;\n",
              "    }\n",
              "\n",
              "    .dataframe thead th {\n",
              "        text-align: right;\n",
              "    }\n",
              "</style>\n",
              "<table border=\"1\" class=\"dataframe\">\n",
              "  <thead>\n",
              "    <tr style=\"text-align: right;\">\n",
              "      <th></th>\n",
              "      <th>question</th>\n",
              "    </tr>\n",
              "  </thead>\n",
              "  <tbody>\n",
              "    <tr>\n",
              "      <th>0</th>\n",
              "      <td>php xml list xpath</td>\n",
              "    </tr>\n",
              "    <tr>\n",
              "      <th>1</th>\n",
              "      <td>wix jvm linq mysql maven-2 tkinter process goo...</td>\n",
              "    </tr>\n",
              "  </tbody>\n",
              "</table>\n",
              "</div>"
            ],
            "text/plain": [
              "                                            question\n",
              "0                                 php xml list xpath\n",
              "1  wix jvm linq mysql maven-2 tkinter process goo..."
            ]
          },
          "metadata": {
            "tags": []
          },
          "execution_count": 43
        }
      ]
    },
    {
      "cell_type": "code",
      "metadata": {
        "id": "saHW_RLgl_pw",
        "colab": {
          "base_uri": "https://localhost:8080/"
        },
        "outputId": "0c8af84c-1db7-40a7-bb6d-2db8a4b67ac7"
      },
      "source": [
        "question_test =  test_input_df['question']\r\n",
        "question_test"
      ],
      "execution_count": null,
      "outputs": [
        {
          "output_type": "execute_result",
          "data": {
            "text/plain": [
              "0                                   php xml list xpath\n",
              "1    wix jvm linq mysql maven-2 tkinter process goo...\n",
              "Name: question, dtype: object"
            ]
          },
          "metadata": {
            "tags": []
          },
          "execution_count": 44
        }
      ]
    },
    {
      "cell_type": "code",
      "metadata": {
        "id": "6Ef5g0AVmNAZ",
        "colab": {
          "base_uri": "https://localhost:8080/"
        },
        "outputId": "eee7a9cf-f8c0-47bb-96d8-e6a51bd751cb"
      },
      "source": [
        "type(question_test)"
      ],
      "execution_count": null,
      "outputs": [
        {
          "output_type": "execute_result",
          "data": {
            "text/plain": [
              "pandas.core.series.Series"
            ]
          },
          "metadata": {
            "tags": []
          },
          "execution_count": 45
        }
      ]
    },
    {
      "cell_type": "code",
      "metadata": {
        "id": "9B6n-bsLmfAW"
      },
      "source": [
        "from sklearn.feature_extraction.text import TfidfVectorizer"
      ],
      "execution_count": null,
      "outputs": []
    },
    {
      "cell_type": "code",
      "metadata": {
        "id": "Mp9daW8iG69P"
      },
      "source": [
        "def tokenize(document):\r\n",
        "  tokens = [lemma(w) for w in document.split()]         #if w.isalpha()\r\n",
        "  return tokens"
      ],
      "execution_count": null,
      "outputs": []
    },
    {
      "cell_type": "code",
      "metadata": {
        "id": "MR0ULMvCG75M"
      },
      "source": [
        "stop_words = set(stopwords.words('english'))"
      ],
      "execution_count": null,
      "outputs": []
    },
    {
      "cell_type": "code",
      "metadata": {
        "id": "xVbfvQNIlnCk",
        "colab": {
          "base_uri": "https://localhost:8080/"
        },
        "outputId": "78eea170-6552-4964-b405-929d935475ac"
      },
      "source": [
        "vectorizer = TfidfVectorizer(tokenizer = tokenize, stop_words = stop_words, max_features=355)\r\n",
        "X_tfidf = vectorizer.fit_transform(question_test).toarray()"
      ],
      "execution_count": null,
      "outputs": [
        {
          "output_type": "stream",
          "text": [
            "/usr/local/lib/python3.6/dist-packages/sklearn/feature_extraction/text.py:385: UserWarning: Your stop_words may be inconsistent with your preprocessing. Tokenizing the stop words generated tokens ['doe', 'ha', 'wa'] not in stop_words.\n",
            "  'stop_words.' % sorted(inconsistent))\n"
          ],
          "name": "stderr"
        }
      ]
    },
    {
      "cell_type": "code",
      "metadata": {
        "id": "Mjvoh_qUmvu4",
        "colab": {
          "base_uri": "https://localhost:8080/"
        },
        "outputId": "9a01152e-df64-41ea-acc5-9835fb2564c6"
      },
      "source": [
        "print(X_tfidf.shape)"
      ],
      "execution_count": null,
      "outputs": [
        {
          "output_type": "stream",
          "text": [
            "(2, 355)\n"
          ],
          "name": "stdout"
        }
      ]
    },
    {
      "cell_type": "code",
      "metadata": {
        "id": "w6AT41N6IAMk",
        "colab": {
          "base_uri": "https://localhost:8080/"
        },
        "outputId": "e6972d44-8367-41c9-dc9b-c11d666bc4cc"
      },
      "source": [
        "feature_names  = vectorizer.get_feature_names()\r\n",
        "print(feature_names)"
      ],
      "execution_count": null,
      "outputs": [
        {
          "output_type": "stream",
          "text": [
            "['.htaccess', '.net', '.net-3.5', '.net-core', 'actionscript-3', 'activerecord', 'ajax', 'algorithm', 'amazon-ec2', 'amazon-s3', 'amazon-web-services', 'android', 'android-activity', 'android-emulator', 'android-fragments', 'android-gradle-plugin', 'android-intent', 'android-layout', 'android-studio', 'angular', 'angular-material', 'angular5', 'angularjs', 'animation', 'ansible', 'ant', 'apache', 'apache-kafka', 'apache-spark', 'apache-spark-sql', 'architecture', 'autocomplete', 'awk', 'aws-lambda', 'azure', 'bash', 'batch-file', 'binary', 'binding', 'boost', 'bootstrap-4', 'browser', 'build', 'button', 'c', 'c#', 'c++', 'c++11', 'c++14', 'c++17', 'caching', 'cakephp', 'canvas', 'casting', 'chart', 'checkbox', 'clang', 'class', 'clojure', 'closure', 'cmake', 'cocoa', 'cocoa-touch', 'codeigniter', 'coding-style', 'coldfusion', 'collection', 'color', 'command-line', 'compilation', 'compiler-construction', 'computer-vision', 'concurrency', 'configuration', 'constant', 'constructor', 'control', 'cooky', 'cordova', 'core-data', 'cs', 'css-selectors', 'csv', 'curl', 'd3.js', 'dart', 'data-binding', 'data-structures', 'database', 'database-design', 'dataframe', 'date', 'datetime', 'debugging', 'deep-learning', 'delphi', 'dependency-injection', 'deployment', 'design-patterns', 'devise', 'dictionary', 'django', 'django-models', 'dll', 'dns', 'http', 'io', 'lambda', 'language-lawyer', 'laravel', 'laravel-4', 'laravel-5', 'latex', 'layout', 'linq', 'linq-to-sql', 'linux', 'linux-kernel', 'lisp', 'list', 'listview', 'localization', 'logging', 'loop', 'lua', 'machine-learning', 'macos', 'macro', 'magento', 'makefile', 'math', 'matlab', 'matplotlib', 'matrix', 'maven', 'maven-2', 'memory', 'memory-leaks', 'memory-management', 'mercurial', 'merge', 'meteor', 'method', 'migration', 'mobile', 'mocking', 'model', 'model-view-controller', 'module', 'mongodb', 'mongoose', 'ms-access', 'msbuild', 'multidimensional-array', 'multithreading', 'mvvm', 'mysql', 'netbeans', 'networking', 'neural-network', 'nginx', 'nhibernate', 'node.js', 'npm', 'null', 'numpy', 'oauth', 'oauth-2.0', 'object', 'objective-c', 'oop', 'opencv', 'opengl', 'opengl-es', 'openssl', 'optimization', 'oracle', 'orm', 'panda', 'parallel-processing', 'parameter', 'parsing', 'path', 'pdf', 'performance', 'perl', 'permission', 'php', 'pip', 'plot', 'plugins', 'pointer', 'post', 'postgresql', 'powershell', 'process', 'programming-languages', 'promise', 'property', 'proxy', 'pyspark', 'python', 'python-2.7', 'python-3.x', 'qt', 'r', 'r-markdown', 'rabbitmq', 'random', 'razor', 'react-native', 'react-router', 'reactjs', 'recursion', 'redirect', 'redis', 'redux', 'refactoring', 'reference', 'reflection', 'regex', 'rest', 'routing', 'rspec', 'ruby', 'ruby-on-rails', 'ruby-on-rails-3', 'ruby-on-rails-4', 'rust', 'rxjs', 'safari', 'sas', 'sbt', 'scala', 'scikit-learn', 'scipy', 'scope', 'scripting', 'scroll', 'search', 'security', 'sed', 'select', 'selenium', 'selenium-webdriver', 'serialization', 'service', 'servlets', 'session', 'set', 'sharepoint', 'shell', 'shiny', 'silverlight', 'soap', 'socket', 'sorting', 'split', 'spring', 'spring-boot', 'spring-mvc', 'spring-security', 'sql', 'sql-server', 'sql-server-2005', 'sql-server-2008', 'sqlalchemy', 'sqlite', 'ssh', 'ssis', 'ssl', 'static', 'statistic', 'stl', 'stored-procedures', 'stream', 'string', 'struct', 'svg', 'svn', 'swift', 'swiftui', 'swing', 'symfony', 'syntax', 'template', 'tensorflow', 'terminal', 'testing', 'text', 'tfs', 'time', 'timer', 'tkinter', 'tomcat', 'tsql', 'twitter', 'twitter-bootstrap', 'twitter-bootstrap-3', 'type', 'type-conversion', 'typescript', 'ubuntu', 'uitableview', 'uiview', 'unicode', 'unit-testing', 'unity3d', 'unix', 'url', 'user-interface', 'utf-8', 'uwp', 'validation', 'variable', 'vb.net', 'vba', 'vector', 'version-control', 'video', 'vim', 'visual-c++', 'visual-studio', 'visual-studio-2008', 'visual-studio-2010', 'visual-studio-2012', 'visual-studio-2015', 'visual-studio-2017', 'visual-studio-code', 'vue.js', 'vuejs2', 'wcf', 'web', 'web-applications', 'web-services', 'webpack', 'websocket', 'webview', 'winapi', 'window', 'windows-7', 'winforms', 'wix', 'woocommerce', 'wordpress', 'wpf', 'x86', 'xamarin', 'xamarin.forms', 'xaml', 'xcode', 'xml', 'xpath', 'xsd', 'xslt']\n"
          ],
          "name": "stdout"
        }
      ]
    },
    {
      "cell_type": "code",
      "metadata": {
        "id": "h4iugnHVvd-W",
        "colab": {
          "base_uri": "https://localhost:8080/"
        },
        "outputId": "a8e1aaba-a1c8-4238-86b5-d817791937c2"
      },
      "source": [
        "len(feature_names)"
      ],
      "execution_count": null,
      "outputs": [
        {
          "output_type": "execute_result",
          "data": {
            "text/plain": [
              "355"
            ]
          },
          "metadata": {
            "tags": []
          },
          "execution_count": 52
        }
      ]
    },
    {
      "cell_type": "code",
      "metadata": {
        "id": "T9KapJdrmwuH",
        "colab": {
          "base_uri": "https://localhost:8080/",
          "height": 163
        },
        "outputId": "ecd99e9b-5516-4271-fbba-b75593b5251c"
      },
      "source": [
        "X_test = pd.DataFrame(X_tfidf)\r\n",
        "X_test = X_test.iloc[0:1,:]\r\n",
        "X_test.columns = feature_names\r\n",
        "X_test"
      ],
      "execution_count": null,
      "outputs": [
        {
          "output_type": "execute_result",
          "data": {
            "text/html": [
              "<div>\n",
              "<style scoped>\n",
              "    .dataframe tbody tr th:only-of-type {\n",
              "        vertical-align: middle;\n",
              "    }\n",
              "\n",
              "    .dataframe tbody tr th {\n",
              "        vertical-align: top;\n",
              "    }\n",
              "\n",
              "    .dataframe thead th {\n",
              "        text-align: right;\n",
              "    }\n",
              "</style>\n",
              "<table border=\"1\" class=\"dataframe\">\n",
              "  <thead>\n",
              "    <tr style=\"text-align: right;\">\n",
              "      <th></th>\n",
              "      <th>.htaccess</th>\n",
              "      <th>.net</th>\n",
              "      <th>.net-3.5</th>\n",
              "      <th>.net-core</th>\n",
              "      <th>actionscript-3</th>\n",
              "      <th>activerecord</th>\n",
              "      <th>ajax</th>\n",
              "      <th>algorithm</th>\n",
              "      <th>amazon-ec2</th>\n",
              "      <th>amazon-s3</th>\n",
              "      <th>amazon-web-services</th>\n",
              "      <th>android</th>\n",
              "      <th>android-activity</th>\n",
              "      <th>android-emulator</th>\n",
              "      <th>android-fragments</th>\n",
              "      <th>android-gradle-plugin</th>\n",
              "      <th>android-intent</th>\n",
              "      <th>android-layout</th>\n",
              "      <th>android-studio</th>\n",
              "      <th>angular</th>\n",
              "      <th>angular-material</th>\n",
              "      <th>angular5</th>\n",
              "      <th>angularjs</th>\n",
              "      <th>animation</th>\n",
              "      <th>ansible</th>\n",
              "      <th>ant</th>\n",
              "      <th>apache</th>\n",
              "      <th>apache-kafka</th>\n",
              "      <th>apache-spark</th>\n",
              "      <th>apache-spark-sql</th>\n",
              "      <th>architecture</th>\n",
              "      <th>autocomplete</th>\n",
              "      <th>awk</th>\n",
              "      <th>aws-lambda</th>\n",
              "      <th>azure</th>\n",
              "      <th>bash</th>\n",
              "      <th>batch-file</th>\n",
              "      <th>binary</th>\n",
              "      <th>binding</th>\n",
              "      <th>boost</th>\n",
              "      <th>...</th>\n",
              "      <th>vb.net</th>\n",
              "      <th>vba</th>\n",
              "      <th>vector</th>\n",
              "      <th>version-control</th>\n",
              "      <th>video</th>\n",
              "      <th>vim</th>\n",
              "      <th>visual-c++</th>\n",
              "      <th>visual-studio</th>\n",
              "      <th>visual-studio-2008</th>\n",
              "      <th>visual-studio-2010</th>\n",
              "      <th>visual-studio-2012</th>\n",
              "      <th>visual-studio-2015</th>\n",
              "      <th>visual-studio-2017</th>\n",
              "      <th>visual-studio-code</th>\n",
              "      <th>vue.js</th>\n",
              "      <th>vuejs2</th>\n",
              "      <th>wcf</th>\n",
              "      <th>web</th>\n",
              "      <th>web-applications</th>\n",
              "      <th>web-services</th>\n",
              "      <th>webpack</th>\n",
              "      <th>websocket</th>\n",
              "      <th>webview</th>\n",
              "      <th>winapi</th>\n",
              "      <th>window</th>\n",
              "      <th>windows-7</th>\n",
              "      <th>winforms</th>\n",
              "      <th>wix</th>\n",
              "      <th>woocommerce</th>\n",
              "      <th>wordpress</th>\n",
              "      <th>wpf</th>\n",
              "      <th>x86</th>\n",
              "      <th>xamarin</th>\n",
              "      <th>xamarin.forms</th>\n",
              "      <th>xaml</th>\n",
              "      <th>xcode</th>\n",
              "      <th>xml</th>\n",
              "      <th>xpath</th>\n",
              "      <th>xsd</th>\n",
              "      <th>xslt</th>\n",
              "    </tr>\n",
              "  </thead>\n",
              "  <tbody>\n",
              "    <tr>\n",
              "      <th>0</th>\n",
              "      <td>0.0</td>\n",
              "      <td>0.0</td>\n",
              "      <td>0.0</td>\n",
              "      <td>0.0</td>\n",
              "      <td>0.0</td>\n",
              "      <td>0.0</td>\n",
              "      <td>0.0</td>\n",
              "      <td>0.0</td>\n",
              "      <td>0.0</td>\n",
              "      <td>0.0</td>\n",
              "      <td>0.0</td>\n",
              "      <td>0.0</td>\n",
              "      <td>0.0</td>\n",
              "      <td>0.0</td>\n",
              "      <td>0.0</td>\n",
              "      <td>0.0</td>\n",
              "      <td>0.0</td>\n",
              "      <td>0.0</td>\n",
              "      <td>0.0</td>\n",
              "      <td>0.0</td>\n",
              "      <td>0.0</td>\n",
              "      <td>0.0</td>\n",
              "      <td>0.0</td>\n",
              "      <td>0.0</td>\n",
              "      <td>0.0</td>\n",
              "      <td>0.0</td>\n",
              "      <td>0.0</td>\n",
              "      <td>0.0</td>\n",
              "      <td>0.0</td>\n",
              "      <td>0.0</td>\n",
              "      <td>0.0</td>\n",
              "      <td>0.0</td>\n",
              "      <td>0.0</td>\n",
              "      <td>0.0</td>\n",
              "      <td>0.0</td>\n",
              "      <td>0.0</td>\n",
              "      <td>0.0</td>\n",
              "      <td>0.0</td>\n",
              "      <td>0.0</td>\n",
              "      <td>0.0</td>\n",
              "      <td>...</td>\n",
              "      <td>0.0</td>\n",
              "      <td>0.0</td>\n",
              "      <td>0.0</td>\n",
              "      <td>0.0</td>\n",
              "      <td>0.0</td>\n",
              "      <td>0.0</td>\n",
              "      <td>0.0</td>\n",
              "      <td>0.0</td>\n",
              "      <td>0.0</td>\n",
              "      <td>0.0</td>\n",
              "      <td>0.0</td>\n",
              "      <td>0.0</td>\n",
              "      <td>0.0</td>\n",
              "      <td>0.0</td>\n",
              "      <td>0.0</td>\n",
              "      <td>0.0</td>\n",
              "      <td>0.0</td>\n",
              "      <td>0.0</td>\n",
              "      <td>0.0</td>\n",
              "      <td>0.0</td>\n",
              "      <td>0.0</td>\n",
              "      <td>0.0</td>\n",
              "      <td>0.0</td>\n",
              "      <td>0.0</td>\n",
              "      <td>0.0</td>\n",
              "      <td>0.0</td>\n",
              "      <td>0.0</td>\n",
              "      <td>0.0</td>\n",
              "      <td>0.0</td>\n",
              "      <td>0.0</td>\n",
              "      <td>0.0</td>\n",
              "      <td>0.0</td>\n",
              "      <td>0.0</td>\n",
              "      <td>0.0</td>\n",
              "      <td>0.0</td>\n",
              "      <td>0.0</td>\n",
              "      <td>0.5</td>\n",
              "      <td>0.5</td>\n",
              "      <td>0.0</td>\n",
              "      <td>0.0</td>\n",
              "    </tr>\n",
              "  </tbody>\n",
              "</table>\n",
              "<p>1 rows × 355 columns</p>\n",
              "</div>"
            ],
            "text/plain": [
              "   .htaccess  .net  .net-3.5  .net-core  ...  xml  xpath  xsd  xslt\n",
              "0        0.0   0.0       0.0        0.0  ...  0.5    0.5  0.0   0.0\n",
              "\n",
              "[1 rows x 355 columns]"
            ]
          },
          "metadata": {
            "tags": []
          },
          "execution_count": 53
        }
      ]
    },
    {
      "cell_type": "code",
      "metadata": {
        "id": "irv57iouKeMm",
        "colab": {
          "base_uri": "https://localhost:8080/"
        },
        "outputId": "da01bd32-cb82-4478-bec0-47ba95d1c07d"
      },
      "source": [
        "X_test.loc[0,'list'] #c# c# http proxy http proxy dns"
      ],
      "execution_count": null,
      "outputs": [
        {
          "output_type": "execute_result",
          "data": {
            "text/plain": [
              "0.5"
            ]
          },
          "metadata": {
            "tags": []
          },
          "execution_count": 59
        }
      ]
    },
    {
      "cell_type": "code",
      "metadata": {
        "id": "Z8sjAExcnhno",
        "colab": {
          "base_uri": "https://localhost:8080/"
        },
        "outputId": "284748b2-4977-4613-d496-f766251cf602"
      },
      "source": [
        "y_pred = model_lr.predict(X_test)\r\n",
        "y_pred"
      ],
      "execution_count": null,
      "outputs": [
        {
          "output_type": "execute_result",
          "data": {
            "text/plain": [
              "array([[0, 0, 0, 0, 0, 0, 0, 0, 0, 0, 0, 0, 0, 0, 0, 0, 0, 0, 0, 0, 0, 0,\n",
              "        0, 0, 0, 0, 0, 0, 0, 0, 0, 0, 0, 0, 0, 0, 0, 0, 0, 0, 0, 0, 0, 0,\n",
              "        0, 0, 0, 0, 0, 0, 0, 0, 0, 0, 0, 0, 0, 0, 0, 0, 0, 0, 0, 0, 0, 0,\n",
              "        0, 0, 0, 0, 0, 0, 0, 0, 0, 0, 0, 0, 0, 0, 0, 0, 0, 0, 0, 0, 0, 0,\n",
              "        0, 0, 0, 0, 0, 0, 0, 0, 0, 0, 0, 0, 0, 0, 0, 0, 0, 0, 0, 0, 0, 0,\n",
              "        0, 0, 0, 0, 0, 0, 0, 0, 0, 0, 0, 0, 0, 0, 0, 0, 0, 0, 0, 0, 0, 0,\n",
              "        0, 0, 0, 0, 0, 0, 0, 0, 0, 0, 0, 0, 0, 0, 0, 0, 0, 0, 0, 0, 0, 0,\n",
              "        0, 0, 0, 0, 0, 0, 0, 0, 0, 0, 0, 0, 0, 0, 0, 0, 0, 0, 0, 0, 0, 0,\n",
              "        0, 0, 0, 0, 0, 0, 0, 0, 0, 0, 0, 0, 0, 0, 0, 0, 0, 0, 0, 0, 0, 0,\n",
              "        0, 0, 0, 0, 0, 0, 0, 0, 0, 0, 0, 0, 0, 0, 0, 0, 0, 0, 0, 0, 0, 0,\n",
              "        0, 0, 0, 0, 0, 0, 0, 0, 0, 0, 0, 0, 0, 0, 0, 0, 0, 0, 0, 0, 0, 0,\n",
              "        0, 0, 0, 0, 0, 0, 0, 0, 0, 0, 0, 0, 0, 0, 0, 0, 0, 0, 0, 0, 0, 0,\n",
              "        0, 0, 0, 0, 0, 0, 0, 0, 0, 0, 0, 0, 0, 0, 0, 0, 0, 0, 0, 0, 0, 0,\n",
              "        0, 0, 0, 0, 0, 0, 0, 0, 0, 0, 0, 0, 0, 0, 0, 0, 0, 0, 0, 0, 0, 0,\n",
              "        0, 0, 0, 0, 0, 0, 0, 0, 0, 0, 0, 0, 0, 0, 0, 0, 0, 0, 0, 0, 0, 0,\n",
              "        0, 0, 0, 0, 0, 0, 0, 0, 0, 0, 0, 0, 0, 0, 0, 0, 0, 0, 0, 0, 0, 0,\n",
              "        0, 0, 0, 0, 0, 0, 0, 0, 0, 0, 0, 0, 0, 0, 0, 0, 0, 0, 0, 0, 0, 0,\n",
              "        0, 0, 0, 0, 0, 0, 0, 0, 0, 0, 0, 0, 0, 0, 0, 0, 0, 0, 0, 0, 0, 0,\n",
              "        0, 0, 0, 0, 0, 0, 0, 0, 0, 0, 0, 0, 0, 0, 0, 0, 0, 0, 0, 0, 0, 0,\n",
              "        0, 0, 0, 0, 0, 0, 0, 0, 0, 0, 0, 0, 0, 0, 0, 0, 0, 0, 0, 0, 0, 0,\n",
              "        0, 0, 0, 0, 0, 0, 0, 0, 0, 0, 0, 0, 0, 0, 0, 0, 0, 0, 0, 0, 0, 0,\n",
              "        0, 0, 0, 0, 0, 0, 0, 0, 0, 0, 0, 0, 0, 0, 0, 0, 0, 0, 0, 0, 0, 0,\n",
              "        0, 0, 0, 0, 0, 0, 0, 0, 0, 0, 0, 1, 0, 0, 0, 0]])"
            ]
          },
          "metadata": {
            "tags": []
          },
          "execution_count": 56
        }
      ]
    },
    {
      "cell_type": "code",
      "metadata": {
        "id": "-bdPv4mwh2-O",
        "colab": {
          "base_uri": "https://localhost:8080/"
        },
        "outputId": "f7285142-e477-4c47-f14b-bc1f6741abfe"
      },
      "source": [
        "from sklearn.preprocessing import MultiLabelBinarizer\r\n",
        "mlb = MultiLabelBinarizer(classes=sorted(dict_tags_500))\r\n",
        "mlb.fit(dict_tags_500)"
      ],
      "execution_count": null,
      "outputs": [
        {
          "output_type": "execute_result",
          "data": {
            "text/plain": [
              "MultiLabelBinarizer(classes=['.htaccess', '.net', '.net-3.5', '.net-core',\n",
              "                             'actionscript-3', 'activerecord', 'ajax',\n",
              "                             'algorithm', 'amazon-ec2', 'amazon-s3',\n",
              "                             'amazon-web-services', 'android',\n",
              "                             'android-activity', 'android-emulator',\n",
              "                             'android-fragments', 'android-gradle-plugin',\n",
              "                             'android-intent', 'android-layout',\n",
              "                             'android-studio', 'angular', 'angular-material',\n",
              "                             'angular5', 'angularjs', 'animation', 'ansible',\n",
              "                             'ant', 'apache', 'apache-kafka', 'apache-spark',\n",
              "                             'apache-spark-sql', ...],\n",
              "                    sparse_output=False)"
            ]
          },
          "metadata": {
            "tags": []
          },
          "execution_count": 57
        }
      ]
    },
    {
      "cell_type": "code",
      "metadata": {
        "id": "mLbcNArBBVQK",
        "colab": {
          "base_uri": "https://localhost:8080/",
          "height": 79
        },
        "outputId": "8b8cfda4-5c28-47aa-d313-c6a015b57929"
      },
      "source": [
        "pd.concat([pd.Series(mlb.inverse_transform(y_pred), name='y_pred')],axis=1)\r\n",
        "           "
      ],
      "execution_count": null,
      "outputs": [
        {
          "output_type": "execute_result",
          "data": {
            "text/html": [
              "<div>\n",
              "<style scoped>\n",
              "    .dataframe tbody tr th:only-of-type {\n",
              "        vertical-align: middle;\n",
              "    }\n",
              "\n",
              "    .dataframe tbody tr th {\n",
              "        vertical-align: top;\n",
              "    }\n",
              "\n",
              "    .dataframe thead th {\n",
              "        text-align: right;\n",
              "    }\n",
              "</style>\n",
              "<table border=\"1\" class=\"dataframe\">\n",
              "  <thead>\n",
              "    <tr style=\"text-align: right;\">\n",
              "      <th></th>\n",
              "      <th>y_pred</th>\n",
              "    </tr>\n",
              "  </thead>\n",
              "  <tbody>\n",
              "    <tr>\n",
              "      <th>0</th>\n",
              "      <td>(xml,)</td>\n",
              "    </tr>\n",
              "  </tbody>\n",
              "</table>\n",
              "</div>"
            ],
            "text/plain": [
              "   y_pred\n",
              "0  (xml,)"
            ]
          },
          "metadata": {
            "tags": []
          },
          "execution_count": 58
        }
      ]
    },
    {
      "cell_type": "code",
      "metadata": {
        "id": "pDrbC1KEiqJ1"
      },
      "source": [
        ""
      ],
      "execution_count": null,
      "outputs": []
    }
  ]
}