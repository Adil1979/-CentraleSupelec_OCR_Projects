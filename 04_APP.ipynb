{
  "nbformat": 4,
  "nbformat_minor": 0,
  "metadata": {
    "colab": {
      "name": "04_APP.ipynb",
      "provenance": [],
      "include_colab_link": true
    },
    "kernelspec": {
      "name": "python3",
      "display_name": "Python 3"
    }
  },
  "cells": [
    {
      "cell_type": "markdown",
      "metadata": {
        "id": "view-in-github",
        "colab_type": "text"
      },
      "source": [
        "<a href=\"https://colab.research.google.com/github/Adil1979/P6_Tag_Recommendation_Stackoverflow/blob/master/04_APP.ipynb\" target=\"_parent\"><img src=\"https://colab.research.google.com/assets/colab-badge.svg\" alt=\"Open In Colab\"/></a>"
      ]
    },
    {
      "cell_type": "markdown",
      "metadata": {
        "id": "c7deOb_hC_zl"
      },
      "source": [
        "# **Projet6: Catégorisation automatique de questions**"
      ]
    },
    {
      "cell_type": "markdown",
      "metadata": {
        "id": "S9H2cZKxDFXb"
      },
      "source": [
        "## **1.Librairies**"
      ]
    },
    {
      "cell_type": "code",
      "metadata": {
        "colab": {
          "base_uri": "https://localhost:8080/"
        },
        "id": "dQlPlP92DEVp",
        "outputId": "f3f84e8b-624a-410f-8f07-3ee757dcb991"
      },
      "source": [
        "!pip install gensim # Gensim is an open-source library for unsupervised topic modeling and natural language processing"
      ],
      "execution_count": 57,
      "outputs": [
        {
          "output_type": "stream",
          "text": [
            "Requirement already satisfied: gensim in /usr/local/lib/python3.6/dist-packages (3.6.0)\n",
            "Requirement already satisfied: numpy>=1.11.3 in /usr/local/lib/python3.6/dist-packages (from gensim) (1.19.5)\n",
            "Requirement already satisfied: smart-open>=1.2.1 in /usr/local/lib/python3.6/dist-packages (from gensim) (4.1.2)\n",
            "Requirement already satisfied: scipy>=0.18.1 in /usr/local/lib/python3.6/dist-packages (from gensim) (1.4.1)\n",
            "Requirement already satisfied: six>=1.5.0 in /usr/local/lib/python3.6/dist-packages (from gensim) (1.15.0)\n"
          ],
          "name": "stdout"
        }
      ]
    },
    {
      "cell_type": "code",
      "metadata": {
        "colab": {
          "base_uri": "https://localhost:8080/"
        },
        "id": "D4Nf8KISC7oE",
        "outputId": "289d4906-1de4-486f-8b52-e13f4395957a"
      },
      "source": [
        "import numpy as np\n",
        "import pandas as pd\n",
        "import matplotlib.pyplot as plt\n",
        "%matplotlib inline\n",
        "from matplotlib.lines import Line2D\n",
        "import matplotlib as mpl\n",
        "#import chart_studio.plotly.plotly as py\n",
        "from collections import Counter\n",
        "#import plotly.plotly as py\n",
        "import seaborn as sns\n",
        "import datetime as dt\n",
        "import calendar as cld\n",
        "from scipy import stats\n",
        "from sklearn import preprocessing\n",
        "from sklearn.preprocessing import StandardScaler\n",
        "from sklearn.preprocessing import scale\n",
        "from os import listdir\n",
        "import glob\n",
        "import missingno as msno\n",
        "#from feature_engine.categorical_encoders import OneHotCategoricalEncoder\n",
        "from sklearn.decomposition import PCA\n",
        "from matplotlib import dates\n",
        "import nltk\n",
        "import re\n",
        "from nltk.corpus import stopwords \n",
        "nltk.download('stopwords')\n",
        "from nltk.stem.porter import PorterStemmer \n",
        "import string\n",
        "from collections import Counter\n",
        "from bs4 import BeautifulSoup\n",
        "import gensim\n",
        "from gensim.utils import simple_preprocess\n",
        "from gensim.parsing.preprocessing import STOPWORDS\n",
        "from ast import literal_eval \n",
        "from sklearn.externals import joblib\n",
        "from joblib import load, dump\n",
        "stop_words = set(stopwords.words('english'))\n",
        "from nltk.stem import WordNetLemmatizer, PorterStemmer\n",
        "from nltk.stem.snowball import EnglishStemmer\n",
        "lemma = WordNetLemmatizer().lemmatize\n",
        "ps = PorterStemmer()\n",
        "stemmer = EnglishStemmer()\n",
        "from joblib import load\n",
        "random_state = 747"
      ],
      "execution_count": 58,
      "outputs": [
        {
          "output_type": "stream",
          "text": [
            "[nltk_data] Downloading package stopwords to /root/nltk_data...\n",
            "[nltk_data]   Package stopwords is already up-to-date!\n"
          ],
          "name": "stdout"
        }
      ]
    },
    {
      "cell_type": "code",
      "metadata": {
        "id": "tTJf3joTgYL3",
        "outputId": "d8fddf06-34f7-4058-c06f-dd9a02c8ab2c",
        "colab": {
          "base_uri": "https://localhost:8080/"
        }
      },
      "source": [
        "nltk.download('wordnet')"
      ],
      "execution_count": 59,
      "outputs": [
        {
          "output_type": "stream",
          "text": [
            "[nltk_data] Downloading package wordnet to /root/nltk_data...\n",
            "[nltk_data]   Package wordnet is already up-to-date!\n"
          ],
          "name": "stdout"
        },
        {
          "output_type": "execute_result",
          "data": {
            "text/plain": [
              "True"
            ]
          },
          "metadata": {
            "tags": []
          },
          "execution_count": 59
        }
      ]
    },
    {
      "cell_type": "code",
      "metadata": {
        "id": "UNfM9Sy9PQNk"
      },
      "source": [
        "#nltk.download('all')"
      ],
      "execution_count": 60,
      "outputs": []
    },
    {
      "cell_type": "code",
      "metadata": {
        "id": "lqe5vm1ps-_P"
      },
      "source": [
        "set_alpha = set(['a', 'b', 'd', 'e', 'f', 'g', 'h', 'i', 'k', 'l', 'm', 'n', 'o', 'p', 'q', 's', 't', 'u', 'v', 'w', 'x', 'y', 'z', '-'])"
      ],
      "execution_count": 61,
      "outputs": []
    },
    {
      "cell_type": "markdown",
      "metadata": {
        "id": "GRAnwpQpDi0X"
      },
      "source": [
        "## **2.Data**"
      ]
    },
    {
      "cell_type": "code",
      "metadata": {
        "colab": {
          "base_uri": "https://localhost:8080/"
        },
        "id": "NzWo_lsXDT58",
        "outputId": "b2b11069-f728-48b6-8cfa-7b751f6ffaee"
      },
      "source": [
        "from google.colab import drive\n",
        "drive.mount('/content/drive')"
      ],
      "execution_count": 62,
      "outputs": [
        {
          "output_type": "stream",
          "text": [
            "Drive already mounted at /content/drive; to attempt to forcibly remount, call drive.mount(\"/content/drive\", force_remount=True).\n"
          ],
          "name": "stdout"
        }
      ]
    },
    {
      "cell_type": "code",
      "metadata": {
        "id": "q9Nyu3oCvTTo"
      },
      "source": [
        "model_lr = joblib.load('/content/drive/My Drive/CentraleSupelec_OCR/P6/reg_log_saved.joblib')"
      ],
      "execution_count": 63,
      "outputs": []
    },
    {
      "cell_type": "code",
      "metadata": {
        "id": "sqfKJTjQeW_9",
        "colab": {
          "base_uri": "https://localhost:8080/"
        },
        "outputId": "9a28995a-6123-4548-af87-7a3115c39e48"
      },
      "source": [
        "dict_tags_500 = joblib.load('/content/drive/My Drive/CentraleSupelec_OCR/P6/list_tag_key_500.joblib')\r\n",
        "print(dict_tags_500)"
      ],
      "execution_count": 64,
      "outputs": [
        {
          "output_type": "stream",
          "text": [
            "{'redux', 'facebook', 'unicode', 'sql', 'batch-file', 'permissions', 'migration', 'html', 'syntax', 'dns', 'oauth-2.0', 'maven', 'swiftui', 'symfony', 'templates', 'python', 'xamarin', 'sass', 'computer-vision', 'performance', 'swing', 'select', 'kotlin', 'debugging', 'dockerfile', 'jakarta-ee', 'functional-programming', 'vector', 'variables', 'service', 'linq-to-sql', 'compiler-construction', 'shell', 'sharepoint', 'controls', 'jvm', 'asp.net', 'scikit-learn', 'refactoring', 'javafx', 'wcf', 'xsd', 'netbeans', 'unit-testing', 'zend-framework', 'twitter-bootstrap-3', 'gcc', 'matlab', 'hibernate', 'f#', 'pyspark', 'meteor', 'coding-style', 'linux-kernel', 'cocoa-touch', 'kubernetes', 'julia', 'android', '.net-core', 'heroku', 'ruby', 'tomcat', 'c++', 'exception-handling', 'opengl-es', 'python-3.x', 'scroll', 'database-design', 'class', 'c++17', 'parallel-processing', 'timer', 'mongodb', 'webview', 'indexing', 'sql-server', 'import', 'canvas', 'git', 'cakephp', 'c++11', 'flask', 'exception', 'oop', 'express', 'jdbc', 'asynchronous', 'collections', 'dom', 'go', 'rust', 'inheritance', 'datetime', 'object', 'iis', 'mysql', 'vba', 'jsp', 'boost', 'file-io', 'asp.net-mvc', 'loops', 'maven-2', 'css', 'c++14', 'amazon-s3', 'jestjs', 'junit', 'ansible', 'browser', 'dependency-injection', 'search', 'image', 'ecmascript-6', 'node.js', 'language-agnostic', 'listview', 'promise', 'bash', 'visual-studio-code', 'openssl', 'ssl', 'cmake', 'soap', 'plugins', 'parsing', 'dictionary', 'apache-spark', 'list', 'data-structures', 'garbage-collection', 'unix', 'svg', 'hash', 'azure', 'visual-studio-2012', 'group-by', 'video', 'pip', 'async-await', 'android-intent', 'ffmpeg', 'programming-languages', 'statistics', 'email', 'url', 'winforms', 'visual-studio-2008', 'java-stream', 'caching', 'memory-management', 'model', 'web', 'image-processing', 'grails', 'sockets', 'math', 'rspec', 'curl', 'matplotlib', 'memory-leaks', 'proxy', 'reactjs', 'sql-server-2008', 'r-markdown', 'ms-access', 'javascript', 'reflection', '.net', 'woocommerce', 'lua', 'asp.net-mvc-3', 'java', 'ionic-framework', 'keras', 'binding', 'perl', 'arrays', 'jaxb', 'assembly', 'function', 'google-chrome', 'google-api', 'ubuntu', 'logging', 'd3.js', 'asp.net-web-api', 'jpa', 'static', 'intellij-idea', 'activerecord', 'sbt', 'ide', 'recursion', 'serialization', 'optimization', 'visual-c++', 'installation', 'scala', 'scripting', 'ant', 'numpy', 'iterator', 'io', 'amazon-ec2', 'typescript', 'firefox', 'nginx', 'split', 'architecture', 'windows-7', 'opencv', 'clojure', 'google-cloud-platform', 'laravel', 'spring-security', 'filesystems', 'django-models', 'web-applications', 'wordpress', 'properties', 'ios8', 'date', 'aws-lambda', 'groovy', '.net-3.5', 'neural-network', 'dll', 'reference', 'layout', 'google-app-engine', 'dataframe', 'github', 'mercurial', 'interface', 'selenium-webdriver', 'asp.net-mvc-4', 'mongoose', 'makefile', 'tensorflow', 'postgresql', 'r', 'encryption', 'pdf', 'shiny', 'algorithm', 'visual-studio-2015', 'terminal', 'ssh', 'redis', 'servlets', 'colors', 'ios5', 'android-gradle-plugin', 'api', 'plot', 'multidimensional-array', 'hadoop', 'vuejs2', 'arraylist', 'mocking', 'selenium', 'webpack', 'post', 'environment-variables', 'jquery', 'qt', 'memory', 'graphics', 'spring-boot', 'magento', 'ggplot2', 'windows', 'laravel-5', 'uiview', 'laravel-4', 'docker-compose', 'objective-c', 'scope', 'language-lawyer', 'xpath', 'user-interface', 'asp.net-core-mvc', 'haskell', 'fonts', 'oracle', 'awk', '.htaccess', 'graphql', 'stream', 'testing', 'java-8', 'audio', 'vim', 'vue.js', 'android-emulator', 'graph', 'frameworks', 'google-apps-script', 'erlang', 'google-cloud-firestore', 'android-studio', 'npm', 'asp.net-core-2.0', 'events', 'amazon-web-services', 'jsf', 'django', 'delphi', 'react-router', 'jquery-ui', 'visual-studio-2017', 'android-activity', 'tfs', 'eclipse', 'orm', 'command-line', 'security', 'json', 'xamarin.forms', 'asp.net-core', 'bootstrap-4', 'networking', 'cookies', 'ruby-on-rails', 'x86', 'routing', 'flash', 'formatting', 'checkbox', 'internet-explorer', 'mvvm', 'websocket', 'wpf', 'merge', 'unity3d', 'mobile', 'sorting', 'spring', 'text', 'angular-material', 'flexbox', 'silverlight', 'core-data', 'stl', 'dart', 'powershell', 'google-maps', 'facebook-graph-api', 'process', 'forms', 'sql-server-2005', 'coldfusion', 'jackson', 'internationalization', 'razor', 'rxjs', 'lisp', 'initialization', 'parameters', 'iphone', 'casting', 'rest', 'sqlite', 'linq', 'visual-studio', 'lambda', 'ruby-on-rails-3', 'angular5', 'constructor', 'python-2.7', 'button', 'react-native', 'deep-learning', 'winapi', 'time', 'ruby-on-rails-4', 'error-handling', 'charts', 'visual-studio-2010', 'codeigniter', 'ios7', 'apache-spark-sql', 'clang', 'drupal', 'web-services', 'ipad', 'c', 'sed', 'msbuild', 'path', 'tkinter', 'opengl', 'wix', 'c#', 'xcode', 'vb.net', 'struct', 'docker', 'matrix', 'deployment', 'macros', 'oauth', 'string', 'methods', 'closures', 'input', 'localization', 'generics', 'sqlalchemy', 'dynamic', 'flutter', 'pointers', 'csv', 'data-binding', 'firebase', 'binary', 'xslt', 'apache', 'cocoa', 'scipy', 'concurrency', 'floating-point', 'database', 'random', 'nhibernate', 'multithreading', 'module', 'excel', 'autocomplete', 'version-control', 'file', 'validation', 'entity-framework-core', 'gradle', 'linux', 'http', 'pandas', 'session', 'spring-mvc', 'iis-7', 'css-selectors', 'cordova', 'safari', 'if-statement', 'set', 'dplyr', 'build', 'configuration', 'emacs', 'animation', 'asp.net-mvc-2', 'ajax', 'types', 'latex', 'machine-learning', 'android-fragments', 'for-loop', 'authentication', 'macos', 'null', 'apache-kafka', 'enums', 'jenkins', 'design-patterns', 'swift', 'join', 'ssis', 'encoding', 'entity-framework', 'compilation', 'twitter', 'uitableview', 'eclipse-plugin', 'google-chrome-extension', 'rabbitmq', 'xaml', 'redirect', 'tsql', 'stored-procedures', 'android-layout', 'elasticsearch', 'https', 'twitter-bootstrap', 'utf-8', 'ios', 'regex', 'actionscript-3', 'angular', 'iframe', 'xml', 'uwp', 'constants', 'integer', 'angularjs', 'svn', 'php', 'model-view-controller', 'devise', 'type-conversion'}\n"
          ],
          "name": "stdout"
        }
      ]
    },
    {
      "cell_type": "code",
      "metadata": {
        "id": "k4cQI4QL6y_z",
        "colab": {
          "base_uri": "https://localhost:8080/"
        },
        "outputId": "564df472-bc93-41c4-ad7b-b582f01f0e91"
      },
      "source": [
        "type(dict_tags_500)"
      ],
      "execution_count": 65,
      "outputs": [
        {
          "output_type": "execute_result",
          "data": {
            "text/plain": [
              "set"
            ]
          },
          "metadata": {
            "tags": []
          },
          "execution_count": 65
        }
      ]
    },
    {
      "cell_type": "code",
      "metadata": {
        "id": "4dWLnR4ZnIud",
        "colab": {
          "base_uri": "https://localhost:8080/"
        },
        "outputId": "bca737a3-69de-41f8-dcd4-c3f4654d4942"
      },
      "source": [
        "len(dict_tags_500)"
      ],
      "execution_count": 66,
      "outputs": [
        {
          "output_type": "execute_result",
          "data": {
            "text/plain": [
              "500"
            ]
          },
          "metadata": {
            "tags": []
          },
          "execution_count": 66
        }
      ]
    },
    {
      "cell_type": "code",
      "metadata": {
        "id": "UVSSwZlb7tsJ",
        "colab": {
          "base_uri": "https://localhost:8080/",
          "height": 139
        },
        "outputId": "941184e4-876d-4438-d293-d9fc51be4287"
      },
      "source": [
        "st_tags_500  = \" \".join(dict_tags_500)\r\n",
        "st_tags_500"
      ],
      "execution_count": 67,
      "outputs": [
        {
          "output_type": "execute_result",
          "data": {
            "application/vnd.google.colaboratory.intrinsic+json": {
              "type": "string"
            },
            "text/plain": [
              "'redux facebook unicode sql batch-file permissions migration html syntax dns oauth-2.0 maven swiftui symfony templates python xamarin sass computer-vision performance swing select kotlin debugging dockerfile jakarta-ee functional-programming vector variables service linq-to-sql compiler-construction shell sharepoint controls jvm asp.net scikit-learn refactoring javafx wcf xsd netbeans unit-testing zend-framework twitter-bootstrap-3 gcc matlab hibernate f# pyspark meteor coding-style linux-kernel cocoa-touch kubernetes julia android .net-core heroku ruby tomcat c++ exception-handling opengl-es python-3.x scroll database-design class c++17 parallel-processing timer mongodb webview indexing sql-server import canvas git cakephp c++11 flask exception oop express jdbc asynchronous collections dom go rust inheritance datetime object iis mysql vba jsp boost file-io asp.net-mvc loops maven-2 css c++14 amazon-s3 jestjs junit ansible browser dependency-injection search image ecmascript-6 node.js language-agnostic listview promise bash visual-studio-code openssl ssl cmake soap plugins parsing dictionary apache-spark list data-structures garbage-collection unix svg hash azure visual-studio-2012 group-by video pip async-await android-intent ffmpeg programming-languages statistics email url winforms visual-studio-2008 java-stream caching memory-management model web image-processing grails sockets math rspec curl matplotlib memory-leaks proxy reactjs sql-server-2008 r-markdown ms-access javascript reflection .net woocommerce lua asp.net-mvc-3 java ionic-framework keras binding perl arrays jaxb assembly function google-chrome google-api ubuntu logging d3.js asp.net-web-api jpa static intellij-idea activerecord sbt ide recursion serialization optimization visual-c++ installation scala scripting ant numpy iterator io amazon-ec2 typescript firefox nginx split architecture windows-7 opencv clojure google-cloud-platform laravel spring-security filesystems django-models web-applications wordpress properties ios8 date aws-lambda groovy .net-3.5 neural-network dll reference layout google-app-engine dataframe github mercurial interface selenium-webdriver asp.net-mvc-4 mongoose makefile tensorflow postgresql r encryption pdf shiny algorithm visual-studio-2015 terminal ssh redis servlets colors ios5 android-gradle-plugin api plot multidimensional-array hadoop vuejs2 arraylist mocking selenium webpack post environment-variables jquery qt memory graphics spring-boot magento ggplot2 windows laravel-5 uiview laravel-4 docker-compose objective-c scope language-lawyer xpath user-interface asp.net-core-mvc haskell fonts oracle awk .htaccess graphql stream testing java-8 audio vim vue.js android-emulator graph frameworks google-apps-script erlang google-cloud-firestore android-studio npm asp.net-core-2.0 events amazon-web-services jsf django delphi react-router jquery-ui visual-studio-2017 android-activity tfs eclipse orm command-line security json xamarin.forms asp.net-core bootstrap-4 networking cookies ruby-on-rails x86 routing flash formatting checkbox internet-explorer mvvm websocket wpf merge unity3d mobile sorting spring text angular-material flexbox silverlight core-data stl dart powershell google-maps facebook-graph-api process forms sql-server-2005 coldfusion jackson internationalization razor rxjs lisp initialization parameters iphone casting rest sqlite linq visual-studio lambda ruby-on-rails-3 angular5 constructor python-2.7 button react-native deep-learning winapi time ruby-on-rails-4 error-handling charts visual-studio-2010 codeigniter ios7 apache-spark-sql clang drupal web-services ipad c sed msbuild path tkinter opengl wix c# xcode vb.net struct docker matrix deployment macros oauth string methods closures input localization generics sqlalchemy dynamic flutter pointers csv data-binding firebase binary xslt apache cocoa scipy concurrency floating-point database random nhibernate multithreading module excel autocomplete version-control file validation entity-framework-core gradle linux http pandas session spring-mvc iis-7 css-selectors cordova safari if-statement set dplyr build configuration emacs animation asp.net-mvc-2 ajax types latex machine-learning android-fragments for-loop authentication macos null apache-kafka enums jenkins design-patterns swift join ssis encoding entity-framework compilation twitter uitableview eclipse-plugin google-chrome-extension rabbitmq xaml redirect tsql stored-procedures android-layout elasticsearch https twitter-bootstrap utf-8 ios regex actionscript-3 angular iframe xml uwp constants integer angularjs svn php model-view-controller devise type-conversion'"
            ]
          },
          "metadata": {
            "tags": []
          },
          "execution_count": 67
        }
      ]
    },
    {
      "cell_type": "code",
      "metadata": {
        "id": "apXt3siF_3T2",
        "colab": {
          "base_uri": "https://localhost:8080/"
        },
        "outputId": "6968d54b-29f0-4d0a-9bc7-de8f855773e0"
      },
      "source": [
        "type(st_tags_500)"
      ],
      "execution_count": 68,
      "outputs": [
        {
          "output_type": "execute_result",
          "data": {
            "text/plain": [
              "str"
            ]
          },
          "metadata": {
            "tags": []
          },
          "execution_count": 68
        }
      ]
    },
    {
      "cell_type": "code",
      "metadata": {
        "id": "ZEfxYy0dolh6"
      },
      "source": [
        "def word_count(question):\r\n",
        "  return len(question.split())"
      ],
      "execution_count": 69,
      "outputs": []
    },
    {
      "cell_type": "code",
      "metadata": {
        "id": "ffly-uvFo9ou",
        "colab": {
          "base_uri": "https://localhost:8080/"
        },
        "outputId": "c0c07e3d-2569-45ff-b1e5-107c051a1ed4"
      },
      "source": [
        "word_count(st_tags_500)"
      ],
      "execution_count": 70,
      "outputs": [
        {
          "output_type": "execute_result",
          "data": {
            "text/plain": [
              "500"
            ]
          },
          "metadata": {
            "tags": []
          },
          "execution_count": 70
        }
      ]
    },
    {
      "cell_type": "code",
      "metadata": {
        "id": "fGhXeLGb_N4r",
        "colab": {
          "base_uri": "https://localhost:8080/",
          "height": 139
        },
        "outputId": "fe9f5412-be39-497f-9f04-c49a4e904181"
      },
      "source": [
        "question_test = \"PHP DOMElement::getElementsByTagName - Anyway to get just the immediate matching children? <p>is there a way to retrieve only the immediate children found by a call to DOMElement::getElementsByTagName? For example, I have an XML document that has a category element. That category element has sub category elements (which have the same structure), like:</p>\\n\\n<pre><code>&lt;category&gt;\\n    &lt;id&gt;1&lt;/id&gt;\\n    &lt;name&gt;Top Level Category Name&lt;/name&gt;\\n    &lt;subCategory&gt;\\n        &lt;id&gt;2&lt;/id&gt;\\n        &lt;name&gt;Sub Category Name&lt;/name&gt;\\n    &lt;/subCategory&gt;\\n    ...\\n&lt;/category&gt;\\n</code></pre>\\n\\n<p>If I have a DOMElement representing the top level category, </p>\\n\\n<pre><code>$topLevelCategoryElement-&gt;getElementsByTagName('id');\\n</code></pre>\\n\\n<p>will return a list with the nodes for all 'id' elements, where I want just the one from the top level. Any way to do this outside of using XPath?</p>\\n\"\r\n",
        "question_test"
      ],
      "execution_count": 71,
      "outputs": [
        {
          "output_type": "execute_result",
          "data": {
            "application/vnd.google.colaboratory.intrinsic+json": {
              "type": "string"
            },
            "text/plain": [
              "\"PHP DOMElement::getElementsByTagName - Anyway to get just the immediate matching children? <p>is there a way to retrieve only the immediate children found by a call to DOMElement::getElementsByTagName? For example, I have an XML document that has a category element. That category element has sub category elements (which have the same structure), like:</p>\\n\\n<pre><code>&lt;category&gt;\\n    &lt;id&gt;1&lt;/id&gt;\\n    &lt;name&gt;Top Level Category Name&lt;/name&gt;\\n    &lt;subCategory&gt;\\n        &lt;id&gt;2&lt;/id&gt;\\n        &lt;name&gt;Sub Category Name&lt;/name&gt;\\n    &lt;/subCategory&gt;\\n    ...\\n&lt;/category&gt;\\n</code></pre>\\n\\n<p>If I have a DOMElement representing the top level category, </p>\\n\\n<pre><code>$topLevelCategoryElement-&gt;getElementsByTagName('id');\\n</code></pre>\\n\\n<p>will return a list with the nodes for all 'id' elements, where I want just the one from the top level. Any way to do this outside of using XPath?</p>\\n\""
            ]
          },
          "metadata": {
            "tags": []
          },
          "execution_count": 71
        }
      ]
    },
    {
      "cell_type": "code",
      "metadata": {
        "id": "2p5DI_QsH0j9",
        "colab": {
          "base_uri": "https://localhost:8080/"
        },
        "outputId": "763b2ad0-c8b1-4d86-a0e1-7ec55df6d0bf"
      },
      "source": [
        "type(question_test)"
      ],
      "execution_count": 72,
      "outputs": [
        {
          "output_type": "execute_result",
          "data": {
            "text/plain": [
              "str"
            ]
          },
          "metadata": {
            "tags": []
          },
          "execution_count": 72
        }
      ]
    },
    {
      "cell_type": "code",
      "metadata": {
        "id": "gh2PQXcG1lUl"
      },
      "source": [
        "def preprocessing(text):\r\n",
        "  #HTML characters removing\r\n",
        "  def remove_html(text):\r\n",
        "    html_regex = re.compile('<.*?>') #Compile regular expresions\r\n",
        "    return re.sub(html_regex, ' ', str(text)) # Replace regex by ' '\r\n",
        "  text0 = remove_html(text)\r\n",
        "  \r\n",
        "\r\n",
        "  #URL removing\r\n",
        "  def remove_url(text0):\r\n",
        "    url_regex = 'http[s]?://(?:[a-zA-Z]|[0-9]|[$-_@.&+]|[!*\\(\\),]|(?:%[0-9a-fA-F][0-9a-fA-F]))+'\r\n",
        "    return re.sub(url_regex, ' ', str(text0))\r\n",
        "  text1 = remove_url(text0)\r\n",
        "  \r\n",
        "\r\n",
        "  #Punctuation removing\r\n",
        "  def remove_punc(text1):\r\n",
        "    clean_text = re.sub(r'[?|!|\"|:|=|_|{|}|[|]|-|$|%|^|&|]',r' ',str(text1))\r\n",
        "    clean_text = re.sub(r'[.|,|)|(|\\|/|-|~|`|>|<|*|$|@|;|→]',r' ', clean_text)\r\n",
        "    return clean_text\r\n",
        "  text2 = remove_url(text1)\r\n",
        "  \r\n",
        "\r\n",
        "  def remove_other(text2):\r\n",
        "    text = str(text2)\r\n",
        "    clean_text = re.sub(r\"[^a-zA-Z0-9#+-]\", \" \", text2.lower())\r\n",
        "    return clean_text\r\n",
        "  text3 = remove_other(text2)\r\n",
        "  \r\n",
        "\r\n",
        "  #Space removing\r\n",
        "  def remove_space(text3):\r\n",
        "    return ' '.join(str(text3).split())\r\n",
        "  text4 = remove_space(text3)\r\n",
        "  \r\n",
        "\r\n",
        "  def remove_stopwords(text4):\r\n",
        "    text4 = str(text4)\r\n",
        "    text4 = \" \".join(word for word in text4.split() if word not in gensim.parsing.preprocessing.STOPWORDS and word not in stop_words and word not in set_alpha )\r\n",
        "    return text4\r\n",
        "  text5 = remove_stopwords(text4)\r\n",
        "  \r\n",
        "\r\n",
        "  def tokenize(text5):\r\n",
        "    tokens = [lemma(w) for w in text5.split()] #if w.isalpha()\r\n",
        "    return tokens\r\n",
        "  text6 = tokenize(text5)\r\n",
        "  \r\n",
        "\r\n",
        "  def to_string(text6):\r\n",
        "    input_string = \" \".join(text6)\r\n",
        "    return input_string\r\n",
        "  text7 = to_string(text6)\r\n",
        "  \r\n",
        "  def keep_tags(text7):\r\n",
        "    text7 = str(text7)\r\n",
        "    text7 = \" \".join(tag for tag in text7.split() if tag in dict_tags_500)\r\n",
        "    return text7\r\n",
        "  text8 = keep_tags(text7)\r\n",
        "  return text8\r\n"
      ],
      "execution_count": 73,
      "outputs": []
    },
    {
      "cell_type": "code",
      "metadata": {
        "id": "zwae2MY5KDj4",
        "colab": {
          "base_uri": "https://localhost:8080/"
        },
        "outputId": "44d053e6-bb44-487d-c49f-e6f7c0c1e17a"
      },
      "source": [
        "question_test_tag = preprocessing(question_test)\r\n",
        "print(question_test_tag)"
      ],
      "execution_count": 74,
      "outputs": [
        {
          "output_type": "stream",
          "text": [
            "php xml list xpath\n"
          ],
          "name": "stdout"
        }
      ]
    },
    {
      "cell_type": "code",
      "metadata": {
        "id": "I1ucRqorkvdp",
        "colab": {
          "base_uri": "https://localhost:8080/",
          "height": 79
        },
        "outputId": "8ebf11e1-04fa-4b5c-ba0b-74d78284ddea"
      },
      "source": [
        "question_test_tag_df = pd.DataFrame([question_test_tag], columns=['question'])\r\n",
        "question_test_tag_df"
      ],
      "execution_count": 75,
      "outputs": [
        {
          "output_type": "execute_result",
          "data": {
            "text/html": [
              "<div>\n",
              "<style scoped>\n",
              "    .dataframe tbody tr th:only-of-type {\n",
              "        vertical-align: middle;\n",
              "    }\n",
              "\n",
              "    .dataframe tbody tr th {\n",
              "        vertical-align: top;\n",
              "    }\n",
              "\n",
              "    .dataframe thead th {\n",
              "        text-align: right;\n",
              "    }\n",
              "</style>\n",
              "<table border=\"1\" class=\"dataframe\">\n",
              "  <thead>\n",
              "    <tr style=\"text-align: right;\">\n",
              "      <th></th>\n",
              "      <th>question</th>\n",
              "    </tr>\n",
              "  </thead>\n",
              "  <tbody>\n",
              "    <tr>\n",
              "      <th>0</th>\n",
              "      <td>php xml list xpath</td>\n",
              "    </tr>\n",
              "  </tbody>\n",
              "</table>\n",
              "</div>"
            ],
            "text/plain": [
              "             question\n",
              "0  php xml list xpath"
            ]
          },
          "metadata": {
            "tags": []
          },
          "execution_count": 75
        }
      ]
    },
    {
      "cell_type": "code",
      "metadata": {
        "id": "SSx44QVdtYUB",
        "colab": {
          "base_uri": "https://localhost:8080/",
          "height": 79
        },
        "outputId": "ef28893f-16b8-4443-a4c6-a2ec5d68c025"
      },
      "source": [
        "tags_500_df = pd.DataFrame([st_tags_500], columns=['question'])\r\n",
        "tags_500_df"
      ],
      "execution_count": 76,
      "outputs": [
        {
          "output_type": "execute_result",
          "data": {
            "text/html": [
              "<div>\n",
              "<style scoped>\n",
              "    .dataframe tbody tr th:only-of-type {\n",
              "        vertical-align: middle;\n",
              "    }\n",
              "\n",
              "    .dataframe tbody tr th {\n",
              "        vertical-align: top;\n",
              "    }\n",
              "\n",
              "    .dataframe thead th {\n",
              "        text-align: right;\n",
              "    }\n",
              "</style>\n",
              "<table border=\"1\" class=\"dataframe\">\n",
              "  <thead>\n",
              "    <tr style=\"text-align: right;\">\n",
              "      <th></th>\n",
              "      <th>question</th>\n",
              "    </tr>\n",
              "  </thead>\n",
              "  <tbody>\n",
              "    <tr>\n",
              "      <th>0</th>\n",
              "      <td>redux facebook unicode sql batch-file permissi...</td>\n",
              "    </tr>\n",
              "  </tbody>\n",
              "</table>\n",
              "</div>"
            ],
            "text/plain": [
              "                                            question\n",
              "0  redux facebook unicode sql batch-file permissi..."
            ]
          },
          "metadata": {
            "tags": []
          },
          "execution_count": 76
        }
      ]
    },
    {
      "cell_type": "code",
      "metadata": {
        "id": "lJlrh50Bj-mG",
        "colab": {
          "base_uri": "https://localhost:8080/",
          "height": 110
        },
        "outputId": "d6662c91-743c-4caf-ca83-b906b1cd9978"
      },
      "source": [
        "test_input_df = pd.concat([question_test_tag_df, tags_500_df], ignore_index=True)\r\n",
        "test_input_df"
      ],
      "execution_count": 77,
      "outputs": [
        {
          "output_type": "execute_result",
          "data": {
            "text/html": [
              "<div>\n",
              "<style scoped>\n",
              "    .dataframe tbody tr th:only-of-type {\n",
              "        vertical-align: middle;\n",
              "    }\n",
              "\n",
              "    .dataframe tbody tr th {\n",
              "        vertical-align: top;\n",
              "    }\n",
              "\n",
              "    .dataframe thead th {\n",
              "        text-align: right;\n",
              "    }\n",
              "</style>\n",
              "<table border=\"1\" class=\"dataframe\">\n",
              "  <thead>\n",
              "    <tr style=\"text-align: right;\">\n",
              "      <th></th>\n",
              "      <th>question</th>\n",
              "    </tr>\n",
              "  </thead>\n",
              "  <tbody>\n",
              "    <tr>\n",
              "      <th>0</th>\n",
              "      <td>php xml list xpath</td>\n",
              "    </tr>\n",
              "    <tr>\n",
              "      <th>1</th>\n",
              "      <td>redux facebook unicode sql batch-file permissi...</td>\n",
              "    </tr>\n",
              "  </tbody>\n",
              "</table>\n",
              "</div>"
            ],
            "text/plain": [
              "                                            question\n",
              "0                                 php xml list xpath\n",
              "1  redux facebook unicode sql batch-file permissi..."
            ]
          },
          "metadata": {
            "tags": []
          },
          "execution_count": 77
        }
      ]
    },
    {
      "cell_type": "code",
      "metadata": {
        "id": "saHW_RLgl_pw",
        "colab": {
          "base_uri": "https://localhost:8080/"
        },
        "outputId": "27c9cae6-fc35-4eb5-9d23-e4342b605a07"
      },
      "source": [
        "question_test =  test_input_df['question']\r\n",
        "question_test"
      ],
      "execution_count": 78,
      "outputs": [
        {
          "output_type": "execute_result",
          "data": {
            "text/plain": [
              "0                                   php xml list xpath\n",
              "1    redux facebook unicode sql batch-file permissi...\n",
              "Name: question, dtype: object"
            ]
          },
          "metadata": {
            "tags": []
          },
          "execution_count": 78
        }
      ]
    },
    {
      "cell_type": "code",
      "metadata": {
        "id": "6Ef5g0AVmNAZ",
        "colab": {
          "base_uri": "https://localhost:8080/"
        },
        "outputId": "0e365d47-9fa2-4913-8c43-d13c05863d98"
      },
      "source": [
        "type(question_test)"
      ],
      "execution_count": 79,
      "outputs": [
        {
          "output_type": "execute_result",
          "data": {
            "text/plain": [
              "pandas.core.series.Series"
            ]
          },
          "metadata": {
            "tags": []
          },
          "execution_count": 79
        }
      ]
    },
    {
      "cell_type": "code",
      "metadata": {
        "id": "9B6n-bsLmfAW"
      },
      "source": [
        "from sklearn.feature_extraction.text import TfidfVectorizer"
      ],
      "execution_count": 80,
      "outputs": []
    },
    {
      "cell_type": "code",
      "metadata": {
        "id": "Mp9daW8iG69P"
      },
      "source": [
        "def tokenize(document):\r\n",
        "  tokens = [lemma(w) for w in document.split()]         #if w.isalpha()\r\n",
        "  return tokens"
      ],
      "execution_count": 81,
      "outputs": []
    },
    {
      "cell_type": "code",
      "metadata": {
        "id": "MR0ULMvCG75M"
      },
      "source": [
        "stop_words = set(stopwords.words('english'))"
      ],
      "execution_count": 82,
      "outputs": []
    },
    {
      "cell_type": "code",
      "metadata": {
        "id": "xVbfvQNIlnCk",
        "colab": {
          "base_uri": "https://localhost:8080/"
        },
        "outputId": "7062768d-f1a4-4d5d-d9a3-f8d8404e147a"
      },
      "source": [
        "vectorizer = TfidfVectorizer(tokenizer = tokenize, stop_words = stop_words, max_features=355)\r\n",
        "X_tfidf = vectorizer.fit_transform(question_test).toarray()"
      ],
      "execution_count": 83,
      "outputs": [
        {
          "output_type": "stream",
          "text": [
            "/usr/local/lib/python3.6/dist-packages/sklearn/feature_extraction/text.py:385: UserWarning: Your stop_words may be inconsistent with your preprocessing. Tokenizing the stop words generated tokens ['doe', 'ha', 'wa'] not in stop_words.\n",
            "  'stop_words.' % sorted(inconsistent))\n"
          ],
          "name": "stderr"
        }
      ]
    },
    {
      "cell_type": "code",
      "metadata": {
        "id": "Mjvoh_qUmvu4",
        "colab": {
          "base_uri": "https://localhost:8080/"
        },
        "outputId": "62738b70-7d37-479c-9552-2847b6c76e64"
      },
      "source": [
        "print(X_tfidf.shape)"
      ],
      "execution_count": 84,
      "outputs": [
        {
          "output_type": "stream",
          "text": [
            "(2, 355)\n"
          ],
          "name": "stdout"
        }
      ]
    },
    {
      "cell_type": "code",
      "metadata": {
        "id": "w6AT41N6IAMk",
        "colab": {
          "base_uri": "https://localhost:8080/"
        },
        "outputId": "91e76180-96cd-47dc-938c-7907b102e0bd"
      },
      "source": [
        "feature_names  = vectorizer.get_feature_names()\r\n",
        "print(feature_names)"
      ],
      "execution_count": 85,
      "outputs": [
        {
          "output_type": "stream",
          "text": [
            "['.htaccess', '.net', '.net-3.5', '.net-core', 'actionscript-3', 'activerecord', 'ajax', 'algorithm', 'amazon-ec2', 'amazon-s3', 'amazon-web-services', 'android', 'android-activity', 'android-emulator', 'android-fragments', 'android-gradle-plugin', 'android-intent', 'android-layout', 'android-studio', 'angular', 'angular-material', 'angular5', 'angularjs', 'animation', 'ansible', 'ant', 'apache', 'apache-kafka', 'apache-spark', 'apache-spark-sql', 'architecture', 'autocomplete', 'awk', 'aws-lambda', 'azure', 'bash', 'batch-file', 'binary', 'binding', 'boost', 'bootstrap-4', 'browser', 'build', 'button', 'c', 'c#', 'c++', 'c++11', 'c++14', 'c++17', 'caching', 'cakephp', 'canvas', 'casting', 'chart', 'checkbox', 'clang', 'class', 'clojure', 'closure', 'cmake', 'cocoa', 'cocoa-touch', 'codeigniter', 'coding-style', 'coldfusion', 'collection', 'color', 'command-line', 'compilation', 'compiler-construction', 'computer-vision', 'concurrency', 'configuration', 'constant', 'constructor', 'control', 'cooky', 'cordova', 'core-data', 'cs', 'css-selectors', 'csv', 'curl', 'd3.js', 'dart', 'data-binding', 'data-structures', 'database', 'database-design', 'dataframe', 'date', 'datetime', 'debugging', 'deep-learning', 'delphi', 'dependency-injection', 'deployment', 'design-patterns', 'devise', 'dictionary', 'django', 'django-models', 'dll', 'dns', 'http', 'io', 'lambda', 'language-lawyer', 'laravel', 'laravel-4', 'laravel-5', 'latex', 'layout', 'linq', 'linq-to-sql', 'linux', 'linux-kernel', 'lisp', 'list', 'listview', 'localization', 'logging', 'loop', 'lua', 'machine-learning', 'macos', 'macro', 'magento', 'makefile', 'math', 'matlab', 'matplotlib', 'matrix', 'maven', 'maven-2', 'memory', 'memory-leaks', 'memory-management', 'mercurial', 'merge', 'meteor', 'method', 'migration', 'mobile', 'mocking', 'model', 'model-view-controller', 'module', 'mongodb', 'mongoose', 'ms-access', 'msbuild', 'multidimensional-array', 'multithreading', 'mvvm', 'mysql', 'netbeans', 'networking', 'neural-network', 'nginx', 'nhibernate', 'node.js', 'npm', 'null', 'numpy', 'oauth', 'oauth-2.0', 'object', 'objective-c', 'oop', 'opencv', 'opengl', 'opengl-es', 'openssl', 'optimization', 'oracle', 'orm', 'panda', 'parallel-processing', 'parameter', 'parsing', 'path', 'pdf', 'performance', 'perl', 'permission', 'php', 'pip', 'plot', 'plugins', 'pointer', 'post', 'postgresql', 'powershell', 'process', 'programming-languages', 'promise', 'property', 'proxy', 'pyspark', 'python', 'python-2.7', 'python-3.x', 'qt', 'r', 'r-markdown', 'rabbitmq', 'random', 'razor', 'react-native', 'react-router', 'reactjs', 'recursion', 'redirect', 'redis', 'redux', 'refactoring', 'reference', 'reflection', 'regex', 'rest', 'routing', 'rspec', 'ruby', 'ruby-on-rails', 'ruby-on-rails-3', 'ruby-on-rails-4', 'rust', 'rxjs', 'safari', 'sas', 'sbt', 'scala', 'scikit-learn', 'scipy', 'scope', 'scripting', 'scroll', 'search', 'security', 'sed', 'select', 'selenium', 'selenium-webdriver', 'serialization', 'service', 'servlets', 'session', 'set', 'sharepoint', 'shell', 'shiny', 'silverlight', 'soap', 'socket', 'sorting', 'split', 'spring', 'spring-boot', 'spring-mvc', 'spring-security', 'sql', 'sql-server', 'sql-server-2005', 'sql-server-2008', 'sqlalchemy', 'sqlite', 'ssh', 'ssis', 'ssl', 'static', 'statistic', 'stl', 'stored-procedures', 'stream', 'string', 'struct', 'svg', 'svn', 'swift', 'swiftui', 'swing', 'symfony', 'syntax', 'template', 'tensorflow', 'terminal', 'testing', 'text', 'tfs', 'time', 'timer', 'tkinter', 'tomcat', 'tsql', 'twitter', 'twitter-bootstrap', 'twitter-bootstrap-3', 'type', 'type-conversion', 'typescript', 'ubuntu', 'uitableview', 'uiview', 'unicode', 'unit-testing', 'unity3d', 'unix', 'url', 'user-interface', 'utf-8', 'uwp', 'validation', 'variable', 'vb.net', 'vba', 'vector', 'version-control', 'video', 'vim', 'visual-c++', 'visual-studio', 'visual-studio-2008', 'visual-studio-2010', 'visual-studio-2012', 'visual-studio-2015', 'visual-studio-2017', 'visual-studio-code', 'vue.js', 'vuejs2', 'wcf', 'web', 'web-applications', 'web-services', 'webpack', 'websocket', 'webview', 'winapi', 'window', 'windows-7', 'winforms', 'wix', 'woocommerce', 'wordpress', 'wpf', 'x86', 'xamarin', 'xamarin.forms', 'xaml', 'xcode', 'xml', 'xpath', 'xsd', 'xslt']\n"
          ],
          "name": "stdout"
        }
      ]
    },
    {
      "cell_type": "code",
      "metadata": {
        "id": "h4iugnHVvd-W",
        "colab": {
          "base_uri": "https://localhost:8080/"
        },
        "outputId": "f6c9d6ab-c95f-4ba8-d61a-98557b15188e"
      },
      "source": [
        "len(feature_names)"
      ],
      "execution_count": 86,
      "outputs": [
        {
          "output_type": "execute_result",
          "data": {
            "text/plain": [
              "355"
            ]
          },
          "metadata": {
            "tags": []
          },
          "execution_count": 86
        }
      ]
    },
    {
      "cell_type": "code",
      "metadata": {
        "id": "T9KapJdrmwuH",
        "colab": {
          "base_uri": "https://localhost:8080/",
          "height": 163
        },
        "outputId": "a2d0791e-53d6-493b-c845-48047d7b41f6"
      },
      "source": [
        "X_test = pd.DataFrame(X_tfidf)\r\n",
        "X_test = X_test.iloc[0:1,:]\r\n",
        "X_test.columns = feature_names\r\n",
        "X_test"
      ],
      "execution_count": 87,
      "outputs": [
        {
          "output_type": "execute_result",
          "data": {
            "text/html": [
              "<div>\n",
              "<style scoped>\n",
              "    .dataframe tbody tr th:only-of-type {\n",
              "        vertical-align: middle;\n",
              "    }\n",
              "\n",
              "    .dataframe tbody tr th {\n",
              "        vertical-align: top;\n",
              "    }\n",
              "\n",
              "    .dataframe thead th {\n",
              "        text-align: right;\n",
              "    }\n",
              "</style>\n",
              "<table border=\"1\" class=\"dataframe\">\n",
              "  <thead>\n",
              "    <tr style=\"text-align: right;\">\n",
              "      <th></th>\n",
              "      <th>.htaccess</th>\n",
              "      <th>.net</th>\n",
              "      <th>.net-3.5</th>\n",
              "      <th>.net-core</th>\n",
              "      <th>actionscript-3</th>\n",
              "      <th>activerecord</th>\n",
              "      <th>ajax</th>\n",
              "      <th>algorithm</th>\n",
              "      <th>amazon-ec2</th>\n",
              "      <th>amazon-s3</th>\n",
              "      <th>amazon-web-services</th>\n",
              "      <th>android</th>\n",
              "      <th>android-activity</th>\n",
              "      <th>android-emulator</th>\n",
              "      <th>android-fragments</th>\n",
              "      <th>android-gradle-plugin</th>\n",
              "      <th>android-intent</th>\n",
              "      <th>android-layout</th>\n",
              "      <th>android-studio</th>\n",
              "      <th>angular</th>\n",
              "      <th>angular-material</th>\n",
              "      <th>angular5</th>\n",
              "      <th>angularjs</th>\n",
              "      <th>animation</th>\n",
              "      <th>ansible</th>\n",
              "      <th>ant</th>\n",
              "      <th>apache</th>\n",
              "      <th>apache-kafka</th>\n",
              "      <th>apache-spark</th>\n",
              "      <th>apache-spark-sql</th>\n",
              "      <th>architecture</th>\n",
              "      <th>autocomplete</th>\n",
              "      <th>awk</th>\n",
              "      <th>aws-lambda</th>\n",
              "      <th>azure</th>\n",
              "      <th>bash</th>\n",
              "      <th>batch-file</th>\n",
              "      <th>binary</th>\n",
              "      <th>binding</th>\n",
              "      <th>boost</th>\n",
              "      <th>...</th>\n",
              "      <th>vb.net</th>\n",
              "      <th>vba</th>\n",
              "      <th>vector</th>\n",
              "      <th>version-control</th>\n",
              "      <th>video</th>\n",
              "      <th>vim</th>\n",
              "      <th>visual-c++</th>\n",
              "      <th>visual-studio</th>\n",
              "      <th>visual-studio-2008</th>\n",
              "      <th>visual-studio-2010</th>\n",
              "      <th>visual-studio-2012</th>\n",
              "      <th>visual-studio-2015</th>\n",
              "      <th>visual-studio-2017</th>\n",
              "      <th>visual-studio-code</th>\n",
              "      <th>vue.js</th>\n",
              "      <th>vuejs2</th>\n",
              "      <th>wcf</th>\n",
              "      <th>web</th>\n",
              "      <th>web-applications</th>\n",
              "      <th>web-services</th>\n",
              "      <th>webpack</th>\n",
              "      <th>websocket</th>\n",
              "      <th>webview</th>\n",
              "      <th>winapi</th>\n",
              "      <th>window</th>\n",
              "      <th>windows-7</th>\n",
              "      <th>winforms</th>\n",
              "      <th>wix</th>\n",
              "      <th>woocommerce</th>\n",
              "      <th>wordpress</th>\n",
              "      <th>wpf</th>\n",
              "      <th>x86</th>\n",
              "      <th>xamarin</th>\n",
              "      <th>xamarin.forms</th>\n",
              "      <th>xaml</th>\n",
              "      <th>xcode</th>\n",
              "      <th>xml</th>\n",
              "      <th>xpath</th>\n",
              "      <th>xsd</th>\n",
              "      <th>xslt</th>\n",
              "    </tr>\n",
              "  </thead>\n",
              "  <tbody>\n",
              "    <tr>\n",
              "      <th>0</th>\n",
              "      <td>0.0</td>\n",
              "      <td>0.0</td>\n",
              "      <td>0.0</td>\n",
              "      <td>0.0</td>\n",
              "      <td>0.0</td>\n",
              "      <td>0.0</td>\n",
              "      <td>0.0</td>\n",
              "      <td>0.0</td>\n",
              "      <td>0.0</td>\n",
              "      <td>0.0</td>\n",
              "      <td>0.0</td>\n",
              "      <td>0.0</td>\n",
              "      <td>0.0</td>\n",
              "      <td>0.0</td>\n",
              "      <td>0.0</td>\n",
              "      <td>0.0</td>\n",
              "      <td>0.0</td>\n",
              "      <td>0.0</td>\n",
              "      <td>0.0</td>\n",
              "      <td>0.0</td>\n",
              "      <td>0.0</td>\n",
              "      <td>0.0</td>\n",
              "      <td>0.0</td>\n",
              "      <td>0.0</td>\n",
              "      <td>0.0</td>\n",
              "      <td>0.0</td>\n",
              "      <td>0.0</td>\n",
              "      <td>0.0</td>\n",
              "      <td>0.0</td>\n",
              "      <td>0.0</td>\n",
              "      <td>0.0</td>\n",
              "      <td>0.0</td>\n",
              "      <td>0.0</td>\n",
              "      <td>0.0</td>\n",
              "      <td>0.0</td>\n",
              "      <td>0.0</td>\n",
              "      <td>0.0</td>\n",
              "      <td>0.0</td>\n",
              "      <td>0.0</td>\n",
              "      <td>0.0</td>\n",
              "      <td>...</td>\n",
              "      <td>0.0</td>\n",
              "      <td>0.0</td>\n",
              "      <td>0.0</td>\n",
              "      <td>0.0</td>\n",
              "      <td>0.0</td>\n",
              "      <td>0.0</td>\n",
              "      <td>0.0</td>\n",
              "      <td>0.0</td>\n",
              "      <td>0.0</td>\n",
              "      <td>0.0</td>\n",
              "      <td>0.0</td>\n",
              "      <td>0.0</td>\n",
              "      <td>0.0</td>\n",
              "      <td>0.0</td>\n",
              "      <td>0.0</td>\n",
              "      <td>0.0</td>\n",
              "      <td>0.0</td>\n",
              "      <td>0.0</td>\n",
              "      <td>0.0</td>\n",
              "      <td>0.0</td>\n",
              "      <td>0.0</td>\n",
              "      <td>0.0</td>\n",
              "      <td>0.0</td>\n",
              "      <td>0.0</td>\n",
              "      <td>0.0</td>\n",
              "      <td>0.0</td>\n",
              "      <td>0.0</td>\n",
              "      <td>0.0</td>\n",
              "      <td>0.0</td>\n",
              "      <td>0.0</td>\n",
              "      <td>0.0</td>\n",
              "      <td>0.0</td>\n",
              "      <td>0.0</td>\n",
              "      <td>0.0</td>\n",
              "      <td>0.0</td>\n",
              "      <td>0.0</td>\n",
              "      <td>0.5</td>\n",
              "      <td>0.5</td>\n",
              "      <td>0.0</td>\n",
              "      <td>0.0</td>\n",
              "    </tr>\n",
              "  </tbody>\n",
              "</table>\n",
              "<p>1 rows × 355 columns</p>\n",
              "</div>"
            ],
            "text/plain": [
              "   .htaccess  .net  .net-3.5  .net-core  ...  xml  xpath  xsd  xslt\n",
              "0        0.0   0.0       0.0        0.0  ...  0.5    0.5  0.0   0.0\n",
              "\n",
              "[1 rows x 355 columns]"
            ]
          },
          "metadata": {
            "tags": []
          },
          "execution_count": 87
        }
      ]
    },
    {
      "cell_type": "code",
      "metadata": {
        "id": "irv57iouKeMm",
        "colab": {
          "base_uri": "https://localhost:8080/"
        },
        "outputId": "377927e7-4828-43be-dfa8-d8f9aacb64b0"
      },
      "source": [
        "X_test.loc[0,'list'] #c# c# http proxy http proxy dns"
      ],
      "execution_count": 88,
      "outputs": [
        {
          "output_type": "execute_result",
          "data": {
            "text/plain": [
              "0.5"
            ]
          },
          "metadata": {
            "tags": []
          },
          "execution_count": 88
        }
      ]
    },
    {
      "cell_type": "code",
      "metadata": {
        "id": "Z8sjAExcnhno",
        "colab": {
          "base_uri": "https://localhost:8080/"
        },
        "outputId": "9edec9eb-5872-47b5-dfa8-4a05daf0d015"
      },
      "source": [
        "y_pred = model_lr.predict(X_test)\r\n",
        "y_pred"
      ],
      "execution_count": 89,
      "outputs": [
        {
          "output_type": "execute_result",
          "data": {
            "text/plain": [
              "array([[0, 0, 0, 0, 0, 0, 0, 0, 0, 0, 0, 0, 0, 0, 0, 0, 0, 0, 0, 0, 0, 0,\n",
              "        0, 0, 0, 0, 0, 0, 0, 0, 0, 0, 0, 0, 0, 0, 0, 0, 0, 0, 0, 0, 0, 0,\n",
              "        0, 0, 0, 0, 0, 0, 0, 0, 0, 0, 0, 0, 0, 0, 0, 0, 0, 0, 0, 0, 0, 0,\n",
              "        0, 0, 0, 0, 0, 0, 0, 0, 0, 0, 0, 0, 0, 0, 0, 0, 0, 0, 0, 0, 0, 0,\n",
              "        0, 0, 0, 0, 0, 0, 0, 0, 0, 0, 0, 0, 0, 0, 0, 0, 0, 0, 0, 0, 0, 0,\n",
              "        0, 0, 0, 0, 0, 0, 0, 0, 0, 0, 0, 0, 0, 0, 0, 0, 0, 0, 0, 0, 0, 0,\n",
              "        0, 0, 0, 0, 0, 0, 0, 0, 0, 0, 0, 0, 0, 0, 0, 0, 0, 0, 0, 0, 0, 0,\n",
              "        0, 0, 0, 0, 0, 0, 0, 0, 0, 0, 0, 0, 0, 0, 0, 0, 0, 0, 0, 0, 0, 0,\n",
              "        0, 0, 0, 0, 0, 0, 0, 0, 0, 0, 0, 0, 0, 0, 0, 0, 0, 0, 0, 0, 0, 0,\n",
              "        0, 0, 0, 0, 0, 0, 0, 0, 0, 0, 0, 0, 0, 0, 0, 0, 0, 0, 0, 0, 0, 0,\n",
              "        0, 0, 0, 0, 0, 0, 0, 0, 0, 0, 0, 0, 0, 0, 0, 0, 0, 0, 0, 0, 0, 0,\n",
              "        0, 0, 0, 0, 0, 0, 0, 0, 0, 0, 0, 0, 0, 0, 0, 0, 0, 0, 0, 0, 0, 0,\n",
              "        0, 0, 0, 0, 0, 0, 0, 0, 0, 0, 0, 0, 0, 0, 0, 0, 0, 0, 0, 0, 0, 0,\n",
              "        0, 0, 0, 0, 0, 0, 0, 0, 0, 0, 0, 0, 0, 0, 0, 0, 0, 0, 0, 0, 0, 0,\n",
              "        0, 0, 0, 0, 0, 0, 0, 0, 0, 0, 0, 0, 0, 0, 0, 0, 0, 0, 0, 0, 0, 0,\n",
              "        0, 0, 0, 0, 0, 0, 0, 0, 0, 0, 0, 0, 0, 0, 0, 0, 0, 0, 0, 0, 0, 0,\n",
              "        0, 0, 0, 0, 0, 0, 0, 0, 0, 0, 0, 0, 0, 0, 0, 0, 0, 0, 0, 0, 0, 0,\n",
              "        0, 0, 0, 0, 0, 0, 0, 0, 0, 0, 0, 0, 0, 0, 0, 0, 0, 0, 0, 0, 0, 0,\n",
              "        0, 0, 0, 0, 0, 0, 0, 0, 0, 0, 0, 0, 0, 0, 0, 0, 0, 0, 0, 0, 0, 0,\n",
              "        0, 0, 0, 0, 0, 0, 0, 0, 0, 0, 0, 0, 0, 0, 0, 0, 0, 0, 0, 0, 0, 0,\n",
              "        0, 0, 0, 0, 0, 0, 0, 0, 0, 0, 0, 0, 0, 0, 0, 0, 0, 0, 0, 0, 0, 0,\n",
              "        0, 0, 0, 0, 0, 0, 0, 0, 0, 0, 0, 0, 0, 0, 0, 0, 0, 0, 0, 0, 0, 0,\n",
              "        0, 0, 0, 0, 0, 0, 0, 0, 0, 0, 0, 1, 0, 0, 0, 0]])"
            ]
          },
          "metadata": {
            "tags": []
          },
          "execution_count": 89
        }
      ]
    },
    {
      "cell_type": "code",
      "metadata": {
        "id": "-bdPv4mwh2-O",
        "colab": {
          "base_uri": "https://localhost:8080/"
        },
        "outputId": "f8f46e02-7c5e-4bdb-fdd6-fc4ddde5e567"
      },
      "source": [
        "from sklearn.preprocessing import MultiLabelBinarizer\r\n",
        "mlb = MultiLabelBinarizer(classes=sorted(dict_tags_500))\r\n",
        "mlb.fit(dict_tags_500)"
      ],
      "execution_count": 90,
      "outputs": [
        {
          "output_type": "execute_result",
          "data": {
            "text/plain": [
              "MultiLabelBinarizer(classes=['.htaccess', '.net', '.net-3.5', '.net-core',\n",
              "                             'actionscript-3', 'activerecord', 'ajax',\n",
              "                             'algorithm', 'amazon-ec2', 'amazon-s3',\n",
              "                             'amazon-web-services', 'android',\n",
              "                             'android-activity', 'android-emulator',\n",
              "                             'android-fragments', 'android-gradle-plugin',\n",
              "                             'android-intent', 'android-layout',\n",
              "                             'android-studio', 'angular', 'angular-material',\n",
              "                             'angular5', 'angularjs', 'animation', 'ansible',\n",
              "                             'ant', 'apache', 'apache-kafka', 'apache-spark',\n",
              "                             'apache-spark-sql', ...],\n",
              "                    sparse_output=False)"
            ]
          },
          "metadata": {
            "tags": []
          },
          "execution_count": 90
        }
      ]
    },
    {
      "cell_type": "code",
      "metadata": {
        "id": "mLbcNArBBVQK",
        "colab": {
          "base_uri": "https://localhost:8080/",
          "height": 35
        },
        "outputId": "dcfa8438-5b1d-41a0-ae8d-913580dbb935"
      },
      "source": [
        "tags_text = pd.concat([pd.Series(mlb.inverse_transform(y_pred), name='y_pred')],axis=1)\r\n",
        "tags_text = tags_text.to_json()\r\n",
        "tags_text\r\n",
        "           "
      ],
      "execution_count": 91,
      "outputs": [
        {
          "output_type": "execute_result",
          "data": {
            "application/vnd.google.colaboratory.intrinsic+json": {
              "type": "string"
            },
            "text/plain": [
              "'{\"y_pred\":{\"0\":[\"xml\"]}}'"
            ]
          },
          "metadata": {
            "tags": []
          },
          "execution_count": 91
        }
      ]
    },
    {
      "cell_type": "code",
      "metadata": {
        "id": "pDrbC1KEiqJ1"
      },
      "source": [
        ""
      ],
      "execution_count": null,
      "outputs": []
    }
  ]
}